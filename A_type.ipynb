{
 "cells": [
  {
   "cell_type": "markdown",
   "id": "59df1123",
   "metadata": {},
   "source": [
    "# 多項式環における計算"
   ]
  },
  {
   "cell_type": "markdown",
   "id": "fdf5dd64",
   "metadata": {},
   "source": [
    "googleで検索して見つけた以下のページの行列の多項式への作用の定義を実装"
   ]
  },
  {
   "cell_type": "markdown",
   "id": "1ad22864",
   "metadata": {},
   "source": [
    "https://ask.sagemath.org/question/60980/how-to-define-group-actions-on-sagemath/"
   ]
  },
  {
   "cell_type": "code",
   "execution_count": 1,
   "id": "cb1fe070",
   "metadata": {},
   "outputs": [],
   "source": [
    "from sage.categories.action import Action\n",
    "from sage.groups.matrix_gps.matrix_group import is_MatrixGroup\n",
    "from sage.rings.polynomial.multi_polynomial_ring import is_MPolynomialRing\n",
    "\n",
    "class InverseLinearMapSubstitutionAction(Action):\n",
    "    def __init__(self, G, S):\n",
    "        if not is_MatrixGroup(G):\n",
    "            raise TypeError(\"Not a matrix group: %s\" % G)\n",
    "        if not is_MPolynomialRing(S):\n",
    "            raise TypeError(\"Not a multivariate polynomial ring: %s\" % S)\n",
    "        if not G.degree() == S.ngens():\n",
    "            raise ValueError(\"Degree of matrix group (%d) does not match number of generators of polynomial ring (%d)\" % (G.degree(), S.ngens()))\n",
    "        if not S.base_ring().has_coerce_map_from(G.base_ring()):\n",
    "            raise ValueError(\"Base rings not compatible\")\n",
    "        super().__init__(G, S, is_left=True, op=operator.mul)\n",
    "\n",
    "    def _act_(self, g, f):\n",
    "        return f(*(g.inverse() * vector(self.domain(), self.domain().gens())))\n",
    "\n",
    "    def _repr_name_(self):\n",
    "        return \"inverse linear map substitution action\""
   ]
  },
  {
   "cell_type": "markdown",
   "id": "c0db2bac",
   "metadata": {},
   "source": [
    "剰余類の代表系を計算する関数を実装"
   ]
  },
  {
   "cell_type": "code",
   "execution_count": 2,
   "id": "09b1a986",
   "metadata": {},
   "outputs": [],
   "source": [
    "from sage.groups.group import is_Group\n",
    "import time\n",
    "\n",
    "def cosetRep(G,H):\n",
    "    # 時間計測開始\n",
    "    time_sta = time.perf_counter()\n",
    "    if not is_Group(G):\n",
    "        raise TypeError(\"Not a group: %s\" % G)\n",
    "    if not is_Group(H):\n",
    "        raise TypeError(\"Not a group: %s\" % H)\n",
    "    \n",
    "    rep=[]\n",
    "    g=set(G.list())\n",
    "    h=set(G(e) for e in H.list())\n",
    "    coset=set()\n",
    "    while g:\n",
    "        p=g.pop()\n",
    "        rep.append(p)\n",
    "        coset = set(p*e for e in h)\n",
    "        g=g-coset\n",
    "        coset.clear()\n",
    "        if len(rep)*H.order()==G.order():\n",
    "            break;\n",
    "            \n",
    "    # 時間計測終了\n",
    "    time_end = time.perf_counter()\n",
    "    # 経過時間（秒）\n",
    "    tim = time_end- time_sta\n",
    "\n",
    "    print(\"%d 秒経過\" % tim)\n",
    "    #[結果]\n",
    "    \n",
    "    return rep"
   ]
  },
  {
   "cell_type": "markdown",
   "id": "f1d492a4",
   "metadata": {},
   "source": [
    "パラメタを設定"
   ]
  },
  {
   "cell_type": "code",
   "execution_count": 3,
   "id": "627dfe0e",
   "metadata": {},
   "outputs": [],
   "source": [
    "n=9\n",
    "#r=2"
   ]
  },
  {
   "cell_type": "markdown",
   "id": "2fe384b7",
   "metadata": {},
   "source": [
    "A型のWeyl group $W_G$（の置換群表現版の$S_G$）を生成　※剰余類の代表系計算の軽量化のため、置換群を利用"
   ]
  },
  {
   "cell_type": "code",
   "execution_count": 4,
   "id": "c35d24c3",
   "metadata": {},
   "outputs": [
    {
     "data": {
      "text/plain": [
       "O---O---O---O---O---O---O---O\n",
       "1   2   3   4   5   6   7   8   \n",
       "A8"
      ]
     },
     "execution_count": 4,
     "metadata": {},
     "output_type": "execute_result"
    }
   ],
   "source": [
    "Delta_G=RootSystem(['A',n-1])\n",
    "S_G=WeylGroup(Delta_G,implementation=\"permutation\")\n",
    "DynkinDiagram(Delta_G)"
   ]
  },
  {
   "cell_type": "markdown",
   "id": "f3ea8d46",
   "metadata": {},
   "source": [
    "cutoutするインデックスを設定"
   ]
  },
  {
   "cell_type": "code",
   "execution_count": 5,
   "id": "6f13ed91",
   "metadata": {},
   "outputs": [],
   "source": [
    "cutoutIndex=[3]\n",
    "cutoutIndex.sort()"
   ]
  },
  {
   "cell_type": "markdown",
   "id": "f3ae111a",
   "metadata": {},
   "source": [
    "対応するcrossed Dynkin diagramを表示"
   ]
  },
  {
   "cell_type": "code",
   "execution_count": 6,
   "id": "79204625",
   "metadata": {},
   "outputs": [
    {
     "data": {
      "text/plain": [
       "O---O---X---O---O---O---O---O\n",
       "1   2   3   4   5   6   7   8   \n",
       "A8 with node 3 marked"
      ]
     },
     "execution_count": 6,
     "metadata": {},
     "output_type": "execute_result"
    }
   ],
   "source": [
    "CartanType(Delta_G).marked_nodes(cutoutIndex).dynkin_diagram()"
   ]
  },
  {
   "cell_type": "markdown",
   "id": "22ed2352",
   "metadata": {},
   "source": [
    "simple reflectionを取得"
   ]
  },
  {
   "cell_type": "code",
   "execution_count": 7,
   "id": "817aff8a",
   "metadata": {},
   "outputs": [],
   "source": [
    "s_G=S_G.simple_reflections()"
   ]
  },
  {
   "cell_type": "markdown",
   "id": "6a0b401f",
   "metadata": {},
   "source": [
    "uncrossed nodeに対応するsimple reflectionを取得"
   ]
  },
  {
   "cell_type": "code",
   "execution_count": 8,
   "id": "e49db113",
   "metadata": {
    "scrolled": true
   },
   "outputs": [],
   "source": [
    "s_H=[ s_G[i] for i in set(range(1,len(s_G)+1))-set(cutoutIndex) ]"
   ]
  },
  {
   "cell_type": "markdown",
   "id": "ffd748dd",
   "metadata": {},
   "source": [
    "uncrossed nodeに対応するsimple reflectionから$W_G$の部分群$W_H$（の置換群表現版の$S_H$）を生成"
   ]
  },
  {
   "cell_type": "code",
   "execution_count": 9,
   "id": "57a92304",
   "metadata": {},
   "outputs": [
    {
     "name": "stdout",
     "output_type": "stream",
     "text": [
      "W_Gの位数：362880\n",
      "W_Hの位数：4320\n",
      "代表系のサイズ：84\n"
     ]
    }
   ],
   "source": [
    "S_H=S_G.subgroup(s_H)\n",
    "print('W_Gの位数：%d'%S_G.order())\n",
    "print('W_Hの位数：%d'%S_H.order())\n",
    "print('代表系のサイズ：%d'%(S_G.order()/S_H.order()).round())"
   ]
  },
  {
   "cell_type": "markdown",
   "id": "43c57c08",
   "metadata": {},
   "source": [
    "冒頭で実装した関数を用いて, $W_G/W_H$（の置換群版の$S_G/S_H$）の代表系を計算"
   ]
  },
  {
   "cell_type": "code",
   "execution_count": 10,
   "id": "dd63f51a",
   "metadata": {},
   "outputs": [
    {
     "name": "stdout",
     "output_type": "stream",
     "text": [
      "17 秒経過\n"
     ]
    }
   ],
   "source": [
    "p_rep=cosetRep(S_G,S_H)"
   ]
  },
  {
   "cell_type": "markdown",
   "id": "d1963aee",
   "metadata": {},
   "source": [
    "作用させる際は行列としての作用となるため、本来ののWeyl group $W_G$を用意し, 代表系を$W_G$の元に変換"
   ]
  },
  {
   "cell_type": "code",
   "execution_count": 11,
   "id": "51664547",
   "metadata": {},
   "outputs": [],
   "source": [
    "W_G=WeylGroup(Delta_G)\n",
    "rep=[W_G(w) for w in p_rep]"
   ]
  },
  {
   "cell_type": "markdown",
   "id": "67d36091",
   "metadata": {},
   "source": [
    "多項式環とWeyl group $W_G$ の多項式環への作用を生成"
   ]
  },
  {
   "cell_type": "code",
   "execution_count": 12,
   "id": "43956b8e",
   "metadata": {},
   "outputs": [
    {
     "data": {
      "text/plain": [
       "Left inverse linear map substitution action by Weyl Group of type ['A', 8] (as a matrix group acting on the ambient space) on Multivariate Polynomial Ring in x0, x1, x2, x3, x4, x5, x6, x7, x8 over Rational Field"
      ]
     },
     "execution_count": 12,
     "metadata": {},
     "output_type": "execute_result"
    }
   ],
   "source": [
    "R = PolynomialRing(QQ, 'x', W_G.degree())\n",
    "a = InverseLinearMapSubstitutionAction(W_G, R); a"
   ]
  },
  {
   "cell_type": "markdown",
   "id": "e13a3341",
   "metadata": {},
   "source": [
    "変数のリストを用意"
   ]
  },
  {
   "cell_type": "code",
   "execution_count": 13,
   "id": "eb7ed1df",
   "metadata": {},
   "outputs": [
    {
     "data": {
      "text/plain": [
       "(x0, x1, x2, x3, x4, x5, x6, x7, x8)"
      ]
     },
     "execution_count": 13,
     "metadata": {},
     "output_type": "execute_result"
    }
   ],
   "source": [
    "x=R.gens();x"
   ]
  },
  {
   "cell_type": "markdown",
   "id": "81460a0f",
   "metadata": {},
   "source": [
    "positive root $P_G$をambient spaceに用意する."
   ]
  },
  {
   "cell_type": "code",
   "execution_count": 14,
   "id": "74b92f2b",
   "metadata": {},
   "outputs": [
    {
     "data": {
      "text/plain": [
       "[(1, -1, 0, 0, 0, 0, 0, 0, 0),\n",
       " (0, 1, -1, 0, 0, 0, 0, 0, 0),\n",
       " (0, 0, 1, -1, 0, 0, 0, 0, 0),\n",
       " (0, 0, 0, 1, -1, 0, 0, 0, 0),\n",
       " (0, 0, 0, 0, 1, -1, 0, 0, 0),\n",
       " (0, 0, 0, 0, 0, 1, -1, 0, 0),\n",
       " (0, 0, 0, 0, 0, 0, 1, -1, 0),\n",
       " (0, 0, 0, 0, 0, 0, 0, 1, -1),\n",
       " (1, 0, -1, 0, 0, 0, 0, 0, 0),\n",
       " (0, 1, 0, -1, 0, 0, 0, 0, 0),\n",
       " (0, 0, 1, 0, -1, 0, 0, 0, 0),\n",
       " (0, 0, 0, 1, 0, -1, 0, 0, 0),\n",
       " (0, 0, 0, 0, 1, 0, -1, 0, 0),\n",
       " (0, 0, 0, 0, 0, 1, 0, -1, 0),\n",
       " (0, 0, 0, 0, 0, 0, 1, 0, -1),\n",
       " (1, 0, 0, -1, 0, 0, 0, 0, 0),\n",
       " (0, 1, 0, 0, -1, 0, 0, 0, 0),\n",
       " (0, 0, 1, 0, 0, -1, 0, 0, 0),\n",
       " (0, 0, 0, 1, 0, 0, -1, 0, 0),\n",
       " (0, 0, 0, 0, 1, 0, 0, -1, 0),\n",
       " (0, 0, 0, 0, 0, 1, 0, 0, -1),\n",
       " (1, 0, 0, 0, -1, 0, 0, 0, 0),\n",
       " (0, 1, 0, 0, 0, -1, 0, 0, 0),\n",
       " (0, 0, 1, 0, 0, 0, -1, 0, 0),\n",
       " (0, 0, 0, 1, 0, 0, 0, -1, 0),\n",
       " (0, 0, 0, 0, 1, 0, 0, 0, -1),\n",
       " (1, 0, 0, 0, 0, -1, 0, 0, 0),\n",
       " (0, 1, 0, 0, 0, 0, -1, 0, 0),\n",
       " (0, 0, 1, 0, 0, 0, 0, -1, 0),\n",
       " (0, 0, 0, 1, 0, 0, 0, 0, -1),\n",
       " (1, 0, 0, 0, 0, 0, -1, 0, 0),\n",
       " (0, 1, 0, 0, 0, 0, 0, -1, 0),\n",
       " (0, 0, 1, 0, 0, 0, 0, 0, -1),\n",
       " (1, 0, 0, 0, 0, 0, 0, -1, 0),\n",
       " (0, 1, 0, 0, 0, 0, 0, 0, -1),\n",
       " (1, 0, 0, 0, 0, 0, 0, 0, -1)]"
      ]
     },
     "execution_count": 14,
     "metadata": {},
     "output_type": "execute_result"
    }
   ],
   "source": [
    "#ambient spaceを生成\n",
    "L=Delta_G.ambient_space()\n",
    "\n",
    "#positive rootをambient spaceの元に変換\n",
    "P_G=[ L(x) for x in Delta_G.root_lattice().positive_roots() ];P_G"
   ]
  },
  {
   "cell_type": "markdown",
   "id": "31b330df",
   "metadata": {},
   "source": [
    "uncrossed nodeから生成されるpositive rootの集合$P_H$をambient spaceに用意する."
   ]
  },
  {
   "cell_type": "code",
   "execution_count": 15,
   "id": "81e4cea4",
   "metadata": {},
   "outputs": [
    {
     "data": {
      "text/plain": [
       "Finite family {1: alpha[1], 2: alpha[2], 3: alpha[3], 4: alpha[4], 5: alpha[5], 6: alpha[6], 7: alpha[7], 8: alpha[8]}"
      ]
     },
     "execution_count": 15,
     "metadata": {},
     "output_type": "execute_result"
    }
   ],
   "source": [
    "#root lattice内のsimple rootを取得\n",
    "beta=Delta_G.root_lattice().simple_roots();beta"
   ]
  },
  {
   "cell_type": "code",
   "execution_count": 16,
   "id": "93282352",
   "metadata": {},
   "outputs": [
    {
     "data": {
      "text/plain": [
       "[(1, -1, 0, 0, 0, 0, 0, 0, 0),\n",
       " (0, 1, -1, 0, 0, 0, 0, 0, 0),\n",
       " (0, 0, 0, 1, -1, 0, 0, 0, 0),\n",
       " (0, 0, 0, 0, 1, -1, 0, 0, 0),\n",
       " (0, 0, 0, 0, 0, 1, -1, 0, 0),\n",
       " (0, 0, 0, 0, 0, 0, 1, -1, 0),\n",
       " (0, 0, 0, 0, 0, 0, 0, 1, -1),\n",
       " (1, 0, -1, 0, 0, 0, 0, 0, 0),\n",
       " (0, 0, 0, 1, 0, -1, 0, 0, 0),\n",
       " (0, 0, 0, 0, 1, 0, -1, 0, 0),\n",
       " (0, 0, 0, 0, 0, 1, 0, -1, 0),\n",
       " (0, 0, 0, 0, 0, 0, 1, 0, -1),\n",
       " (0, 0, 0, 1, 0, 0, -1, 0, 0),\n",
       " (0, 0, 0, 0, 1, 0, 0, -1, 0),\n",
       " (0, 0, 0, 0, 0, 1, 0, 0, -1),\n",
       " (0, 0, 0, 1, 0, 0, 0, -1, 0),\n",
       " (0, 0, 0, 0, 1, 0, 0, 0, -1),\n",
       " (0, 0, 0, 1, 0, 0, 0, 0, -1)]"
      ]
     },
     "execution_count": 16,
     "metadata": {},
     "output_type": "execute_result"
    }
   ],
   "source": [
    "#positive rootからcutoutされるsimple rootを引き, positiveでなければuncrossed nodeから生成されると判定\n",
    "Pi_H=[ x for x in Delta_G.root_lattice().positive_roots()]\n",
    "for i in cutoutIndex:\n",
    "    Pi_H=[ x for x in Pi_H if not (x-beta[i]).is_positive_root()]\n",
    "#ambient spaceの元に変換\n",
    "P_H=[ L(x) for x in Pi_H ];P_H"
   ]
  },
  {
   "cell_type": "markdown",
   "id": "4c500797",
   "metadata": {},
   "source": [
    "rootに対応する多項式を用意"
   ]
  },
  {
   "cell_type": "code",
   "execution_count": 17,
   "id": "54b15d51",
   "metadata": {},
   "outputs": [
    {
     "data": {
      "text/plain": [
       "[-x1 + x6,\n",
       " -x0 + x6,\n",
       " -x0 + x5,\n",
       " -x1 + x5,\n",
       " -x2 + x3,\n",
       " -x1 + x4,\n",
       " -x1 + x3,\n",
       " -x0 + x3,\n",
       " -x0 + x4,\n",
       " -x0 + x7,\n",
       " -x1 + x8,\n",
       " -x2 + x5,\n",
       " -x2 + x8,\n",
       " -x0 + x8,\n",
       " -x2 + x6,\n",
       " -x2 + x4,\n",
       " -x2 + x7,\n",
       " -x1 + x7]"
      ]
     },
     "execution_count": 17,
     "metadata": {},
     "output_type": "execute_result"
    }
   ],
   "source": [
    "Roots=set(P_G)-set(P_H)\n",
    "alpha=[ -sum( r[l]*x[l] for l in range(len(x))) for r in Roots ];alpha"
   ]
  },
  {
   "cell_type": "markdown",
   "id": "d7e323a9",
   "metadata": {},
   "source": [
    "$ W_H $の作用で不変となる多項式を用意"
   ]
  },
  {
   "cell_type": "code",
   "execution_count": 18,
   "id": "50568077",
   "metadata": {},
   "outputs": [
    {
     "data": {
      "text/plain": [
       "(x0 + x1 + x2)^18"
      ]
     },
     "execution_count": 18,
     "metadata": {},
     "output_type": "execute_result"
    }
   ],
   "source": [
    "f=(sum(x[l] for l in range(0,cutoutIndex[0])))^len(alpha)\n",
    "factor(f)"
   ]
  },
  {
   "cell_type": "markdown",
   "id": "633971ab",
   "metadata": {},
   "source": [
    "数値計算"
   ]
  },
  {
   "cell_type": "markdown",
   "id": "222f4533",
   "metadata": {},
   "source": [
    "乱数のリストを用意"
   ]
  },
  {
   "cell_type": "code",
   "execution_count": 19,
   "id": "7f7caaa7",
   "metadata": {},
   "outputs": [],
   "source": [
    "y = [RealField(1000)(random()) for i in range(W_G.degree())];"
   ]
  },
  {
   "cell_type": "code",
   "execution_count": 20,
   "id": "b2fa38a6",
   "metadata": {
    "scrolled": true
   },
   "outputs": [],
   "source": [
    "v_y=[ rep[i].inverse()*vector(RealField(1000),y) for i in range(len(rep)) ]"
   ]
  },
  {
   "cell_type": "code",
   "execution_count": 21,
   "id": "48c6cab5",
   "metadata": {},
   "outputs": [
    {
     "data": {
      "text/plain": [
       "87516"
      ]
     },
     "execution_count": 21,
     "metadata": {},
     "output_type": "execute_result"
    }
   ],
   "source": [
    "sum(\n",
    "    ((sum(z[l] for l in range(0,cutoutIndex[0])))^len(alpha))\n",
    "    /prod([ -sum( r[l]*z[l] for l in range(len(z))) for r in Roots ])\n",
    "    for z in  v_y  ).round()"
   ]
  },
  {
   "cell_type": "markdown",
   "id": "903c31ce",
   "metadata": {},
   "source": [
    "目的の計算を実施"
   ]
  },
  {
   "cell_type": "code",
   "execution_count": 22,
   "id": "68705887",
   "metadata": {},
   "outputs": [
    {
     "data": {
      "text/plain": [
       "87516"
      ]
     },
     "execution_count": 22,
     "metadata": {},
     "output_type": "execute_result"
    }
   ],
   "source": [
    "sum( [ a(rep[i],f)/a( rep[i] , prod( alpha ) ) for i in range(len(rep)) ])"
   ]
  },
  {
   "cell_type": "markdown",
   "id": "08488610",
   "metadata": {},
   "source": [
    "--------以降は以前のノートの内容"
   ]
  },
  {
   "cell_type": "markdown",
   "id": "593a495c",
   "metadata": {},
   "source": [
    "パラメタ設定\n",
    "（今はrは2で固定）"
   ]
  },
  {
   "cell_type": "code",
   "execution_count": 23,
   "id": "01fd3202",
   "metadata": {},
   "outputs": [],
   "source": [
    "n=5\n",
    "r=2"
   ]
  },
  {
   "cell_type": "markdown",
   "id": "cfe0df51",
   "metadata": {},
   "source": [
    "多項式環を用意"
   ]
  },
  {
   "cell_type": "code",
   "execution_count": 24,
   "id": "73c6b9eb",
   "metadata": {},
   "outputs": [],
   "source": [
    "R0 = PolynomialRing(QQ, 'x', n)\n",
    "R1= PolynomialRing(R0,'y',2)\n",
    "phi = R1.flattening_morphism()\n",
    "R = phi.codomain()"
   ]
  },
  {
   "cell_type": "markdown",
   "id": "8bdd5769",
   "metadata": {},
   "source": [
    "変数のリストを用意"
   ]
  },
  {
   "cell_type": "code",
   "execution_count": 25,
   "id": "c5b239be",
   "metadata": {},
   "outputs": [
    {
     "data": {
      "text/plain": [
       "(x0, x1, x2, x3, x4, y0, y1)"
      ]
     },
     "execution_count": 25,
     "metadata": {},
     "output_type": "execute_result"
    }
   ],
   "source": [
    "x=R.gens();x"
   ]
  },
  {
   "cell_type": "markdown",
   "id": "2b76afed",
   "metadata": {},
   "source": [
    "$f=(y_0+y_1)^{r(n-r)}$を定義"
   ]
  },
  {
   "cell_type": "code",
   "execution_count": 26,
   "id": "deeddfce",
   "metadata": {},
   "outputs": [
    {
     "data": {
      "text/plain": [
       "(y0 + y1)^6"
      ]
     },
     "execution_count": 26,
     "metadata": {},
     "output_type": "execute_result"
    }
   ],
   "source": [
    "f=(x[n]+x[n+1])^(r*(n-r))\n",
    "factor(f)"
   ]
  },
  {
   "cell_type": "code",
   "execution_count": 27,
   "id": "b6a5525d",
   "metadata": {},
   "outputs": [
    {
     "data": {
      "text/plain": [
       "5"
      ]
     },
     "execution_count": 27,
     "metadata": {},
     "output_type": "execute_result"
    }
   ],
   "source": [
    "sum(sum( f.subs({x[n]:x[i],x[n+1]:x[j]})/prod([(x[k]-x[i])*(x[k]-x[j])\n",
    "    for k in set(range(n))-{i,j}])\n",
    "    for j in range(i+1,n))\n",
    "    for i in range(0,n-1))"
   ]
  },
  {
   "cell_type": "markdown",
   "id": "e897f210",
   "metadata": {},
   "source": [
    "$\\operatorname{deg} \\operatorname{Gr}(2,n) = \\frac{(2 n - 4)!}{(n - 2)! (n - 1)!}$と比較"
   ]
  },
  {
   "cell_type": "code",
   "execution_count": 28,
   "id": "7910263d",
   "metadata": {},
   "outputs": [
    {
     "data": {
      "text/plain": [
       "5"
      ]
     },
     "execution_count": 28,
     "metadata": {},
     "output_type": "execute_result"
    }
   ],
   "source": [
    "factorial(2*n - 4)/(factorial(n - 2)*factorial(n - 1)) "
   ]
  },
  {
   "cell_type": "markdown",
   "id": "6b82382b",
   "metadata": {},
   "source": [
    "# 数値計算"
   ]
  },
  {
   "cell_type": "markdown",
   "id": "568689b7",
   "metadata": {},
   "source": [
    "パラメタの設定\n",
    "（今は$r$は2で固定）"
   ]
  },
  {
   "cell_type": "code",
   "execution_count": 29,
   "id": "87b6c083",
   "metadata": {},
   "outputs": [],
   "source": [
    "n=20\n",
    "r=2"
   ]
  },
  {
   "cell_type": "markdown",
   "id": "546d6c20",
   "metadata": {},
   "source": [
    "乱数の長さ$n$のリストを用意"
   ]
  },
  {
   "cell_type": "code",
   "execution_count": 30,
   "id": "1896ad24",
   "metadata": {},
   "outputs": [],
   "source": [
    "x = [RealField(1000)(random()) for i in range(n)];"
   ]
  },
  {
   "cell_type": "markdown",
   "id": "2a6837de",
   "metadata": {},
   "source": [
    "$f(y_0,y_1)=(y_0+y_1)^{r(n-r)}$を定義"
   ]
  },
  {
   "cell_type": "code",
   "execution_count": 31,
   "id": "1c9a08d6",
   "metadata": {},
   "outputs": [
    {
     "data": {
      "text/plain": [
       "(y0, y1) |--> (y0 + y1)^36"
      ]
     },
     "execution_count": 31,
     "metadata": {},
     "output_type": "execute_result"
    }
   ],
   "source": [
    "y = SR.var('y', r); f(y0,y1)=(y0+y1)^(r*(n-r)); f"
   ]
  },
  {
   "cell_type": "code",
   "execution_count": 32,
   "id": "d89bbedf",
   "metadata": {},
   "outputs": [
    {
     "data": {
      "text/plain": [
       "477638700"
      ]
     },
     "execution_count": 32,
     "metadata": {},
     "output_type": "execute_result"
    }
   ],
   "source": [
    "(sum(sum(f(x[i],x[j])/prod([(x[k]-x[i])*(x[k]-x[j])\n",
    "    for k in set(range(n))-{i,j}])\n",
    "    for j in range(i+1,n))\n",
    "    for i in range(0,n-1))\n",
    ").round()"
   ]
  },
  {
   "cell_type": "markdown",
   "id": "2b98751e",
   "metadata": {},
   "source": [
    "$\\operatorname{deg} \\operatorname{Gr}(2,n) = \\frac{(2 n - 4)!}{(n - 2)! (n - 1)!}$と比較"
   ]
  },
  {
   "cell_type": "code",
   "execution_count": 33,
   "id": "9558c5b1",
   "metadata": {},
   "outputs": [
    {
     "data": {
      "text/plain": [
       "477638700"
      ]
     },
     "execution_count": 33,
     "metadata": {},
     "output_type": "execute_result"
    }
   ],
   "source": [
    " factorial(2*n - 4)/(factorial(n - 2)*factorial(n - 1)) "
   ]
  },
  {
   "cell_type": "code",
   "execution_count": null,
   "id": "7558af15",
   "metadata": {},
   "outputs": [],
   "source": []
  }
 ],
 "metadata": {
  "kernelspec": {
   "display_name": "SageMath 9.7",
   "language": "sage",
   "name": "sagemath-9.7"
  },
  "language_info": {
   "codemirror_mode": {
    "name": "ipython",
    "version": 3
   },
   "file_extension": ".py",
   "mimetype": "text/x-python",
   "name": "python",
   "nbconvert_exporter": "python",
   "pygments_lexer": "ipython3",
   "version": "3.10.5"
  }
 },
 "nbformat": 4,
 "nbformat_minor": 5
}
