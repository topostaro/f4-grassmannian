{
 "cells": [
  {
   "cell_type": "markdown",
   "id": "fdf5dd64",
   "metadata": {},
   "source": [
    "googleで検索して見つけた以下のページの行列の多項式への作用の定義を実装\n",
    "\n",
    "https://ask.sagemath.org/question/60980/how-to-define-group-actions-on-sagemath/"
   ]
  },
  {
   "cell_type": "code",
   "execution_count": 44,
   "id": "cb1fe070",
   "metadata": {},
   "outputs": [],
   "source": [
    "from sage.categories.action import Action\n",
    "from sage.groups.matrix_gps.matrix_group import is_MatrixGroup\n",
    "from sage.rings.polynomial.multi_polynomial_ring import is_MPolynomialRing\n",
    "\n",
    "class InverseLinearMapSubstitutionAction(Action):\n",
    "    def __init__(self, G, S):\n",
    "        if not is_MatrixGroup(G):\n",
    "            raise TypeError(\"Not a matrix group: %s\" % G)\n",
    "        if not is_MPolynomialRing(S):\n",
    "            raise TypeError(\"Not a multivariate polynomial ring: %s\" % S)\n",
    "        if not G.degree() == S.ngens():\n",
    "            raise ValueError(\"Degree of matrix group (%d) does not match number of generators of polynomial ring (%d)\" % (G.degree(), S.ngens()))\n",
    "        if not S.base_ring().has_coerce_map_from(G.base_ring()):\n",
    "            raise ValueError(\"Base rings not compatible\")\n",
    "        super().__init__(G, S, is_left=True, op=operator.mul)\n",
    "\n",
    "    def _act_(self, g, f):\n",
    "        return f(*(g.inverse() * vector(self.domain(), self.domain().gens())))\n",
    "\n",
    "    def _repr_name_(self):\n",
    "        return \"inverse linear map substitution action\""
   ]
  },
  {
   "cell_type": "markdown",
   "id": "c0db2bac",
   "metadata": {},
   "source": [
    "剰余類の代表系を計算する関数を実装"
   ]
  },
  {
   "cell_type": "code",
   "execution_count": 45,
   "id": "09b1a986",
   "metadata": {},
   "outputs": [],
   "source": [
    "from sage.groups.group import is_Group\n",
    "import time\n",
    "\n",
    "def cosetRep(G,H):\n",
    "    # 時間計測開始\n",
    "    time_sta = time.perf_counter()\n",
    "    if not is_Group(G):\n",
    "        raise TypeError(\"Not a group: %s\" % G)\n",
    "    if not is_Group(H):\n",
    "        raise TypeError(\"Not a group: %s\" % H)\n",
    "    \n",
    "    rep=[]\n",
    "    g=set(G.list())\n",
    "    h=set(G(e) for e in H.list())\n",
    "    coset=set()\n",
    "    while g:\n",
    "        p=g.pop()\n",
    "        rep.append(p)\n",
    "        coset = set(p*e for e in h)\n",
    "        g=g-coset\n",
    "        coset.clear()\n",
    "        if len(rep)*H.order()==G.order():\n",
    "            break;\n",
    "            \n",
    "    # 時間計測終了\n",
    "    time_end = time.perf_counter()\n",
    "    # 経過時間（秒）\n",
    "    tim = time_end- time_sta\n",
    "\n",
    "#    print(\"%d 秒経過\" % tim)\n",
    "    #[結果]\n",
    "    \n",
    "    return rep"
   ]
  },
  {
   "cell_type": "markdown",
   "id": "11dd0914",
   "metadata": {},
   "source": [
    "ルート系とWeyl group $W_G$（の置換群表現版の$S_G$）を生成　※剰余類の代表系計算の軽量化のため、置換群を利用"
   ]
  },
  {
   "cell_type": "code",
   "execution_count": 46,
   "id": "c35d24c3",
   "metadata": {},
   "outputs": [
    {
     "data": {
      "text/plain": [
       "O---O---O---O\n",
       "1   2   3   4   \n",
       "A4"
      ]
     },
     "execution_count": 46,
     "metadata": {},
     "output_type": "execute_result"
    }
   ],
   "source": [
    "n=5\n",
    "Delta_G=RootSystem(['A',n-1])\n",
    "S_G=WeylGroup(Delta_G,implementation=\"permutation\")\n",
    "DynkinDiagram(Delta_G)"
   ]
  },
  {
   "cell_type": "markdown",
   "id": "f3ea8d46",
   "metadata": {},
   "source": [
    "cross outするインデックスを設定"
   ]
  },
  {
   "cell_type": "code",
   "execution_count": 47,
   "id": "6f13ed91",
   "metadata": {},
   "outputs": [],
   "source": [
    "crossed_out_index=[2]\n",
    "crossed_out_index.sort()"
   ]
  },
  {
   "cell_type": "markdown",
   "id": "f3ae111a",
   "metadata": {},
   "source": [
    "対応するcrossed Dynkin diagramを表示"
   ]
  },
  {
   "cell_type": "code",
   "execution_count": 48,
   "id": "79204625",
   "metadata": {},
   "outputs": [
    {
     "data": {
      "text/plain": [
       "O---X---O---O\n",
       "1   2   3   4   \n",
       "A4 with node 2 marked"
      ]
     },
     "execution_count": 48,
     "metadata": {},
     "output_type": "execute_result"
    }
   ],
   "source": [
    "CartanType(Delta_G).marked_nodes(crossed_out_index).dynkin_diagram()"
   ]
  },
  {
   "cell_type": "markdown",
   "id": "22ed2352",
   "metadata": {},
   "source": [
    "simple reflectionを取得"
   ]
  },
  {
   "cell_type": "code",
   "execution_count": 49,
   "id": "817aff8a",
   "metadata": {},
   "outputs": [],
   "source": [
    "s_G=S_G.simple_reflections()"
   ]
  },
  {
   "cell_type": "markdown",
   "id": "6a0b401f",
   "metadata": {},
   "source": [
    "uncrossed nodeに対応するsimple reflectionを取得"
   ]
  },
  {
   "cell_type": "code",
   "execution_count": 50,
   "id": "e49db113",
   "metadata": {
    "scrolled": true
   },
   "outputs": [],
   "source": [
    "s_H=[ s_G[i] for i in set(range(1,len(s_G)+1))-set(crossed_out_index) ]"
   ]
  },
  {
   "cell_type": "markdown",
   "id": "ffd748dd",
   "metadata": {},
   "source": [
    "uncrossed nodeに対応するsimple reflectionから$W_G$の部分群$W_H$（の置換群表現版の$S_H$）を生成"
   ]
  },
  {
   "cell_type": "code",
   "execution_count": 51,
   "id": "57a92304",
   "metadata": {},
   "outputs": [
    {
     "name": "stdout",
     "output_type": "stream",
     "text": [
      "W_Gの位数：120\n",
      "W_Hの位数：12\n",
      "代表系のサイズ：10\n"
     ]
    }
   ],
   "source": [
    "S_H=S_G.subgroup(s_H)\n",
    "print('W_Gの位数：%d'%S_G.order())\n",
    "print('W_Hの位数：%d'%S_H.order())\n",
    "print('代表系のサイズ：%d'%(S_G.order()/S_H.order()).round())"
   ]
  },
  {
   "cell_type": "markdown",
   "id": "d1963aee",
   "metadata": {},
   "source": [
    "冒頭で実装した関数を用いて, $W_G/W_H$（の置換群版の$S_G/S_H$）の代表系を計算\n",
    "\n",
    "作用させる際は行列としての作用となるため、本来のWeyl group $W_G$を用意し, 代表系を$W_G$の元に変換"
   ]
  },
  {
   "cell_type": "code",
   "execution_count": 52,
   "id": "51664547",
   "metadata": {},
   "outputs": [],
   "source": [
    "W_G = WeylGroup(Delta_G)\n",
    "W_G_mod_W_H = [W_G(w) for w in cosetRep(S_G,S_H)]"
   ]
  },
  {
   "cell_type": "markdown",
   "id": "67d36091",
   "metadata": {},
   "source": [
    "多項式環とWeyl group $W_G$ の多項式環への作用を生成"
   ]
  },
  {
   "cell_type": "code",
   "execution_count": 53,
   "id": "43956b8e",
   "metadata": {},
   "outputs": [],
   "source": [
    "R = PolynomialRing(QQ, 'x', W_G.degree())\n",
    "weyl_group_action = InverseLinearMapSubstitutionAction(W_G, R)"
   ]
  },
  {
   "cell_type": "markdown",
   "id": "e13a3341",
   "metadata": {},
   "source": [
    "変数のリストを用意"
   ]
  },
  {
   "cell_type": "code",
   "execution_count": 54,
   "id": "eb7ed1df",
   "metadata": {},
   "outputs": [
    {
     "data": {
      "text/plain": [
       "(x0, x1, x2, x3, x4)"
      ]
     },
     "execution_count": 54,
     "metadata": {},
     "output_type": "execute_result"
    }
   ],
   "source": [
    "x = R.gens(); x"
   ]
  },
  {
   "cell_type": "markdown",
   "id": "81460a0f",
   "metadata": {},
   "source": [
    "positive root $P_G$をambient spaceに用意する."
   ]
  },
  {
   "cell_type": "code",
   "execution_count": 55,
   "id": "74b92f2b",
   "metadata": {},
   "outputs": [
    {
     "data": {
      "text/plain": [
       "[(1, -1, 0, 0, 0),\n",
       " (0, 1, -1, 0, 0),\n",
       " (0, 0, 1, -1, 0),\n",
       " (0, 0, 0, 1, -1),\n",
       " (1, 0, -1, 0, 0),\n",
       " (0, 1, 0, -1, 0),\n",
       " (0, 0, 1, 0, -1),\n",
       " (1, 0, 0, -1, 0),\n",
       " (0, 1, 0, 0, -1),\n",
       " (1, 0, 0, 0, -1)]"
      ]
     },
     "execution_count": 55,
     "metadata": {},
     "output_type": "execute_result"
    }
   ],
   "source": [
    "#ambient spaceを生成\n",
    "L=Delta_G.ambient_space()\n",
    "\n",
    "#positive rootをambient spaceの元に変換\n",
    "P_G=[ L(x) for x in Delta_G.root_lattice().positive_roots() ];P_G"
   ]
  },
  {
   "cell_type": "markdown",
   "id": "31b330df",
   "metadata": {},
   "source": [
    "uncrossed nodeから生成されるpositive rootの集合$P_H$をambient spaceに用意する."
   ]
  },
  {
   "cell_type": "code",
   "execution_count": 56,
   "id": "36fc2331",
   "metadata": {},
   "outputs": [
    {
     "data": {
      "text/plain": [
       "[(1, -1, 0, 0, 0), (0, 0, 1, -1, 0), (0, 0, 0, 1, -1), (0, 0, 1, 0, -1)]"
      ]
     },
     "execution_count": 56,
     "metadata": {},
     "output_type": "execute_result"
    }
   ],
   "source": [
    "# positive rootからcutoutされるsimple rootを引き, positiveでなければuncrossed nodeから生成されると判定\n",
    "Pi_H=[ x for x in Delta_G.root_lattice().positive_roots()]\n",
    "for i in crossed_out_index:\n",
    "    Pi_H=[ x for x in Pi_H if not (x-(Delta_G.root_lattice().simple_roots())[i]).is_positive_root()]\n",
    "    # ambient spaceの元に変換\n",
    "P_H=[ L(x) for x in Pi_H ]; P_H"
   ]
  },
  {
   "cell_type": "code",
   "execution_count": 57,
   "id": "a74cf770",
   "metadata": {},
   "outputs": [],
   "source": [
    "# the weights of the tangenst spaces at torus-fixed points\n",
    "flag_tangent_weights = set(P_G)-set(P_H)\n",
    "flag_tangent_weights = [sum( r[l]*x[l] for l in range(len(x))) for r in flag_tangent_weights]"
   ]
  },
  {
   "cell_type": "code",
   "execution_count": 58,
   "id": "a8b6e87c",
   "metadata": {},
   "outputs": [],
   "source": [
    "# denominator appearing in localization formula\n",
    "# (the product of the above weights)\n",
    "denominator_in_localization = prod(flag_tangent_weights)\n",
    "# dimension of the flag variety\n",
    "dim_flag = len(flag_tangent_weights)\n",
    "t, k, l = var('t k l')\n",
    "# Todd polynomial (truncated at dim_flag)\n",
    "td(t) = taylor(t/(1-exp(-t)),t,0,dim_flag)\n",
    "# truncated exponential function\n",
    "truncated_exp = lambda x: sum( [x^i /factorial(i) for i in range(dim_flag+1)])"
   ]
  },
  {
   "cell_type": "code",
   "execution_count": 59,
   "id": "367c6db1",
   "metadata": {},
   "outputs": [],
   "source": [
    "# homogeneous part of degree dim_flag\n",
    "top_degree_part = lambda F: sum( c*m for c, m in F if m.total_degree() == dim_flag )"
   ]
  },
  {
   "cell_type": "code",
   "execution_count": 60,
   "id": "005800c8",
   "metadata": {},
   "outputs": [],
   "source": [
    "# Chern character for the equivariant bundel designated by m times the fundamental weight of the crossed out index\n",
    "m = 3\n",
    "ch = truncated_exp(m*sum([x[k] for k in range(crossed_out_index[0])]))\n",
    "ch_td = (ch*prod([td(l) for l in flag_tangent_weights])).polynomial(QQ)"
   ]
  },
  {
   "cell_type": "code",
   "execution_count": 65,
   "id": "93282352",
   "metadata": {},
   "outputs": [],
   "source": [
    "f = top_degree_part(ch_td)"
   ]
  },
  {
   "cell_type": "markdown",
   "id": "633971ab",
   "metadata": {},
   "source": [
    "Numerical computation"
   ]
  },
  {
   "cell_type": "code",
   "execution_count": 67,
   "id": "7f7caaa7",
   "metadata": {},
   "outputs": [],
   "source": [
    "random_x = [RealField(1000)(random()) for i in range(W_G.degree())]\n",
    "orbit_of_random_x = [(w.inverse()*vector(RealField(1000),random_x)).list() for w in W_G_mod_W_H]\n",
    "integration_numerical = lambda f: sum([f(x)/denominator_in_localization(x) for x in orbit_of_random_x]).round()"
   ]
  },
  {
   "cell_type": "code",
   "execution_count": 71,
   "id": "e7373026",
   "metadata": {},
   "outputs": [
    {
     "data": {
      "text/plain": [
       "175"
      ]
     },
     "execution_count": 71,
     "metadata": {},
     "output_type": "execute_result"
    }
   ],
   "source": [
    "integration_numerical(f)"
   ]
  },
  {
   "cell_type": "markdown",
   "id": "e5498b69",
   "metadata": {},
   "source": [
    "Comparison with the exact result"
   ]
  },
  {
   "cell_type": "code",
   "execution_count": null,
   "id": "f03055aa",
   "metadata": {},
   "outputs": [
    {
     "data": {
      "text/plain": [
       "175"
      ]
     },
     "execution_count": 21,
     "metadata": {},
     "output_type": "execute_result"
    }
   ],
   "source": [
    "# dimension of the irreducible representation of G\n",
    "# with m times the fundamental weight of the crossed out index as the highest weight\n",
    "L.weyl_dimension(m*L.fundamental_weights()[crossed_out_index[0]])"
   ]
  },
  {
   "cell_type": "markdown",
   "id": "8eddec2e",
   "metadata": {},
   "source": [
    "Symbolic computation"
   ]
  },
  {
   "cell_type": "code",
   "execution_count": null,
   "id": "c506e5a8",
   "metadata": {},
   "outputs": [
    {
     "data": {
      "text/plain": [
       "175"
      ]
     },
     "execution_count": 22,
     "metadata": {},
     "output_type": "execute_result"
    }
   ],
   "source": [
    "sum( [ weyl_group_action(w, f)/weyl_group_action(w, denominator_in_localization) for w in W_G_mod_W_H])"
   ]
  },
  {
   "cell_type": "markdown",
   "id": "a133a8ce",
   "metadata": {},
   "source": [
    "Computation of the chern class"
   ]
  },
  {
   "cell_type": "code",
   "execution_count": null,
   "id": "00e7c730",
   "metadata": {},
   "outputs": [],
   "source": [
    "chern = prod(1+x for x in flag_tangent_weights)\n",
    "degree_part = lambda F, degree: sum( c*m for c, m in F if m.total_degree() == degree )\n",
    "chern_degreewise = [ degree_part(chern, i) for i in range(dim_flag + 1) ]"
   ]
  },
  {
   "cell_type": "code",
   "execution_count": 75,
   "id": "9a71a3be",
   "metadata": {},
   "outputs": [
    {
     "data": {
      "text/plain": [
       "0"
      ]
     },
     "execution_count": 75,
     "metadata": {},
     "output_type": "execute_result"
    }
   ],
   "source": [
    "def chern_number(nums: list) -> int: \n",
    "    if sum(x for x in nums) != dim_flag:\n",
    "        0\n",
    "    else:\n",
    "        integration_numerical(prod(chern_degreewise[i]^nums[i] for i in range(len(nums))))"
   ]
  }
 ],
 "metadata": {
  "kernelspec": {
   "display_name": "SageMath 9.7",
   "language": "sage",
   "name": "SageMath-9.7"
  },
  "language_info": {
   "codemirror_mode": {
    "name": "ipython",
    "version": 3
   },
   "file_extension": ".py",
   "mimetype": "text/x-python",
   "name": "python",
   "nbconvert_exporter": "python",
   "pygments_lexer": "ipython3",
   "version": "3.10.5"
  }
 },
 "nbformat": 4,
 "nbformat_minor": 5
}
