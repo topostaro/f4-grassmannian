{
 "cells": [
  {
   "cell_type": "markdown",
   "id": "fdf5dd64",
   "metadata": {},
   "source": [
    "googleで検索して見つけた以下のページの行列の多項式への作用の定義を実装\n",
    "\n",
    "https://ask.sagemath.org/question/60980/how-to-define-group-actions-on-sagemath/"
   ]
  },
  {
   "cell_type": "code",
   "execution_count": 33,
   "id": "cb1fe070",
   "metadata": {},
   "outputs": [],
   "source": [
    "from sage.categories.action import Action\n",
    "from sage.groups.matrix_gps.matrix_group import is_MatrixGroup\n",
    "from sage.rings.polynomial.multi_polynomial_ring import is_MPolynomialRing\n",
    "\n",
    "class InverseLinearMapSubstitutionAction(Action):\n",
    "    def __init__(self, G, S):\n",
    "        if not is_MatrixGroup(G):\n",
    "            raise TypeError(\"Not a matrix group: %s\" % G)\n",
    "        if not is_MPolynomialRing(S):\n",
    "            raise TypeError(\"Not a multivariate polynomial ring: %s\" % S)\n",
    "        if not G.degree() == S.ngens():\n",
    "            raise ValueError(\"Degree of matrix group (%d) does not match number of generators of polynomial ring (%d)\" % (G.degree(), S.ngens()))\n",
    "        if not S.base_ring().has_coerce_map_from(G.base_ring()):\n",
    "            raise ValueError(\"Base rings not compatible\")\n",
    "        super().__init__(G, S, is_left=True, op=operator.mul)\n",
    "\n",
    "    def _act_(self, g, f):\n",
    "        return f(*(g.inverse() * vector(self.domain(), self.domain().gens())))\n",
    "\n",
    "    def _repr_name_(self):\n",
    "        return \"inverse linear map substitution action\""
   ]
  },
  {
   "cell_type": "markdown",
   "id": "c0db2bac",
   "metadata": {},
   "source": [
    "剰余類の代表系を計算する関数を実装"
   ]
  },
  {
   "cell_type": "code",
   "execution_count": 34,
   "id": "09b1a986",
   "metadata": {},
   "outputs": [],
   "source": [
    "from sage.groups.group import is_Group\n",
    "import time\n",
    "\n",
    "def cosetRep(G,H):\n",
    "    # 時間計測開始\n",
    "    time_sta = time.perf_counter()\n",
    "    if not is_Group(G):\n",
    "        raise TypeError(\"Not a group: %s\" % G)\n",
    "    if not is_Group(H):\n",
    "        raise TypeError(\"Not a group: %s\" % H)\n",
    "    \n",
    "    rep=[]\n",
    "    g=set(G.list())\n",
    "    h=set(G(e) for e in H.list())\n",
    "    coset=set()\n",
    "    while g:\n",
    "        p=g.pop()\n",
    "        rep.append(p)\n",
    "        coset = set(p*e for e in h)\n",
    "        g=g-coset\n",
    "        coset.clear()\n",
    "        if len(rep)*H.order()==G.order():\n",
    "            break;\n",
    "            \n",
    "    # 時間計測終了\n",
    "    time_end = time.perf_counter()\n",
    "    # 経過時間（秒）\n",
    "    tim = time_end- time_sta\n",
    "\n",
    "#    print(\"%d 秒経過\" % tim)\n",
    "    #[結果]\n",
    "    \n",
    "    return rep"
   ]
  },
  {
   "cell_type": "markdown",
   "id": "11dd0914",
   "metadata": {},
   "source": [
    "ルート系とWeyl group $W_G$（の置換群表現版の$S_G$）を生成　※剰余類の代表系計算の軽量化のため、置換群を利用"
   ]
  },
  {
   "cell_type": "code",
   "execution_count": 35,
   "id": "c35d24c3",
   "metadata": {},
   "outputs": [
    {
     "data": {
      "text/plain": [
       "O---O---O---O\n",
       "1   2   3   4   \n",
       "A4"
      ]
     },
     "execution_count": 35,
     "metadata": {},
     "output_type": "execute_result"
    }
   ],
   "source": [
    "n=5\n",
    "Delta_G=RootSystem(['A',n-1])\n",
    "S_G=WeylGroup(Delta_G,implementation=\"permutation\")\n",
    "DynkinDiagram(Delta_G)"
   ]
  },
  {
   "cell_type": "markdown",
   "id": "f3ea8d46",
   "metadata": {},
   "source": [
    "cross outするインデックスを設定"
   ]
  },
  {
   "cell_type": "code",
   "execution_count": 36,
   "id": "6f13ed91",
   "metadata": {},
   "outputs": [],
   "source": [
    "crossed_out_index=[2]\n",
    "crossed_out_index.sort()"
   ]
  },
  {
   "cell_type": "markdown",
   "id": "f3ae111a",
   "metadata": {},
   "source": [
    "対応するcrossed Dynkin diagramを表示"
   ]
  },
  {
   "cell_type": "code",
   "execution_count": 37,
   "id": "79204625",
   "metadata": {},
   "outputs": [
    {
     "data": {
      "text/plain": [
       "O---X---O---O\n",
       "1   2   3   4   \n",
       "A4 with node 2 marked"
      ]
     },
     "execution_count": 37,
     "metadata": {},
     "output_type": "execute_result"
    }
   ],
   "source": [
    "CartanType(Delta_G).marked_nodes(crossed_out_index).dynkin_diagram()"
   ]
  },
  {
   "cell_type": "markdown",
   "id": "22ed2352",
   "metadata": {},
   "source": [
    "simple reflectionを取得"
   ]
  },
  {
   "cell_type": "code",
   "execution_count": 38,
   "id": "817aff8a",
   "metadata": {},
   "outputs": [],
   "source": [
    "s_G=S_G.simple_reflections()"
   ]
  },
  {
   "cell_type": "markdown",
   "id": "6a0b401f",
   "metadata": {},
   "source": [
    "uncrossed nodeに対応するsimple reflectionを取得"
   ]
  },
  {
   "cell_type": "code",
   "execution_count": 39,
   "id": "e49db113",
   "metadata": {
    "scrolled": true
   },
   "outputs": [],
   "source": [
    "s_H=[ s_G[i] for i in set(range(1,len(s_G)+1))-set(crossed_out_index) ]"
   ]
  },
  {
   "cell_type": "markdown",
   "id": "ffd748dd",
   "metadata": {},
   "source": [
    "uncrossed nodeに対応するsimple reflectionから$W_G$の部分群$W_H$（の置換群表現版の$S_H$）を生成"
   ]
  },
  {
   "cell_type": "code",
   "execution_count": 40,
   "id": "57a92304",
   "metadata": {},
   "outputs": [
    {
     "name": "stdout",
     "output_type": "stream",
     "text": [
      "W_Gの位数: 120\n",
      "W_Hの位数: 12\n",
      "代表系のサイズ: 10\n"
     ]
    }
   ],
   "source": [
    "S_H=S_G.subgroup(s_H)\n",
    "print('W_Gの位数: %d'%S_G.order())\n",
    "print('W_Hの位数: %d'%S_H.order())\n",
    "print('代表系のサイズ: %d'%(S_G.order()/S_H.order()).round())"
   ]
  },
  {
   "cell_type": "markdown",
   "id": "d1963aee",
   "metadata": {},
   "source": [
    "冒頭で実装した関数を用いて, $W_G/W_H$（の置換群版の$S_G/S_H$）の代表系を計算\n",
    "\n",
    "作用させる際は行列としての作用となるため、本来のWeyl group $W_G$を用意し, 代表系を$W_G$の元に変換"
   ]
  },
  {
   "cell_type": "code",
   "execution_count": 41,
   "id": "51664547",
   "metadata": {},
   "outputs": [],
   "source": [
    "W_G = WeylGroup(Delta_G)\n",
    "W_G_mod_W_H = [W_G(w) for w in cosetRep(S_G,S_H)]"
   ]
  },
  {
   "cell_type": "markdown",
   "id": "67d36091",
   "metadata": {},
   "source": [
    "多項式環とWeyl group $W_G$ の多項式環への作用を生成"
   ]
  },
  {
   "cell_type": "code",
   "execution_count": 42,
   "id": "43956b8e",
   "metadata": {},
   "outputs": [],
   "source": [
    "R = PolynomialRing(QQ, 'x', W_G.degree())\n",
    "weyl_group_action = InverseLinearMapSubstitutionAction(W_G, R)"
   ]
  },
  {
   "cell_type": "markdown",
   "id": "e13a3341",
   "metadata": {},
   "source": [
    "変数のリストを用意"
   ]
  },
  {
   "cell_type": "code",
   "execution_count": 43,
   "id": "eb7ed1df",
   "metadata": {},
   "outputs": [
    {
     "data": {
      "text/plain": [
       "(x0, x1, x2, x3, x4)"
      ]
     },
     "execution_count": 43,
     "metadata": {},
     "output_type": "execute_result"
    }
   ],
   "source": [
    "x = R.gens(); x"
   ]
  },
  {
   "cell_type": "markdown",
   "id": "81460a0f",
   "metadata": {},
   "source": [
    "positive root $P_G$をambient spaceに用意する."
   ]
  },
  {
   "cell_type": "code",
   "execution_count": 44,
   "id": "74b92f2b",
   "metadata": {},
   "outputs": [
    {
     "data": {
      "text/plain": [
       "[(1, -1, 0, 0, 0),\n",
       " (0, 1, -1, 0, 0),\n",
       " (0, 0, 1, -1, 0),\n",
       " (0, 0, 0, 1, -1),\n",
       " (1, 0, -1, 0, 0),\n",
       " (0, 1, 0, -1, 0),\n",
       " (0, 0, 1, 0, -1),\n",
       " (1, 0, 0, -1, 0),\n",
       " (0, 1, 0, 0, -1),\n",
       " (1, 0, 0, 0, -1)]"
      ]
     },
     "execution_count": 44,
     "metadata": {},
     "output_type": "execute_result"
    }
   ],
   "source": [
    "#ambient spaceを生成\n",
    "L=Delta_G.ambient_space()\n",
    "\n",
    "#positive rootをambient spaceの元に変換\n",
    "P_G=[ L(x) for x in Delta_G.root_lattice().positive_roots() ];P_G"
   ]
  },
  {
   "cell_type": "markdown",
   "id": "31b330df",
   "metadata": {},
   "source": [
    "uncrossed nodeから生成されるpositive rootの集合$P_H$をambient spaceに用意する."
   ]
  },
  {
   "cell_type": "code",
   "execution_count": 45,
   "id": "36fc2331",
   "metadata": {},
   "outputs": [
    {
     "data": {
      "text/plain": [
       "[(1, -1, 0, 0, 0), (0, 0, 1, -1, 0), (0, 0, 0, 1, -1), (0, 0, 1, 0, -1)]"
      ]
     },
     "execution_count": 45,
     "metadata": {},
     "output_type": "execute_result"
    }
   ],
   "source": [
    "# positive rootからcutoutされるsimple rootを引き, positiveでなければuncrossed nodeから生成されると判定\n",
    "Pi_H=[ x for x in Delta_G.root_lattice().positive_roots()]\n",
    "for i in crossed_out_index:\n",
    "    Pi_H=[ x for x in Pi_H if not (x-(Delta_G.root_lattice().simple_roots())[i]).is_positive_root()]\n",
    "    # ambient spaceの元に変換\n",
    "P_H=[ L(x) for x in Pi_H ]; P_H"
   ]
  },
  {
   "cell_type": "code",
   "execution_count": 46,
   "id": "a74cf770",
   "metadata": {},
   "outputs": [],
   "source": [
    "# the weights of the tangenst spaces at torus-fixed points\n",
    "flag_tangent_weights = set(P_G)-set(P_H)\n",
    "flag_tangent_weights = [sum( r[l]*x[l] for l in range(len(x))) for r in flag_tangent_weights]"
   ]
  },
  {
   "cell_type": "code",
   "execution_count": 47,
   "id": "a8b6e87c",
   "metadata": {},
   "outputs": [],
   "source": [
    "# denominator appearing in localization formula\n",
    "# (the product of the above weights)\n",
    "denominator_in_localization = prod(flag_tangent_weights)\n",
    "# dimension of the flag variety\n",
    "dim_flag = len(flag_tangent_weights)\n",
    "t, k, l = var('t k l')\n",
    "# Todd polynomial (truncated at dim_flag)\n",
    "td(t) = taylor(t/(1-exp(-t)),t,0,dim_flag)\n",
    "# truncated exponential function\n",
    "truncated_exp = lambda x: sum( [x^i /factorial(i) for i in range(dim_flag+1)])"
   ]
  },
  {
   "cell_type": "code",
   "execution_count": 48,
   "id": "367c6db1",
   "metadata": {},
   "outputs": [],
   "source": [
    "# homogeneous part\n",
    "homogeneous_part = lambda F, degree: sum( c*m for c, m in F if m.total_degree() == degree )"
   ]
  },
  {
   "cell_type": "code",
   "execution_count": 49,
   "id": "005800c8",
   "metadata": {},
   "outputs": [],
   "source": [
    "# Chern character for the equivariant bundel designated by m times the fundamental weight of the crossed out index\n",
    "m = 3\n",
    "ch = truncated_exp(m*sum([x[k] for k in range(crossed_out_index[0])]))\n",
    "ch_td = (ch*prod([td(l) for l in flag_tangent_weights])).polynomial(QQ)"
   ]
  },
  {
   "cell_type": "markdown",
   "id": "633971ab",
   "metadata": {},
   "source": [
    "Numerical computation"
   ]
  },
  {
   "cell_type": "code",
   "execution_count": 50,
   "id": "7f7caaa7",
   "metadata": {},
   "outputs": [],
   "source": [
    "def numerical_integration_by_localization(f):\n",
    "    random_x = [RealField(1000)(random()) for i in range(W_G.degree())]\n",
    "    orbit_of_random_x = [(w.inverse()*vector(RealField(1000),random_x)).list() for w in W_G_mod_W_H]\n",
    "    top_of_f = homogeneous_part(f, dim_flag)\n",
    "    return sum([top_of_f(x)/denominator_in_localization(x) for x in orbit_of_random_x]).round()"
   ]
  },
  {
   "cell_type": "code",
   "execution_count": 51,
   "id": "e7373026",
   "metadata": {},
   "outputs": [
    {
     "data": {
      "text/plain": [
       "175"
      ]
     },
     "execution_count": 51,
     "metadata": {},
     "output_type": "execute_result"
    }
   ],
   "source": [
    "numerical_integration_by_localization(ch_td)"
   ]
  },
  {
   "cell_type": "markdown",
   "id": "e5498b69",
   "metadata": {},
   "source": [
    "Comparison with the exact result"
   ]
  },
  {
   "cell_type": "code",
   "execution_count": 52,
   "id": "f03055aa",
   "metadata": {},
   "outputs": [
    {
     "data": {
      "text/plain": [
       "175"
      ]
     },
     "execution_count": 52,
     "metadata": {},
     "output_type": "execute_result"
    }
   ],
   "source": [
    "# dimension of the irreducible representation of G\n",
    "# with m times the fundamental weight of the crossed out index as the highest weight\n",
    "L.weyl_dimension(m*L.fundamental_weights()[crossed_out_index[0]])"
   ]
  },
  {
   "cell_type": "markdown",
   "id": "8eddec2e",
   "metadata": {},
   "source": [
    "Symbolic computation"
   ]
  },
  {
   "cell_type": "code",
   "execution_count": 53,
   "id": "c506e5a8",
   "metadata": {},
   "outputs": [],
   "source": [
    "symbolic_integration_by_localization = lambda f: sum(\n",
    "    [ weyl_group_action(w, f)/weyl_group_action(w, denominator_in_localization) for w in W_G_mod_W_H]\n",
    ")"
   ]
  },
  {
   "cell_type": "code",
   "execution_count": 54,
   "id": "da3f650a",
   "metadata": {},
   "outputs": [
    {
     "data": {
      "text/plain": [
       "175"
      ]
     },
     "execution_count": 54,
     "metadata": {},
     "output_type": "execute_result"
    }
   ],
   "source": [
    "symbolic_integration_by_localization(homogeneous_part(ch_td, dim_flag))"
   ]
  },
  {
   "cell_type": "markdown",
   "id": "a133a8ce",
   "metadata": {},
   "source": [
    "Chern classes"
   ]
  },
  {
   "cell_type": "code",
   "execution_count": 55,
   "id": "00e7c730",
   "metadata": {},
   "outputs": [],
   "source": [
    "total_chern = prod(1+x for x in flag_tangent_weights)\n",
    "chern_classes = [ homogeneous_part(total_chern, i) for i in (0..dim_flag) ]"
   ]
  },
  {
   "cell_type": "markdown",
   "id": "37f9e891",
   "metadata": {},
   "source": [
    "Numerical computation of Chern numbers"
   ]
  },
  {
   "cell_type": "code",
   "execution_count": 56,
   "id": "9a71a3be",
   "metadata": {},
   "outputs": [],
   "source": [
    "def chern_number(deg_exp: dict) -> int:\n",
    "    if sum(d*e for (d,e) in deg_exp.items()) != dim_flag:\n",
    "        return 0\n",
    "    else:\n",
    "        return numerical_integration_by_localization(\n",
    "            prod([chern_classes[d]^e for (d,e) in deg_exp.items()])\n",
    "        )"
   ]
  },
  {
   "cell_type": "markdown",
   "id": "d7015be8",
   "metadata": {},
   "source": [
    "The degree of the flag variety"
   ]
  },
  {
   "cell_type": "code",
   "execution_count": 57,
   "id": "43a46c45",
   "metadata": {},
   "outputs": [
    {
     "data": {
      "text/plain": [
       "78125"
      ]
     },
     "execution_count": 57,
     "metadata": {},
     "output_type": "execute_result"
    }
   ],
   "source": [
    "chern_number({1:dim_flag})"
   ]
  },
  {
   "cell_type": "markdown",
   "id": "47d453cf",
   "metadata": {},
   "source": [
    "HHR by chern classes"
   ]
  },
  {
   "cell_type": "markdown",
   "id": "b4a4be06",
   "metadata": {},
   "source": [
    "- constants"
   ]
  },
  {
   "cell_type": "code",
   "execution_count": 58,
   "id": "2f5029c8",
   "metadata": {},
   "outputs": [],
   "source": [
    "dim_M = dim_flag\n",
    "rank_E = 1"
   ]
  },
  {
   "cell_type": "markdown",
   "id": "ea85564f",
   "metadata": {},
   "source": [
    "- The ring generated by chern classes with their degrees\n",
    "  (Degrees in SageMath must be positive, so we treat c_0 with replacing by numbers.)"
   ]
  },
  {
   "cell_type": "code",
   "execution_count": 59,
   "id": "4f024133",
   "metadata": {},
   "outputs": [
    {
     "data": {
      "text/plain": [
       "Univariate Polynomial Ring in c1_E over Rational Field"
      ]
     },
     "execution_count": 59,
     "metadata": {},
     "output_type": "execute_result"
    }
   ],
   "source": [
    "ring_for_ch = PolynomialRing(QQ, [ f'c{i}_E' for i in (1..rank_E) ], order=TermOrder('wdeglex', tuple(1..rank_E)))\n",
    "ring_for_ch"
   ]
  },
  {
   "cell_type": "code",
   "execution_count": 60,
   "id": "9c8c843b",
   "metadata": {},
   "outputs": [
    {
     "data": {
      "text/plain": [
       "Multivariate Polynomial Ring in c1_M, c2_M, c3_M, c4_M, c5_M, c6_M over Rational Field"
      ]
     },
     "execution_count": 60,
     "metadata": {},
     "output_type": "execute_result"
    }
   ],
   "source": [
    "ring_for_td = PolynomialRing(QQ, [ f'c{i}_M' for i in (1..dim_M) ], order=TermOrder('wdeglex', tuple(1..dim_M)))\n",
    "ring_for_td"
   ]
  },
  {
   "cell_type": "markdown",
   "id": "ec04bafc",
   "metadata": {},
   "source": [
    "- The list of degreewise chern characters"
   ]
  },
  {
   "cell_type": "code",
   "execution_count": 61,
   "id": "6c8af2f5",
   "metadata": {},
   "outputs": [
    {
     "data": {
      "text/plain": [
       "[1, c1_E, 1/2*c1_E^2, 1/6*c1_E^3, 1/24*c1_E^4, 1/120*c1_E^5, 1/720*c1_E^6]"
      ]
     },
     "execution_count": 61,
     "metadata": {},
     "output_type": "execute_result"
    }
   ],
   "source": [
    "import re\n",
    "singular.lib('chern.lib')\n",
    "r = singular.ring(0, f'(c(1..{rank_E}))', 'dp')\n",
    "l = singular.list(f'c(1..{rank_E})')\n",
    "ch_str_list = singular.chAll(l, dim_M).sage_structured_str_list()\n",
    "chern_character = [ ring_for_ch(rank_E) ] + [ ring_for_ch(re.sub('c\\(([0-9]+)\\)', 'c\\\\1_E', s)) for s in ch_str_list ]\n",
    "chern_character"
   ]
  },
  {
   "cell_type": "markdown",
   "id": "df4b77f0",
   "metadata": {},
   "source": [
    "- The list of degreewise todd classes"
   ]
  },
  {
   "cell_type": "code",
   "execution_count": 62,
   "id": "c0610765",
   "metadata": {},
   "outputs": [
    {
     "data": {
      "text/plain": [
       "[1,\n",
       " 1/2*c1_M,\n",
       " 1/12*c1_M^2 + 1/12*c2_M,\n",
       " 1/24*c1_M*c2_M,\n",
       " -1/720*c1_M^4 + 1/180*c1_M^2*c2_M + 1/720*c1_M*c3_M + 1/240*c2_M^2 - 1/720*c4_M,\n",
       " -1/1440*c1_M^3*c2_M + 1/1440*c1_M^2*c3_M + 1/480*c1_M*c2_M^2 - 1/1440*c1_M*c4_M,\n",
       " 1/30240*c1_M^6 - 1/5040*c1_M^4*c2_M + 1/12096*c1_M^3*c3_M + 11/60480*c1_M^2*c2_M^2 - 1/12096*c1_M^2*c4_M + 11/60480*c1_M*c2_M*c3_M - 1/30240*c1_M*c5_M + 1/6048*c2_M^3 - 1/6720*c2_M*c4_M - 1/60480*c3_M^2 + 1/30240*c6_M]"
      ]
     },
     "execution_count": 62,
     "metadata": {},
     "output_type": "execute_result"
    }
   ],
   "source": [
    "r = singular.ring(0, f'(c(1..{dim_M}))', 'dp')\n",
    "l = singular.list(f'c(1..{dim_M})')\n",
    "todd_str_list = singular.todd(l).sage_structured_str_list()\n",
    "todd_classes = [ ring_for_td(1) ] + [ ring_for_td(re.sub('c\\(([0-9]+)\\)', 'c\\\\1_M', s)) for s in todd_str_list ]\n",
    "todd_classes"
   ]
  },
  {
   "cell_type": "markdown",
   "id": "775f78eb",
   "metadata": {},
   "source": [
    "- The HRR formula"
   ]
  },
  {
   "cell_type": "code",
   "execution_count": 63,
   "id": "c33751c6",
   "metadata": {},
   "outputs": [],
   "source": [
    "hrr = lambda chern_classes_of_E, chern_classes_of_M: numerical_integration_by_localization( \n",
    "        sum(\n",
    "            chern_character[i](chern_classes_of_E)\n",
    "            * todd_classes[dim_M - i](chern_classes_of_M)\n",
    "        for i in (0..dim_M))\n",
    "    )\n"
   ]
  },
  {
   "cell_type": "markdown",
   "id": "34b36c66",
   "metadata": {},
   "source": [
    "- Test"
   ]
  },
  {
   "cell_type": "code",
   "execution_count": 64,
   "id": "898ba885",
   "metadata": {},
   "outputs": [],
   "source": [
    "chern_classes_of_E = [ m*sum([x[k] for k in range(crossed_out_index[0])])]\n",
    "chern_classes_of_M = [ \n",
    "    homogeneous_part(prod(1+x for x in flag_tangent_weights), i)\n",
    "    for i in (1..dim_flag) \n",
    "]"
   ]
  },
  {
   "cell_type": "markdown",
   "id": "0d5ab3ec",
   "metadata": {},
   "source": [
    "Comparison of chern chracters"
   ]
  },
  {
   "cell_type": "code",
   "execution_count": 65,
   "id": "9601cb19",
   "metadata": {},
   "outputs": [
    {
     "data": {
      "text/plain": [
       "[1,\n",
       " 3*x0 + 3*x1,\n",
       " 9/2*x0^2 + 9*x0*x1 + 9/2*x1^2,\n",
       " 9/2*x0^3 + 27/2*x0^2*x1 + 27/2*x0*x1^2 + 9/2*x1^3,\n",
       " 27/8*x0^4 + 27/2*x0^3*x1 + 81/4*x0^2*x1^2 + 27/2*x0*x1^3 + 27/8*x1^4,\n",
       " 81/40*x0^5 + 81/8*x0^4*x1 + 81/4*x0^3*x1^2 + 81/4*x0^2*x1^3 + 81/8*x0*x1^4 + 81/40*x1^5,\n",
       " 81/80*x0^6 + 243/40*x0^5*x1 + 243/16*x0^4*x1^2 + 81/4*x0^3*x1^3 + 243/16*x0^2*x1^4 + 243/40*x0*x1^5 + 81/80*x1^6]"
      ]
     },
     "execution_count": 65,
     "metadata": {},
     "output_type": "execute_result"
    }
   ],
   "source": [
    "[ chern_character[i](chern_classes_of_E) for i in (0..dim_flag) ]"
   ]
  },
  {
   "cell_type": "code",
   "execution_count": 66,
   "id": "d4632c49",
   "metadata": {},
   "outputs": [
    {
     "data": {
      "text/plain": [
       "True"
      ]
     },
     "execution_count": 66,
     "metadata": {},
     "output_type": "execute_result"
    }
   ],
   "source": [
    "[ homogeneous_part(ch, i) for i in (0..dim_flag) ] == [ chern_character[i](chern_classes_of_E) for i in (0..dim_flag) ]"
   ]
  },
  {
   "cell_type": "markdown",
   "id": "063964ca",
   "metadata": {},
   "source": [
    "Comparison of todd classes"
   ]
  },
  {
   "cell_type": "code",
   "execution_count": 67,
   "id": "f4e33503",
   "metadata": {},
   "outputs": [
    {
     "data": {
      "text/plain": [
       "[1,\n",
       " 3/2*x0 + 3/2*x1 - x2 - x3 - x4,\n",
       " x0^2 + 9/4*x0*x1 + x1^2 - 17/12*x0*x2 - 17/12*x1*x2 + 5/12*x2^2 - 17/12*x0*x3 - 17/12*x1*x3 + x2*x3 + 5/12*x3^2 - 17/12*x0*x4 - 17/12*x1*x4 + x2*x4 + x3*x4 + 5/12*x4^2,\n",
       " 3/8*x0^3 + 3/2*x0^2*x1 + 3/2*x0*x1^2 + 3/8*x1^3 - 7/8*x0^2*x2 - 2*x0*x1*x2 - 7/8*x1^2*x2 + 13/24*x0*x2^2 + 13/24*x1*x2^2 - 1/12*x2^3 - 7/8*x0^2*x3 - 2*x0*x1*x3 - 7/8*x1^2*x3 + 4/3*x0*x2*x3 + 4/3*x1*x2*x3 - 5/12*x2^2*x3 + 13/24*x0*x3^2 + 13/24*x1*x3^2 - 5/12*x2*x3^2 - 1/12*x3^3 - 7/8*x0^2*x4 - 2*x0*x1*x4 - 7/8*x1^2*x4 + 4/3*x0*x2*x4 + 4/3*x1*x2*x4 - 5/12*x2^2*x4 + 4/3*x0*x3*x4 + 4/3*x1*x3*x4 - x2*x3*x4 - 5/12*x3^2*x4 + 13/24*x0*x4^2 + 13/24*x1*x4^2 - 5/12*x2*x4^2 - 5/12*x3*x4^2 - 1/12*x4^3,\n",
       " 19/240*x0^4 + 9/16*x0^3*x1 + x0^2*x1^2 + 9/16*x0*x1^3 + 19/240*x1^4 - 211/720*x0^3*x2 - 59/48*x0^2*x1*x2 - 59/48*x0*x1^2*x2 - 211/720*x1^3*x2 + 107/360*x0^2*x2^2 + 25/36*x0*x1*x2^2 + 107/360*x1^2*x2^2 - 11/120*x0*x2^3 - 11/120*x1*x2^3 + 1/240*x2^4 - 211/720*x0^3*x3 - 59/48*x0^2*x1*x3 - 59/48*x0*x1^2*x3 - 211/720*x1^3*x3 + 109/144*x0^2*x2*x3 + 127/72*x0*x1*x2*x3 + 109/144*x1^2*x2*x3 - 73/144*x0*x2^2*x3 - 73/144*x1*x2^2*x3 + 1/12*x2^3*x3 + 107/360*x0^2*x3^2 + 25/36*x0*x1*x3^2 + 107/360*x1^2*x3^2 - 73/144*x0*x2*x3^2 - 73/144*x1*x2*x3^2 + 25/144*x2^2*x3^2 - 11/120*x0*x3^3 - 11/120*x1*x3^3 + 1/12*x2*x3^3 + 1/240*x3^4 - 211/720*x0^3*x4 - 59/48*x0^2*x1*x4 - 59/48*x0*x1^2*x4 - 211/720*x1^3*x4 + 109/144*x0^2*x2*x4 + 127/72*x0*x1*x2*x4 + 109/144*x1^2*x2*x4 - 73/144*x0*x2^2*x4 - 73/144*x1*x2^2*x4 + 1/12*x2^3*x4 + 109/144*x0^2*x3*x4 + 127/72*x0*x1*x3*x4 + 109/144*x1^2*x3*x4 - 5/4*x0*x2*x3*x4 - 5/4*x1*x2*x3*x4 + 5/12*x2^2*x3*x4 - 73/144*x0*x3^2*x4 - 73/144*x1*x3^2*x4 + 5/12*x2*x3^2*x4 + 1/12*x3^3*x4 + 107/360*x0^2*x4^2 + 25/36*x0*x1*x4^2 + 107/360*x1^2*x4^2 - 73/144*x0*x2*x4^2 - 73/144*x1*x2*x4^2 + 25/144*x2^2*x4^2 - 73/144*x0*x3*x4^2 - 73/144*x1*x3*x4^2 + 5/12*x2*x3*x4^2 + 25/144*x3^2*x4^2 - 11/120*x0*x4^3 - 11/120*x1*x4^3 + 1/12*x2*x4^3 + 1/12*x3*x4^3 + 1/240*x4^4,\n",
       " 1/160*x0^5 + 19/160*x0^4*x1 + 3/8*x0^3*x1^2 + 3/8*x0^2*x1^3 + 19/160*x0*x1^4 + 1/160*x1^5 - 1/20*x0^4*x2 - 49/120*x0^3*x1*x2 - 3/4*x0^2*x1^2*x2 - 49/120*x0*x1^3*x2 - 1/20*x1^4*x2 + 119/1440*x0^3*x2^2 + 179/480*x0^2*x1*x2^2 + 179/480*x0*x1^2*x2^2 + 119/1440*x1^3*x2^2 - 7/180*x0^2*x2^3 - 17/180*x0*x1*x2^3 - 7/180*x1^2*x2^3 + 1/1440*x0*x2^4 + 1/1440*x1*x2^4 + 1/720*x2^5 - 1/20*x0^4*x3 - 49/120*x0^3*x1*x3 - 3/4*x0^2*x1^2*x3 - 49/120*x0*x1^3*x3 - 1/20*x1^4*x3 + 319/1440*x0^3*x2*x3 + 95/96*x0^2*x1*x2*x3 + 95/96*x0*x1^2*x2*x3 + 319/1440*x1^3*x2*x3 - 121/480*x0^2*x2^2*x3 - 29/48*x0*x1*x2^2*x3 - 121/480*x1^2*x2^2*x3 + 61/720*x0*x2^3*x3 + 61/720*x1*x2^3*x3 - 1/240*x2^4*x3 + 119/1440*x0^3*x3^2 + 179/480*x0^2*x1*x3^2 + 179/480*x0*x1^2*x3^2 + 119/1440*x1^3*x3^2 - 121/480*x0^2*x2*x3^2 - 29/48*x0*x1*x2*x3^2 - 121/480*x1^2*x2*x3^2 + 55/288*x0*x2^2*x3^2 + 55/288*x1*x2^2*x3^2 - 5/144*x2^3*x3^2 - 7/180*x0^2*x3^3 - 17/180*x0*x1*x3^3 - 7/180*x1^2*x3^3 + 61/720*x0*x2*x3^3 + 61/720*x1*x2*x3^3 - 5/144*x2^2*x3^3 + 1/1440*x0*x3^4 + 1/1440*x1*x3^4 - 1/240*x2*x3^4 + 1/720*x3^5 - 1/20*x0^4*x4 - 49/120*x0^3*x1*x4 - 3/4*x0^2*x1^2*x4 - 49/120*x0*x1^3*x4 - 1/20*x1^4*x4 + 319/1440*x0^3*x2*x4 + 95/96*x0^2*x1*x2*x4 + 95/96*x0*x1^2*x2*x4 + 319/1440*x1^3*x2*x4 - 121/480*x0^2*x2^2*x4 - 29/48*x0*x1*x2^2*x4 - 121/480*x1^2*x2^2*x4 + 61/720*x0*x2^3*x4 + 61/720*x1*x2^3*x4 - 1/240*x2^4*x4 + 319/1440*x0^3*x3*x4 + 95/96*x0^2*x1*x3*x4 + 95/96*x0*x1^2*x3*x4 + 319/1440*x1^3*x3*x4 - 31/48*x0^2*x2*x3*x4 - 37/24*x0*x1*x2*x3*x4 - 31/48*x1^2*x2*x3*x4 + 17/36*x0*x2^2*x3*x4 + 17/36*x1*x2^2*x3*x4 - 1/12*x2^3*x3*x4 - 121/480*x0^2*x3^2*x4 - 29/48*x0*x1*x3^2*x4 - 121/480*x1^2*x3^2*x4 + 17/36*x0*x2*x3^2*x4 + 17/36*x1*x2*x3^2*x4 - 25/144*x2^2*x3^2*x4 + 61/720*x0*x3^3*x4 + 61/720*x1*x3^3*x4 - 1/12*x2*x3^3*x4 - 1/240*x3^4*x4 + 119/1440*x0^3*x4^2 + 179/480*x0^2*x1*x4^2 + 179/480*x0*x1^2*x4^2 + 119/1440*x1^3*x4^2 - 121/480*x0^2*x2*x4^2 - 29/48*x0*x1*x2*x4^2 - 121/480*x1^2*x2*x4^2 + 55/288*x0*x2^2*x4^2 + 55/288*x1*x2^2*x4^2 - 5/144*x2^3*x4^2 - 121/480*x0^2*x3*x4^2 - 29/48*x0*x1*x3*x4^2 - 121/480*x1^2*x3*x4^2 + 17/36*x0*x2*x3*x4^2 + 17/36*x1*x2*x3*x4^2 - 25/144*x2^2*x3*x4^2 + 55/288*x0*x3^2*x4^2 + 55/288*x1*x3^2*x4^2 - 25/144*x2*x3^2*x4^2 - 5/144*x3^3*x4^2 - 7/180*x0^2*x4^3 - 17/180*x0*x1*x4^3 - 7/180*x1^2*x4^3 + 61/720*x0*x2*x4^3 + 61/720*x1*x2*x4^3 - 5/144*x2^2*x4^3 + 61/720*x0*x3*x4^3 + 61/720*x1*x3*x4^3 - 1/12*x2*x3*x4^3 - 5/144*x3^2*x4^3 + 1/1440*x0*x4^4 + 1/1440*x1*x4^4 - 1/240*x2*x4^4 - 1/240*x3*x4^4 + 1/720*x4^5,\n",
       " -1/945*x0^6 + 3/320*x0^5*x1 + 19/240*x0^4*x1^2 + 9/64*x0^3*x1^3 + 19/240*x0^2*x1^4 + 3/320*x0*x1^5 - 1/945*x1^6 - 61/60480*x0^5*x2 - 197/2880*x0^4*x1*x2 - 709/2880*x0^3*x1^2*x2 - 709/2880*x0^2*x1^3*x2 - 197/2880*x0*x1^4*x2 - 61/60480*x1^5*x2 + 37/4032*x0^4*x2^2 + 43/432*x0^3*x1*x2^2 + 557/2880*x0^2*x1^2*x2^2 + 43/432*x0*x1^3*x2^2 + 37/4032*x1^4*x2^2 - 13/2016*x0^3*x2^3 - 151/4320*x0^2*x1*x2^3 - 151/4320*x0*x1^2*x2^3 - 13/2016*x1^3*x2^3 - 31/15120*x0^2*x2^4 - 1/216*x0*x1*x2^4 - 31/15120*x1^2*x2^4 + 19/10080*x0*x2^5 + 19/10080*x1*x2^5 - 1/6048*x2^6 - 61/60480*x0^5*x3 - 197/2880*x0^4*x1*x3 - 709/2880*x0^3*x1^2*x3 - 709/2880*x0^2*x1^3*x3 - 197/2880*x0*x1^4*x3 - 61/60480*x1^5*x3 + 119/4320*x0^4*x2*x3 + 2449/8640*x0^3*x1*x2*x3 + 157/288*x0^2*x1^2*x2*x3 + 2449/8640*x0*x1^3*x2*x3 + 119/4320*x1^4*x2*x3 - 101/1728*x0^3*x2^2*x3 - 209/720*x0^2*x1*x2^2*x3 - 209/720*x0*x1^2*x2^2*x3 - 101/1728*x1^3*x2^2*x3 + 1/32*x0^2*x2^3*x3 + 19/240*x0*x1*x2^3*x3 + 1/32*x1^2*x2^3*x3 - 1/2880*x0*x2^4*x3 - 1/2880*x1*x2^4*x3 - 1/720*x2^5*x3 + 37/4032*x0^4*x3^2 + 43/432*x0^3*x1*x3^2 + 557/2880*x0^2*x1^2*x3^2 + 43/432*x0*x1^3*x3^2 + 37/4032*x1^4*x3^2 - 101/1728*x0^3*x2*x3^2 - 209/720*x0^2*x1*x2*x3^2 - 209/720*x0*x1^2*x2*x3^2 - 101/1728*x1^3*x2*x3^2 + 35/432*x0^2*x2^2*x3^2 + 349/1728*x0*x1*x2^2*x3^2 + 35/432*x1^2*x2^2*x3^2 - 1/32*x0*x2^3*x3^2 - 1/32*x1*x2^3*x3^2 + 1/576*x2^4*x3^2 - 13/2016*x0^3*x3^3 - 151/4320*x0^2*x1*x3^3 - 151/4320*x0*x1^2*x3^3 - 13/2016*x1^3*x3^3 + 1/32*x0^2*x2*x3^3 + 19/240*x0*x1*x2*x3^3 + 1/32*x1^2*x2*x3^3 - 1/32*x0*x2^2*x3^3 - 1/32*x1*x2^2*x3^3 + 1/144*x2^3*x3^3 - 31/15120*x0^2*x3^4 - 1/216*x0*x1*x3^4 - 31/15120*x1^2*x3^4 - 1/2880*x0*x2*x3^4 - 1/2880*x1*x2*x3^4 + 1/576*x2^2*x3^4 + 19/10080*x0*x3^5 + 19/10080*x1*x3^5 - 1/720*x2*x3^5 - 1/6048*x3^6 - 61/60480*x0^5*x4 - 197/2880*x0^4*x1*x4 - 709/2880*x0^3*x1^2*x4 - 709/2880*x0^2*x1^3*x4 - 197/2880*x0*x1^4*x4 - 61/60480*x1^5*x4 + 119/4320*x0^4*x2*x4 + 2449/8640*x0^3*x1*x2*x4 + 157/288*x0^2*x1^2*x2*x4 + 2449/8640*x0*x1^3*x2*x4 + 119/4320*x1^4*x2*x4 - 101/1728*x0^3*x2^2*x4 - 209/720*x0^2*x1*x2^2*x4 - 209/720*x0*x1^2*x2^2*x4 - 101/1728*x1^3*x2^2*x4 + 1/32*x0^2*x2^3*x4 + 19/240*x0*x1*x2^3*x4 + 1/32*x1^2*x2^3*x4 - 1/2880*x0*x2^4*x4 - 1/2880*x1*x2^4*x4 - 1/720*x2^5*x4 + 119/4320*x0^4*x3*x4 + 2449/8640*x0^3*x1*x3*x4 + 157/288*x0^2*x1^2*x3*x4 + 2449/8640*x0*x1^3*x3*x4 + 119/4320*x1^4*x3*x4 - 1381/8640*x0^3*x2*x3*x4 - 449/576*x0^2*x1*x2*x3*x4 - 449/576*x0*x1^2*x2*x3*x4 - 1381/8640*x1^3*x2*x3*x4 + 1813/8640*x0^2*x2^2*x3*x4 + 449/864*x0*x1*x2^2*x3*x4 + 1813/8640*x1^2*x2^2*x3*x4 - 7/90*x0*x2^3*x3*x4 - 7/90*x1*x2^3*x3*x4 + 1/240*x2^4*x3*x4 - 101/1728*x0^3*x3^2*x4 - 209/720*x0^2*x1*x3^2*x4 - 209/720*x0*x1^2*x3^2*x4 - 101/1728*x1^3*x3^2*x4 + 1813/8640*x0^2*x2*x3^2*x4 + 449/864*x0*x1*x2*x3^2*x4 + 1813/8640*x1^2*x2*x3^2*x4 - 305/1728*x0*x2^2*x3^2*x4 - 305/1728*x1*x2^2*x3^2*x4 + 5/144*x2^3*x3^2*x4 + 1/32*x0^2*x3^3*x4 + 19/240*x0*x1*x3^3*x4 + 1/32*x1^2*x3^3*x4 - 7/90*x0*x2*x3^3*x4 - 7/90*x1*x2*x3^3*x4 + 5/144*x2^2*x3^3*x4 - 1/2880*x0*x3^4*x4 - 1/2880*x1*x3^4*x4 + 1/240*x2*x3^4*x4 - 1/720*x3^5*x4 + 37/4032*x0^4*x4^2 + 43/432*x0^3*x1*x4^2 + 557/2880*x0^2*x1^2*x4^2 + 43/432*x0*x1^3*x4^2 + 37/4032*x1^4*x4^2 - 101/1728*x0^3*x2*x4^2 - 209/720*x0^2*x1*x2*x4^2 - 209/720*x0*x1^2*x2*x4^2 - 101/1728*x1^3*x2*x4^2 + 35/432*x0^2*x2^2*x4^2 + 349/1728*x0*x1*x2^2*x4^2 + 35/432*x1^2*x2^2*x4^2 - 1/32*x0*x2^3*x4^2 - 1/32*x1*x2^3*x4^2 + 1/576*x2^4*x4^2 - 101/1728*x0^3*x3*x4^2 - 209/720*x0^2*x1*x3*x4^2 - 209/720*x0*x1^2*x3*x4^2 - 101/1728*x1^3*x3*x4^2 + 1813/8640*x0^2*x2*x3*x4^2 + 449/864*x0*x1*x2*x3*x4^2 + 1813/8640*x1^2*x2*x3*x4^2 - 305/1728*x0*x2^2*x3*x4^2 - 305/1728*x1*x2^2*x3*x4^2 + 5/144*x2^3*x3*x4^2 + 35/432*x0^2*x3^2*x4^2 + 349/1728*x0*x1*x3^2*x4^2 + 35/432*x1^2*x3^2*x4^2 - 305/1728*x0*x2*x3^2*x4^2 - 305/1728*x1*x2*x3^2*x4^2 + 125/1728*x2^2*x3^2*x4^2 - 1/32*x0*x3^3*x4^2 - 1/32*x1*x3^3*x4^2 + 5/144*x2*x3^3*x4^2 + 1/576*x3^4*x4^2 - 13/2016*x0^3*x4^3 - 151/4320*x0^2*x1*x4^3 - 151/4320*x0*x1^2*x4^3 - 13/2016*x1^3*x4^3 + 1/32*x0^2*x2*x4^3 + 19/240*x0*x1*x2*x4^3 + 1/32*x1^2*x2*x4^3 - 1/32*x0*x2^2*x4^3 - 1/32*x1*x2^2*x4^3 + 1/144*x2^3*x4^3 + 1/32*x0^2*x3*x4^3 + 19/240*x0*x1*x3*x4^3 + 1/32*x1^2*x3*x4^3 - 7/90*x0*x2*x3*x4^3 - 7/90*x1*x2*x3*x4^3 + 5/144*x2^2*x3*x4^3 - 1/32*x0*x3^2*x4^3 - 1/32*x1*x3^2*x4^3 + 5/144*x2*x3^2*x4^3 + 1/144*x3^3*x4^3 - 31/15120*x0^2*x4^4 - 1/216*x0*x1*x4^4 - 31/15120*x1^2*x4^4 - 1/2880*x0*x2*x4^4 - 1/2880*x1*x2*x4^4 + 1/576*x2^2*x4^4 - 1/2880*x0*x3*x4^4 - 1/2880*x1*x3*x4^4 + 1/240*x2*x3*x4^4 + 1/576*x3^2*x4^4 + 19/10080*x0*x4^5 + 19/10080*x1*x4^5 - 1/720*x2*x4^5 - 1/720*x3*x4^5 - 1/6048*x4^6]"
      ]
     },
     "execution_count": 67,
     "metadata": {},
     "output_type": "execute_result"
    }
   ],
   "source": [
    "[ todd_classes[i](chern_classes_of_M) for i in (0..dim_flag)]"
   ]
  },
  {
   "cell_type": "code",
   "execution_count": 68,
   "id": "2adad2c1",
   "metadata": {},
   "outputs": [
    {
     "data": {
      "text/plain": [
       "True"
      ]
     },
     "execution_count": 68,
     "metadata": {},
     "output_type": "execute_result"
    }
   ],
   "source": [
    "[ homogeneous_part(prod([td(l) for l in flag_tangent_weights]).polynomial(QQ), i) for i in (0..dim_flag) ] == [ todd_classes[i](chern_classes_of_M) for i in (0..dim_flag)]"
   ]
  },
  {
   "cell_type": "markdown",
   "id": "eab1985a",
   "metadata": {},
   "source": [
    "Comparison of top term of ch_td"
   ]
  },
  {
   "cell_type": "code",
   "execution_count": 69,
   "id": "57aea196",
   "metadata": {},
   "outputs": [
    {
     "data": {
      "text/plain": [
       "True"
      ]
     },
     "execution_count": 69,
     "metadata": {},
     "output_type": "execute_result"
    }
   ],
   "source": [
    "top_of_ch_td = sum (chern_character[i](chern_classes_of_E) * todd_classes[dim_M - i](chern_classes_of_M)\n",
    "    for i in (0..dim_M)\n",
    ")\n",
    "homogeneous_part(ch_td, dim_flag) == top_of_ch_td"
   ]
  },
  {
   "cell_type": "markdown",
   "id": "8a405274",
   "metadata": {},
   "source": [
    "HRR"
   ]
  },
  {
   "cell_type": "code",
   "execution_count": 70,
   "id": "ee6112b4",
   "metadata": {},
   "outputs": [
    {
     "data": {
      "text/plain": [
       "175"
      ]
     },
     "execution_count": 70,
     "metadata": {},
     "output_type": "execute_result"
    }
   ],
   "source": [
    "hrr(chern_classes_of_E, chern_classes_of_M)"
   ]
  },
  {
   "cell_type": "code",
   "execution_count": 71,
   "id": "6e5bf0b7",
   "metadata": {},
   "outputs": [
    {
     "data": {
      "text/plain": [
       "[1, 9, 30, 53, 51, 25, 5]"
      ]
     },
     "execution_count": 71,
     "metadata": {},
     "output_type": "execute_result"
    }
   ],
   "source": [
    "xs = [\n",
    "    numerical_integration_by_localization(\n",
    "        chern_character[i](chern_classes_of_E)\n",
    "        * todd_classes[dim_M - i](chern_classes_of_M)\n",
    "    )\n",
    "    for i in (0..dim_M)\n",
    "];xs"
   ]
  },
  {
   "cell_type": "code",
   "execution_count": 72,
   "id": "88f9722e",
   "metadata": {},
   "outputs": [
    {
     "data": {
      "text/plain": [
       "174"
      ]
     },
     "execution_count": 72,
     "metadata": {},
     "output_type": "execute_result"
    }
   ],
   "source": [
    "sum(xs)"
   ]
  }
 ],
 "metadata": {
  "kernelspec": {
   "display_name": "SageMath 9.7",
   "language": "sage",
   "name": "SageMath-9.7"
  },
  "language_info": {
   "codemirror_mode": {
    "name": "ipython",
    "version": 3
   },
   "file_extension": ".py",
   "mimetype": "text/x-python",
   "name": "python",
   "nbconvert_exporter": "python",
   "pygments_lexer": "ipython3",
   "version": "3.10.5"
  }
 },
 "nbformat": 4,
 "nbformat_minor": 5
}
