{
 "cells": [
  {
   "cell_type": "markdown",
   "id": "59df1123",
   "metadata": {},
   "source": [
    "# 多項式環における計算"
   ]
  },
  {
   "cell_type": "markdown",
   "id": "593a495c",
   "metadata": {},
   "source": [
    "パラメタ設定\n",
    "（今はrは2で固定）"
   ]
  },
  {
   "cell_type": "code",
   "execution_count": 1,
   "id": "d744963b",
   "metadata": {},
   "outputs": [],
   "source": [
    "n=3\n",
    "r=2"
   ]
  },
  {
   "cell_type": "markdown",
   "id": "cfe0df51",
   "metadata": {},
   "source": [
    "多項式環を用意"
   ]
  },
  {
   "cell_type": "code",
   "execution_count": 2,
   "id": "73c6b9eb",
   "metadata": {},
   "outputs": [],
   "source": [
    "R0 = PolynomialRing(QQ, 'x', n)\n",
    "R1= PolynomialRing(R0,'y',2)\n",
    "phi = R1.flattening_morphism()\n",
    "R = phi.codomain()"
   ]
  },
  {
   "cell_type": "markdown",
   "id": "8bdd5769",
   "metadata": {},
   "source": [
    "変数のリストを用意"
   ]
  },
  {
   "cell_type": "code",
   "execution_count": 3,
   "id": "c5b239be",
   "metadata": {},
   "outputs": [
    {
     "data": {
      "text/plain": [
       "(x0, x1, x2, y0, y1)"
      ]
     },
     "execution_count": 3,
     "metadata": {},
     "output_type": "execute_result"
    }
   ],
   "source": [
    "x=R.gens();x"
   ]
  },
  {
   "cell_type": "markdown",
   "id": "2b76afed",
   "metadata": {},
   "source": [
    "$f=(y_0+y_1)^{r(n-r)}$を定義"
   ]
  },
  {
   "cell_type": "code",
   "execution_count": 4,
   "id": "f84c9f1a",
   "metadata": {},
   "outputs": [
    {
     "data": {
      "text/plain": [
       "(y0 + y1)^2"
      ]
     },
     "execution_count": 4,
     "metadata": {},
     "output_type": "execute_result"
    }
   ],
   "source": [
    "f=(x[n]+x[n+1])^(r*(n-r))\n",
    "factor(f)"
   ]
  },
  {
   "cell_type": "code",
   "execution_count": 5,
   "id": "b6a5525d",
   "metadata": {},
   "outputs": [
    {
     "data": {
      "text/plain": [
       "1"
      ]
     },
     "execution_count": 5,
     "metadata": {},
     "output_type": "execute_result"
    }
   ],
   "source": [
    "sum(sum( f.subs({x[n]:x[i],x[n+1]:x[j]})/prod([(x[k]-x[i])*(x[k]-x[j])\n",
    "    for k in set(range(n))-{i,j}])\n",
    "    for j in range(i+1,n))\n",
    "    for i in range(0,n-1))"
   ]
  },
  {
   "cell_type": "markdown",
   "id": "e897f210",
   "metadata": {},
   "source": [
    "$\\operatorname{deg} \\operatorname{Gr}(2,n) = \\frac{(2 n - 4)!}{(n - 2)! (n - 1)!}$と比較"
   ]
  },
  {
   "cell_type": "code",
   "execution_count": 6,
   "id": "7910263d",
   "metadata": {},
   "outputs": [
    {
     "data": {
      "text/plain": [
       "1"
      ]
     },
     "execution_count": 6,
     "metadata": {},
     "output_type": "execute_result"
    }
   ],
   "source": [
    " factorial(2*n - 4)/(factorial(n - 2)*factorial(n - 1)) "
   ]
  },
  {
   "cell_type": "markdown",
   "id": "6b82382b",
   "metadata": {},
   "source": [
    "# 数値計算"
   ]
  },
  {
   "cell_type": "markdown",
   "id": "568689b7",
   "metadata": {},
   "source": [
    "パラメタの設定\n",
    "（今は$r$は2で固定）"
   ]
  },
  {
   "cell_type": "code",
   "execution_count": 7,
   "id": "87b6c083",
   "metadata": {},
   "outputs": [],
   "source": [
    "n=20\n",
    "r=2"
   ]
  },
  {
   "cell_type": "markdown",
   "id": "546d6c20",
   "metadata": {},
   "source": [
    "乱数の長さ$n$のリストを用意"
   ]
  },
  {
   "cell_type": "code",
   "execution_count": 8,
   "id": "1896ad24",
   "metadata": {},
   "outputs": [],
   "source": [
    "x = [RealField(1000)(random()) for i in range(n)];"
   ]
  },
  {
   "cell_type": "markdown",
   "id": "2a6837de",
   "metadata": {},
   "source": [
    "$f(y_0,y_1)=(y_0+y_1)^{r(n-r)}$を定義"
   ]
  },
  {
   "cell_type": "code",
   "execution_count": 9,
   "id": "1c9a08d6",
   "metadata": {},
   "outputs": [
    {
     "data": {
      "text/plain": [
       "(y0, y1) |--> (y0 + y1)^36"
      ]
     },
     "execution_count": 9,
     "metadata": {},
     "output_type": "execute_result"
    }
   ],
   "source": [
    "y = SR.var('y', r); f(y0,y1)=(y0+y1)^(r*(n-r)); f"
   ]
  },
  {
   "cell_type": "code",
   "execution_count": 10,
   "id": "d89bbedf",
   "metadata": {},
   "outputs": [
    {
     "data": {
      "text/plain": [
       "477638700"
      ]
     },
     "execution_count": 10,
     "metadata": {},
     "output_type": "execute_result"
    }
   ],
   "source": [
    "(sum(sum(f(x[i],x[j])/prod([(x[k]-x[i])*(x[k]-x[j])\n",
    "    for k in set(range(n))-{i,j}])\n",
    "    for j in range(i+1,n))\n",
    "    for i in range(0,n-1))\n",
    ").round()"
   ]
  },
  {
   "cell_type": "markdown",
   "id": "2b98751e",
   "metadata": {},
   "source": [
    "$\\operatorname{deg} \\operatorname{Gr}(2,n) = \\frac{(2 n - 4)!}{(n - 2)! (n - 1)!}$と比較"
   ]
  },
  {
   "cell_type": "code",
   "execution_count": 11,
   "id": "9558c5b1",
   "metadata": {},
   "outputs": [
    {
     "data": {
      "text/plain": [
       "477638700"
      ]
     },
     "execution_count": 11,
     "metadata": {},
     "output_type": "execute_result"
    }
   ],
   "source": [
    " factorial(2*n - 4)/(factorial(n - 2)*factorial(n - 1)) "
   ]
  },
  {
   "cell_type": "code",
   "execution_count": null,
   "id": "266e5888",
   "metadata": {},
   "outputs": [],
   "source": []
  }
 ],
 "metadata": {
  "kernelspec": {
   "display_name": "SageMath 9.7",
   "language": "sage",
   "name": "sagemath-9.7"
  },
  "language_info": {
   "codemirror_mode": {
    "name": "ipython",
    "version": 3
   },
   "file_extension": ".py",
   "mimetype": "text/x-python",
   "name": "python",
   "nbconvert_exporter": "python",
   "pygments_lexer": "ipython3",
   "version": "3.10.5"
  }
 },
 "nbformat": 4,
 "nbformat_minor": 5
}
