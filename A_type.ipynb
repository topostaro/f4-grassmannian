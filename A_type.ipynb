{
 "cells": [
  {
   "cell_type": "markdown",
   "id": "59df1123",
   "metadata": {},
   "source": [
    "# 多項式環における計算"
   ]
  },
  {
   "cell_type": "markdown",
   "id": "fdf5dd64",
   "metadata": {},
   "source": [
    "googleで検索して見つけた以下のページの行列の多項式への作用の定義を実装"
   ]
  },
  {
   "cell_type": "markdown",
   "id": "1ad22864",
   "metadata": {},
   "source": [
    "https://ask.sagemath.org/question/60980/how-to-define-group-actions-on-sagemath/"
   ]
  },
  {
   "cell_type": "code",
   "execution_count": 1,
   "id": "cb1fe070",
   "metadata": {},
   "outputs": [],
   "source": [
    "from sage.categories.action import Action\n",
    "from sage.groups.matrix_gps.matrix_group import is_MatrixGroup\n",
    "from sage.rings.polynomial.multi_polynomial_ring import is_MPolynomialRing\n",
    "\n",
    "class InverseLinearMapSubstitutionAction(Action):\n",
    "    def __init__(self, G, S):\n",
    "        if not is_MatrixGroup(G):\n",
    "            raise TypeError(\"Not a matrix group: %s\" % G)\n",
    "        if not is_MPolynomialRing(S):\n",
    "            raise TypeError(\"Not a multivariate polynomial ring: %s\" % S)\n",
    "        if not G.degree() == S.ngens():\n",
    "            raise ValueError(\"Degree of matrix group (%d) does not match number of generators of polynomial ring (%d)\" % (G.degree(), S.ngens()))\n",
    "        if not S.base_ring().has_coerce_map_from(G.base_ring()):\n",
    "            raise ValueError(\"Base rings not compatible\")\n",
    "        super().__init__(G, S, is_left=True, op=operator.mul)\n",
    "\n",
    "    def _act_(self, g, f):\n",
    "        return f(*(g.inverse() * vector(self.domain(), self.domain().gens())))\n",
    "\n",
    "    def _repr_name_(self):\n",
    "        return \"inverse linear map substitution action\""
   ]
  },
  {
   "cell_type": "markdown",
   "id": "c0db2bac",
   "metadata": {},
   "source": [
    "剰余類の代表系を計算する関数を実装（重めの処理になっている..）"
   ]
  },
  {
   "cell_type": "code",
   "execution_count": 2,
   "id": "09b1a986",
   "metadata": {},
   "outputs": [],
   "source": [
    "from sage.groups.group import is_Group\n",
    "\n",
    "\n",
    "def cosetRep(G,H):\n",
    "    if not is_Group(G):\n",
    "        raise TypeError(\"Not a group: %s\" % G)\n",
    "    if not is_Group(H):\n",
    "        raise TypeError(\"Not a group: %s\" % H)\n",
    "    \n",
    "    rep=[]\n",
    "    tmp=set()\n",
    "    coset=set()\n",
    "    flag=0\n",
    "    g=G.list()\n",
    "    h=H.list()\n",
    "    \n",
    "    for i in range(len(g)):\n",
    "        for j in range(len(h)):\n",
    "            p=g[i]*h[j]\n",
    "            if p in tmp:\n",
    "                flag=1\n",
    "                break;\n",
    "            else:\n",
    "                coset.add(p)\n",
    "        if flag==0:\n",
    "            rep.append(g[i])\n",
    "            tmp = tmp.union(coset)\n",
    "        coset.clear()\n",
    "        flag=0\n",
    "        if len(rep)*len(h)==len(g):\n",
    "            break;\n",
    "    tmp.clear()\n",
    "    return rep"
   ]
  },
  {
   "cell_type": "markdown",
   "id": "f1d492a4",
   "metadata": {},
   "source": [
    "パラメタを設定"
   ]
  },
  {
   "cell_type": "code",
   "execution_count": 3,
   "id": "627dfe0e",
   "metadata": {},
   "outputs": [],
   "source": [
    "n=7\n",
    "r=2"
   ]
  },
  {
   "cell_type": "markdown",
   "id": "2fe384b7",
   "metadata": {},
   "source": [
    "A型のWeyl group $W_G$を生成"
   ]
  },
  {
   "cell_type": "code",
   "execution_count": 4,
   "id": "c35d24c3",
   "metadata": {},
   "outputs": [],
   "source": [
    "Delta_G=RootSystem(['A',n-1])\n",
    "W_G=WeylGroup(Delta_G)"
   ]
  },
  {
   "cell_type": "markdown",
   "id": "62ebbc0e",
   "metadata": {},
   "source": [
    "$W_G$のpositive rootとそれが定めるreflectionの組を格納"
   ]
  },
  {
   "cell_type": "code",
   "execution_count": 5,
   "id": "89de63c0",
   "metadata": {},
   "outputs": [],
   "source": [
    "s=W_G.reflections()"
   ]
  },
  {
   "cell_type": "markdown",
   "id": "970661b3",
   "metadata": {},
   "source": [
    "$W_G$のpositive rootを取得"
   ]
  },
  {
   "cell_type": "code",
   "execution_count": 6,
   "id": "f414313f",
   "metadata": {},
   "outputs": [
    {
     "data": {
      "text/plain": [
       "[(1, -1, 0, 0, 0, 0, 0),\n",
       " (0, 1, -1, 0, 0, 0, 0),\n",
       " (0, 0, 1, -1, 0, 0, 0),\n",
       " (0, 0, 0, 1, -1, 0, 0),\n",
       " (0, 0, 0, 0, 1, -1, 0),\n",
       " (0, 0, 0, 0, 0, 1, -1),\n",
       " (1, 0, -1, 0, 0, 0, 0),\n",
       " (0, 1, 0, -1, 0, 0, 0),\n",
       " (0, 0, 1, 0, -1, 0, 0),\n",
       " (0, 0, 0, 1, 0, -1, 0),\n",
       " (0, 0, 0, 0, 1, 0, -1),\n",
       " (1, 0, 0, -1, 0, 0, 0),\n",
       " (0, 1, 0, 0, -1, 0, 0),\n",
       " (0, 0, 1, 0, 0, -1, 0),\n",
       " (0, 0, 0, 1, 0, 0, -1),\n",
       " (1, 0, 0, 0, -1, 0, 0),\n",
       " (0, 1, 0, 0, 0, -1, 0),\n",
       " (0, 0, 1, 0, 0, 0, -1),\n",
       " (1, 0, 0, 0, 0, -1, 0),\n",
       " (0, 1, 0, 0, 0, 0, -1),\n",
       " (1, 0, 0, 0, 0, 0, -1)]"
      ]
     },
     "execution_count": 6,
     "metadata": {},
     "output_type": "execute_result"
    }
   ],
   "source": [
    "P_G=list(s.keys());P_G"
   ]
  },
  {
   "cell_type": "markdown",
   "id": "e26e1107",
   "metadata": {},
   "source": [
    "$W_H$を生成するreflectionを定めるrootの集合$P_H$を用意する."
   ]
  },
  {
   "cell_type": "code",
   "execution_count": 7,
   "id": "76b4d735",
   "metadata": {},
   "outputs": [
    {
     "data": {
      "text/plain": [
       "[(1, -1, 0, 0, 0, 0, 0),\n",
       " (0, 0, 1, -1, 0, 0, 0),\n",
       " (0, 0, 0, 1, -1, 0, 0),\n",
       " (0, 0, 0, 0, 1, -1, 0),\n",
       " (0, 0, 0, 0, 0, 1, -1),\n",
       " (0, 0, 1, 0, -1, 0, 0),\n",
       " (0, 0, 0, 1, 0, -1, 0),\n",
       " (0, 0, 0, 0, 1, 0, -1),\n",
       " (0, 0, 1, 0, 0, -1, 0),\n",
       " (0, 0, 0, 1, 0, 0, -1),\n",
       " (0, 0, 1, 0, 0, 0, -1)]"
      ]
     },
     "execution_count": 7,
     "metadata": {},
     "output_type": "execute_result"
    }
   ],
   "source": [
    "#Delta_Hのpositive rootを格納するlistを用意\n",
    "P_H=[]\n",
    "\n",
    "#Delta_Gのpositive rootのうちDelta_Hのpositive rootになるものを抽出\n",
    "for i in range(len(P_G)):\n",
    "    #最初のr個の成分がすべて0か, 最後のn-r個の成分がすべて0の場合にDelta_Hのpositive rootであると判断\n",
    "    \n",
    "    if [ P_G[i][j] for j in range(0,r) ]==[ 0 for k in range(0,r) ] or [ P_G[i][j] for j in range(r,n) ]==[ 0 for k in range(r,n) ]:\n",
    "        P_H.append(P_G[i])\n",
    "P_H"
   ]
  },
  {
   "cell_type": "markdown",
   "id": "0e7fee1e",
   "metadata": {},
   "source": [
    "Delta_Hのpositive rootが定めるreflectionにより生成される$W_G$の部分群$W_H$を定義"
   ]
  },
  {
   "cell_type": "code",
   "execution_count": 8,
   "id": "cf3fd839",
   "metadata": {},
   "outputs": [],
   "source": [
    "gen=[s[P_H[i]] for i in range(len(P_H)) ]\n",
    "W_H=W_G.subgroup(gen)"
   ]
  },
  {
   "cell_type": "markdown",
   "id": "67d36091",
   "metadata": {},
   "source": [
    "多項式環とWeyl group $W_G$ の多項式環への作用を生成"
   ]
  },
  {
   "cell_type": "code",
   "execution_count": 9,
   "id": "43956b8e",
   "metadata": {},
   "outputs": [
    {
     "data": {
      "text/plain": [
       "Left inverse linear map substitution action by Weyl Group of type ['A', 6] (as a matrix group acting on the ambient space) on Multivariate Polynomial Ring in x0, x1, x2, x3, x4, x5, x6 over Rational Field"
      ]
     },
     "execution_count": 9,
     "metadata": {},
     "output_type": "execute_result"
    }
   ],
   "source": [
    "R = PolynomialRing(QQ, 'x', W_G.degree())\n",
    "a = InverseLinearMapSubstitutionAction(W_G, R); a"
   ]
  },
  {
   "cell_type": "markdown",
   "id": "e13a3341",
   "metadata": {},
   "source": [
    "変数のリストを用意"
   ]
  },
  {
   "cell_type": "code",
   "execution_count": 10,
   "id": "eb7ed1df",
   "metadata": {},
   "outputs": [
    {
     "data": {
      "text/plain": [
       "(x0, x1, x2, x3, x4, x5, x6)"
      ]
     },
     "execution_count": 10,
     "metadata": {},
     "output_type": "execute_result"
    }
   ],
   "source": [
    "x=R.gens();x"
   ]
  },
  {
   "cell_type": "markdown",
   "id": "d7e323a9",
   "metadata": {},
   "source": [
    "$ W_H $の作用で不変となる多項式を用意"
   ]
  },
  {
   "cell_type": "code",
   "execution_count": 11,
   "id": "50568077",
   "metadata": {},
   "outputs": [
    {
     "data": {
      "text/plain": [
       "(x0 + x1)^10"
      ]
     },
     "execution_count": 11,
     "metadata": {},
     "output_type": "execute_result"
    }
   ],
   "source": [
    "f=(sum(x[l] for l in range(0,r)))^(r*(n-r))\n",
    "factor(f)"
   ]
  },
  {
   "cell_type": "markdown",
   "id": "43c57c08",
   "metadata": {},
   "source": [
    "冒頭で実装した関数を用いて, $W_G/W_H$の代表系を計算"
   ]
  },
  {
   "cell_type": "code",
   "execution_count": 12,
   "id": "7a318206",
   "metadata": {},
   "outputs": [],
   "source": [
    "rep=cosetRep(W_G,W_H)"
   ]
  },
  {
   "cell_type": "markdown",
   "id": "4c500797",
   "metadata": {},
   "source": [
    "rootに対応する多項式を用意"
   ]
  },
  {
   "cell_type": "code",
   "execution_count": 13,
   "id": "54b15d51",
   "metadata": {},
   "outputs": [
    {
     "data": {
      "text/plain": [
       "[-x1 + x6,\n",
       " -x0 + x6,\n",
       " -x0 + x5,\n",
       " -x1 + x5,\n",
       " -x0 + x2,\n",
       " -x1 + x2,\n",
       " -x1 + x3,\n",
       " -x0 + x3,\n",
       " -x0 + x4,\n",
       " -x1 + x4]"
      ]
     },
     "execution_count": 13,
     "metadata": {},
     "output_type": "execute_result"
    }
   ],
   "source": [
    "Roots=set(P_G)-set(P_H)\n",
    "alpha=[ -sum( r[l]*x[l] for l in range(len(x))) for r in Roots ];alpha"
   ]
  },
  {
   "cell_type": "markdown",
   "id": "903c31ce",
   "metadata": {},
   "source": [
    "目的の計算を実施"
   ]
  },
  {
   "cell_type": "code",
   "execution_count": 14,
   "id": "68705887",
   "metadata": {},
   "outputs": [
    {
     "data": {
      "text/plain": [
       "42"
      ]
     },
     "execution_count": 14,
     "metadata": {},
     "output_type": "execute_result"
    }
   ],
   "source": [
    "sum( [ a(rep[i],f)/a( rep[i] , prod( alpha ) ) for i in range(len(rep)) ])"
   ]
  },
  {
   "cell_type": "markdown",
   "id": "633971ab",
   "metadata": {},
   "source": [
    "数値計算は未実装..."
   ]
  },
  {
   "cell_type": "code",
   "execution_count": 15,
   "id": "619c625d",
   "metadata": {},
   "outputs": [],
   "source": [
    "#前の固定化群として$W_H$を定義していた部分\n",
    "\n",
    "#$W_H$を直接定義したいが, うまい方法を思いつかないため, ここでは$f$の固定化部分群として$f$を固定する元を求めて逆に定義（処理が重い..）\n",
    "#stab=[]\n",
    "#g=G.list()\n",
    "#for i in range(len(g)):\n",
    "#    if a(g[i].to_matrix(),f)==f:\n",
    "#        stab.append(g[i])\n",
    "#W_H=W_G.subgroup(stab)"
   ]
  },
  {
   "cell_type": "markdown",
   "id": "08488610",
   "metadata": {},
   "source": [
    "--------以降は以前のノートの内容"
   ]
  },
  {
   "cell_type": "markdown",
   "id": "593a495c",
   "metadata": {},
   "source": [
    "パラメタ設定\n",
    "（今はrは2で固定）"
   ]
  },
  {
   "cell_type": "code",
   "execution_count": 16,
   "id": "01fd3202",
   "metadata": {},
   "outputs": [],
   "source": [
    "n=3\n",
    "r=2"
   ]
  },
  {
   "cell_type": "markdown",
   "id": "cfe0df51",
   "metadata": {},
   "source": [
    "多項式環を用意"
   ]
  },
  {
   "cell_type": "code",
   "execution_count": 17,
   "id": "73c6b9eb",
   "metadata": {},
   "outputs": [],
   "source": [
    "R0 = PolynomialRing(QQ, 'x', n)\n",
    "R1= PolynomialRing(R0,'y',2)\n",
    "phi = R1.flattening_morphism()\n",
    "R = phi.codomain()"
   ]
  },
  {
   "cell_type": "markdown",
   "id": "8bdd5769",
   "metadata": {},
   "source": [
    "変数のリストを用意"
   ]
  },
  {
   "cell_type": "code",
   "execution_count": 18,
   "id": "c5b239be",
   "metadata": {},
   "outputs": [
    {
     "data": {
      "text/plain": [
       "(x0, x1, x2, y0, y1)"
      ]
     },
     "execution_count": 18,
     "metadata": {},
     "output_type": "execute_result"
    }
   ],
   "source": [
    "x=R.gens();x"
   ]
  },
  {
   "cell_type": "markdown",
   "id": "2b76afed",
   "metadata": {},
   "source": [
    "$f=(y_0+y_1)^{r(n-r)}$を定義"
   ]
  },
  {
   "cell_type": "code",
   "execution_count": 19,
   "id": "deeddfce",
   "metadata": {},
   "outputs": [
    {
     "data": {
      "text/plain": [
       "(y0 + y1)^2"
      ]
     },
     "execution_count": 19,
     "metadata": {},
     "output_type": "execute_result"
    }
   ],
   "source": [
    "f=(x[n]+x[n+1])^(r*(n-r))\n",
    "factor(f)"
   ]
  },
  {
   "cell_type": "code",
   "execution_count": 20,
   "id": "b6a5525d",
   "metadata": {},
   "outputs": [
    {
     "data": {
      "text/plain": [
       "1"
      ]
     },
     "execution_count": 20,
     "metadata": {},
     "output_type": "execute_result"
    }
   ],
   "source": [
    "sum(sum( f.subs({x[n]:x[i],x[n+1]:x[j]})/prod([(x[k]-x[i])*(x[k]-x[j])\n",
    "    for k in set(range(n))-{i,j}])\n",
    "    for j in range(i+1,n))\n",
    "    for i in range(0,n-1))"
   ]
  },
  {
   "cell_type": "markdown",
   "id": "e897f210",
   "metadata": {},
   "source": [
    "$\\operatorname{deg} \\operatorname{Gr}(2,n) = \\frac{(2 n - 4)!}{(n - 2)! (n - 1)!}$と比較"
   ]
  },
  {
   "cell_type": "code",
   "execution_count": 21,
   "id": "7910263d",
   "metadata": {},
   "outputs": [
    {
     "data": {
      "text/plain": [
       "1"
      ]
     },
     "execution_count": 21,
     "metadata": {},
     "output_type": "execute_result"
    }
   ],
   "source": [
    "factorial(2*n - 4)/(factorial(n - 2)*factorial(n - 1)) "
   ]
  },
  {
   "cell_type": "markdown",
   "id": "6b82382b",
   "metadata": {},
   "source": [
    "# 数値計算"
   ]
  },
  {
   "cell_type": "markdown",
   "id": "568689b7",
   "metadata": {},
   "source": [
    "パラメタの設定\n",
    "（今は$r$は2で固定）"
   ]
  },
  {
   "cell_type": "code",
   "execution_count": 22,
   "id": "87b6c083",
   "metadata": {},
   "outputs": [],
   "source": [
    "n=20\n",
    "r=2"
   ]
  },
  {
   "cell_type": "markdown",
   "id": "546d6c20",
   "metadata": {},
   "source": [
    "乱数の長さ$n$のリストを用意"
   ]
  },
  {
   "cell_type": "code",
   "execution_count": 23,
   "id": "1896ad24",
   "metadata": {},
   "outputs": [],
   "source": [
    "x = [RealField(1000)(random()) for i in range(n)];"
   ]
  },
  {
   "cell_type": "markdown",
   "id": "2a6837de",
   "metadata": {},
   "source": [
    "$f(y_0,y_1)=(y_0+y_1)^{r(n-r)}$を定義"
   ]
  },
  {
   "cell_type": "code",
   "execution_count": 24,
   "id": "1c9a08d6",
   "metadata": {},
   "outputs": [
    {
     "data": {
      "text/plain": [
       "(y0, y1) |--> (y0 + y1)^36"
      ]
     },
     "execution_count": 24,
     "metadata": {},
     "output_type": "execute_result"
    }
   ],
   "source": [
    "y = SR.var('y', r); f(y0,y1)=(y0+y1)^(r*(n-r)); f"
   ]
  },
  {
   "cell_type": "code",
   "execution_count": 25,
   "id": "d89bbedf",
   "metadata": {},
   "outputs": [
    {
     "data": {
      "text/plain": [
       "477638700"
      ]
     },
     "execution_count": 25,
     "metadata": {},
     "output_type": "execute_result"
    }
   ],
   "source": [
    "(sum(sum(f(x[i],x[j])/prod([(x[k]-x[i])*(x[k]-x[j])\n",
    "    for k in set(range(n))-{i,j}])\n",
    "    for j in range(i+1,n))\n",
    "    for i in range(0,n-1))\n",
    ").round()"
   ]
  },
  {
   "cell_type": "markdown",
   "id": "2b98751e",
   "metadata": {},
   "source": [
    "$\\operatorname{deg} \\operatorname{Gr}(2,n) = \\frac{(2 n - 4)!}{(n - 2)! (n - 1)!}$と比較"
   ]
  },
  {
   "cell_type": "code",
   "execution_count": 26,
   "id": "9558c5b1",
   "metadata": {},
   "outputs": [
    {
     "data": {
      "text/plain": [
       "477638700"
      ]
     },
     "execution_count": 26,
     "metadata": {},
     "output_type": "execute_result"
    }
   ],
   "source": [
    " factorial(2*n - 4)/(factorial(n - 2)*factorial(n - 1)) "
   ]
  },
  {
   "cell_type": "code",
   "execution_count": null,
   "id": "7558af15",
   "metadata": {},
   "outputs": [],
   "source": []
  }
 ],
 "metadata": {
  "kernelspec": {
   "display_name": "SageMath 9.7",
   "language": "sage",
   "name": "sagemath-9.7"
  },
  "language_info": {
   "codemirror_mode": {
    "name": "ipython",
    "version": 3
   },
   "file_extension": ".py",
   "mimetype": "text/x-python",
   "name": "python",
   "nbconvert_exporter": "python",
   "pygments_lexer": "ipython3",
   "version": "3.10.5"
  }
 },
 "nbformat": 4,
 "nbformat_minor": 5
}
