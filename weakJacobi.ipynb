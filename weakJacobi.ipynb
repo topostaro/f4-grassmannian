{
 "cells": [
  {
   "attachments": {},
   "cell_type": "markdown",
   "metadata": {},
   "source": [
    "- Riemann $\\zeta$-function"
   ]
  },
  {
   "cell_type": "code",
   "execution_count": 48,
   "metadata": {},
   "outputs": [],
   "source": [
    "# Only for negative numbers!!\n",
    "# 事情はよく分からないですが、こっちの方が元々あるやつよりも速い気がするので、再実装しています\n",
    "def zeta(s: int):\n",
    "    return (-1)^s * bernoulli(-s + 1) / (-s + 1)"
   ]
  },
  {
   "cell_type": "code",
   "execution_count": 49,
   "metadata": {},
   "outputs": [
    {
     "data": {
      "text/plain": [
       "['ζ(-10) = 0',\n",
       " 'ζ(-9) = -1/132',\n",
       " 'ζ(-8) = 0',\n",
       " 'ζ(-7) = 1/240',\n",
       " 'ζ(-6) = 0',\n",
       " 'ζ(-5) = -1/252',\n",
       " 'ζ(-4) = 0',\n",
       " 'ζ(-3) = 1/120',\n",
       " 'ζ(-2) = 0',\n",
       " 'ζ(-1) = -1/12']"
      ]
     },
     "execution_count": 49,
     "metadata": {},
     "output_type": "execute_result"
    }
   ],
   "source": [
    "[ f\"ζ({s}) = {zeta(s)}\" for s in (-10..-1)]"
   ]
  },
  {
   "attachments": {},
   "cell_type": "markdown",
   "metadata": {},
   "source": [
    "- Eisenstein sereis"
   ]
  },
  {
   "cell_type": "code",
   "execution_count": 50,
   "metadata": {},
   "outputs": [],
   "source": [
    "# Compute the coefficient of q^n\n",
    "def eisenstein_coefficient(k: int, n: int):\n",
    "    if n == 0:\n",
    "        return 1\n",
    "    else:\n",
    "        return 2 * sigma(n, k - 1) / zeta(1 - k)\n",
    "\n",
    "R_q.<q> = LazyLaurentSeriesRing(QQ)\n",
    "\n",
    "def eisenstein(k: int):\n",
    "    return R_q(lambda n: eisenstein_coefficient(k, n), valuation=0)"
   ]
  },
  {
   "cell_type": "code",
   "execution_count": 51,
   "metadata": {},
   "outputs": [
    {
     "data": {
      "text/plain": [
       "1 + 240*q + 2160*q^2 + 6720*q^3 + 17520*q^4 + 30240*q^5 + 60480*q^6 + O(q^7)"
      ]
     },
     "execution_count": 51,
     "metadata": {},
     "output_type": "execute_result"
    }
   ],
   "source": [
    "eisenstein(4)"
   ]
  },
  {
   "cell_type": "code",
   "execution_count": 52,
   "metadata": {},
   "outputs": [
    {
     "data": {
      "text/plain": [
       "1 - 504*q - 16632*q^2 - 122976*q^3 - 532728*q^4 - 1575504*q^5 - 4058208*q^6 + O(q^7)"
      ]
     },
     "execution_count": 52,
     "metadata": {},
     "output_type": "execute_result"
    }
   ],
   "source": [
    "eisenstein(6)"
   ]
  },
  {
   "attachments": {},
   "cell_type": "markdown",
   "metadata": {},
   "source": [
    "$\\mathrm{E}_4^2 = \\mathrm{E}_8$"
   ]
  },
  {
   "cell_type": "code",
   "execution_count": 53,
   "metadata": {},
   "outputs": [
    {
     "data": {
      "text/plain": [
       "1 + 480*q + 61920*q^2 + 1050240*q^3 + 7926240*q^4 + 37500480*q^5 + 135480960*q^6 + O(q^7)"
      ]
     },
     "execution_count": 53,
     "metadata": {},
     "output_type": "execute_result"
    }
   ],
   "source": [
    "eisenstein(4)^2"
   ]
  },
  {
   "cell_type": "code",
   "execution_count": 54,
   "metadata": {},
   "outputs": [
    {
     "data": {
      "text/plain": [
       "1 + 480*q + 61920*q^2 + 1050240*q^3 + 7926240*q^4 + 37500480*q^5 + 135480960*q^6 + O(q^7)"
      ]
     },
     "execution_count": 54,
     "metadata": {},
     "output_type": "execute_result"
    }
   ],
   "source": [
    "eisenstein(8)"
   ]
  },
  {
   "attachments": {},
   "cell_type": "markdown",
   "metadata": {},
   "source": [
    "- The cohen's function"
   ]
  },
  {
   "cell_type": "code",
   "execution_count": 55,
   "metadata": {},
   "outputs": [],
   "source": [
    "# The return value should be H(k - 1, N) for even k\n",
    "def cohen(k:int, N: int):\n",
    "    if N > 0:\n",
    "        if N % 4 in [0, 3]:\n",
    "            return quadratic_L_function__exact(2 - k, -N)\n",
    "        else:\n",
    "            return 0\n",
    "    else:\n",
    "        return zeta(3 - 2* k)"
   ]
  },
  {
   "cell_type": "code",
   "execution_count": 56,
   "metadata": {},
   "outputs": [
    {
     "data": {
      "text/plain": [
       "[[-1/12, 0, 0, 1/3, 1/2, 0, 0, 1, 1, 0, 0],\n",
       " [1/120, 0, 0, 0, 0, 0, 0, 0, 0, 0, 0],\n",
       " [-1/252, 0, 0, -2/9, -1/2, 0, 0, -16/7, -3, 0, 0],\n",
       " [1/240, 0, 0, 0, 0, 0, 0, 0, 0, 0, 0],\n",
       " [-1/132, 0, 0, 2/3, 5/2, 0, 0, 32, 57, 0, 0],\n",
       " [691/32760, 0, 0, 0, 0, 0, 0, 0, 0, 0, 0],\n",
       " [-1/12, 0, 0, -14/3, -61/2, 0, 0, -1168, -2763, 0, 0],\n",
       " [3617/8160, 0, 0, 0, 0, 0, 0, 0, 0, 0, 0],\n",
       " [-43867/14364, 0, 0, 1618/27, 1385/2, 0, 0, 565184/7, 250737, 0, 0]]"
      ]
     },
     "execution_count": 56,
     "metadata": {},
     "output_type": "execute_result"
    }
   ],
   "source": [
    "[[cohen(k, N) for N in (0..10)] for k in (2..10)]"
   ]
  },
  {
   "cell_type": "code",
   "execution_count": 57,
   "metadata": {},
   "outputs": [],
   "source": [
    "# The coefficient of E_{k, 1} of q^n*y^r\n",
    "def jacobi_eisenstein_coefficient(k: int, n: int, r: int):\n",
    "    return cohen(k, 4 * n - r^2) / zeta(3 - 2 * k)\n",
    "\n",
    "R_y.<y> = LaurentPolynomialRing(QQ)\n",
    "R_qy.<q> = LazyLaurentSeriesRing(R_y)\n",
    "\n",
    "# E_{k, 1}\n",
    "def jacobi_eisenstein(k: int):\n",
    "    def possible_r(n):\n",
    "        k = 2 * math.floor(sqrt(n))\n",
    "        return (-k..k)\n",
    "\n",
    "    return R_qy(lambda n: sum(jacobi_eisenstein_coefficient(k, n, r) * y^r for r in possible_r(n)), valuation=0)"
   ]
  },
  {
   "cell_type": "code",
   "execution_count": 58,
   "metadata": {},
   "outputs": [
    {
     "data": {
      "text/plain": [
       "1 + (y^-2 + 56*y^-1 + 126 + 56*y + y^2)*q + (126*y^-2 + 576*y^-1 + 756 + 576*y + 126*y^2)*q^2 + (756*y^-2 + 1512*y^-1 + 56 + 1512*y + 756*y^2)*q^3 + (y^-4 + 576*y^-3 + 56*y^-2 + 4032*y^-1 + 126 + 4032*y + 56*y^2 + 576*y^3 + y^4)*q^4 + (126*y^-4 + 1512*y^-3 + 126*y^-2 + 5544*y^-1 + 7560 + 5544*y + 126*y^2 + 1512*y^3 + 126*y^4)*q^5 + (756*y^-4 + 4032*y^-3 + 7560*y^-2 + 12096*y^-1 + 11592 + 12096*y + 7560*y^2 + 4032*y^3 + 756*y^4)*q^6 + O(q^7)"
      ]
     },
     "execution_count": 58,
     "metadata": {},
     "output_type": "execute_result"
    }
   ],
   "source": [
    "jacobi_eisenstein(4)"
   ]
  },
  {
   "cell_type": "code",
   "execution_count": 59,
   "metadata": {},
   "outputs": [
    {
     "data": {
      "text/plain": [
       "1 + (y^-2 - 88*y^-1 - 330 - 88*y + y^2)*q + (-330*y^-2 - 4224*y^-1 - 7524 - 4224*y - 330*y^2)*q^2 + (-7524*y^-2 - 30600*y^-1 - 88 - 30600*y - 7524*y^2)*q^3 + (y^-4 - 4224*y^-3 - 88*y^-2 - 130944*y^-1 - 330 - 130944*y - 88*y^2 - 4224*y^3 + y^4)*q^4 + (-330*y^-4 - 30600*y^-3 - 330*y^-2 - 355080*y^-1 - 464904 - 355080*y - 330*y^2 - 30600*y^3 - 330*y^4)*q^5 + (-7524*y^-4 - 130944*y^-3 - 464904*y^-2 - 899712*y^-1 - 1052040 - 899712*y - 464904*y^2 - 130944*y^3 - 7524*y^4)*q^6 + O(q^7)"
      ]
     },
     "execution_count": 59,
     "metadata": {},
     "output_type": "execute_result"
    }
   ],
   "source": [
    "jacobi_eisenstein(6)"
   ]
  }
 ],
 "metadata": {
  "kernelspec": {
   "display_name": "SageMath 9.0",
   "language": "sage",
   "name": "sagemath"
  },
  "language_info": {
   "codemirror_mode": {
    "name": "ipython",
    "version": 3
   },
   "file_extension": ".py",
   "mimetype": "text/x-python",
   "name": "python",
   "nbconvert_exporter": "python",
   "pygments_lexer": "ipython3",
   "version": "3.10.6"
  },
  "orig_nbformat": 4,
  "vscode": {
   "interpreter": {
    "hash": "916dbcbb3f70747c44a77c7bcd40155683ae19c65e1c03b4aa3499c5328201f1"
   }
  }
 },
 "nbformat": 4,
 "nbformat_minor": 2
}
