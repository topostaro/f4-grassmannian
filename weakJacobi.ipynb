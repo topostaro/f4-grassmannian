{
 "cells": [
  {
   "attachments": {},
   "cell_type": "markdown",
   "metadata": {},
   "source": [
    "- Riemann $\\zeta$-function $\\zeta(s)$"
   ]
  },
  {
   "cell_type": "code",
   "execution_count": null,
   "metadata": {},
   "outputs": [],
   "source": [
    "# Only for negative numbers!!\n",
    "# 事情はよく分からないですが、こっちの方が元々あるやつよりも速い気がするので、再実装しています\n",
    "def zeta(s: int):\n",
    "    return (-1)^s * bernoulli(-s + 1) / (-s + 1)"
   ]
  },
  {
   "cell_type": "code",
   "execution_count": null,
   "metadata": {},
   "outputs": [],
   "source": [
    "[ f\"ζ({s}) = {zeta(s)}\" for s in (-10..-1)]"
   ]
  },
  {
   "cell_type": "code",
   "execution_count": null,
   "metadata": {},
   "outputs": [],
   "source": [
    "R0.<y> = LaurentPolynomialRing(QQ)\n",
    "R.<q> = LazyLaurentSeriesRing(R0)"
   ]
  },
  {
   "attachments": {},
   "cell_type": "markdown",
   "metadata": {},
   "source": [
    "- Eisenstein sereis $\\mathrm{E}_k$"
   ]
  },
  {
   "cell_type": "code",
   "execution_count": null,
   "metadata": {},
   "outputs": [],
   "source": [
    "# Compute the coefficient of q^n\n",
    "def eisenstein_coefficient(k: int, n: int):\n",
    "    if n == 0:\n",
    "        return 1\n",
    "    else:\n",
    "        return 2 * sigma(n, k - 1) / zeta(1 - k)\n",
    "\n",
    "def eisenstein(k: int):\n",
    "    return R(lambda n: eisenstein_coefficient(k, n), valuation=0)"
   ]
  },
  {
   "cell_type": "code",
   "execution_count": null,
   "metadata": {},
   "outputs": [],
   "source": [
    "eisenstein(4)"
   ]
  },
  {
   "cell_type": "code",
   "execution_count": null,
   "metadata": {},
   "outputs": [],
   "source": [
    "eisenstein(6)"
   ]
  },
  {
   "attachments": {},
   "cell_type": "markdown",
   "metadata": {},
   "source": [
    "$\\mathrm{E}_4^2 = \\mathrm{E}_8$"
   ]
  },
  {
   "cell_type": "code",
   "execution_count": null,
   "metadata": {},
   "outputs": [],
   "source": [
    "eisenstein(4)^2"
   ]
  },
  {
   "cell_type": "code",
   "execution_count": null,
   "metadata": {},
   "outputs": [],
   "source": [
    "eisenstein(8)"
   ]
  },
  {
   "attachments": {},
   "cell_type": "markdown",
   "metadata": {},
   "source": [
    "- The cohen's function $\\mathrm{H}(k - 1, N)$"
   ]
  },
  {
   "cell_type": "code",
   "execution_count": null,
   "metadata": {},
   "outputs": [],
   "source": [
    "# The return value should be H(k - 1, N) for even k\n",
    "def cohen(k:int, N: int):\n",
    "    if N > 0:\n",
    "        if N % 4 in [0, 3]:\n",
    "            return quadratic_L_function__exact(2 - k, -N)\n",
    "        else:\n",
    "            return 0\n",
    "    else:\n",
    "        return zeta(3 - 2* k)"
   ]
  },
  {
   "cell_type": "code",
   "execution_count": null,
   "metadata": {},
   "outputs": [],
   "source": [
    "[[cohen(k, N) for N in (0..10)] for k in (2..10)]"
   ]
  },
  {
   "attachments": {},
   "cell_type": "markdown",
   "metadata": {},
   "source": [
    "- Jacobi-Eisestein series $\\mathrm{E}_{k, 1}$"
   ]
  },
  {
   "cell_type": "code",
   "execution_count": null,
   "metadata": {},
   "outputs": [],
   "source": [
    "# The coefficient of E_{k, 1} of q^n*y^r\n",
    "def jacobi_eisenstein_coefficient(k: int, n: int, r: int):\n",
    "    return cohen(k, 4 * n - r^2) / zeta(3 - 2 * k)\n",
    "\n",
    "# E_{k, 1}\n",
    "def jacobi_eisenstein(k: int):\n",
    "    def possible_r(n):\n",
    "        k = math.floor(2 * sqrt(n))\n",
    "        return (-k..k)\n",
    "\n",
    "    return R(lambda n: sum(jacobi_eisenstein_coefficient(k, n, r) * y^r for r in possible_r(n)), valuation=0)"
   ]
  },
  {
   "cell_type": "code",
   "execution_count": null,
   "metadata": {},
   "outputs": [],
   "source": [
    "jacobi_eisenstein(4)"
   ]
  },
  {
   "cell_type": "code",
   "execution_count": null,
   "metadata": {},
   "outputs": [],
   "source": [
    "jacobi_eisenstein(6)"
   ]
  },
  {
   "cell_type": "code",
   "execution_count": null,
   "metadata": {},
   "outputs": [],
   "source": [
    "E_4 = eisenstein(4)\n",
    "E_4_1 = jacobi_eisenstein(4)\n",
    "E_6 = eisenstein(6)\n",
    "E_6_1 = jacobi_eisenstein(6)\n",
    "phi_10_1 = (1/144) * (E_6 * E_4_1 - E_4 * E_6_1)\n",
    "phi_10_1"
   ]
  },
  {
   "cell_type": "code",
   "execution_count": null,
   "metadata": {},
   "outputs": [],
   "source": [
    "phi_12_1 = (1/144) * (E_4^2 * E_4_1 - E_6 * E_6_1)\n",
    "phi_12_1"
   ]
  },
  {
   "attachments": {},
   "cell_type": "markdown",
   "metadata": {},
   "source": [
    "- Ramanujan $\\tau$-function $\\tau(n)$"
   ]
  },
  {
   "cell_type": "code",
   "execution_count": null,
   "metadata": {},
   "outputs": [],
   "source": [
    "def tau(n: int):\n",
    "    if n == 1:\n",
    "        return 1\n",
    "    else:\n",
    "        return n^4 * sigma(n) - 24 * sum(i^2 * (35 * i^2 - 52 * i * n + 18 * n^2) * sigma(i) * sigma(n - i) for i in (1..n-1))"
   ]
  },
  {
   "cell_type": "code",
   "execution_count": null,
   "metadata": {},
   "outputs": [],
   "source": [
    "[f\"τ({n}) = {tau(n)}\" for n in (1..10)]"
   ]
  },
  {
   "attachments": {},
   "cell_type": "markdown",
   "metadata": {},
   "source": [
    "- Modular discriminant $\\Delta(\\tau)$"
   ]
  },
  {
   "cell_type": "code",
   "execution_count": null,
   "metadata": {},
   "outputs": [],
   "source": [
    "modular_discriminant = R(lambda n: tau(n), valuation=1)\n",
    "modular_discriminant"
   ]
  },
  {
   "attachments": {},
   "cell_type": "markdown",
   "metadata": {},
   "source": [
    "- Generators of $\\tilde{\\mathrm{J}}_{even, k}$"
   ]
  },
  {
   "cell_type": "code",
   "execution_count": null,
   "metadata": {},
   "outputs": [],
   "source": [
    "phi_tilde_m2_1 = phi_10_1 / modular_discriminant\n",
    "phi_tilde_m2_1"
   ]
  },
  {
   "cell_type": "code",
   "execution_count": null,
   "metadata": {},
   "outputs": [],
   "source": [
    "phi_tilde_0_1 = phi_12_1 / modular_discriminant\n",
    "phi_tilde_0_1 # == 1/2 * (elliptic genus of K3)"
   ]
  },
  {
   "cell_type": "code",
   "execution_count": null,
   "metadata": {},
   "outputs": [],
   "source": [
    "[ math.floor(math.sqrt(x))^2 == x for x in (1..20) ]"
   ]
  },
  {
   "cell_type": "code",
   "execution_count": null,
   "metadata": {},
   "outputs": [],
   "source": [
    "def theta(q, y):\n",
    "    return R(\n",
    "        lambda n: \n",
    "            y^n\n",
    "            if n == 0\n",
    "            else y^math.sqrt(n) + y^(-math.sqrt(n)) \n",
    "            if math.floor(math.sqrt(n))^2 == n\n",
    "            else 0\n",
    "        , valuation=0\n",
    "    )\n",
    "theta(q, y)"
   ]
  },
  {
   "cell_type": "code",
   "execution_count": null,
   "metadata": {},
   "outputs": [],
   "source": [
    "theta(q, y^2) / theta(q, y)"
   ]
  }
 ],
 "metadata": {
  "kernelspec": {
   "display_name": "SageMath 9.0",
   "language": "sage",
   "name": "sagemath"
  },
  "language_info": {
   "codemirror_mode": {
    "name": "ipython",
    "version": 3
   },
   "file_extension": ".py",
   "mimetype": "text/x-python",
   "name": "python",
   "nbconvert_exporter": "python",
   "pygments_lexer": "ipython3",
   "version": "3.10.6"
  },
  "orig_nbformat": 4,
  "vscode": {
   "interpreter": {
    "hash": "916dbcbb3f70747c44a77c7bcd40155683ae19c65e1c03b4aa3499c5328201f1"
   }
  }
 },
 "nbformat": 4,
 "nbformat_minor": 2
}
