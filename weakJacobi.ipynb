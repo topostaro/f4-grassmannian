{
 "cells": [
  {
   "attachments": {},
   "cell_type": "markdown",
   "metadata": {},
   "source": [
    "- Riemann $\\zeta$-function $\\zeta(s)$"
   ]
  },
  {
   "cell_type": "code",
   "execution_count": 1,
   "metadata": {},
   "outputs": [],
   "source": [
    "# Only for negative numbers!!\n",
    "# 事情はよく分からないですが、こっちの方が元々あるやつよりも速い気がするので、再実装しています\n",
    "def zeta(s: int):\n",
    "    return (-1)^s * bernoulli(-s + 1) / (-s + 1)"
   ]
  },
  {
   "cell_type": "code",
   "execution_count": 2,
   "metadata": {},
   "outputs": [
    {
     "data": {
      "text/plain": [
       "['ζ(-10) = 0',\n",
       " 'ζ(-9) = -1/132',\n",
       " 'ζ(-8) = 0',\n",
       " 'ζ(-7) = 1/240',\n",
       " 'ζ(-6) = 0',\n",
       " 'ζ(-5) = -1/252',\n",
       " 'ζ(-4) = 0',\n",
       " 'ζ(-3) = 1/120',\n",
       " 'ζ(-2) = 0',\n",
       " 'ζ(-1) = -1/12']"
      ]
     },
     "execution_count": 2,
     "metadata": {},
     "output_type": "execute_result"
    }
   ],
   "source": [
    "[ f\"ζ({s}) = {zeta(s)}\" for s in (-10..-1)]"
   ]
  },
  {
   "cell_type": "code",
   "execution_count": 3,
   "metadata": {},
   "outputs": [],
   "source": [
    "R0.<y> = LaurentPolynomialRing(QQ)\n",
    "R.<q> = LazyLaurentSeriesRing(R0)"
   ]
  },
  {
   "attachments": {},
   "cell_type": "markdown",
   "metadata": {},
   "source": [
    "- Eisenstein sereis $\\mathrm{E}_k$"
   ]
  },
  {
   "cell_type": "code",
   "execution_count": 4,
   "metadata": {},
   "outputs": [],
   "source": [
    "# Compute the coefficient of q^n\n",
    "def eisenstein_coefficient(k: int, n: int):\n",
    "    if n == 0:\n",
    "        return 1\n",
    "    else:\n",
    "        return 2 * sigma(n, k - 1) / zeta(1 - k)\n",
    "\n",
    "def eisenstein(k: int):\n",
    "    return R(lambda n: eisenstein_coefficient(k, n), valuation=0)"
   ]
  },
  {
   "cell_type": "code",
   "execution_count": 5,
   "metadata": {},
   "outputs": [
    {
     "data": {
      "text/plain": [
       "1 + 240*q + 2160*q^2 + 6720*q^3 + 17520*q^4 + 30240*q^5 + 60480*q^6 + O(q^7)"
      ]
     },
     "execution_count": 5,
     "metadata": {},
     "output_type": "execute_result"
    }
   ],
   "source": [
    "eisenstein(4)"
   ]
  },
  {
   "cell_type": "code",
   "execution_count": 6,
   "metadata": {},
   "outputs": [
    {
     "data": {
      "text/plain": [
       "1 - 504*q - 16632*q^2 - 122976*q^3 - 532728*q^4 - 1575504*q^5 - 4058208*q^6 + O(q^7)"
      ]
     },
     "execution_count": 6,
     "metadata": {},
     "output_type": "execute_result"
    }
   ],
   "source": [
    "eisenstein(6)"
   ]
  },
  {
   "attachments": {},
   "cell_type": "markdown",
   "metadata": {},
   "source": [
    "$\\mathrm{E}_4^2 = \\mathrm{E}_8$"
   ]
  },
  {
   "cell_type": "code",
   "execution_count": 7,
   "metadata": {},
   "outputs": [
    {
     "data": {
      "text/plain": [
       "1 + 480*q + 61920*q^2 + 1050240*q^3 + 7926240*q^4 + 37500480*q^5 + 135480960*q^6 + O(q^7)"
      ]
     },
     "execution_count": 7,
     "metadata": {},
     "output_type": "execute_result"
    }
   ],
   "source": [
    "eisenstein(4)^2"
   ]
  },
  {
   "cell_type": "code",
   "execution_count": 8,
   "metadata": {},
   "outputs": [
    {
     "data": {
      "text/plain": [
       "1 + 480*q + 61920*q^2 + 1050240*q^3 + 7926240*q^4 + 37500480*q^5 + 135480960*q^6 + O(q^7)"
      ]
     },
     "execution_count": 8,
     "metadata": {},
     "output_type": "execute_result"
    }
   ],
   "source": [
    "eisenstein(8)"
   ]
  },
  {
   "attachments": {},
   "cell_type": "markdown",
   "metadata": {},
   "source": [
    "- The cohen's function $\\mathrm{H}(k - 1, N)$"
   ]
  },
  {
   "cell_type": "code",
   "execution_count": 9,
   "metadata": {},
   "outputs": [],
   "source": [
    "# The return value should be H(k - 1, N) for even k\n",
    "def cohen(k:int, N: int):\n",
    "    if N > 0:\n",
    "        if N % 4 in [0, 3]:\n",
    "            return quadratic_L_function__exact(2 - k, -N)\n",
    "        else:\n",
    "            return 0\n",
    "    else:\n",
    "        return zeta(3 - 2* k)"
   ]
  },
  {
   "cell_type": "code",
   "execution_count": 10,
   "metadata": {},
   "outputs": [
    {
     "data": {
      "text/plain": [
       "[[-1/12, 0, 0, 1/3, 1/2, 0, 0, 1, 1, 0, 0],\n",
       " [1/120, 0, 0, 0, 0, 0, 0, 0, 0, 0, 0],\n",
       " [-1/252, 0, 0, -2/9, -1/2, 0, 0, -16/7, -3, 0, 0],\n",
       " [1/240, 0, 0, 0, 0, 0, 0, 0, 0, 0, 0],\n",
       " [-1/132, 0, 0, 2/3, 5/2, 0, 0, 32, 57, 0, 0],\n",
       " [691/32760, 0, 0, 0, 0, 0, 0, 0, 0, 0, 0],\n",
       " [-1/12, 0, 0, -14/3, -61/2, 0, 0, -1168, -2763, 0, 0],\n",
       " [3617/8160, 0, 0, 0, 0, 0, 0, 0, 0, 0, 0],\n",
       " [-43867/14364, 0, 0, 1618/27, 1385/2, 0, 0, 565184/7, 250737, 0, 0]]"
      ]
     },
     "execution_count": 10,
     "metadata": {},
     "output_type": "execute_result"
    }
   ],
   "source": [
    "[[cohen(k, N) for N in (0..10)] for k in (2..10)]"
   ]
  },
  {
   "attachments": {},
   "cell_type": "markdown",
   "metadata": {},
   "source": [
    "- Jacobi-Eisestein series $\\mathrm{E}_{k, 1}$"
   ]
  },
  {
   "cell_type": "code",
   "execution_count": 11,
   "metadata": {},
   "outputs": [],
   "source": [
    "# The coefficient of E_{k, 1} of q^n*y^r\n",
    "def jacobi_eisenstein_coefficient(k: int, n: int, r: int):\n",
    "    return cohen(k, 4 * n - r^2) / zeta(3 - 2 * k)\n",
    "\n",
    "# E_{k, 1}\n",
    "def jacobi_eisenstein(k: int):\n",
    "    def possible_r(n):\n",
    "        k = math.floor(2 * sqrt(n))\n",
    "        return (-k..k)\n",
    "\n",
    "    return R(lambda n: sum(jacobi_eisenstein_coefficient(k, n, r) * y^r for r in possible_r(n)), valuation=0)"
   ]
  },
  {
   "cell_type": "code",
   "execution_count": 12,
   "metadata": {},
   "outputs": [
    {
     "data": {
      "text/plain": [
       "1 + (y^-2 + 56*y^-1 + 126 + 56*y + y^2)*q + (126*y^-2 + 576*y^-1 + 756 + 576*y + 126*y^2)*q^2 + (56*y^-3 + 756*y^-2 + 1512*y^-1 + 56 + 1512*y + 756*y^2 + 56*y^3)*q^3 + (y^-4 + 576*y^-3 + 56*y^-2 + 4032*y^-1 + 126 + 4032*y + 56*y^2 + 576*y^3 + y^4)*q^4 + (126*y^-4 + 1512*y^-3 + 126*y^-2 + 5544*y^-1 + 7560 + 5544*y + 126*y^2 + 1512*y^3 + 126*y^4)*q^5 + (756*y^-4 + 4032*y^-3 + 7560*y^-2 + 12096*y^-1 + 11592 + 12096*y + 7560*y^2 + 4032*y^3 + 756*y^4)*q^6 + O(q^7)"
      ]
     },
     "execution_count": 12,
     "metadata": {},
     "output_type": "execute_result"
    }
   ],
   "source": [
    "jacobi_eisenstein(4)"
   ]
  },
  {
   "cell_type": "code",
   "execution_count": 13,
   "metadata": {},
   "outputs": [
    {
     "data": {
      "text/plain": [
       "1 + (y^-2 - 88*y^-1 - 330 - 88*y + y^2)*q + (-330*y^-2 - 4224*y^-1 - 7524 - 4224*y - 330*y^2)*q^2 + (-88*y^-3 - 7524*y^-2 - 30600*y^-1 - 88 - 30600*y - 7524*y^2 - 88*y^3)*q^3 + (y^-4 - 4224*y^-3 - 88*y^-2 - 130944*y^-1 - 330 - 130944*y - 88*y^2 - 4224*y^3 + y^4)*q^4 + (-330*y^-4 - 30600*y^-3 - 330*y^-2 - 355080*y^-1 - 464904 - 355080*y - 330*y^2 - 30600*y^3 - 330*y^4)*q^5 + (-7524*y^-4 - 130944*y^-3 - 464904*y^-2 - 899712*y^-1 - 1052040 - 899712*y - 464904*y^2 - 130944*y^3 - 7524*y^4)*q^6 + O(q^7)"
      ]
     },
     "execution_count": 13,
     "metadata": {},
     "output_type": "execute_result"
    }
   ],
   "source": [
    "jacobi_eisenstein(6)"
   ]
  },
  {
   "cell_type": "code",
   "execution_count": 14,
   "metadata": {},
   "outputs": [
    {
     "data": {
      "text/plain": [
       "(y^-1 - 2 + y)*q + (-2*y^-2 - 16*y^-1 + 36 - 16*y - 2*y^2)*q^2 + (y^-3 + 36*y^-2 + 99*y^-1 - 1826/3 + 99*y + 36*y^2 + y^3)*q^3 + (-16*y^-3 - 1826/3*y^-2 - 240*y^-1 - 211588/3 - 240*y - 1826/3*y^2 - 16*y^3)*q^4 + (-2*y^-4 + 99*y^-3 - 211588/3*y^-2 - 253*y^-1 - 733400 - 253*y - 211588/3*y^2 + 99*y^3 - 2*y^4)*q^5 + (36*y^-4 - 240*y^-3 - 733400*y^-2 + 2736*y^-1 - 2516824 + 2736*y - 733400*y^2 - 240*y^3 + 36*y^4)*q^6 + O(q^7)"
      ]
     },
     "execution_count": 14,
     "metadata": {},
     "output_type": "execute_result"
    }
   ],
   "source": [
    "E_4 = eisenstein(4)\n",
    "E_4_1 = jacobi_eisenstein(4)\n",
    "E_6 = eisenstein(6)\n",
    "E_6_1 = jacobi_eisenstein(6)\n",
    "phi_10_1 = (1/144) * (E_6 * E_4_1 - E_4 * E_6_1)\n",
    "phi_10_1"
   ]
  },
  {
   "cell_type": "code",
   "execution_count": 15,
   "metadata": {},
   "outputs": [
    {
     "data": {
      "text/plain": [
       "(y^-1 + 10 + y)*q + (10*y^-2 - 88*y^-1 - 132 - 88*y + 10*y^2)*q^2 + (y^-3 - 132*y^-2 + 1275*y^-1 + 1198/3 + 1275*y - 132*y^2 + y^3)*q^3 + (-88*y^-3 + 1198/3*y^-2 - 8040*y^-1 + 455468/3 - 8040*y + 1198/3*y^2 - 88*y^3)*q^4 + (10*y^-4 + 1275*y^-3 + 455468/3*y^-2 + 24035*y^-1 + 5090712 + 24035*y + 455468/3*y^2 + 1275*y^3 + 10*y^4)*q^5 + (-132*y^-4 - 8040*y^-3 + 5090712*y^-2 - 14136*y^-1 + 42703896 - 14136*y + 5090712*y^2 - 8040*y^3 - 132*y^4)*q^6 + O(q^7)"
      ]
     },
     "execution_count": 15,
     "metadata": {},
     "output_type": "execute_result"
    }
   ],
   "source": [
    "phi_12_1 = (1/144) * (E_4^2 * E_4_1 - E_6 * E_6_1)\n",
    "phi_12_1"
   ]
  },
  {
   "attachments": {},
   "cell_type": "markdown",
   "metadata": {},
   "source": [
    "- Ramanujan $\\tau$-function $\\tau(n)$"
   ]
  },
  {
   "cell_type": "code",
   "execution_count": 16,
   "metadata": {},
   "outputs": [],
   "source": [
    "def tau(n: int):\n",
    "    if n == 1:\n",
    "        return 1\n",
    "    else:\n",
    "        return n^4 * sigma(n) - 24 * sum(i^2 * (35 * i^2 - 52 * i * n + 18 * n^2) * sigma(i) * sigma(n - i) for i in (1..n-1))"
   ]
  },
  {
   "cell_type": "code",
   "execution_count": 17,
   "metadata": {},
   "outputs": [
    {
     "data": {
      "text/plain": [
       "['τ(1) = 1',\n",
       " 'τ(2) = -24',\n",
       " 'τ(3) = 252',\n",
       " 'τ(4) = -1472',\n",
       " 'τ(5) = 4830',\n",
       " 'τ(6) = -6048',\n",
       " 'τ(7) = -16744',\n",
       " 'τ(8) = 84480',\n",
       " 'τ(9) = -113643',\n",
       " 'τ(10) = -115920']"
      ]
     },
     "execution_count": 17,
     "metadata": {},
     "output_type": "execute_result"
    }
   ],
   "source": [
    "[f\"τ({n}) = {tau(n)}\" for n in (1..10)]"
   ]
  },
  {
   "attachments": {},
   "cell_type": "markdown",
   "metadata": {},
   "source": [
    "- Modular discriminant $\\Delta(\\tau)$"
   ]
  },
  {
   "cell_type": "code",
   "execution_count": 18,
   "metadata": {},
   "outputs": [
    {
     "data": {
      "text/plain": [
       "q - 24*q^2 + 252*q^3 - 1472*q^4 + 4830*q^5 - 6048*q^6 - 16744*q^7 + O(q^8)"
      ]
     },
     "execution_count": 18,
     "metadata": {},
     "output_type": "execute_result"
    }
   ],
   "source": [
    "modular_discriminant = R(lambda n: tau(n), valuation=1)\n",
    "modular_discriminant"
   ]
  },
  {
   "attachments": {},
   "cell_type": "markdown",
   "metadata": {},
   "source": [
    "- Generators of $\\tilde{\\mathrm{J}}_{even, k}$"
   ]
  },
  {
   "cell_type": "code",
   "execution_count": 19,
   "metadata": {},
   "outputs": [
    {
     "data": {
      "text/plain": [
       "(y^-1 - 2 + y) + (-2*y^-2 + 8*y^-1 - 12 + 8*y - 2*y^2)*q + (y^-3 - 12*y^-2 + 39*y^-1 - 1178/3 + 39*y - 12*y^2 + y^3)*q^2 + (8*y^-3 - 1178/3*y^-2 + 152*y^-1 - 239620/3 + 152*y - 1178/3*y^2 + 8*y^3)*q^3 + (-2*y^-4 + 39*y^-3 - 239620/3*y^-2 + 513*y^-1 - 2559412 + 513*y - 239620/3*y^2 + 39*y^3 - 2*y^4)*q^4 + (-12*y^-4 + 152*y^-3 - 2559412*y^-2 + 1560*y^-1 - 133040320/3 + 1560*y - 2559412*y^2 + 152*y^3 - 12*y^4)*q^5 + O(q^6)"
      ]
     },
     "execution_count": 19,
     "metadata": {},
     "output_type": "execute_result"
    }
   ],
   "source": [
    "phi_tilde_m2_1 = phi_10_1 / modular_discriminant\n",
    "phi_tilde_m2_1"
   ]
  },
  {
   "cell_type": "code",
   "execution_count": 20,
   "metadata": {},
   "outputs": [
    {
     "data": {
      "text/plain": [
       "(y^-1 + 10 + y) + (10*y^-2 - 64*y^-1 + 108 - 64*y + 10*y^2)*q + (y^-3 + 108*y^-2 - 513*y^-1 + 1414/3 - 513*y + 108*y^2 + y^3)*q^2 + (-64*y^-3 + 1414/3*y^-2 - 2752*y^-1 + 451916/3 - 2752*y + 1414/3*y^2 - 64*y^3)*q^3 + (10*y^-4 - 513*y^-3 + 451916/3*y^-2 - 11775*y^-1 + 8697940 - 11775*y + 451916/3*y^2 - 513*y^3 + 10*y^4)*q^4 + (108*y^-4 - 2752*y^-3 + 8697940*y^-2 - 43200*y^-1 + 641178464/3 - 43200*y + 8697940*y^2 - 2752*y^3 + 108*y^4)*q^5 + O(q^6)"
      ]
     },
     "execution_count": 20,
     "metadata": {},
     "output_type": "execute_result"
    }
   ],
   "source": [
    "phi_tilde_0_1 = phi_12_1 / modular_discriminant\n",
    "phi_tilde_0_1 # == 1/2 * (elliptic genus of K3)"
   ]
  }
 ],
 "metadata": {
  "kernelspec": {
   "display_name": "SageMath 9.0",
   "language": "sage",
   "name": "sagemath"
  },
  "language_info": {
   "codemirror_mode": {
    "name": "ipython",
    "version": 3
   },
   "file_extension": ".py",
   "mimetype": "text/x-python",
   "name": "python",
   "nbconvert_exporter": "python",
   "pygments_lexer": "ipython3",
   "version": "3.10.6"
  },
  "orig_nbformat": 4,
  "vscode": {
   "interpreter": {
    "hash": "916dbcbb3f70747c44a77c7bcd40155683ae19c65e1c03b4aa3499c5328201f1"
   }
  }
 },
 "nbformat": 4,
 "nbformat_minor": 2
}
