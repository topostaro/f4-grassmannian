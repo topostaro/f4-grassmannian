{
 "cells": [
  {
   "cell_type": "code",
   "execution_count": 269,
   "metadata": {},
   "outputs": [],
   "source": [
    "# 最高ウェイト表現のウェイトを最高ウェイトとの差で表す関数。\n",
    "def root_difference_multiplicities(character_ring, highest_weight) -> dict:\n",
    "    weight_muliplicities = character_ring(highest_weight).weight_multiplicities()\n",
    "    A = matrix([ vector(sr) for sr in character_ring.simple_roots() ]).transpose()\n",
    "\n",
    "    result ={}\n",
    "\n",
    "    for k, v in weight_muliplicities.items():\n",
    "        Y = vector(k) - vector(highest_weight)\n",
    "        result[tuple(A.solve_right(Y))] = v\n",
    "    \n",
    "    return result"
   ]
  },
  {
   "cell_type": "code",
   "execution_count": 270,
   "metadata": {},
   "outputs": [],
   "source": [
    "# Parabolic subgroupを表すクラス\n",
    "class ParabolicSubgroup:\n",
    "    def __init__(self, G, L, crossed_out_nodes) -> None:\n",
    "        self.G = G\n",
    "        self.L = L\n",
    "        self.crossed_out_nodes = crossed_out_nodes\n",
    "        self.R_G = WeylCharacterRing(self.G)\n",
    "        self.R_L = WeylCharacterRing(self.L)\n",
    "\n",
    "    def __repr__(self) -> str:\n",
    "        return f'the parabolic subgroup of {self.G} with crossed-out nodes {self.crossed_out_nodes}'\n",
    "\n",
    "    def dynkin_diagram(self):\n",
    "        return self.G.marked_nodes(self.crossed_out_nodes).dynkin_diagram()\n",
    "\n",
    "    def ambient_space(self):\n",
    "        return self.R_G.space()\n",
    "    \n",
    "    def ambient_space_dimension(self):\n",
    "        return self.R_G.space().dimension()\n",
    "\n",
    "    # Sagemathのライブラリでは1-indexを用いるが、ここでは簡単のためとりあえず0-indexで表す\n",
    "    def simple_roots(self):\n",
    "        return [ self.R_G.simple_roots()[i] for i in set(1..self.G.rank()) - set(self.crossed_out_nodes)]\n",
    "\n",
    "    def positive_roots(self):\n",
    "        L = self.ambient_space()\n",
    "\n",
    "        # positive rootからcutoutされるsimple rootを引き, positiveでなければuncrossed nodeから生成されると判定\n",
    "        roots = [ pr for pr in self.G.root_system().root_lattice().positive_roots()]\n",
    "        for i in self.crossed_out_nodes:\n",
    "            roots = [ pr for pr in roots if not (pr - (self.G.root_system().root_lattice().simple_roots())[i]).is_positive_root()]\n",
    "\n",
    "        # ambient spaceの元に変換\n",
    "        return [ L(pr) for pr in roots ]\n",
    "\n",
    "    # 引数の`weight`は基本ウェイトを基底にして表示したもの\n",
    "    def weight_muliplicities(self, weight) -> dict:\n",
    "        # GとLのディンキン図の頂点のずれを補正する関数\n",
    "        def correct_index(index: int) -> int:\n",
    "            for i in range(len(self.crossed_out_nodes)):\n",
    "                if index + i < self.crossed_out_nodes[i]:\n",
    "                    return index + i\n",
    "            return index + len(self.crossed_out_nodes)\n",
    "\n",
    "        fws_L = [fw for fw in self.R_L.fundamental_weights()] # conversion from 1-index to 0-index\n",
    "        weight_for_L = [ weight[i - 1] for i in set(1..len(weight))-set(self.crossed_out_nodes)] \n",
    "        weight_for_L = sum( weight_for_L[i] * fws_L[i] for i in range(self.L.rank()))\n",
    "\n",
    "        fws_G = [fw for fw in self.R_G.fundamental_weights()]\n",
    "        weight_for_G = sum( weight[i] * fws_G[i] for i in range(self.G.rank()))\n",
    "\n",
    "        mul_set = root_difference_multiplicities(self.R_L, weight_for_L)\n",
    "\n",
    "        result = {}\n",
    "        for k, v in mul_set.items():\n",
    "            w = weight_for_G \\\n",
    "                + sum(k[i - 1] * self.R_G.simple_roots()[correct_index(i)] \n",
    "                    for i in (1..self.L.rank()))\n",
    "            result[w] = v\n",
    "\n",
    "        return result\n",
    "    \n",
    "    def weyl_dimension(self, weight) -> int:\n",
    "        return self.ambient_space().weyl_dimension(sum(weight[i - 1] * self.R_G.fundamental_weights()[i] for i in (1..self.G.rank())))"
   ]
  },
  {
   "cell_type": "code",
   "execution_count": 271,
   "metadata": {},
   "outputs": [
    {
     "data": {
      "text/plain": [
       "the parabolic subgroup of ['A', 3] with crossed-out nodes [1]"
      ]
     },
     "execution_count": 271,
     "metadata": {},
     "output_type": "execute_result"
    }
   ],
   "source": [
    "P = ParabolicSubgroup(CartanType('A3'), CartanType('A2'), [1])\n",
    "P"
   ]
  },
  {
   "cell_type": "code",
   "execution_count": 272,
   "metadata": {},
   "outputs": [
    {
     "data": {
      "text/plain": [
       "X---O---O\n",
       "1   2   3   \n",
       "A3 with node 1 marked"
      ]
     },
     "execution_count": 272,
     "metadata": {},
     "output_type": "execute_result"
    }
   ],
   "source": [
    "P.dynkin_diagram()"
   ]
  },
  {
   "cell_type": "code",
   "execution_count": 273,
   "metadata": {},
   "outputs": [
    {
     "data": {
      "text/plain": [
       "4"
      ]
     },
     "execution_count": 273,
     "metadata": {},
     "output_type": "execute_result"
    }
   ],
   "source": [
    "P.ambient_space_dimension()"
   ]
  },
  {
   "cell_type": "code",
   "execution_count": 274,
   "metadata": {},
   "outputs": [
    {
     "data": {
      "text/plain": [
       "[(0, 1, -1, 0), (0, 0, 1, -1)]"
      ]
     },
     "execution_count": 274,
     "metadata": {},
     "output_type": "execute_result"
    }
   ],
   "source": [
    "P.simple_roots()"
   ]
  },
  {
   "cell_type": "code",
   "execution_count": 275,
   "metadata": {},
   "outputs": [
    {
     "data": {
      "text/plain": [
       "[(0, 1, -1, 0), (0, 0, 1, -1), (0, 1, 0, -1)]"
      ]
     },
     "execution_count": 275,
     "metadata": {},
     "output_type": "execute_result"
    }
   ],
   "source": [
    "P.positive_roots()"
   ]
  },
  {
   "cell_type": "code",
   "execution_count": 276,
   "metadata": {},
   "outputs": [
    {
     "data": {
      "text/plain": [
       "{(3, 2, 0, 0): 1,\n",
       " (3, 1, 1, 0): 1,\n",
       " (3, 0, 2, 0): 1,\n",
       " (3, 1, 0, 1): 1,\n",
       " (3, 0, 1, 1): 1,\n",
       " (3, 0, 0, 2): 1}"
      ]
     },
     "execution_count": 276,
     "metadata": {},
     "output_type": "execute_result"
    }
   ],
   "source": [
    "P.weight_muliplicities((1, 2, 0))"
   ]
  },
  {
   "cell_type": "code",
   "execution_count": 277,
   "metadata": {},
   "outputs": [],
   "source": [
    "# `degree`次部分を取り出す関数\n",
    "homogeneous_part = lambda F, degree: sum( c*m for c, m in F if m.total_degree() == degree )"
   ]
  },
  {
   "cell_type": "code",
   "execution_count": 278,
   "metadata": {},
   "outputs": [],
   "source": [
    "class FlagVariety:\n",
    "    def __init__(self, parabolic_subgroup) -> None:\n",
    "        self.parabolic_subgroup = parabolic_subgroup\n",
    "\n",
    "        # コホモロジー環を含む環\n",
    "        self.ring = PolynomialRing(QQ, 'x', parabolic_subgroup.ambient_space_dimension()) \n",
    "        self.x = self.ring.gens()\n",
    "\n",
    "        self.tangent_weights = [\n",
    "            sum( r[l] * self.x[l] for l in range(parabolic_subgroup.ambient_space_dimension())) \n",
    "            for r in set(parabolic_subgroup.R_G.positive_roots())-set(parabolic_subgroup.positive_roots())\n",
    "        ]\n",
    "        self.dim = len(self.tangent_weights)\n",
    "\n",
    "    def __repr__(self) -> str:\n",
    "        return f'a flag_variety associated to {self.parabolic_subgroup}'\n",
    "\n",
    "    # 次数ごとのchern類\n",
    "    def chern_classes(self):\n",
    "        return [ \n",
    "            homogeneous_part(prod(1+x for x in self.tangent_weights), i)\n",
    "            for i in (0..self.dim) \n",
    "        ]\n",
    "\n",
    "    def numerical_integration_by_localization(self, f):\n",
    "        random_x = [RealField(1000)(random()) for i in range(self.parabolic_subgroup.ambient_space_dimension())]\n",
    "        orbit_of_random_x = [(w.inverse()*vector(RealField(1000),random_x)).list() for w in WeylGroup(self.parabolic_subgroup.G)]\n",
    "        top_of_f = homogeneous_part(f, self.dim)\n",
    "        denominator_in_localization = prod(self.tangent_weights)\n",
    "        return sum([top_of_f(x)/denominator_in_localization(x) for x in orbit_of_random_x]).round() / len(WeylGroup(self.parabolic_subgroup.L))\n",
    "            "
   ]
  },
  {
   "cell_type": "code",
   "execution_count": 279,
   "metadata": {},
   "outputs": [
    {
     "data": {
      "text/plain": [
       "a flag_variety associated to the parabolic subgroup of ['A', 3] with crossed-out nodes [1]"
      ]
     },
     "execution_count": 279,
     "metadata": {},
     "output_type": "execute_result"
    }
   ],
   "source": [
    "X = FlagVariety(P)\n",
    "X"
   ]
  },
  {
   "cell_type": "code",
   "execution_count": 280,
   "metadata": {},
   "outputs": [
    {
     "data": {
      "text/plain": [
       "[x0 - x2, x0 - x1, x0 - x3]"
      ]
     },
     "execution_count": 280,
     "metadata": {},
     "output_type": "execute_result"
    }
   ],
   "source": [
    "X.tangent_weights"
   ]
  },
  {
   "cell_type": "code",
   "execution_count": 281,
   "metadata": {},
   "outputs": [
    {
     "data": {
      "text/plain": [
       "[1,\n",
       " 3*x0 - x1 - x2 - x3,\n",
       " 3*x0^2 - 2*x0*x1 - 2*x0*x2 + x1*x2 - 2*x0*x3 + x1*x3 + x2*x3,\n",
       " x0^3 - x0^2*x1 - x0^2*x2 + x0*x1*x2 - x0^2*x3 + x0*x1*x3 + x0*x2*x3 - x1*x2*x3]"
      ]
     },
     "execution_count": 281,
     "metadata": {},
     "output_type": "execute_result"
    }
   ],
   "source": [
    "X.chern_classes()"
   ]
  },
  {
   "cell_type": "code",
   "execution_count": 282,
   "metadata": {},
   "outputs": [],
   "source": [
    "class EquivariantVectorBundle:\n",
    "    def __init__(self, flag_variety, weight) -> None:\n",
    "        self.flag_variety = flag_variety\n",
    "        self.weight = weight\n",
    "        self.weight_muliplicities = flag_variety.parabolic_subgroup.weight_muliplicities(weight)\n",
    "        self.rank = sum(v for v in self.weight_muliplicities.values())\n",
    "\n",
    "    def __repr__(self) -> str:\n",
    "        return f'an equivariant vector bundle on {self.flag_variety} associated to {self.weight}'\n",
    "\n",
    "    def chern_classes(self):\n",
    "        def class_from_weight(weight):\n",
    "            return sum(weight[i] * self.flag_variety.x[i] for i in range(self.flag_variety.parabolic_subgroup.ambient_space_dimension()))\n",
    "        \n",
    "        cc = prod((1 + class_from_weight(vector(w)))^i for w, i in self.weight_muliplicities.items())\n",
    "\n",
    "        return [\n",
    "            homogeneous_part(cc, i)\n",
    "            for i in (0..self.flag_variety.dim)\n",
    "        ]"
   ]
  },
  {
   "cell_type": "code",
   "execution_count": 283,
   "metadata": {},
   "outputs": [
    {
     "data": {
      "text/plain": [
       "an equivariant vector bundle on a flag_variety associated to the parabolic subgroup of ['A', 3] with crossed-out nodes [1] associated to (1, 1, 0)"
      ]
     },
     "execution_count": 283,
     "metadata": {},
     "output_type": "execute_result"
    }
   ],
   "source": [
    "w = (1, 1, 0)\n",
    "E = EquivariantVectorBundle(X, w)\n",
    "E"
   ]
  },
  {
   "cell_type": "code",
   "execution_count": 284,
   "metadata": {},
   "outputs": [
    {
     "data": {
      "text/plain": [
       "[1,\n",
       " 6*x0 + x1 + x2 + x3,\n",
       " 12*x0^2 + 4*x0*x1 + 4*x0*x2 + x1*x2 + 4*x0*x3 + x1*x3 + x2*x3,\n",
       " 8*x0^3 + 4*x0^2*x1 + 4*x0^2*x2 + 2*x0*x1*x2 + 4*x0^2*x3 + 2*x0*x1*x3 + 2*x0*x2*x3 + x1*x2*x3]"
      ]
     },
     "execution_count": 284,
     "metadata": {},
     "output_type": "execute_result"
    }
   ],
   "source": [
    "E.chern_classes()"
   ]
  },
  {
   "cell_type": "code",
   "execution_count": 285,
   "metadata": {},
   "outputs": [],
   "source": [
    "# class CompleteIntersection:"
   ]
  },
  {
   "cell_type": "code",
   "execution_count": 286,
   "metadata": {},
   "outputs": [],
   "source": [
    "import re\n",
    "# `chern_classes`は0次を省いて渡す\n",
    "def hrr(integral, rank_E, chern_classes_of_E: list, chern_classes_of_M: list) -> int:\n",
    "    dim_M  = len(chern_classes_of_M)\n",
    "    len_cE = len(chern_classes_of_E)\n",
    "\n",
    "    # Define rings where classes lie\n",
    "    ring_for_ch = PolynomialRing(QQ, [ f'c{i}_E' for i in (1..len_cE) ], order=TermOrder('wdeglex', tuple(1..len_cE)))\n",
    "    ring_for_td = PolynomialRing(QQ, [ f'c{i}_M' for i in (1..dim_M) ], order=TermOrder('wdeglex', tuple(1..dim_M)))\n",
    "\n",
    "    # Using Singular, calclate universal formula of chern character\n",
    "    singular.lib('chern.lib')\n",
    "    r = singular.ring(0, f'(c(1..{len_cE}))', 'dp')\n",
    "    l = singular.list(f'c(1..{len_cE})')\n",
    "    ch_str_list = singular.chAll(l, dim_M).sage_structured_str_list()\n",
    "    chern_character = [ ring_for_ch(rank_E) ] + [ ring_for_ch(re.sub(r'c\\(([0-9]+)\\)', r'c\\1_E', s)) for s in ch_str_list ]\n",
    "\n",
    "    # Using Singular, calculate universal formula of Todd classes\n",
    "    r = singular.ring(0, f'(c(1..{dim_M}))', 'dp')\n",
    "    l = singular.list(f'c(1..{dim_M})')\n",
    "    todd_str_list = singular.todd(l).sage_structured_str_list()\n",
    "    todd_classes = [ ring_for_td(1) ] + [ ring_for_td(re.sub(r'c\\(([0-9]+)\\)', r'c\\1_M', s)) for s in todd_str_list ]\n",
    "    \n",
    "    # Return the value of integration\n",
    "    return integral( \n",
    "        sum(\n",
    "            chern_character[i](chern_classes_of_E)\n",
    "            * todd_classes[dim_M - i](chern_classes_of_M)\n",
    "        for i in (0..dim_M))\n",
    "    )"
   ]
  },
  {
   "cell_type": "code",
   "execution_count": 287,
   "metadata": {},
   "outputs": [
    {
     "data": {
      "text/plain": [
       "20"
      ]
     },
     "execution_count": 287,
     "metadata": {},
     "output_type": "execute_result"
    }
   ],
   "source": [
    "hrr(\n",
    "    X.numerical_integration_by_localization,\n",
    "    E.rank,\n",
    "    E.chern_classes()[1:],\n",
    "    X.chern_classes()[1:]\n",
    ")"
   ]
  },
  {
   "cell_type": "code",
   "execution_count": 288,
   "metadata": {},
   "outputs": [
    {
     "data": {
      "text/plain": [
       "20"
      ]
     },
     "execution_count": 288,
     "metadata": {},
     "output_type": "execute_result"
    }
   ],
   "source": [
    "P.weyl_dimension(w)"
   ]
  },
  {
   "attachments": {},
   "cell_type": "markdown",
   "metadata": {},
   "source": [
    "======= F4 cases ======="
   ]
  },
  {
   "cell_type": "code",
   "execution_count": 289,
   "metadata": {},
   "outputs": [
    {
     "data": {
      "text/plain": [
       "O---O=>=O---O\n",
       "1   2   3   4   \n",
       "F4"
      ]
     },
     "execution_count": 289,
     "metadata": {},
     "output_type": "execute_result"
    }
   ],
   "source": [
    "G = CartanType('F4')\n",
    "G.dynkin_diagram()"
   ]
  },
  {
   "cell_type": "code",
   "execution_count": 290,
   "metadata": {},
   "outputs": [
    {
     "data": {
      "text/plain": [
       "the parabolic subgroup of ['F', 4] with crossed-out nodes [2]"
      ]
     },
     "execution_count": 290,
     "metadata": {},
     "output_type": "execute_result"
    }
   ],
   "source": [
    "P1 = ParabolicSubgroup(G, CartanType('A1', 'A2'), [2])\n",
    "P1"
   ]
  },
  {
   "cell_type": "code",
   "execution_count": 291,
   "metadata": {},
   "outputs": [
    {
     "data": {
      "text/plain": [
       "O---X=>=O---O\n",
       "1   2   3   4   \n",
       "F4 with node 2 marked"
      ]
     },
     "execution_count": 291,
     "metadata": {},
     "output_type": "execute_result"
    }
   ],
   "source": [
    "P1.dynkin_diagram()"
   ]
  },
  {
   "cell_type": "code",
   "execution_count": 292,
   "metadata": {},
   "outputs": [
    {
     "data": {
      "text/plain": [
       "a flag_variety associated to the parabolic subgroup of ['F', 4] with crossed-out nodes [2]"
      ]
     },
     "execution_count": 292,
     "metadata": {},
     "output_type": "execute_result"
    }
   ],
   "source": [
    "X1 = FlagVariety(P1)\n",
    "X1"
   ]
  },
  {
   "cell_type": "code",
   "execution_count": 293,
   "metadata": {},
   "outputs": [
    {
     "data": {
      "text/plain": [
       "an equivariant vector bundle on a flag_variety associated to the parabolic subgroup of ['F', 4] with crossed-out nodes [2] associated to (0, 1, 1, 0)"
      ]
     },
     "execution_count": 293,
     "metadata": {},
     "output_type": "execute_result"
    }
   ],
   "source": [
    "w = (0, 1, 1, 0)\n",
    "E = EquivariantVectorBundle(X1, w)\n",
    "E"
   ]
  },
  {
   "cell_type": "code",
   "execution_count": 294,
   "metadata": {},
   "outputs": [
    {
     "data": {
      "text/plain": [
       "3"
      ]
     },
     "execution_count": 294,
     "metadata": {},
     "output_type": "execute_result"
    }
   ],
   "source": [
    "E.rank"
   ]
  },
  {
   "cell_type": "code",
   "execution_count": 295,
   "metadata": {},
   "outputs": [
    {
     "data": {
      "text/plain": [
       "107406"
      ]
     },
     "execution_count": 295,
     "metadata": {},
     "output_type": "execute_result"
    }
   ],
   "source": [
    "hrr(\n",
    "    X1.numerical_integration_by_localization,\n",
    "    E.rank,\n",
    "    E.chern_classes()[1:],\n",
    "    X1.chern_classes()[1:]\n",
    ")"
   ]
  },
  {
   "cell_type": "code",
   "execution_count": 296,
   "metadata": {},
   "outputs": [
    {
     "data": {
      "text/plain": [
       "107406"
      ]
     },
     "execution_count": 296,
     "metadata": {},
     "output_type": "execute_result"
    }
   ],
   "source": [
    "P1.weyl_dimension(w)"
   ]
  },
  {
   "cell_type": "code",
   "execution_count": 297,
   "metadata": {},
   "outputs": [
    {
     "data": {
      "text/plain": [
       "6"
      ]
     },
     "execution_count": 297,
     "metadata": {},
     "output_type": "execute_result"
    }
   ],
   "source": [
    "w1 = (5, 0, 0, 0)\n",
    "E1 = EquivariantVectorBundle(X1, w1)\n",
    "E1.rank"
   ]
  },
  {
   "cell_type": "code",
   "execution_count": 298,
   "metadata": {},
   "outputs": [
    {
     "data": {
      "text/plain": [
       "627912"
      ]
     },
     "execution_count": 298,
     "metadata": {},
     "output_type": "execute_result"
    }
   ],
   "source": [
    "hrr(\n",
    "    X1.numerical_integration_by_localization,\n",
    "    E1.rank,\n",
    "    E1.chern_classes()[1:],\n",
    "    X1.chern_classes()[1:]\n",
    ")"
   ]
  },
  {
   "cell_type": "code",
   "execution_count": 299,
   "metadata": {},
   "outputs": [
    {
     "data": {
      "text/plain": [
       "627912"
      ]
     },
     "execution_count": 299,
     "metadata": {},
     "output_type": "execute_result"
    }
   ],
   "source": [
    "P1.weyl_dimension(w1)"
   ]
  },
  {
   "cell_type": "code",
   "execution_count": 300,
   "metadata": {},
   "outputs": [
    {
     "data": {
      "text/plain": [
       "the parabolic subgroup of ['F', 4] with crossed-out nodes [3]"
      ]
     },
     "execution_count": 300,
     "metadata": {},
     "output_type": "execute_result"
    }
   ],
   "source": [
    "P2 = ParabolicSubgroup(G, CartanType('A2', 'A1'), [3])\n",
    "P2"
   ]
  },
  {
   "cell_type": "code",
   "execution_count": 301,
   "metadata": {},
   "outputs": [
    {
     "data": {
      "text/plain": [
       "O---O=>=X---O\n",
       "1   2   3   4   \n",
       "F4 with node 3 marked"
      ]
     },
     "execution_count": 301,
     "metadata": {},
     "output_type": "execute_result"
    }
   ],
   "source": [
    "P2.dynkin_diagram()"
   ]
  },
  {
   "cell_type": "code",
   "execution_count": 302,
   "metadata": {},
   "outputs": [
    {
     "data": {
      "text/plain": [
       "a flag_variety associated to the parabolic subgroup of ['F', 4] with crossed-out nodes [3]"
      ]
     },
     "execution_count": 302,
     "metadata": {},
     "output_type": "execute_result"
    }
   ],
   "source": [
    "X2 = FlagVariety(P2)\n",
    "X2"
   ]
  },
  {
   "cell_type": "code",
   "execution_count": 303,
   "metadata": {},
   "outputs": [
    {
     "data": {
      "text/plain": [
       "an equivariant vector bundle on a flag_variety associated to the parabolic subgroup of ['F', 4] with crossed-out nodes [3] associated to (0, 1, 1, 0)"
      ]
     },
     "execution_count": 303,
     "metadata": {},
     "output_type": "execute_result"
    }
   ],
   "source": [
    "w2 = (0, 1, 1, 0)\n",
    "E2 = EquivariantVectorBundle(X2, w2)\n",
    "E2"
   ]
  },
  {
   "cell_type": "code",
   "execution_count": 304,
   "metadata": {},
   "outputs": [
    {
     "data": {
      "text/plain": [
       "107406"
      ]
     },
     "execution_count": 304,
     "metadata": {},
     "output_type": "execute_result"
    }
   ],
   "source": [
    "hrr(\n",
    "    X2.numerical_integration_by_localization,\n",
    "    E2.rank,\n",
    "    E2.chern_classes()[1:],\n",
    "    X2.chern_classes()[1:]\n",
    ")"
   ]
  },
  {
   "cell_type": "code",
   "execution_count": 305,
   "metadata": {},
   "outputs": [
    {
     "data": {
      "text/plain": [
       "107406"
      ]
     },
     "execution_count": 305,
     "metadata": {},
     "output_type": "execute_result"
    }
   ],
   "source": [
    "P2.weyl_dimension(w2)"
   ]
  },
  {
   "cell_type": "code",
   "execution_count": 306,
   "metadata": {},
   "outputs": [
    {
     "data": {
      "text/plain": [
       "15"
      ]
     },
     "execution_count": 306,
     "metadata": {},
     "output_type": "execute_result"
    }
   ],
   "source": [
    "w3 = (2, 1, 0, 0)\n",
    "E3 = EquivariantVectorBundle(X2, w3)\n",
    "E3.rank"
   ]
  },
  {
   "cell_type": "code",
   "execution_count": 307,
   "metadata": {},
   "outputs": [
    {
     "data": {
      "text/plain": [
       "340119"
      ]
     },
     "execution_count": 307,
     "metadata": {},
     "output_type": "execute_result"
    }
   ],
   "source": [
    "hrr(\n",
    "    X2.numerical_integration_by_localization,\n",
    "    E3.rank,\n",
    "    E3.chern_classes()[1:],\n",
    "    X2.chern_classes()[1:]\n",
    ")"
   ]
  },
  {
   "cell_type": "code",
   "execution_count": 308,
   "metadata": {},
   "outputs": [
    {
     "data": {
      "text/plain": [
       "340119"
      ]
     },
     "execution_count": 308,
     "metadata": {},
     "output_type": "execute_result"
    }
   ],
   "source": [
    "P2.weyl_dimension(w3)"
   ]
  }
 ],
 "metadata": {
  "kernelspec": {
   "display_name": "SageMath 9.0",
   "language": "sage",
   "name": "sagemath"
  },
  "language_info": {
   "codemirror_mode": {
    "name": "ipython",
    "version": 3
   },
   "file_extension": ".py",
   "mimetype": "text/x-python",
   "name": "python",
   "nbconvert_exporter": "python",
   "pygments_lexer": "ipython3",
   "version": "3.10.6"
  },
  "orig_nbformat": 4
 },
 "nbformat": 4,
 "nbformat_minor": 2
}
