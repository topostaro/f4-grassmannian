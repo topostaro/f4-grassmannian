{
 "cells": [
  {
   "cell_type": "code",
   "execution_count": 415,
   "metadata": {},
   "outputs": [],
   "source": [
    "# 最高ウェイト表現のウェイトを最高ウェイトとの差で表す関数。\n",
    "def root_difference_multiplicities(character_ring, highest_weight) -> dict:\n",
    "    weight_muliplicities = character_ring(highest_weight).weight_multiplicities()\n",
    "    A = matrix([ vector(sr) for sr in character_ring.simple_roots() ]).transpose()\n",
    "\n",
    "    result ={}\n",
    "\n",
    "    for k, v in weight_muliplicities.items():\n",
    "        Y = vector(k) - vector(highest_weight)\n",
    "        result[tuple(A.solve_right(Y))] = v\n",
    "    \n",
    "    return result"
   ]
  },
  {
   "cell_type": "code",
   "execution_count": 416,
   "metadata": {},
   "outputs": [],
   "source": [
    "# Parabolic subgroupを表すクラス\n",
    "class ParabolicSubgroup:\n",
    "    def __init__(self, G, L, crossed_out_nodes) -> None:\n",
    "        self.G = G\n",
    "        self.L = L\n",
    "        self.crossed_out_nodes = crossed_out_nodes\n",
    "        self.R_G = WeylCharacterRing(self.G)\n",
    "        self.R_L = WeylCharacterRing(self.L)\n",
    "\n",
    "    def __repr__(self) -> str:\n",
    "        return f'the parabolic subgroup of {self.G} with crossed-out nodes {self.crossed_out_nodes}'\n",
    "\n",
    "    def dynkin_diagram(self):\n",
    "        return self.G.marked_nodes(self.crossed_out_nodes).dynkin_diagram()\n",
    "\n",
    "    def ambient_space(self):\n",
    "        return self.R_G.space()\n",
    "    \n",
    "    def ambient_space_dimension(self):\n",
    "        return self.R_G.space().dimension()\n",
    "\n",
    "    # Sagemathのライブラリでは1-indexを用いるが、ここでは簡単のためとりあえず0-indexで表す\n",
    "    def simple_roots(self):\n",
    "        return [ self.R_G.simple_roots()[i] for i in set(1..self.G.rank()) - set(self.crossed_out_nodes)]\n",
    "\n",
    "    def positive_roots(self):\n",
    "        L = self.ambient_space()\n",
    "\n",
    "        # positive rootからcutoutされるsimple rootを引き, positiveでなければuncrossed nodeから生成されると判定\n",
    "        roots = [ pr for pr in self.G.root_system().root_lattice().positive_roots()]\n",
    "        for i in self.crossed_out_nodes:\n",
    "            roots = [ pr for pr in roots if not (pr - (self.G.root_system().root_lattice().simple_roots())[i]).is_positive_root()]\n",
    "\n",
    "        # ambient spaceの元に変換\n",
    "        return [ L(pr) for pr in roots ]\n",
    "\n",
    "    # 引数の`weight`は基本ウェイトを基底にして表示したもの\n",
    "    def weight_muliplicities(self, weight) -> dict:\n",
    "        # GとLのディンキン図の頂点のずれを補正する関数\n",
    "        def correct_index(index: int) -> int:\n",
    "            for i in range(len(self.crossed_out_nodes)):\n",
    "                if index + i < self.crossed_out_nodes[i]:\n",
    "                    return index + i\n",
    "            return index + len(self.crossed_out_nodes)\n",
    "\n",
    "        fws_L = [fw for fw in self.R_L.fundamental_weights()] # conversion from 1-index to 0-index\n",
    "        weight_for_L = [ weight[i - 1] for i in set(1..len(weight))-set(self.crossed_out_nodes)] \n",
    "        weight_for_L = sum( weight_for_L[i] * fws_L[i] for i in range(self.L.rank()))\n",
    "\n",
    "        fws_G = [fw for fw in self.R_G.fundamental_weights()]\n",
    "        weight_for_G = sum( weight[i] * fws_G[i] for i in range(self.G.rank()))\n",
    "\n",
    "        mul_set = root_difference_multiplicities(self.R_L, weight_for_L)\n",
    "\n",
    "        result = {}\n",
    "        for k, v in mul_set.items():\n",
    "            w = weight_for_G \\\n",
    "                + sum(k[i - 1] * self.R_G.simple_roots()[correct_index(i)] \n",
    "                    for i in (1..self.L.rank()))\n",
    "            result[w] = v\n",
    "\n",
    "        return result\n",
    "    \n",
    "    def weyl_dimension(self, weight) -> int:\n",
    "        return self.ambient_space().weyl_dimension(sum(weight[i - 1] * self.R_G.fundamental_weights()[i] for i in (1..self.G.rank())))"
   ]
  },
  {
   "cell_type": "code",
   "execution_count": 417,
   "metadata": {},
   "outputs": [
    {
     "data": {
      "text/plain": [
       "the parabolic subgroup of ['A', 3] with crossed-out nodes [1]"
      ]
     },
     "execution_count": 417,
     "metadata": {},
     "output_type": "execute_result"
    }
   ],
   "source": [
    "P = ParabolicSubgroup(CartanType('A3'), CartanType('A2'), [1])\n",
    "P"
   ]
  },
  {
   "cell_type": "code",
   "execution_count": 418,
   "metadata": {},
   "outputs": [
    {
     "data": {
      "text/plain": [
       "X---O---O\n",
       "1   2   3   \n",
       "A3 with node 1 marked"
      ]
     },
     "execution_count": 418,
     "metadata": {},
     "output_type": "execute_result"
    }
   ],
   "source": [
    "P.dynkin_diagram()"
   ]
  },
  {
   "cell_type": "code",
   "execution_count": 419,
   "metadata": {},
   "outputs": [
    {
     "data": {
      "text/plain": [
       "4"
      ]
     },
     "execution_count": 419,
     "metadata": {},
     "output_type": "execute_result"
    }
   ],
   "source": [
    "P.ambient_space_dimension()"
   ]
  },
  {
   "cell_type": "code",
   "execution_count": 420,
   "metadata": {},
   "outputs": [
    {
     "data": {
      "text/plain": [
       "[(0, 1, -1, 0), (0, 0, 1, -1)]"
      ]
     },
     "execution_count": 420,
     "metadata": {},
     "output_type": "execute_result"
    }
   ],
   "source": [
    "P.simple_roots()"
   ]
  },
  {
   "cell_type": "code",
   "execution_count": 421,
   "metadata": {},
   "outputs": [
    {
     "data": {
      "text/plain": [
       "[(0, 1, -1, 0), (0, 0, 1, -1), (0, 1, 0, -1)]"
      ]
     },
     "execution_count": 421,
     "metadata": {},
     "output_type": "execute_result"
    }
   ],
   "source": [
    "P.positive_roots()"
   ]
  },
  {
   "cell_type": "code",
   "execution_count": 422,
   "metadata": {},
   "outputs": [
    {
     "data": {
      "text/plain": [
       "{(3, 2, 0, 0): 1,\n",
       " (3, 1, 1, 0): 1,\n",
       " (3, 0, 2, 0): 1,\n",
       " (3, 1, 0, 1): 1,\n",
       " (3, 0, 1, 1): 1,\n",
       " (3, 0, 0, 2): 1}"
      ]
     },
     "execution_count": 422,
     "metadata": {},
     "output_type": "execute_result"
    }
   ],
   "source": [
    "P.weight_muliplicities((1, 2, 0))"
   ]
  },
  {
   "cell_type": "code",
   "execution_count": 423,
   "metadata": {},
   "outputs": [],
   "source": [
    "from abc import ABC, abstractmethod\n",
    "\n",
    "\n",
    "class IVariety(ABC):\n",
    "    @abstractmethod\n",
    "    def dimension(self) -> int:\n",
    "        pass\n",
    "\n",
    "    @abstractmethod\n",
    "    def tangent_bundle(self) -> IVectorBundle:\n",
    "        pass\n",
    "\n",
    "    def cotangent_bundle(self) -> IVectorBundle:\n",
    "        return dual_bundle(self.tangent_bundle())\n",
    "\n",
    "    @abstractmethod\n",
    "    def integration(self, f) -> int:\n",
    "        pass\n",
    "\n",
    "    def chern_classes(self) -> list:\n",
    "        return self.tangent_bundle().cheern_classes()\n",
    "\n",
    "    def todd_classes(self) -> list:\n",
    "        return self.tangent_bundle().todd_classes()"
   ]
  },
  {
   "cell_type": "code",
   "execution_count": 424,
   "metadata": {},
   "outputs": [],
   "source": [
    "import re\n",
    "singular.lib(\"chern.lib\")\n",
    "\n",
    "\n",
    "class IVectorBundle(ABC):\n",
    "    @abstractmethod\n",
    "    def base(self) -> IVariety:\n",
    "        pass\n",
    "\n",
    "    @abstractmethod\n",
    "    def rank(self) -> int:\n",
    "        pass\n",
    "\n",
    "    @abstractmethod\n",
    "    def chern_classes(self) -> list:\n",
    "        pass\n",
    "\n",
    "    def __add__(self, other) -> IVectorBundle:\n",
    "        return direct_sum(self, other)\n",
    "\n",
    "    def __mul__(self, other) -> IVectorBundle:\n",
    "        return tensor_product(self, other)\n",
    "\n",
    "    def chern_character(self) -> list:\n",
    "        len_cc = len(self.chern_classes()) - 1\n",
    "\n",
    "        ring_for_ch = PolynomialRing(QQ, [ f'c{i}_E' for i in (1..len_cc) ], order=TermOrder('wdeglex', tuple(1..len_cc)))\n",
    "        \n",
    "        # Using Singular, calclate universal formula of chern character\n",
    "        singular.lib('chern.lib')\n",
    "        r = singular.ring(0, f'(c(1..{len_cc}))', 'dp')\n",
    "        l = singular.list(f'c(1..{len_cc})')\n",
    "        ch_str_list = singular.chAll(l, self.base().dimension()).sage_structured_str_list()\n",
    "        chern_character = [ ring_for_ch(self.rank()) ] + [ ring_for_ch(re.sub(r'c\\(([0-9]+)\\)', r'c\\1_E', s)) for s in ch_str_list ]\n",
    "\n",
    "        chern_classes = self.chern_classes()[1:]\n",
    "\n",
    "        return [ chern_character[i](chern_classes) for i in (0..self.base().dimension()) ]\n",
    "\n",
    "    def todd_classes(self) -> list:\n",
    "        len_cc = len(self.chern_classes()) - 1\n",
    "\n",
    "        ring_for_td = PolynomialRing(QQ, [ f'c{i}_M' for i in (1..len_cc) ], order=TermOrder('wdeglex', tuple(1..len_cc)))\n",
    "\n",
    "        # Using Singular, calculate universal formula of Todd classes\n",
    "        r = singular.ring(0, f'(c(1..{len_cc}))', 'dp')\n",
    "        l = singular.list(f'c(1..{len_cc})')\n",
    "        todd_str_list = singular.todd(l).sage_structured_str_list()\n",
    "        todd_classes = [ ring_for_td(1) ] + [ ring_for_td(re.sub(r'c\\(([0-9]+)\\)', r'c\\1_M', s)) for s in todd_str_list ]\n",
    "\n",
    "        chern_classes = self.chern_classes()[1:]\n",
    "\n",
    "        return [ todd_classes[i](chern_classes) for i in (0..self.base().dimension()) ]"
   ]
  },
  {
   "cell_type": "code",
   "execution_count": 425,
   "metadata": {},
   "outputs": [],
   "source": [
    "# `degree`次部分を取り出す関数\n",
    "homogeneous_part = lambda F, degree: sum( c*m for c, m in F if m.total_degree() == degree )"
   ]
  },
  {
   "cell_type": "code",
   "execution_count": 426,
   "metadata": {},
   "outputs": [],
   "source": [
    "class FlagVariety(IVariety):\n",
    "    def __init__(self, parabolic_subgroup) -> None:\n",
    "        self.parabolic_subgroup = parabolic_subgroup\n",
    "\n",
    "        # コホモロジー環を含む環\n",
    "        self.ring = PolynomialRing(QQ, 'x', parabolic_subgroup.ambient_space_dimension()) \n",
    "        self.x = self.ring.gens()\n",
    "\n",
    "        self.tangent_weights = [\n",
    "            sum( r[l] * self.x[l] for l in range(parabolic_subgroup.ambient_space_dimension())) \n",
    "            for r in set(parabolic_subgroup.R_G.positive_roots())-set(parabolic_subgroup.positive_roots())\n",
    "        ]\n",
    "        self.dim = len(self.tangent_weights)\n",
    "\n",
    "    def __repr__(self) -> str:\n",
    "        return f'a flag_variety associated to {self.parabolic_subgroup}'\n",
    "\n",
    "    def dimension(self) -> int:\n",
    "        return self.dim\n",
    "    \n",
    "    def tangent_bundle(self):\n",
    "        tangent_weights = { w: 1 for w in set(self.parabolic_subgroup.R_G.positive_roots())-set(self.parabolic_subgroup.positive_roots()) }\n",
    "        return EquivariantVectorBundle(self, tangent_weights)\n",
    "\n",
    "\n",
    "    # 次数ごとのchern類\n",
    "    def chern_classes(self):\n",
    "        return [ \n",
    "            homogeneous_part(prod(1+x for x in self.tangent_weights), i)\n",
    "            for i in (0..self.dim) \n",
    "        ]\n",
    "\n",
    "    def numerical_integration_by_localization(self, f):\n",
    "        random_x = [RealField(1000)(random()) for i in range(self.parabolic_subgroup.ambient_space_dimension())]\n",
    "        orbit_of_random_x = [(w.inverse()*vector(RealField(1000),random_x)).list() for w in WeylGroup(self.parabolic_subgroup.G)]\n",
    "        top_of_f = homogeneous_part(f, self.dim)\n",
    "        denominator_in_localization = prod(self.tangent_weights)\n",
    "        return sum([top_of_f(x)/denominator_in_localization(x) for x in orbit_of_random_x]).round() / len(WeylGroup(self.parabolic_subgroup.L))\n",
    "\n",
    "    def integration(self, f) -> int:\n",
    "        return self.numerical_integration_by_localization(f)\n",
    "     "
   ]
  },
  {
   "cell_type": "code",
   "execution_count": 427,
   "metadata": {},
   "outputs": [
    {
     "data": {
      "text/plain": [
       "a flag_variety associated to the parabolic subgroup of ['A', 3] with crossed-out nodes [1]"
      ]
     },
     "execution_count": 427,
     "metadata": {},
     "output_type": "execute_result"
    }
   ],
   "source": [
    "X = FlagVariety(P)\n",
    "X"
   ]
  },
  {
   "cell_type": "code",
   "execution_count": 428,
   "metadata": {},
   "outputs": [
    {
     "data": {
      "text/plain": [
       "3"
      ]
     },
     "execution_count": 428,
     "metadata": {},
     "output_type": "execute_result"
    }
   ],
   "source": [
    "X.dimension()"
   ]
  },
  {
   "cell_type": "code",
   "execution_count": 429,
   "metadata": {},
   "outputs": [
    {
     "data": {
      "text/plain": [
       "[x0 - x2, x0 - x1, x0 - x3]"
      ]
     },
     "execution_count": 429,
     "metadata": {},
     "output_type": "execute_result"
    }
   ],
   "source": [
    "X.tangent_weights"
   ]
  },
  {
   "cell_type": "code",
   "execution_count": 430,
   "metadata": {},
   "outputs": [
    {
     "data": {
      "text/plain": [
       "an equivariant vector bundle on a flag_variety associated to the parabolic subgroup of ['A', 3] with crossed-out nodes [1] associated to {(1, 0, -1, 0): 1, (1, -1, 0, 0): 1, (1, 0, 0, -1): 1}"
      ]
     },
     "execution_count": 430,
     "metadata": {},
     "output_type": "execute_result"
    }
   ],
   "source": [
    "X.tangent_bundle()"
   ]
  },
  {
   "cell_type": "code",
   "execution_count": 431,
   "metadata": {},
   "outputs": [
    {
     "data": {
      "text/plain": [
       "[1,\n",
       " 3*x0 - x1 - x2 - x3,\n",
       " 3*x0^2 - 2*x0*x1 - 2*x0*x2 + x1*x2 - 2*x0*x3 + x1*x3 + x2*x3,\n",
       " x0^3 - x0^2*x1 - x0^2*x2 + x0*x1*x2 - x0^2*x3 + x0*x1*x3 + x0*x2*x3 - x1*x2*x3]"
      ]
     },
     "execution_count": 431,
     "metadata": {},
     "output_type": "execute_result"
    }
   ],
   "source": [
    "X.chern_classes()"
   ]
  },
  {
   "cell_type": "code",
   "execution_count": 432,
   "metadata": {},
   "outputs": [
    {
     "data": {
      "text/plain": [
       "[1,\n",
       " 3*x0 - x1 - x2 - x3,\n",
       " 3*x0^2 - 2*x0*x1 - 2*x0*x2 + x1*x2 - 2*x0*x3 + x1*x3 + x2*x3,\n",
       " x0^3 - x0^2*x1 - x0^2*x2 + x0*x1*x2 - x0^2*x3 + x0*x1*x3 + x0*x2*x3 - x1*x2*x3]"
      ]
     },
     "execution_count": 432,
     "metadata": {},
     "output_type": "execute_result"
    }
   ],
   "source": [
    "X.tangent_bundle().chern_classes()"
   ]
  },
  {
   "cell_type": "code",
   "execution_count": 433,
   "metadata": {},
   "outputs": [
    {
     "data": {
      "text/plain": [
       "[1,\n",
       " 3/2*x0 - 1/2*x1 - 1/2*x2 - 1/2*x3,\n",
       " x0^2 - 2/3*x0*x1 + 1/12*x1^2 - 2/3*x0*x2 + 1/4*x1*x2 + 1/12*x2^2 - 2/3*x0*x3 + 1/4*x1*x3 + 1/4*x2*x3 + 1/12*x3^2,\n",
       " 3/8*x0^3 - 3/8*x0^2*x1 + 1/12*x0*x1^2 - 3/8*x0^2*x2 + 7/24*x0*x1*x2 - 1/24*x1^2*x2 + 1/12*x0*x2^2 - 1/24*x1*x2^2 - 3/8*x0^2*x3 + 7/24*x0*x1*x3 - 1/24*x1^2*x3 + 7/24*x0*x2*x3 - 1/8*x1*x2*x3 - 1/24*x2^2*x3 + 1/12*x0*x3^2 - 1/24*x1*x3^2 - 1/24*x2*x3^2]"
      ]
     },
     "execution_count": 433,
     "metadata": {},
     "output_type": "execute_result"
    }
   ],
   "source": [
    "X.todd_classes()"
   ]
  },
  {
   "cell_type": "code",
   "execution_count": 434,
   "metadata": {},
   "outputs": [],
   "source": [
    "class EquivariantVectorBundle(IVectorBundle):\n",
    "    def __init__(self, flag_variety, weight_muliplicities) -> None:\n",
    "        self.flag_variety = flag_variety\n",
    "        self.weight_muliplicities = weight_muliplicities\n",
    "        self.rk = sum(v for v in self.weight_muliplicities.values())\n",
    "\n",
    "    def __repr__(self) -> str:\n",
    "        return f'an equivariant vector bundle on {self.flag_variety} associated to {self.weight_muliplicities}'\n",
    "\n",
    "    def rank(self) -> int:\n",
    "        return self.rk\n",
    "\n",
    "    def base(self) -> FlagVariety:\n",
    "        return self.flag_variety\n",
    "\n",
    "    def chern_classes(self):\n",
    "        def class_from_weight(weight):\n",
    "            return sum(weight[i] * self.flag_variety.x[i] for i in range(self.flag_variety.parabolic_subgroup.ambient_space_dimension()))\n",
    "        \n",
    "        cc = prod((1 + class_from_weight(vector(w)))^i for w, i in self.weight_muliplicities.items())\n",
    "\n",
    "        return [\n",
    "            homogeneous_part(cc, i)\n",
    "            for i in (0..self.flag_variety.dim)\n",
    "        ]\n",
    "\n",
    "class IrreducibleEquivariantVectorBundle(EquivariantVectorBundle):\n",
    "    def __init__(self, flag_variety, weight) -> None:\n",
    "        self.weight = weight\n",
    "        super().__init__(flag_variety, flag_variety.parabolic_subgroup.weight_muliplicities(weight))\n",
    "\n",
    "    def __repr__(self) -> str:\n",
    "        return f'an equivariant vector bundle on {self.flag_variety} associated to {self.weight}'"
   ]
  },
  {
   "cell_type": "code",
   "execution_count": 435,
   "metadata": {},
   "outputs": [
    {
     "data": {
      "text/plain": [
       "an equivariant vector bundle on a flag_variety associated to the parabolic subgroup of ['A', 3] with crossed-out nodes [1] associated to (4, 0, 0)"
      ]
     },
     "execution_count": 435,
     "metadata": {},
     "output_type": "execute_result"
    }
   ],
   "source": [
    "w = (4, 0, 0)\n",
    "E = IrreducibleEquivariantVectorBundle(X, w)\n",
    "E"
   ]
  },
  {
   "cell_type": "code",
   "execution_count": 436,
   "metadata": {},
   "outputs": [
    {
     "data": {
      "text/plain": [
       "a flag_variety associated to the parabolic subgroup of ['A', 3] with crossed-out nodes [1]"
      ]
     },
     "execution_count": 436,
     "metadata": {},
     "output_type": "execute_result"
    }
   ],
   "source": [
    "E.base()"
   ]
  },
  {
   "cell_type": "code",
   "execution_count": 437,
   "metadata": {},
   "outputs": [
    {
     "data": {
      "text/plain": [
       "1"
      ]
     },
     "execution_count": 437,
     "metadata": {},
     "output_type": "execute_result"
    }
   ],
   "source": [
    "E.rank()"
   ]
  },
  {
   "cell_type": "code",
   "execution_count": 438,
   "metadata": {},
   "outputs": [
    {
     "data": {
      "text/plain": [
       "[1, 4*x0, 0, 0]"
      ]
     },
     "execution_count": 438,
     "metadata": {},
     "output_type": "execute_result"
    }
   ],
   "source": [
    "E.chern_classes()"
   ]
  },
  {
   "cell_type": "code",
   "execution_count": 439,
   "metadata": {},
   "outputs": [
    {
     "data": {
      "text/plain": [
       "[1, 4*x0, 8*x0^2, 32/3*x0^3]"
      ]
     },
     "execution_count": 439,
     "metadata": {},
     "output_type": "execute_result"
    }
   ],
   "source": [
    "E.chern_character()"
   ]
  },
  {
   "cell_type": "code",
   "execution_count": 440,
   "metadata": {},
   "outputs": [
    {
     "data": {
      "text/plain": [
       "[1, 2*x0, 4/3*x0^2, 0]"
      ]
     },
     "execution_count": 440,
     "metadata": {},
     "output_type": "execute_result"
    }
   ],
   "source": [
    "E.todd_classes()"
   ]
  },
  {
   "cell_type": "code",
   "execution_count": 441,
   "metadata": {},
   "outputs": [],
   "source": [
    "class CompleteIntersection(IVariety):\n",
    "    def __init__(self, flag_variety, vector_bundle) -> None:\n",
    "        self.flag_variety = flag_variety\n",
    "        self.vector_bundle = vector_bundle\n",
    "        self.dim = self.flag_variety.dimension() - self.vector_bundle.rank()\n",
    "\n",
    "    def __repr__(self) -> str:\n",
    "        return f'a complete intersection of {self.flag_variety} and {self.vector_bundle}'\n",
    "\n",
    "    def dimension(self) -> int:\n",
    "        return self.dim\n",
    "    \n",
    "    def tangent_bundle(self):\n",
    "        ci = self\n",
    "        class VB(IVectorBundle):\n",
    "            def base(self) -> IVariety:\n",
    "                return ci\n",
    "            def rank(self) -> int:\n",
    "                return ci.dim\n",
    "            def chern_classes(self) -> list:\n",
    "                return ci.chern_classes()\n",
    "        \n",
    "        return VB()\n",
    "\n",
    "    def chern_classes(self):\n",
    "        def class_from_weight(weight):\n",
    "            return sum(weight[i] * self.flag_variety.x[i] for i in range(self.flag_variety.parabolic_subgroup.ambient_space_dimension()))\n",
    "        \n",
    "        def geometric_sequence(n, x):\n",
    "            return sum( x^i for i in (0..n))\n",
    "        \n",
    "        cc = prod(1+x for x in self.flag_variety.tangent_weights) \\\n",
    "            * \\\n",
    "            prod(geometric_sequence(self.dim, -class_from_weight(vector(w)))^i \n",
    "                for w, i in self.vector_bundle.weight_muliplicities.items()\n",
    "            )\n",
    "        \n",
    "        return [\n",
    "            homogeneous_part(cc, i)\n",
    "            for i in (0..self.dim)\n",
    "        ]\n",
    "\n",
    "    def numerical_integration_by_localization(self, f):\n",
    "        top_of_f = homogeneous_part(f, self.dim)\n",
    "        c_top    = self.vector_bundle.chern_classes()[self.vector_bundle.rank()] if self.dim >= 0 else 0\n",
    "        return self.flag_variety.numerical_integration_by_localization(top_of_f * c_top)\n",
    "\n",
    "    def integration(self, f) -> int:\n",
    "        return self.numerical_integration_by_localization(f)\n"
   ]
  },
  {
   "cell_type": "code",
   "execution_count": 442,
   "metadata": {},
   "outputs": [
    {
     "data": {
      "text/plain": [
       "2"
      ]
     },
     "execution_count": 442,
     "metadata": {},
     "output_type": "execute_result"
    }
   ],
   "source": [
    "# K3\n",
    "Y = CompleteIntersection(X, E) \n",
    "Y.dimension()"
   ]
  },
  {
   "cell_type": "code",
   "execution_count": 443,
   "metadata": {},
   "outputs": [
    {
     "data": {
      "text/plain": [
       "[1,\n",
       " -x0 - x1 - x2 - x3,\n",
       " 7*x0^2 + 2*x0*x1 + 2*x0*x2 + x1*x2 + 2*x0*x3 + x1*x3 + x2*x3]"
      ]
     },
     "execution_count": 443,
     "metadata": {},
     "output_type": "execute_result"
    }
   ],
   "source": [
    "Y.chern_classes()"
   ]
  },
  {
   "cell_type": "code",
   "execution_count": 444,
   "metadata": {},
   "outputs": [
    {
     "data": {
      "text/plain": [
       "[1,\n",
       " -x0 - x1 - x2 - x3,\n",
       " 7*x0^2 + 2*x0*x1 + 2*x0*x2 + x1*x2 + 2*x0*x3 + x1*x3 + x2*x3]"
      ]
     },
     "execution_count": 444,
     "metadata": {},
     "output_type": "execute_result"
    }
   ],
   "source": [
    "Y.tangent_bundle().chern_classes()"
   ]
  },
  {
   "cell_type": "code",
   "execution_count": 445,
   "metadata": {},
   "outputs": [
    {
     "data": {
      "text/plain": [
       "[1,\n",
       " x0 + x1 + x2 + x3,\n",
       " 7*x0^2 + 2*x0*x1 + 2*x0*x2 + x1*x2 + 2*x0*x3 + x1*x3 + x2*x3]"
      ]
     },
     "execution_count": 445,
     "metadata": {},
     "output_type": "execute_result"
    }
   ],
   "source": [
    "Y.cotangent_bundle().chern_classes()"
   ]
  },
  {
   "cell_type": "code",
   "execution_count": 446,
   "metadata": {},
   "outputs": [
    {
     "data": {
      "text/plain": [
       "24"
      ]
     },
     "execution_count": 446,
     "metadata": {},
     "output_type": "execute_result"
    }
   ],
   "source": [
    "Y.integration(Y.chern_classes()[Y.dimension()])"
   ]
  },
  {
   "attachments": {},
   "cell_type": "markdown",
   "metadata": {},
   "source": [
    "Euler Characteristic\n",
    "$$\n",
    "\\chi (X, E) = \\int_X ch(E) td(X)\n",
    "$$"
   ]
  },
  {
   "cell_type": "code",
   "execution_count": 447,
   "metadata": {},
   "outputs": [],
   "source": [
    "def euler_characteristic(variety: IVariety, vector_bundle: IVectorBundle) -> int:\n",
    "    chern_character = vector_bundle.chern_character()\n",
    "    todd_classes    = variety.todd_classes()\n",
    "    \n",
    "    return variety.integration( \n",
    "        sum(\n",
    "            chern_character[i]\n",
    "            * todd_classes[variety.dimension() - i]\n",
    "            for i in (0..variety.dimension())\n",
    "        )\n",
    "    )"
   ]
  },
  {
   "cell_type": "code",
   "execution_count": 448,
   "metadata": {},
   "outputs": [
    {
     "data": {
      "text/plain": [
       "35"
      ]
     },
     "execution_count": 448,
     "metadata": {},
     "output_type": "execute_result"
    }
   ],
   "source": [
    "euler_characteristic(X, E)"
   ]
  },
  {
   "cell_type": "code",
   "execution_count": 449,
   "metadata": {},
   "outputs": [
    {
     "data": {
      "text/plain": [
       "35"
      ]
     },
     "execution_count": 449,
     "metadata": {},
     "output_type": "execute_result"
    }
   ],
   "source": [
    "P.weyl_dimension(w)"
   ]
  },
  {
   "attachments": {},
   "cell_type": "markdown",
   "metadata": {},
   "source": [
    "- dual bundle\n",
    "- direct sum\n",
    "- tensor product\n",
    "- Symmetric products\n",
    "- Wedge products"
   ]
  },
  {
   "cell_type": "code",
   "execution_count": 450,
   "metadata": {},
   "outputs": [],
   "source": [
    "def dual_bundle(vector_bundle: IVectorBundle) -> IVectorBundle:\n",
    "    class VB(IVectorBundle):\n",
    "        def rank(self) -> int:\n",
    "            return vector_bundle.rank()\n",
    "        \n",
    "        def base(self) -> IVariety:\n",
    "            return vector_bundle.base()\n",
    "\n",
    "        def chern_classes(self) -> list:\n",
    "            chern_classes = vector_bundle.chern_classes()\n",
    "            return [ (-1)^i * chern_classes[i] for i in range(len(chern_classes))]\n",
    "\n",
    "        def __repr__(self) -> str:\n",
    "            return f'the dual vector bundle of {vector_bundle}'\n",
    "\n",
    "    return VB()"
   ]
  },
  {
   "cell_type": "code",
   "execution_count": 451,
   "metadata": {},
   "outputs": [
    {
     "data": {
      "text/plain": [
       "3"
      ]
     },
     "execution_count": 451,
     "metadata": {},
     "output_type": "execute_result"
    }
   ],
   "source": [
    "E = IrreducibleEquivariantVectorBundle(X, (1, 1, 0))\n",
    "E.rank()"
   ]
  },
  {
   "cell_type": "code",
   "execution_count": 452,
   "metadata": {},
   "outputs": [
    {
     "data": {
      "text/plain": [
       "the dual vector bundle of an equivariant vector bundle on a flag_variety associated to the parabolic subgroup of ['A', 3] with crossed-out nodes [1] associated to (1, 1, 0)"
      ]
     },
     "execution_count": 452,
     "metadata": {},
     "output_type": "execute_result"
    }
   ],
   "source": [
    "dual_of_E = dual_bundle(E)\n",
    "dual_of_E"
   ]
  },
  {
   "cell_type": "code",
   "execution_count": 453,
   "metadata": {},
   "outputs": [
    {
     "data": {
      "text/plain": [
       "3"
      ]
     },
     "execution_count": 453,
     "metadata": {},
     "output_type": "execute_result"
    }
   ],
   "source": [
    "dual_of_E.rank()"
   ]
  },
  {
   "cell_type": "code",
   "execution_count": 454,
   "metadata": {},
   "outputs": [
    {
     "data": {
      "text/plain": [
       "[1,\n",
       " 6*x0 + x1 + x2 + x3,\n",
       " 12*x0^2 + 4*x0*x1 + 4*x0*x2 + x1*x2 + 4*x0*x3 + x1*x3 + x2*x3,\n",
       " 8*x0^3 + 4*x0^2*x1 + 4*x0^2*x2 + 2*x0*x1*x2 + 4*x0^2*x3 + 2*x0*x1*x3 + 2*x0*x2*x3 + x1*x2*x3]"
      ]
     },
     "execution_count": 454,
     "metadata": {},
     "output_type": "execute_result"
    }
   ],
   "source": [
    "E.chern_classes()"
   ]
  },
  {
   "cell_type": "code",
   "execution_count": 455,
   "metadata": {},
   "outputs": [
    {
     "data": {
      "text/plain": [
       "[1,\n",
       " -6*x0 - x1 - x2 - x3,\n",
       " 12*x0^2 + 4*x0*x1 + 4*x0*x2 + x1*x2 + 4*x0*x3 + x1*x3 + x2*x3,\n",
       " -8*x0^3 - 4*x0^2*x1 - 4*x0^2*x2 - 2*x0*x1*x2 - 4*x0^2*x3 - 2*x0*x1*x3 - 2*x0*x2*x3 - x1*x2*x3]"
      ]
     },
     "execution_count": 455,
     "metadata": {},
     "output_type": "execute_result"
    }
   ],
   "source": [
    "dual_of_E.chern_classes()"
   ]
  },
  {
   "cell_type": "code",
   "execution_count": 456,
   "metadata": {},
   "outputs": [],
   "source": [
    "def direct_sum(vector_bundle1: IVectorBundle, vector_bundle2: IVectorBundle):\n",
    "    if vector_bundle1.base() != vector_bundle2.base():\n",
    "        raise TypeError('Not match bases of vector bundles')\n",
    "    \n",
    "    \n",
    "    rank = vector_bundle1.rank() + vector_bundle2.rank()\n",
    "    base = vector_bundle1.base()\n",
    "\n",
    "    cc = sum(c1 for c1 in vector_bundle1.chern_classes()) * sum(c2 for c2 in vector_bundle2.chern_classes())\n",
    "    chern_classes = [\n",
    "        homogeneous_part(cc, i)\n",
    "        for i in (0..vector_bundle1.base().dimension())\n",
    "    ]\n",
    "\n",
    "    class VB(IVectorBundle):\n",
    "        def rank(self) -> int:\n",
    "            return rank\n",
    "        \n",
    "        def base(self) -> IVariety:\n",
    "            return base\n",
    "\n",
    "        def chern_classes(self) -> list:\n",
    "            return chern_classes\n",
    "\n",
    "        def __repr__(self) -> str:\n",
    "            return f'the direct sum of {vector_bundle1} and {vector_bundle2}'\n",
    "\n",
    "    return VB()"
   ]
  },
  {
   "cell_type": "code",
   "execution_count": 457,
   "metadata": {},
   "outputs": [],
   "source": [
    "L1 = IrreducibleEquivariantVectorBundle(X, (2, 0, 0))\n",
    "L2 = IrreducibleEquivariantVectorBundle(X, (5, 0, 0))\n",
    "L3 = IrreducibleEquivariantVectorBundle(X, (7, 0, 0))"
   ]
  },
  {
   "cell_type": "code",
   "execution_count": 458,
   "metadata": {},
   "outputs": [
    {
     "data": {
      "text/plain": [
       "the direct sum of an equivariant vector bundle on a flag_variety associated to the parabolic subgroup of ['A', 3] with crossed-out nodes [1] associated to (2, 0, 0) and an equivariant vector bundle on a flag_variety associated to the parabolic subgroup of ['A', 3] with crossed-out nodes [1] associated to (5, 0, 0)"
      ]
     },
     "execution_count": 458,
     "metadata": {},
     "output_type": "execute_result"
    }
   ],
   "source": [
    "direct_sum(L1, L2)"
   ]
  },
  {
   "cell_type": "code",
   "execution_count": 459,
   "metadata": {},
   "outputs": [
    {
     "data": {
      "text/plain": [
       "2"
      ]
     },
     "execution_count": 459,
     "metadata": {},
     "output_type": "execute_result"
    }
   ],
   "source": [
    "direct_sum(L1, L2).rank()"
   ]
  },
  {
   "cell_type": "code",
   "execution_count": 460,
   "metadata": {},
   "outputs": [
    {
     "data": {
      "text/plain": [
       "[1, 7*x0, 10*x0^2, 0]"
      ]
     },
     "execution_count": 460,
     "metadata": {},
     "output_type": "execute_result"
    }
   ],
   "source": [
    "direct_sum(L1, L2).chern_classes()"
   ]
  },
  {
   "cell_type": "code",
   "execution_count": 461,
   "metadata": {},
   "outputs": [
    {
     "data": {
      "text/plain": [
       "[1, 14*x0, 59*x0^2, 70*x0^3]"
      ]
     },
     "execution_count": 461,
     "metadata": {},
     "output_type": "execute_result"
    }
   ],
   "source": [
    "(L1 + L2 + L3).chern_classes()"
   ]
  },
  {
   "cell_type": "code",
   "execution_count": 462,
   "metadata": {},
   "outputs": [],
   "source": [
    "def tensor_product(vector_bundle1: IVectorBundle, vector_bundle2: IVectorBundle):\n",
    "    if vector_bundle1.base() != vector_bundle2.base():\n",
    "        raise TypeError('Not match bases of vector bundles')\n",
    "    \n",
    "    rank1 = vector_bundle1.rank()\n",
    "    rank2 = vector_bundle2.rank()\n",
    "\n",
    "    len_cc1 = len(vector_bundle1.chern_classes()) - 1\n",
    "    len_cc2 = len(vector_bundle2.chern_classes()) - 1\n",
    "    \n",
    "    ring_for_Es = PolynomialRing(QQ, [ f'c{i}_E1' for i in (1..len_cc1) ] + [ f'c{i}_E2' for i in (1..len_cc2) ])\n",
    "    \n",
    "\n",
    "    r = singular.ring(0, f'(c(1..{len_cc1}), C(1..{len_cc2}))', 'dp')\n",
    "    l1 = singular.list(f'c(1..{len_cc1})')\n",
    "    l2 = singular.list(f'C(1..{len_cc2})')\n",
    "\n",
    "    ch_str_list = singular.chProd(rank1, l1, rank2, l2).sage_structured_str_list()\n",
    "    ch_prod = [ re.sub(r'c\\(([0-9]+)\\)', r'c\\1_E1', s) for s in ch_str_list[:vector_bundle1.base().dimension()] ]\n",
    "    ch_prod = [ ring_for_Es(re.sub(r'C\\(([0-9]+)\\)', r'c\\1_E2', s)) for s in ch_prod ]\n",
    "\n",
    "\n",
    "    cc = [ 1 ] + [ cp(vector_bundle1.chern_classes()[1:] + vector_bundle2.chern_classes()[1:]) for cp in ch_prod ]\n",
    "    \n",
    "\n",
    "    rank = vector_bundle1.rank() * vector_bundle2.rank()\n",
    "    base = vector_bundle1.base()\n",
    "\n",
    "\n",
    "    class VB(IVectorBundle):\n",
    "        def rank(self) -> int:\n",
    "            return rank\n",
    "        \n",
    "        def base(self) -> IVariety:\n",
    "            return base\n",
    "\n",
    "        def chern_classes(self) -> list:\n",
    "            return cc\n",
    "\n",
    "        def __repr__(self) -> str:\n",
    "            return f'the tensor product of {vector_bundle1} and {vector_bundle2}'\n",
    "\n",
    "    return VB()"
   ]
  },
  {
   "cell_type": "code",
   "execution_count": 463,
   "metadata": {},
   "outputs": [
    {
     "data": {
      "text/plain": [
       "the tensor product of an equivariant vector bundle on a flag_variety associated to the parabolic subgroup of ['A', 3] with crossed-out nodes [1] associated to (1, 1, 0) and an equivariant vector bundle on a flag_variety associated to the parabolic subgroup of ['A', 3] with crossed-out nodes [1] associated to (2, 0, 0)"
      ]
     },
     "execution_count": 463,
     "metadata": {},
     "output_type": "execute_result"
    }
   ],
   "source": [
    "E_otimes_L1 = tensor_product(E, L1)\n",
    "E_otimes_L1"
   ]
  },
  {
   "cell_type": "code",
   "execution_count": 464,
   "metadata": {},
   "outputs": [
    {
     "data": {
      "text/plain": [
       "[1, 14*x0]"
      ]
     },
     "execution_count": 464,
     "metadata": {},
     "output_type": "execute_result"
    }
   ],
   "source": [
    "(L1 * L2 * L3).chern_classes()"
   ]
  },
  {
   "cell_type": "code",
   "execution_count": 465,
   "metadata": {},
   "outputs": [],
   "source": [
    "def symmetric_product(vector_bundle: IVectorBundle, k: int) -> IVectorBundle:\n",
    "    chern_classes = vector_bundle.chern_classes()[1:]\n",
    "    rank          = vector_bundle.rank()\n",
    "    len_cc        = len(chern_classes)\n",
    "\n",
    "    ring_for_E = PolynomialRing(QQ, [ f'c{i}_E' for i in (1..len_cc) ], order=TermOrder('wdeglex', tuple(1..len_cc)))\n",
    "\n",
    "    r = singular.ring(0, f'(c(1..{len_cc}))', 'dp')\n",
    "    l = singular.list(f'c(1..{len_cc})')\n",
    "    ch_symm_str_list = singular.chSymm(k, rank, l).sage_structured_str_list()\n",
    "    ch_symm = [ ring_for_E(re.sub(r'c\\(([0-9]+)\\)', r'c\\1_E', s)) for s in ch_symm_str_list[1][:vector_bundle.base().dimension()] ]\n",
    "\n",
    "    rank = int(ch_symm_str_list[0])\n",
    "    base = vector_bundle.base()\n",
    "    cc = [ 1 ] + [ cs(chern_classes) for cs in ch_symm ]\n",
    "\n",
    "    class VB(IVectorBundle):\n",
    "        def rank(self) -> int:\n",
    "            return rank\n",
    "        \n",
    "        def base(self) -> IVariety:\n",
    "            return base\n",
    "        \n",
    "        def chern_classes(self) -> list:\n",
    "            return cc\n",
    "\n",
    "        def __repr__(self) -> str:\n",
    "            return f'the {k}-th symmetric product of {vector_bundle}'\n",
    "\n",
    "    return VB()"
   ]
  },
  {
   "cell_type": "code",
   "execution_count": 466,
   "metadata": {},
   "outputs": [
    {
     "data": {
      "text/plain": [
       "10"
      ]
     },
     "execution_count": 466,
     "metadata": {},
     "output_type": "execute_result"
    }
   ],
   "source": [
    "S3_of_E = symmetric_product(E, 3)\n",
    "S3_of_E.rank()"
   ]
  },
  {
   "cell_type": "code",
   "execution_count": 467,
   "metadata": {},
   "outputs": [
    {
     "data": {
      "text/plain": [
       "[1,\n",
       " 60*x0 + 10*x1 + 10*x2 + 10*x3,\n",
       " 1620*x0^2 + 540*x0*x1 + 40*x1^2 + 540*x0*x2 + 95*x1*x2 + 40*x2^2 + 540*x0*x3 + 95*x1*x3 + 95*x2*x3 + 40*x3^2,\n",
       " 25920*x0^3 + 12960*x0^2*x1 + 1920*x0*x1^2 + 82*x1^3 + 12960*x0^2*x2 + 4560*x0*x1*x2 + 357*x1^2*x2 + 1920*x0*x2^2 + 357*x1*x2^2 + 82*x2^3 + 12960*x0^2*x3 + 4560*x0*x1*x3 + 357*x1^2*x3 + 4560*x0*x2*x3 + 852*x1*x2*x3 + 357*x2^2*x3 + 1920*x0*x3^2 + 357*x1*x3^2 + 357*x2*x3^2 + 82*x3^3]"
      ]
     },
     "execution_count": 467,
     "metadata": {},
     "output_type": "execute_result"
    }
   ],
   "source": [
    "S3_of_E.chern_classes()"
   ]
  },
  {
   "cell_type": "code",
   "execution_count": 468,
   "metadata": {},
   "outputs": [],
   "source": [
    "def wedge_product(vector_bundle: IVectorBundle, k: int) -> IVectorBundle:\n",
    "    chern_classes = vector_bundle.chern_classes()[1:]\n",
    "    rank          = vector_bundle.rank()\n",
    "    len_cc        = len(chern_classes)\n",
    "\n",
    "    ring_for_E = PolynomialRing(QQ, [ f'c{i}_E' for i in (1..len_cc) ], order=TermOrder('wdeglex', tuple(1..len_cc)))\n",
    "\n",
    "    r = singular.ring(0, f'(c(1..{len_cc}))', 'dp')\n",
    "    l = singular.list(f'c(1..{len_cc})')\n",
    "    ch_wedge_str_list = singular.chWedge(k, rank, l).sage_structured_str_list()\n",
    "    ch_wedge = [ ring_for_E(re.sub(r'c\\(([0-9]+)\\)', r'c\\1_E', s)) for s in ch_wedge_str_list[1][:vector_bundle.base().dimension()] ]\n",
    "\n",
    "    rank = int(ch_wedge_str_list[0])\n",
    "    base = vector_bundle.base()\n",
    "    cc   = [ 1 ] + [ cs(chern_classes) for cs in ch_wedge ]\n",
    "\n",
    "    class VB(IVectorBundle):\n",
    "        def rank(self) -> int:\n",
    "            return rank\n",
    "        \n",
    "        def base(self) -> IVariety:\n",
    "            return base\n",
    "        \n",
    "        def chern_classes(self) -> list:\n",
    "            return cc\n",
    "\n",
    "        def __repr__(self) -> str:\n",
    "            return f'the {k}-th wedge product of {vector_bundle}'\n",
    "\n",
    "    return VB()"
   ]
  },
  {
   "cell_type": "code",
   "execution_count": 469,
   "metadata": {},
   "outputs": [
    {
     "data": {
      "text/plain": [
       "the 2-th wedge product of an equivariant vector bundle on a flag_variety associated to the parabolic subgroup of ['A', 3] with crossed-out nodes [1] associated to (1, 1, 0)"
      ]
     },
     "execution_count": 469,
     "metadata": {},
     "output_type": "execute_result"
    }
   ],
   "source": [
    "L2_of_E = wedge_product(E, 2)\n",
    "L2_of_E"
   ]
  },
  {
   "cell_type": "code",
   "execution_count": 470,
   "metadata": {},
   "outputs": [
    {
     "data": {
      "text/plain": [
       "3"
      ]
     },
     "execution_count": 470,
     "metadata": {},
     "output_type": "execute_result"
    }
   ],
   "source": [
    "L2_of_E.rank()"
   ]
  },
  {
   "cell_type": "code",
   "execution_count": 471,
   "metadata": {},
   "outputs": [
    {
     "data": {
      "text/plain": [
       "[1,\n",
       " 12*x0 + 2*x1 + 2*x2 + 2*x3,\n",
       " 48*x0^2 + 16*x0*x1 + x1^2 + 16*x0*x2 + 3*x1*x2 + x2^2 + 16*x0*x3 + 3*x1*x3 + 3*x2*x3 + x3^2,\n",
       " 64*x0^3 + 32*x0^2*x1 + 4*x0*x1^2 + 32*x0^2*x2 + 12*x0*x1*x2 + x1^2*x2 + 4*x0*x2^2 + x1*x2^2 + 32*x0^2*x3 + 12*x0*x1*x3 + x1^2*x3 + 12*x0*x2*x3 + 2*x1*x2*x3 + x2^2*x3 + 4*x0*x3^2 + x1*x3^2 + x2*x3^2]"
      ]
     },
     "execution_count": 471,
     "metadata": {},
     "output_type": "execute_result"
    }
   ],
   "source": [
    "L2_of_E.chern_classes()"
   ]
  },
  {
   "cell_type": "code",
   "execution_count": 472,
   "metadata": {},
   "outputs": [
    {
     "data": {
      "text/plain": [
       "1"
      ]
     },
     "execution_count": 472,
     "metadata": {},
     "output_type": "execute_result"
    }
   ],
   "source": [
    "wedge_product(E, 3).rank()"
   ]
  },
  {
   "cell_type": "code",
   "execution_count": 473,
   "metadata": {},
   "outputs": [
    {
     "data": {
      "text/plain": [
       "0"
      ]
     },
     "execution_count": 473,
     "metadata": {},
     "output_type": "execute_result"
    }
   ],
   "source": [
    "wedge_product(E, 5).rank()"
   ]
  },
  {
   "attachments": {},
   "cell_type": "markdown",
   "metadata": {},
   "source": [
    "$\\chi_y$-Genus\n",
    "$$\n",
    "\\chi_y(X) = \\int_X ch(\\Lambda_y T^{\\vee}_X) td(X)\n",
    "$$"
   ]
  },
  {
   "cell_type": "code",
   "execution_count": 474,
   "metadata": {},
   "outputs": [],
   "source": [
    "R = QQ['y']\n",
    "y = R.gen()\n",
    "\n",
    "def chi_y(variety: IVariety):\n",
    "    cotangent_bundle = variety.cotangent_bundle()\n",
    "    todd_classes = variety.todd_classes()\n",
    "\n",
    "    coeff = [ 0 ] * (variety.dimension() + 1)\n",
    "\n",
    "    for k in (0..variety.dimension()):\n",
    "        chern_character = wedge_product(cotangent_bundle, k).chern_character()\n",
    "        coeff[k] = variety.integration( \n",
    "            sum(\n",
    "                chern_character[i]\n",
    "                * todd_classes[variety.dimension() - i]\n",
    "                for i in (0..variety.dimension())\n",
    "            )\n",
    "        )\n",
    "\n",
    "    return sum(coeff[i] * y^i for i in (0..variety.dimension()))"
   ]
  },
  {
   "cell_type": "code",
   "execution_count": 475,
   "metadata": {},
   "outputs": [
    {
     "data": {
      "text/plain": [
       "2*y^2 - 20*y + 2"
      ]
     },
     "execution_count": 475,
     "metadata": {},
     "output_type": "execute_result"
    }
   ],
   "source": [
    "chi_y(Y)"
   ]
  },
  {
   "cell_type": "code",
   "execution_count": 476,
   "metadata": {},
   "outputs": [
    {
     "data": {
      "text/plain": [
       "24"
      ]
     },
     "execution_count": 476,
     "metadata": {},
     "output_type": "execute_result"
    }
   ],
   "source": [
    "chi_y(Y)(-1) # オイラー標数と同じ"
   ]
  },
  {
   "attachments": {},
   "cell_type": "markdown",
   "metadata": {},
   "source": [
    "======= F4 cases ======="
   ]
  },
  {
   "cell_type": "code",
   "execution_count": 477,
   "metadata": {},
   "outputs": [
    {
     "data": {
      "text/plain": [
       "O---O=>=O---O\n",
       "1   2   3   4   \n",
       "F4"
      ]
     },
     "execution_count": 477,
     "metadata": {},
     "output_type": "execute_result"
    }
   ],
   "source": [
    "G = CartanType('F4')\n",
    "G.dynkin_diagram()"
   ]
  },
  {
   "cell_type": "code",
   "execution_count": 478,
   "metadata": {},
   "outputs": [
    {
     "data": {
      "text/plain": [
       "the parabolic subgroup of ['F', 4] with crossed-out nodes [2]"
      ]
     },
     "execution_count": 478,
     "metadata": {},
     "output_type": "execute_result"
    }
   ],
   "source": [
    "P1 = ParabolicSubgroup(G, CartanType('A1', 'A2'), [2])\n",
    "P1"
   ]
  },
  {
   "cell_type": "code",
   "execution_count": 479,
   "metadata": {},
   "outputs": [
    {
     "data": {
      "text/plain": [
       "O---X=>=O---O\n",
       "1   2   3   4   \n",
       "F4 with node 2 marked"
      ]
     },
     "execution_count": 479,
     "metadata": {},
     "output_type": "execute_result"
    }
   ],
   "source": [
    "P1.dynkin_diagram()"
   ]
  },
  {
   "cell_type": "code",
   "execution_count": 480,
   "metadata": {},
   "outputs": [
    {
     "data": {
      "text/plain": [
       "a flag_variety associated to the parabolic subgroup of ['F', 4] with crossed-out nodes [2]"
      ]
     },
     "execution_count": 480,
     "metadata": {},
     "output_type": "execute_result"
    }
   ],
   "source": [
    "X1 = FlagVariety(P1)\n",
    "X1"
   ]
  },
  {
   "cell_type": "code",
   "execution_count": 481,
   "metadata": {},
   "outputs": [
    {
     "data": {
      "text/plain": [
       "an equivariant vector bundle on a flag_variety associated to the parabolic subgroup of ['F', 4] with crossed-out nodes [2] associated to (0, 1, 1, 0)"
      ]
     },
     "execution_count": 481,
     "metadata": {},
     "output_type": "execute_result"
    }
   ],
   "source": [
    "w1 = (0, 1, 1, 0)\n",
    "E1 = IrreducibleEquivariantVectorBundle(X1, w1)\n",
    "E1"
   ]
  },
  {
   "cell_type": "code",
   "execution_count": 482,
   "metadata": {},
   "outputs": [
    {
     "data": {
      "text/plain": [
       "3"
      ]
     },
     "execution_count": 482,
     "metadata": {},
     "output_type": "execute_result"
    }
   ],
   "source": [
    "E1.rank()"
   ]
  },
  {
   "cell_type": "code",
   "execution_count": 483,
   "metadata": {},
   "outputs": [
    {
     "name": "stdout",
     "output_type": "stream",
     "text": [
      "Interrupting Singular...\n"
     ]
    },
    {
     "ename": "KeyboardInterrupt",
     "evalue": "Restarting Singular (WARNING: all variables defined in previous session are now invalid)",
     "output_type": "error",
     "traceback": [
      "\u001b[0;31m---------------------------------------------------------------------------\u001b[0m",
      "\u001b[0;31mKeyboardInterrupt\u001b[0m                         Traceback (most recent call last)",
      "\u001b[0;32m/usr/lib/python3/dist-packages/sage/interfaces/expect.py\u001b[0m in \u001b[0;36m_eval_line\u001b[0;34m(self, line, allow_use_file, wait_for_prompt, restart_if_needed)\u001b[0m\n\u001b[1;32m    983\u001b[0m                     \u001b[0;32melse\u001b[0m\u001b[0;34m:\u001b[0m\u001b[0;34m\u001b[0m\u001b[0;34m\u001b[0m\u001b[0m\n\u001b[0;32m--> 984\u001b[0;31m                         \u001b[0mE\u001b[0m\u001b[0;34m.\u001b[0m\u001b[0mexpect\u001b[0m\u001b[0;34m(\u001b[0m\u001b[0mself\u001b[0m\u001b[0;34m.\u001b[0m\u001b[0m_prompt\u001b[0m\u001b[0;34m)\u001b[0m\u001b[0;34m\u001b[0m\u001b[0;34m\u001b[0m\u001b[0m\n\u001b[0m\u001b[1;32m    985\u001b[0m                 \u001b[0;32mexcept\u001b[0m \u001b[0mpexpect\u001b[0m\u001b[0;34m.\u001b[0m\u001b[0mEOF\u001b[0m \u001b[0;32mas\u001b[0m \u001b[0mmsg\u001b[0m\u001b[0;34m:\u001b[0m\u001b[0;34m\u001b[0m\u001b[0;34m\u001b[0m\u001b[0m\n",
      "\u001b[0;32m/usr/lib/python3/dist-packages/pexpect/spawnbase.py\u001b[0m in \u001b[0;36mexpect\u001b[0;34m(self, pattern, timeout, searchwindowsize, async_, **kw)\u001b[0m\n\u001b[1;32m    342\u001b[0m         \u001b[0mcompiled_pattern_list\u001b[0m \u001b[0;34m=\u001b[0m \u001b[0mself\u001b[0m\u001b[0;34m.\u001b[0m\u001b[0mcompile_pattern_list\u001b[0m\u001b[0;34m(\u001b[0m\u001b[0mpattern\u001b[0m\u001b[0;34m)\u001b[0m\u001b[0;34m\u001b[0m\u001b[0;34m\u001b[0m\u001b[0m\n\u001b[0;32m--> 343\u001b[0;31m         return self.expect_list(compiled_pattern_list,\n\u001b[0m\u001b[1;32m    344\u001b[0m                 timeout, searchwindowsize, async_)\n",
      "\u001b[0;32m/usr/lib/python3/dist-packages/pexpect/spawnbase.py\u001b[0m in \u001b[0;36mexpect_list\u001b[0;34m(self, pattern_list, timeout, searchwindowsize, async_, **kw)\u001b[0m\n\u001b[1;32m    371\u001b[0m         \u001b[0;32melse\u001b[0m\u001b[0;34m:\u001b[0m\u001b[0;34m\u001b[0m\u001b[0;34m\u001b[0m\u001b[0m\n\u001b[0;32m--> 372\u001b[0;31m             \u001b[0;32mreturn\u001b[0m \u001b[0mexp\u001b[0m\u001b[0;34m.\u001b[0m\u001b[0mexpect_loop\u001b[0m\u001b[0;34m(\u001b[0m\u001b[0mtimeout\u001b[0m\u001b[0;34m)\u001b[0m\u001b[0;34m\u001b[0m\u001b[0;34m\u001b[0m\u001b[0m\n\u001b[0m\u001b[1;32m    373\u001b[0m \u001b[0;34m\u001b[0m\u001b[0m\n",
      "\u001b[0;32m/usr/lib/python3/dist-packages/pexpect/expect.py\u001b[0m in \u001b[0;36mexpect_loop\u001b[0;34m(self, timeout)\u001b[0m\n\u001b[1;32m    168\u001b[0m                 \u001b[0;31m# Still have time left, so read more data\u001b[0m\u001b[0;34m\u001b[0m\u001b[0;34m\u001b[0m\u001b[0m\n\u001b[0;32m--> 169\u001b[0;31m                 \u001b[0mincoming\u001b[0m \u001b[0;34m=\u001b[0m \u001b[0mspawn\u001b[0m\u001b[0;34m.\u001b[0m\u001b[0mread_nonblocking\u001b[0m\u001b[0;34m(\u001b[0m\u001b[0mspawn\u001b[0m\u001b[0;34m.\u001b[0m\u001b[0mmaxread\u001b[0m\u001b[0;34m,\u001b[0m \u001b[0mtimeout\u001b[0m\u001b[0;34m)\u001b[0m\u001b[0;34m\u001b[0m\u001b[0;34m\u001b[0m\u001b[0m\n\u001b[0m\u001b[1;32m    170\u001b[0m                 \u001b[0;32mif\u001b[0m \u001b[0mself\u001b[0m\u001b[0;34m.\u001b[0m\u001b[0mspawn\u001b[0m\u001b[0;34m.\u001b[0m\u001b[0mdelayafterread\u001b[0m \u001b[0;32mis\u001b[0m \u001b[0;32mnot\u001b[0m \u001b[0;32mNone\u001b[0m\u001b[0;34m:\u001b[0m\u001b[0;34m\u001b[0m\u001b[0;34m\u001b[0m\u001b[0m\n",
      "\u001b[0;32m/usr/lib/python3/dist-packages/pexpect/pty_spawn.py\u001b[0m in \u001b[0;36mread_nonblocking\u001b[0;34m(self, size, timeout)\u001b[0m\n\u001b[1;32m    499\u001b[0m         \u001b[0;31m# (possibly timeout=None), we call select() with a timeout.\u001b[0m\u001b[0;34m\u001b[0m\u001b[0;34m\u001b[0m\u001b[0m\n\u001b[0;32m--> 500\u001b[0;31m         \u001b[0;32mif\u001b[0m \u001b[0;34m(\u001b[0m\u001b[0mtimeout\u001b[0m \u001b[0;34m!=\u001b[0m \u001b[0;36m0\u001b[0m\u001b[0;34m)\u001b[0m \u001b[0;32mand\u001b[0m \u001b[0mselect\u001b[0m\u001b[0;34m(\u001b[0m\u001b[0mtimeout\u001b[0m\u001b[0;34m)\u001b[0m\u001b[0;34m:\u001b[0m\u001b[0;34m\u001b[0m\u001b[0;34m\u001b[0m\u001b[0m\n\u001b[0m\u001b[1;32m    501\u001b[0m             \u001b[0;32mreturn\u001b[0m \u001b[0msuper\u001b[0m\u001b[0;34m(\u001b[0m\u001b[0mspawn\u001b[0m\u001b[0;34m,\u001b[0m \u001b[0mself\u001b[0m\u001b[0;34m)\u001b[0m\u001b[0;34m.\u001b[0m\u001b[0mread_nonblocking\u001b[0m\u001b[0;34m(\u001b[0m\u001b[0msize\u001b[0m\u001b[0;34m)\u001b[0m\u001b[0;34m\u001b[0m\u001b[0;34m\u001b[0m\u001b[0m\n",
      "\u001b[0;32m/usr/lib/python3/dist-packages/pexpect/pty_spawn.py\u001b[0m in \u001b[0;36mselect\u001b[0;34m(timeout)\u001b[0m\n\u001b[1;32m    449\u001b[0m             \u001b[0;32mdef\u001b[0m \u001b[0mselect\u001b[0m\u001b[0;34m(\u001b[0m\u001b[0mtimeout\u001b[0m\u001b[0;34m)\u001b[0m\u001b[0;34m:\u001b[0m\u001b[0;34m\u001b[0m\u001b[0;34m\u001b[0m\u001b[0m\n\u001b[0;32m--> 450\u001b[0;31m                 \u001b[0;32mreturn\u001b[0m \u001b[0mselect_ignore_interrupts\u001b[0m\u001b[0;34m(\u001b[0m\u001b[0;34m[\u001b[0m\u001b[0mself\u001b[0m\u001b[0;34m.\u001b[0m\u001b[0mchild_fd\u001b[0m\u001b[0;34m]\u001b[0m\u001b[0;34m,\u001b[0m \u001b[0;34m[\u001b[0m\u001b[0;34m]\u001b[0m\u001b[0;34m,\u001b[0m \u001b[0;34m[\u001b[0m\u001b[0;34m]\u001b[0m\u001b[0;34m,\u001b[0m \u001b[0mtimeout\u001b[0m\u001b[0;34m)\u001b[0m\u001b[0;34m[\u001b[0m\u001b[0;36m0\u001b[0m\u001b[0;34m]\u001b[0m\u001b[0;34m\u001b[0m\u001b[0;34m\u001b[0m\u001b[0m\n\u001b[0m\u001b[1;32m    451\u001b[0m \u001b[0;34m\u001b[0m\u001b[0m\n",
      "\u001b[0;32m/usr/lib/python3/dist-packages/pexpect/utils.py\u001b[0m in \u001b[0;36mselect_ignore_interrupts\u001b[0;34m(iwtd, owtd, ewtd, timeout)\u001b[0m\n\u001b[1;32m    142\u001b[0m         \u001b[0;32mtry\u001b[0m\u001b[0;34m:\u001b[0m\u001b[0;34m\u001b[0m\u001b[0;34m\u001b[0m\u001b[0m\n\u001b[0;32m--> 143\u001b[0;31m             \u001b[0;32mreturn\u001b[0m \u001b[0mselect\u001b[0m\u001b[0;34m.\u001b[0m\u001b[0mselect\u001b[0m\u001b[0;34m(\u001b[0m\u001b[0miwtd\u001b[0m\u001b[0;34m,\u001b[0m \u001b[0mowtd\u001b[0m\u001b[0;34m,\u001b[0m \u001b[0mewtd\u001b[0m\u001b[0;34m,\u001b[0m \u001b[0mtimeout\u001b[0m\u001b[0;34m)\u001b[0m\u001b[0;34m\u001b[0m\u001b[0;34m\u001b[0m\u001b[0m\n\u001b[0m\u001b[1;32m    144\u001b[0m         \u001b[0;32mexcept\u001b[0m \u001b[0mInterruptedError\u001b[0m\u001b[0;34m:\u001b[0m\u001b[0;34m\u001b[0m\u001b[0;34m\u001b[0m\u001b[0m\n",
      "\u001b[0;32msrc/cysignals/signals.pyx\u001b[0m in \u001b[0;36mcysignals.signals.python_check_interrupt\u001b[0;34m()\u001b[0m\n",
      "\u001b[0;31mKeyboardInterrupt\u001b[0m: ",
      "\nDuring handling of the above exception, another exception occurred:\n",
      "\u001b[0;31mKeyboardInterrupt\u001b[0m                         Traceback (most recent call last)",
      "\u001b[0;32m/tmp/ipykernel_20865/335806288.py\u001b[0m in \u001b[0;36m<module>\u001b[0;34m\u001b[0m\n\u001b[0;32m----> 1\u001b[0;31m \u001b[0meuler_characteristic\u001b[0m\u001b[0;34m(\u001b[0m\u001b[0mX1\u001b[0m\u001b[0;34m,\u001b[0m \u001b[0mE1\u001b[0m\u001b[0;34m)\u001b[0m\u001b[0;34m\u001b[0m\u001b[0;34m\u001b[0m\u001b[0m\n\u001b[0m",
      "\u001b[0;32m/tmp/ipykernel_20865/360409513.py\u001b[0m in \u001b[0;36meuler_characteristic\u001b[0;34m(variety, vector_bundle)\u001b[0m\n\u001b[1;32m      1\u001b[0m \u001b[0;32mdef\u001b[0m \u001b[0meuler_characteristic\u001b[0m\u001b[0;34m(\u001b[0m\u001b[0mvariety\u001b[0m\u001b[0;34m:\u001b[0m \u001b[0mIVariety\u001b[0m\u001b[0;34m,\u001b[0m \u001b[0mvector_bundle\u001b[0m\u001b[0;34m:\u001b[0m \u001b[0mIVectorBundle\u001b[0m\u001b[0;34m)\u001b[0m \u001b[0;34m->\u001b[0m \u001b[0mint\u001b[0m\u001b[0;34m:\u001b[0m\u001b[0;34m\u001b[0m\u001b[0;34m\u001b[0m\u001b[0m\n\u001b[1;32m      2\u001b[0m     \u001b[0mchern_character\u001b[0m \u001b[0;34m=\u001b[0m \u001b[0mvector_bundle\u001b[0m\u001b[0;34m.\u001b[0m\u001b[0mchern_character\u001b[0m\u001b[0;34m(\u001b[0m\u001b[0;34m)\u001b[0m\u001b[0;34m\u001b[0m\u001b[0;34m\u001b[0m\u001b[0m\n\u001b[0;32m----> 3\u001b[0;31m     \u001b[0mtodd_classes\u001b[0m    \u001b[0;34m=\u001b[0m \u001b[0mvariety\u001b[0m\u001b[0;34m.\u001b[0m\u001b[0mtodd_classes\u001b[0m\u001b[0;34m(\u001b[0m\u001b[0;34m)\u001b[0m\u001b[0;34m\u001b[0m\u001b[0;34m\u001b[0m\u001b[0m\n\u001b[0m\u001b[1;32m      4\u001b[0m \u001b[0;34m\u001b[0m\u001b[0m\n\u001b[1;32m      5\u001b[0m     return variety.integration( \n",
      "\u001b[0;32m/tmp/ipykernel_20865/1023786999.py\u001b[0m in \u001b[0;36mtodd_classes\u001b[0;34m(self)\u001b[0m\n\u001b[1;32m     22\u001b[0m \u001b[0;34m\u001b[0m\u001b[0m\n\u001b[1;32m     23\u001b[0m     \u001b[0;32mdef\u001b[0m \u001b[0mtodd_classes\u001b[0m\u001b[0;34m(\u001b[0m\u001b[0mself\u001b[0m\u001b[0;34m)\u001b[0m \u001b[0;34m->\u001b[0m \u001b[0mlist\u001b[0m\u001b[0;34m:\u001b[0m\u001b[0;34m\u001b[0m\u001b[0;34m\u001b[0m\u001b[0m\n\u001b[0;32m---> 24\u001b[0;31m         \u001b[0;32mreturn\u001b[0m \u001b[0mself\u001b[0m\u001b[0;34m.\u001b[0m\u001b[0mtangent_bundle\u001b[0m\u001b[0;34m(\u001b[0m\u001b[0;34m)\u001b[0m\u001b[0;34m.\u001b[0m\u001b[0mtodd_classes\u001b[0m\u001b[0;34m(\u001b[0m\u001b[0;34m)\u001b[0m\u001b[0;34m\u001b[0m\u001b[0;34m\u001b[0m\u001b[0m\n\u001b[0m",
      "\u001b[0;32m/tmp/ipykernel_20865/1233421372.py\u001b[0m in \u001b[0;36mtodd_classes\u001b[0;34m(self)\u001b[0m\n\u001b[1;32m     46\u001b[0m         \u001b[0mr\u001b[0m \u001b[0;34m=\u001b[0m \u001b[0msingular\u001b[0m\u001b[0;34m.\u001b[0m\u001b[0mring\u001b[0m\u001b[0;34m(\u001b[0m\u001b[0mInteger\u001b[0m\u001b[0;34m(\u001b[0m\u001b[0;36m0\u001b[0m\u001b[0;34m)\u001b[0m\u001b[0;34m,\u001b[0m \u001b[0;34mf'(c(1..{len_cc}))'\u001b[0m\u001b[0;34m,\u001b[0m \u001b[0;34m'dp'\u001b[0m\u001b[0;34m)\u001b[0m\u001b[0;34m\u001b[0m\u001b[0;34m\u001b[0m\u001b[0m\n\u001b[1;32m     47\u001b[0m         \u001b[0ml\u001b[0m \u001b[0;34m=\u001b[0m \u001b[0msingular\u001b[0m\u001b[0;34m.\u001b[0m\u001b[0mlist\u001b[0m\u001b[0;34m(\u001b[0m\u001b[0;34mf'c(1..{len_cc})'\u001b[0m\u001b[0;34m)\u001b[0m\u001b[0;34m\u001b[0m\u001b[0;34m\u001b[0m\u001b[0m\n\u001b[0;32m---> 48\u001b[0;31m         \u001b[0mtodd_str_list\u001b[0m \u001b[0;34m=\u001b[0m \u001b[0msingular\u001b[0m\u001b[0;34m.\u001b[0m\u001b[0mtodd\u001b[0m\u001b[0;34m(\u001b[0m\u001b[0ml\u001b[0m\u001b[0;34m)\u001b[0m\u001b[0;34m.\u001b[0m\u001b[0msage_structured_str_list\u001b[0m\u001b[0;34m(\u001b[0m\u001b[0;34m)\u001b[0m\u001b[0;34m\u001b[0m\u001b[0;34m\u001b[0m\u001b[0m\n\u001b[0m\u001b[1;32m     49\u001b[0m         \u001b[0mtodd_classes\u001b[0m \u001b[0;34m=\u001b[0m \u001b[0;34m[\u001b[0m \u001b[0mring_for_td\u001b[0m\u001b[0;34m(\u001b[0m\u001b[0mInteger\u001b[0m\u001b[0;34m(\u001b[0m\u001b[0;36m1\u001b[0m\u001b[0;34m)\u001b[0m\u001b[0;34m)\u001b[0m \u001b[0;34m]\u001b[0m \u001b[0;34m+\u001b[0m \u001b[0;34m[\u001b[0m \u001b[0mring_for_td\u001b[0m\u001b[0;34m(\u001b[0m\u001b[0mre\u001b[0m\u001b[0;34m.\u001b[0m\u001b[0msub\u001b[0m\u001b[0;34m(\u001b[0m\u001b[0;34mr'c\\(([0-9]+)\\)'\u001b[0m\u001b[0;34m,\u001b[0m \u001b[0;34mr'c\\1_M'\u001b[0m\u001b[0;34m,\u001b[0m \u001b[0ms\u001b[0m\u001b[0;34m)\u001b[0m\u001b[0;34m)\u001b[0m \u001b[0;32mfor\u001b[0m \u001b[0ms\u001b[0m \u001b[0;32min\u001b[0m \u001b[0mtodd_str_list\u001b[0m \u001b[0;34m]\u001b[0m\u001b[0;34m\u001b[0m\u001b[0;34m\u001b[0m\u001b[0m\n\u001b[1;32m     50\u001b[0m \u001b[0;34m\u001b[0m\u001b[0m\n",
      "\u001b[0;32m/usr/lib/python3/dist-packages/sage/interfaces/interface.py\u001b[0m in \u001b[0;36m__call__\u001b[0;34m(self, *args, **kwds)\u001b[0m\n\u001b[1;32m    665\u001b[0m \u001b[0;34m\u001b[0m\u001b[0m\n\u001b[1;32m    666\u001b[0m     \u001b[0;32mdef\u001b[0m \u001b[0m__call__\u001b[0m\u001b[0;34m(\u001b[0m\u001b[0mself\u001b[0m\u001b[0;34m,\u001b[0m \u001b[0;34m*\u001b[0m\u001b[0margs\u001b[0m\u001b[0;34m,\u001b[0m \u001b[0;34m**\u001b[0m\u001b[0mkwds\u001b[0m\u001b[0;34m)\u001b[0m\u001b[0;34m:\u001b[0m\u001b[0;34m\u001b[0m\u001b[0;34m\u001b[0m\u001b[0m\n\u001b[0;32m--> 667\u001b[0;31m         \u001b[0;32mreturn\u001b[0m \u001b[0mself\u001b[0m\u001b[0;34m.\u001b[0m\u001b[0m_parent\u001b[0m\u001b[0;34m.\u001b[0m\u001b[0mfunction_call\u001b[0m\u001b[0;34m(\u001b[0m\u001b[0mself\u001b[0m\u001b[0;34m.\u001b[0m\u001b[0m_name\u001b[0m\u001b[0;34m,\u001b[0m \u001b[0mlist\u001b[0m\u001b[0;34m(\u001b[0m\u001b[0margs\u001b[0m\u001b[0;34m)\u001b[0m\u001b[0;34m,\u001b[0m \u001b[0mkwds\u001b[0m\u001b[0;34m)\u001b[0m\u001b[0;34m\u001b[0m\u001b[0;34m\u001b[0m\u001b[0m\n\u001b[0m\u001b[1;32m    668\u001b[0m \u001b[0;34m\u001b[0m\u001b[0m\n\u001b[1;32m    669\u001b[0m     \u001b[0;32mdef\u001b[0m \u001b[0m_instancedoc_\u001b[0m\u001b[0;34m(\u001b[0m\u001b[0mself\u001b[0m\u001b[0;34m)\u001b[0m\u001b[0;34m:\u001b[0m\u001b[0;34m\u001b[0m\u001b[0;34m\u001b[0m\u001b[0m\n",
      "\u001b[0;32m/usr/lib/python3/dist-packages/sage/interfaces/interface.py\u001b[0m in \u001b[0;36mfunction_call\u001b[0;34m(self, function, args, kwds)\u001b[0m\n\u001b[1;32m    611\u001b[0m                                        \u001b[0;34m[\u001b[0m\u001b[0ms\u001b[0m\u001b[0;34m.\u001b[0m\u001b[0mname\u001b[0m\u001b[0;34m(\u001b[0m\u001b[0;34m)\u001b[0m \u001b[0;32mfor\u001b[0m \u001b[0ms\u001b[0m \u001b[0;32min\u001b[0m \u001b[0margs\u001b[0m\u001b[0;34m]\u001b[0m\u001b[0;34m,\u001b[0m\u001b[0;34m\u001b[0m\u001b[0;34m\u001b[0m\u001b[0m\n\u001b[1;32m    612\u001b[0m                                        ['%s=%s'%(key,value.name()) for key, value in kwds.items()])\n\u001b[0;32m--> 613\u001b[0;31m         \u001b[0;32mreturn\u001b[0m \u001b[0mself\u001b[0m\u001b[0;34m.\u001b[0m\u001b[0mnew\u001b[0m\u001b[0;34m(\u001b[0m\u001b[0ms\u001b[0m\u001b[0;34m)\u001b[0m\u001b[0;34m\u001b[0m\u001b[0;34m\u001b[0m\u001b[0m\n\u001b[0m\u001b[1;32m    614\u001b[0m \u001b[0;34m\u001b[0m\u001b[0m\n\u001b[1;32m    615\u001b[0m     \u001b[0;32mdef\u001b[0m \u001b[0m_function_call_string\u001b[0m\u001b[0;34m(\u001b[0m\u001b[0mself\u001b[0m\u001b[0;34m,\u001b[0m \u001b[0mfunction\u001b[0m\u001b[0;34m,\u001b[0m \u001b[0margs\u001b[0m\u001b[0;34m,\u001b[0m \u001b[0mkwds\u001b[0m\u001b[0;34m)\u001b[0m\u001b[0;34m:\u001b[0m\u001b[0;34m\u001b[0m\u001b[0;34m\u001b[0m\u001b[0m\n",
      "\u001b[0;32m/usr/lib/python3/dist-packages/sage/interfaces/interface.py\u001b[0m in \u001b[0;36mnew\u001b[0;34m(self, code)\u001b[0m\n\u001b[1;32m    380\u001b[0m \u001b[0;34m\u001b[0m\u001b[0m\n\u001b[1;32m    381\u001b[0m     \u001b[0;32mdef\u001b[0m \u001b[0mnew\u001b[0m\u001b[0;34m(\u001b[0m\u001b[0mself\u001b[0m\u001b[0;34m,\u001b[0m \u001b[0mcode\u001b[0m\u001b[0;34m)\u001b[0m\u001b[0;34m:\u001b[0m\u001b[0;34m\u001b[0m\u001b[0;34m\u001b[0m\u001b[0m\n\u001b[0;32m--> 382\u001b[0;31m         \u001b[0;32mreturn\u001b[0m \u001b[0mself\u001b[0m\u001b[0;34m(\u001b[0m\u001b[0mcode\u001b[0m\u001b[0;34m)\u001b[0m\u001b[0;34m\u001b[0m\u001b[0;34m\u001b[0m\u001b[0m\n\u001b[0m\u001b[1;32m    383\u001b[0m \u001b[0;34m\u001b[0m\u001b[0m\n\u001b[1;32m    384\u001b[0m     \u001b[0;31m###################################################################\u001b[0m\u001b[0;34m\u001b[0m\u001b[0;34m\u001b[0m\u001b[0m\n",
      "\u001b[0;32m/usr/lib/python3/dist-packages/sage/interfaces/singular.py\u001b[0m in \u001b[0;36m__call__\u001b[0;34m(self, x, type)\u001b[0m\n\u001b[1;32m    770\u001b[0m             \u001b[0mx\u001b[0m \u001b[0;34m=\u001b[0m \u001b[0mstr\u001b[0m\u001b[0;34m(\u001b[0m\u001b[0mx\u001b[0m\u001b[0;34m)\u001b[0m\u001b[0;34m[\u001b[0m\u001b[0;36m1\u001b[0m\u001b[0;34m:\u001b[0m\u001b[0;34m-\u001b[0m\u001b[0;36m1\u001b[0m\u001b[0;34m]\u001b[0m\u001b[0;34m\u001b[0m\u001b[0;34m\u001b[0m\u001b[0m\n\u001b[1;32m    771\u001b[0m \u001b[0;34m\u001b[0m\u001b[0m\n\u001b[0;32m--> 772\u001b[0;31m         \u001b[0;32mreturn\u001b[0m \u001b[0mSingularElement\u001b[0m\u001b[0;34m(\u001b[0m\u001b[0mself\u001b[0m\u001b[0;34m,\u001b[0m \u001b[0mtype\u001b[0m\u001b[0;34m,\u001b[0m \u001b[0mx\u001b[0m\u001b[0;34m,\u001b[0m \u001b[0;32mFalse\u001b[0m\u001b[0;34m)\u001b[0m\u001b[0;34m\u001b[0m\u001b[0;34m\u001b[0m\u001b[0m\n\u001b[0m\u001b[1;32m    773\u001b[0m \u001b[0;34m\u001b[0m\u001b[0m\n\u001b[1;32m    774\u001b[0m     \u001b[0;32mdef\u001b[0m \u001b[0m_coerce_map_from_\u001b[0m\u001b[0;34m(\u001b[0m\u001b[0mself\u001b[0m\u001b[0;34m,\u001b[0m \u001b[0mS\u001b[0m\u001b[0;34m)\u001b[0m\u001b[0;34m:\u001b[0m\u001b[0;34m\u001b[0m\u001b[0;34m\u001b[0m\u001b[0m\n",
      "\u001b[0;32m/usr/lib/python3/dist-packages/sage/interfaces/singular.py\u001b[0m in \u001b[0;36m__init__\u001b[0;34m(self, parent, type, value, is_name)\u001b[0m\n\u001b[1;32m   1329\u001b[0m         \u001b[0;32mif\u001b[0m \u001b[0;32mnot\u001b[0m \u001b[0mis_name\u001b[0m\u001b[0;34m:\u001b[0m\u001b[0;34m\u001b[0m\u001b[0;34m\u001b[0m\u001b[0m\n\u001b[1;32m   1330\u001b[0m             \u001b[0;32mtry\u001b[0m\u001b[0;34m:\u001b[0m\u001b[0;34m\u001b[0m\u001b[0;34m\u001b[0m\u001b[0m\n\u001b[0;32m-> 1331\u001b[0;31m                 \u001b[0mself\u001b[0m\u001b[0;34m.\u001b[0m\u001b[0m_name\u001b[0m \u001b[0;34m=\u001b[0m \u001b[0mparent\u001b[0m\u001b[0;34m.\u001b[0m\u001b[0m_create\u001b[0m\u001b[0;34m(\u001b[0m\u001b[0mvalue\u001b[0m\u001b[0;34m,\u001b[0m \u001b[0mtype\u001b[0m\u001b[0;34m)\u001b[0m\u001b[0;34m\u001b[0m\u001b[0;34m\u001b[0m\u001b[0m\n\u001b[0m\u001b[1;32m   1332\u001b[0m             \u001b[0;31m# Convert SingularError to TypeError for\u001b[0m\u001b[0;34m\u001b[0m\u001b[0;34m\u001b[0m\u001b[0m\n\u001b[1;32m   1333\u001b[0m             \u001b[0;31m# coercion to work properly.\u001b[0m\u001b[0;34m\u001b[0m\u001b[0;34m\u001b[0m\u001b[0m\n",
      "\u001b[0;32m/usr/lib/python3/dist-packages/sage/interfaces/singular.py\u001b[0m in \u001b[0;36m_create\u001b[0;34m(self, value, type)\u001b[0m\n\u001b[1;32m    731\u001b[0m         \"\"\"\n\u001b[1;32m    732\u001b[0m         \u001b[0mname\u001b[0m \u001b[0;34m=\u001b[0m \u001b[0mself\u001b[0m\u001b[0;34m.\u001b[0m\u001b[0m_next_var_name\u001b[0m\u001b[0;34m(\u001b[0m\u001b[0;34m)\u001b[0m\u001b[0;34m\u001b[0m\u001b[0;34m\u001b[0m\u001b[0m\n\u001b[0;32m--> 733\u001b[0;31m         \u001b[0mself\u001b[0m\u001b[0;34m.\u001b[0m\u001b[0mset\u001b[0m\u001b[0;34m(\u001b[0m\u001b[0mtype\u001b[0m\u001b[0;34m,\u001b[0m \u001b[0mname\u001b[0m\u001b[0;34m,\u001b[0m \u001b[0mvalue\u001b[0m\u001b[0;34m)\u001b[0m\u001b[0;34m\u001b[0m\u001b[0;34m\u001b[0m\u001b[0m\n\u001b[0m\u001b[1;32m    734\u001b[0m         \u001b[0;32mreturn\u001b[0m \u001b[0mname\u001b[0m\u001b[0;34m\u001b[0m\u001b[0;34m\u001b[0m\u001b[0m\n\u001b[1;32m    735\u001b[0m \u001b[0;34m\u001b[0m\u001b[0m\n",
      "\u001b[0;32m/usr/lib/python3/dist-packages/sage/interfaces/singular.py\u001b[0m in \u001b[0;36mset\u001b[0;34m(self, type, name, value)\u001b[0m\n\u001b[1;32m    674\u001b[0m         \u001b[0mcmd\u001b[0m \u001b[0;34m+=\u001b[0m \u001b[0;34m'%s %s=%s;'\u001b[0m\u001b[0;34m%\u001b[0m\u001b[0;34m(\u001b[0m\u001b[0mtype\u001b[0m\u001b[0;34m,\u001b[0m \u001b[0mname\u001b[0m\u001b[0;34m,\u001b[0m \u001b[0mvalue\u001b[0m\u001b[0;34m)\u001b[0m\u001b[0;34m\u001b[0m\u001b[0;34m\u001b[0m\u001b[0m\n\u001b[1;32m    675\u001b[0m         \u001b[0mself\u001b[0m\u001b[0;34m.\u001b[0m\u001b[0m__to_clear\u001b[0m \u001b[0;34m=\u001b[0m \u001b[0;34m[\u001b[0m\u001b[0;34m]\u001b[0m\u001b[0;34m\u001b[0m\u001b[0;34m\u001b[0m\u001b[0m\n\u001b[0;32m--> 676\u001b[0;31m         \u001b[0mself\u001b[0m\u001b[0;34m.\u001b[0m\u001b[0meval\u001b[0m\u001b[0;34m(\u001b[0m\u001b[0mcmd\u001b[0m\u001b[0;34m)\u001b[0m\u001b[0;34m\u001b[0m\u001b[0;34m\u001b[0m\u001b[0m\n\u001b[0m\u001b[1;32m    677\u001b[0m \u001b[0;34m\u001b[0m\u001b[0m\n\u001b[1;32m    678\u001b[0m     \u001b[0;32mdef\u001b[0m \u001b[0mget\u001b[0m\u001b[0;34m(\u001b[0m\u001b[0mself\u001b[0m\u001b[0;34m,\u001b[0m \u001b[0mvar\u001b[0m\u001b[0;34m)\u001b[0m\u001b[0;34m:\u001b[0m\u001b[0;34m\u001b[0m\u001b[0;34m\u001b[0m\u001b[0m\n",
      "\u001b[0;32m/usr/lib/python3/dist-packages/sage/interfaces/singular.py\u001b[0m in \u001b[0;36meval\u001b[0;34m(self, x, allow_semicolon, strip, **kwds)\u001b[0m\n\u001b[1;32m    627\u001b[0m             \u001b[0mx\u001b[0m \u001b[0;34m+=\u001b[0m \u001b[0;34m';'\u001b[0m\u001b[0;34m\u001b[0m\u001b[0;34m\u001b[0m\u001b[0m\n\u001b[1;32m    628\u001b[0m \u001b[0;34m\u001b[0m\u001b[0m\n\u001b[0;32m--> 629\u001b[0;31m         \u001b[0ms\u001b[0m \u001b[0;34m=\u001b[0m \u001b[0mExpect\u001b[0m\u001b[0;34m.\u001b[0m\u001b[0meval\u001b[0m\u001b[0;34m(\u001b[0m\u001b[0mself\u001b[0m\u001b[0;34m,\u001b[0m \u001b[0mx\u001b[0m\u001b[0;34m,\u001b[0m \u001b[0;34m**\u001b[0m\u001b[0mkwds\u001b[0m\u001b[0;34m)\u001b[0m\u001b[0;34m\u001b[0m\u001b[0;34m\u001b[0m\u001b[0m\n\u001b[0m\u001b[1;32m    630\u001b[0m \u001b[0;34m\u001b[0m\u001b[0m\n\u001b[1;32m    631\u001b[0m         \u001b[0;31m# \"Segment fault\" is not a typo:\u001b[0m\u001b[0;34m\u001b[0m\u001b[0;34m\u001b[0m\u001b[0m\n",
      "\u001b[0;32m/usr/lib/python3/dist-packages/sage/interfaces/expect.py\u001b[0m in \u001b[0;36meval\u001b[0;34m(self, code, strip, synchronize, locals, allow_use_file, split_lines, **kwds)\u001b[0m\n\u001b[1;32m   1380\u001b[0m                     \u001b[0;32mreturn\u001b[0m \u001b[0mself\u001b[0m\u001b[0;34m.\u001b[0m\u001b[0m_eval_line_using_file\u001b[0m\u001b[0;34m(\u001b[0m\u001b[0mcode\u001b[0m\u001b[0;34m)\u001b[0m\u001b[0;34m\u001b[0m\u001b[0;34m\u001b[0m\u001b[0m\n\u001b[1;32m   1381\u001b[0m                 \u001b[0;32melif\u001b[0m \u001b[0msplit_lines\u001b[0m\u001b[0;34m:\u001b[0m\u001b[0;34m\u001b[0m\u001b[0;34m\u001b[0m\u001b[0m\n\u001b[0;32m-> 1382\u001b[0;31m                     return '\\n'.join([self._eval_line(L, allow_use_file=allow_use_file, **kwds)\n\u001b[0m\u001b[1;32m   1383\u001b[0m                                         for L in code.split('\\n') if L != ''])\n\u001b[1;32m   1384\u001b[0m                 \u001b[0;32melse\u001b[0m\u001b[0;34m:\u001b[0m\u001b[0;34m\u001b[0m\u001b[0;34m\u001b[0m\u001b[0m\n",
      "\u001b[0;32m/usr/lib/python3/dist-packages/sage/interfaces/expect.py\u001b[0m in \u001b[0;36m<listcomp>\u001b[0;34m(.0)\u001b[0m\n\u001b[1;32m   1380\u001b[0m                     \u001b[0;32mreturn\u001b[0m \u001b[0mself\u001b[0m\u001b[0;34m.\u001b[0m\u001b[0m_eval_line_using_file\u001b[0m\u001b[0;34m(\u001b[0m\u001b[0mcode\u001b[0m\u001b[0;34m)\u001b[0m\u001b[0;34m\u001b[0m\u001b[0;34m\u001b[0m\u001b[0m\n\u001b[1;32m   1381\u001b[0m                 \u001b[0;32melif\u001b[0m \u001b[0msplit_lines\u001b[0m\u001b[0;34m:\u001b[0m\u001b[0;34m\u001b[0m\u001b[0;34m\u001b[0m\u001b[0m\n\u001b[0;32m-> 1382\u001b[0;31m                     return '\\n'.join([self._eval_line(L, allow_use_file=allow_use_file, **kwds)\n\u001b[0m\u001b[1;32m   1383\u001b[0m                                         for L in code.split('\\n') if L != ''])\n\u001b[1;32m   1384\u001b[0m                 \u001b[0;32melse\u001b[0m\u001b[0;34m:\u001b[0m\u001b[0;34m\u001b[0m\u001b[0;34m\u001b[0m\u001b[0m\n",
      "\u001b[0;32m/usr/lib/python3/dist-packages/sage/interfaces/expect.py\u001b[0m in \u001b[0;36m_eval_line\u001b[0;34m(self, line, allow_use_file, wait_for_prompt, restart_if_needed)\u001b[0m\n\u001b[1;32m   1013\u001b[0m                     \u001b[0mout\u001b[0m \u001b[0;34m=\u001b[0m \u001b[0;34m''\u001b[0m\u001b[0;34m\u001b[0m\u001b[0;34m\u001b[0m\u001b[0m\n\u001b[1;32m   1014\u001b[0m         \u001b[0;32mexcept\u001b[0m \u001b[0mKeyboardInterrupt\u001b[0m\u001b[0;34m:\u001b[0m\u001b[0;34m\u001b[0m\u001b[0;34m\u001b[0m\u001b[0m\n\u001b[0;32m-> 1015\u001b[0;31m             \u001b[0mself\u001b[0m\u001b[0;34m.\u001b[0m\u001b[0m_keyboard_interrupt\u001b[0m\u001b[0;34m(\u001b[0m\u001b[0;34m)\u001b[0m\u001b[0;34m\u001b[0m\u001b[0;34m\u001b[0m\u001b[0m\n\u001b[0m\u001b[1;32m   1016\u001b[0m             \u001b[0;32mraise\u001b[0m \u001b[0mKeyboardInterrupt\u001b[0m\u001b[0;34m(\u001b[0m\u001b[0;34m\"Ctrl-c pressed while running %s\"\u001b[0m \u001b[0;34m%\u001b[0m \u001b[0mself\u001b[0m\u001b[0;34m)\u001b[0m\u001b[0;34m\u001b[0m\u001b[0;34m\u001b[0m\u001b[0m\n\u001b[1;32m   1017\u001b[0m         \u001b[0;32mif\u001b[0m \u001b[0mself\u001b[0m\u001b[0;34m.\u001b[0m\u001b[0m_terminal_echo\u001b[0m\u001b[0;34m:\u001b[0m\u001b[0;34m\u001b[0m\u001b[0;34m\u001b[0m\u001b[0m\n",
      "\u001b[0;32m/usr/lib/python3/dist-packages/sage/interfaces/singular.py\u001b[0m in \u001b[0;36m_keyboard_interrupt\u001b[0;34m(self)\u001b[0m\n\u001b[1;32m   1310\u001b[0m             \u001b[0;32mraise\u001b[0m \u001b[0mpexpect\u001b[0m\u001b[0;34m.\u001b[0m\u001b[0mExceptionPexpect\u001b[0m\u001b[0;34m(\u001b[0m\u001b[0;34m\"THIS IS A BUG -- PLEASE REPORT. This should never happen.\\n\"\u001b[0m \u001b[0;34m+\u001b[0m \u001b[0mmsg\u001b[0m\u001b[0;34m)\u001b[0m\u001b[0;34m\u001b[0m\u001b[0;34m\u001b[0m\u001b[0m\n\u001b[1;32m   1311\u001b[0m         \u001b[0mself\u001b[0m\u001b[0;34m.\u001b[0m\u001b[0m_start\u001b[0m\u001b[0;34m(\u001b[0m\u001b[0;34m)\u001b[0m\u001b[0;34m\u001b[0m\u001b[0;34m\u001b[0m\u001b[0m\n\u001b[0;32m-> 1312\u001b[0;31m         \u001b[0;32mraise\u001b[0m \u001b[0mKeyboardInterrupt\u001b[0m\u001b[0;34m(\u001b[0m\u001b[0;34m\"Restarting %s (WARNING: all variables defined in previous session are now invalid)\"\u001b[0m \u001b[0;34m%\u001b[0m \u001b[0mself\u001b[0m\u001b[0;34m)\u001b[0m\u001b[0;34m\u001b[0m\u001b[0;34m\u001b[0m\u001b[0m\n\u001b[0m\u001b[1;32m   1313\u001b[0m \u001b[0;34m\u001b[0m\u001b[0m\n\u001b[1;32m   1314\u001b[0m \u001b[0;34m\u001b[0m\u001b[0m\n",
      "\u001b[0;31mKeyboardInterrupt\u001b[0m: Restarting Singular (WARNING: all variables defined in previous session are now invalid)"
     ]
    }
   ],
   "source": [
    "euler_characteristic(X1, E1)"
   ]
  },
  {
   "cell_type": "code",
   "execution_count": null,
   "metadata": {},
   "outputs": [
    {
     "data": {
      "text/plain": [
       "107406"
      ]
     },
     "execution_count": 262,
     "metadata": {},
     "output_type": "execute_result"
    }
   ],
   "source": [
    "P1.weyl_dimension(w1)"
   ]
  },
  {
   "cell_type": "code",
   "execution_count": null,
   "metadata": {},
   "outputs": [
    {
     "data": {
      "text/plain": [
       "6"
      ]
     },
     "execution_count": 263,
     "metadata": {},
     "output_type": "execute_result"
    }
   ],
   "source": [
    "w2 = (5, 0, 0, 0)\n",
    "E2 = IrreducibleEquivariantVectorBundle(X1, w2)\n",
    "E2.rank()"
   ]
  },
  {
   "cell_type": "code",
   "execution_count": null,
   "metadata": {},
   "outputs": [],
   "source": [
    "euler_characteristic(X1, E2)"
   ]
  },
  {
   "cell_type": "code",
   "execution_count": null,
   "metadata": {},
   "outputs": [
    {
     "data": {
      "text/plain": [
       "627912"
      ]
     },
     "execution_count": 171,
     "metadata": {},
     "output_type": "execute_result"
    }
   ],
   "source": [
    "P1.weyl_dimension(w2)"
   ]
  },
  {
   "cell_type": "code",
   "execution_count": null,
   "metadata": {},
   "outputs": [
    {
     "data": {
      "text/plain": [
       "the parabolic subgroup of ['F', 4] with crossed-out nodes [3]"
      ]
     },
     "execution_count": 172,
     "metadata": {},
     "output_type": "execute_result"
    }
   ],
   "source": [
    "P2 = ParabolicSubgroup(G, CartanType('A2', 'A1'), [3])\n",
    "P2"
   ]
  },
  {
   "cell_type": "code",
   "execution_count": null,
   "metadata": {},
   "outputs": [
    {
     "data": {
      "text/plain": [
       "O---O=>=X---O\n",
       "1   2   3   4   \n",
       "F4 with node 3 marked"
      ]
     },
     "execution_count": 173,
     "metadata": {},
     "output_type": "execute_result"
    }
   ],
   "source": [
    "P2.dynkin_diagram()"
   ]
  },
  {
   "cell_type": "code",
   "execution_count": null,
   "metadata": {},
   "outputs": [
    {
     "data": {
      "text/plain": [
       "a flag_variety associated to the parabolic subgroup of ['F', 4] with crossed-out nodes [3]"
      ]
     },
     "execution_count": 174,
     "metadata": {},
     "output_type": "execute_result"
    }
   ],
   "source": [
    "X2 = FlagVariety(P2)\n",
    "X2"
   ]
  },
  {
   "cell_type": "code",
   "execution_count": null,
   "metadata": {},
   "outputs": [
    {
     "data": {
      "text/plain": [
       "an equivariant vector bundle on a flag_variety associated to the parabolic subgroup of ['F', 4] with crossed-out nodes [3] associated to (0, 1, 1, 0)"
      ]
     },
     "execution_count": 175,
     "metadata": {},
     "output_type": "execute_result"
    }
   ],
   "source": [
    "w3 = (0, 1, 1, 0)\n",
    "E3 = IrreducibleEquivariantVectorBundle(X2, w3)\n",
    "E3"
   ]
  },
  {
   "cell_type": "code",
   "execution_count": null,
   "metadata": {},
   "outputs": [
    {
     "data": {
      "text/plain": [
       "107406"
      ]
     },
     "execution_count": 176,
     "metadata": {},
     "output_type": "execute_result"
    }
   ],
   "source": [
    "euler_characteristic(X2, E3)"
   ]
  },
  {
   "cell_type": "code",
   "execution_count": null,
   "metadata": {},
   "outputs": [
    {
     "data": {
      "text/plain": [
       "107406"
      ]
     },
     "execution_count": 177,
     "metadata": {},
     "output_type": "execute_result"
    }
   ],
   "source": [
    "P2.weyl_dimension(w3)"
   ]
  },
  {
   "cell_type": "code",
   "execution_count": null,
   "metadata": {},
   "outputs": [
    {
     "data": {
      "text/plain": [
       "15"
      ]
     },
     "execution_count": 178,
     "metadata": {},
     "output_type": "execute_result"
    }
   ],
   "source": [
    "w4 = (2, 1, 0, 0)\n",
    "E4 = IrreducibleEquivariantVectorBundle(X2, w4)\n",
    "E4.rank()"
   ]
  },
  {
   "cell_type": "code",
   "execution_count": null,
   "metadata": {},
   "outputs": [
    {
     "data": {
      "text/plain": [
       "340119"
      ]
     },
     "execution_count": 179,
     "metadata": {},
     "output_type": "execute_result"
    }
   ],
   "source": [
    "euler_characteristic(X2, E4)"
   ]
  },
  {
   "cell_type": "code",
   "execution_count": null,
   "metadata": {},
   "outputs": [
    {
     "data": {
      "text/plain": [
       "340119"
      ]
     },
     "execution_count": 180,
     "metadata": {},
     "output_type": "execute_result"
    }
   ],
   "source": [
    "P2.weyl_dimension(w4)"
   ]
  }
 ],
 "metadata": {
  "kernelspec": {
   "display_name": "SageMath 9.0",
   "language": "sage",
   "name": "sagemath"
  },
  "language_info": {
   "codemirror_mode": {
    "name": "ipython",
    "version": 3
   },
   "file_extension": ".py",
   "mimetype": "text/x-python",
   "name": "python",
   "nbconvert_exporter": "python",
   "pygments_lexer": "ipython3",
   "version": "3.10.6"
  },
  "orig_nbformat": 4
 },
 "nbformat": 4,
 "nbformat_minor": 2
}
