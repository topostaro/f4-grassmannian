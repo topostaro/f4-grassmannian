{
 "cells": [
  {
   "cell_type": "code",
   "execution_count": 75,
   "metadata": {},
   "outputs": [],
   "source": [
    "# 最高ウェイト表現のウェイトを最高ウェイトとの差で表す関数。\n",
    "def root_difference_multiplicities(character_ring, highest_weight) -> dict:\n",
    "    weight_muliplicities = character_ring(highest_weight).weight_multiplicities()\n",
    "    A = matrix([ vector(sr) for sr in character_ring.simple_roots() ]).transpose()\n",
    "\n",
    "    result ={}\n",
    "\n",
    "    for k, v in weight_muliplicities.items():\n",
    "        Y = vector(k) - vector(highest_weight)\n",
    "        result[tuple(A.solve_right(Y))] = v\n",
    "    \n",
    "    return result"
   ]
  },
  {
   "cell_type": "code",
   "execution_count": 76,
   "metadata": {},
   "outputs": [],
   "source": [
    "# Parabolic subgroupを表すクラス\n",
    "class ParabolicSubgroup:\n",
    "    def __init__(self, G, L, crossed_out_nodes) -> None:\n",
    "        self.G = G\n",
    "        self.L = L\n",
    "        self.crossed_out_nodes = crossed_out_nodes\n",
    "        self.R_G = WeylCharacterRing(self.G)\n",
    "        self.R_L = WeylCharacterRing(self.L)\n",
    "\n",
    "    def __repr__(self) -> str:\n",
    "        return f'the parabolic subgroup of {self.G} with crossed-out nodes {self.crossed_out_nodes}'\n",
    "\n",
    "    def dynkin_diagram(self):\n",
    "        return self.G.marked_nodes(self.crossed_out_nodes).dynkin_diagram()\n",
    "\n",
    "    def ambient_space(self):\n",
    "        return self.R_G.space()\n",
    "    \n",
    "    def ambient_space_dimension(self):\n",
    "        return self.R_G.space().dimension()\n",
    "\n",
    "    # Sagemathのライブラリでは1-indexを用いるが、ここでは簡単のためとりあえず0-indexで表す\n",
    "    def simple_roots(self):\n",
    "        return [ self.R_G.simple_roots()[i] for i in set(1..self.G.rank()) - set(self.crossed_out_nodes)]\n",
    "\n",
    "    def positive_roots(self):\n",
    "        L = self.ambient_space()\n",
    "\n",
    "        # positive rootからcutoutされるsimple rootを引き, positiveでなければuncrossed nodeから生成されると判定\n",
    "        roots = [ pr for pr in self.G.root_system().root_lattice().positive_roots()]\n",
    "        for i in self.crossed_out_nodes:\n",
    "            roots = [ pr for pr in roots if not (pr - (self.G.root_system().root_lattice().simple_roots())[i]).is_positive_root()]\n",
    "\n",
    "        # ambient spaceの元に変換\n",
    "        return [ L(pr) for pr in roots ]\n",
    "\n",
    "    # 引数の`weight`は基本ウェイトを基底にして表示したもの\n",
    "    def weight_muliplicities(self, weight) -> dict:\n",
    "        # GとLのディンキン図の頂点のずれを補正する関数\n",
    "        def correct_index(index: int) -> int:\n",
    "            for i in range(len(self.crossed_out_nodes)):\n",
    "                if index + i < self.crossed_out_nodes[i]:\n",
    "                    return index + i\n",
    "            return index + len(self.crossed_out_nodes)\n",
    "\n",
    "        fws_L = [fw for fw in self.R_L.fundamental_weights()] # conversion from 1-index to 0-index\n",
    "        weight_for_L = [ weight[i - 1] for i in set(1..len(weight))-set(self.crossed_out_nodes)] \n",
    "        weight_for_L = sum( weight_for_L[i] * fws_L[i] for i in range(self.L.rank()))\n",
    "\n",
    "        fws_G = [fw for fw in self.R_G.fundamental_weights()]\n",
    "        weight_for_G = sum( weight[i] * fws_G[i] for i in range(self.G.rank()))\n",
    "\n",
    "        mul_set = root_difference_multiplicities(self.R_L, weight_for_L)\n",
    "\n",
    "        result = {}\n",
    "        for k, v in mul_set.items():\n",
    "            w = weight_for_G \\\n",
    "                + sum(k[i - 1] * self.R_G.simple_roots()[correct_index(i)] \n",
    "                    for i in (1..self.L.rank()))\n",
    "            result[w] = v\n",
    "\n",
    "        return result\n",
    "    \n",
    "    def weyl_dimension(self, weight) -> int:\n",
    "        return self.ambient_space().weyl_dimension(sum(weight[i - 1] * self.R_G.fundamental_weights()[i] for i in (1..self.G.rank())))"
   ]
  },
  {
   "cell_type": "code",
   "execution_count": 77,
   "metadata": {},
   "outputs": [
    {
     "data": {
      "text/plain": [
       "the parabolic subgroup of ['A', 3] with crossed-out nodes [1]"
      ]
     },
     "execution_count": 77,
     "metadata": {},
     "output_type": "execute_result"
    }
   ],
   "source": [
    "P = ParabolicSubgroup(CartanType('A3'), CartanType('A2'), [1])\n",
    "P"
   ]
  },
  {
   "cell_type": "code",
   "execution_count": 78,
   "metadata": {},
   "outputs": [
    {
     "data": {
      "text/plain": [
       "X---O---O\n",
       "1   2   3   \n",
       "A3 with node 1 marked"
      ]
     },
     "execution_count": 78,
     "metadata": {},
     "output_type": "execute_result"
    }
   ],
   "source": [
    "P.dynkin_diagram()"
   ]
  },
  {
   "cell_type": "code",
   "execution_count": 79,
   "metadata": {},
   "outputs": [
    {
     "data": {
      "text/plain": [
       "4"
      ]
     },
     "execution_count": 79,
     "metadata": {},
     "output_type": "execute_result"
    }
   ],
   "source": [
    "P.ambient_space_dimension()"
   ]
  },
  {
   "cell_type": "code",
   "execution_count": 80,
   "metadata": {},
   "outputs": [
    {
     "data": {
      "text/plain": [
       "[(0, 1, -1, 0), (0, 0, 1, -1)]"
      ]
     },
     "execution_count": 80,
     "metadata": {},
     "output_type": "execute_result"
    }
   ],
   "source": [
    "P.simple_roots()"
   ]
  },
  {
   "cell_type": "code",
   "execution_count": 81,
   "metadata": {},
   "outputs": [
    {
     "data": {
      "text/plain": [
       "[(0, 1, -1, 0), (0, 0, 1, -1), (0, 1, 0, -1)]"
      ]
     },
     "execution_count": 81,
     "metadata": {},
     "output_type": "execute_result"
    }
   ],
   "source": [
    "P.positive_roots()"
   ]
  },
  {
   "cell_type": "code",
   "execution_count": 82,
   "metadata": {},
   "outputs": [
    {
     "data": {
      "text/plain": [
       "{(3, 2, 0, 0): 1,\n",
       " (3, 1, 1, 0): 1,\n",
       " (3, 0, 2, 0): 1,\n",
       " (3, 1, 0, 1): 1,\n",
       " (3, 0, 1, 1): 1,\n",
       " (3, 0, 0, 2): 1}"
      ]
     },
     "execution_count": 82,
     "metadata": {},
     "output_type": "execute_result"
    }
   ],
   "source": [
    "P.weight_muliplicities((1, 2, 0))"
   ]
  },
  {
   "cell_type": "code",
   "execution_count": 83,
   "metadata": {},
   "outputs": [],
   "source": [
    "from abc import ABC, abstractmethod\n",
    "\n",
    "class IVectorBundle(ABC):\n",
    "    pass\n",
    "\n",
    "class IVariety(ABC):\n",
    "    @abstractmethod\n",
    "    def dimension(self) -> int:\n",
    "        pass\n",
    "\n",
    "    @abstractmethod\n",
    "    def tangent_bundle(self) -> IVectorBundle:\n",
    "        pass\n",
    "\n",
    "    def cotangent_bundle(self) -> IVectorBundle:\n",
    "        return self.tangent_bundle().dual()\n",
    "\n",
    "    @abstractmethod\n",
    "    def integration(self, f) -> int:\n",
    "        pass\n",
    "\n",
    "    def chern_classes(self) -> list:\n",
    "        return self.tangent_bundle().cheern_classes()\n",
    "\n",
    "    def todd_classes(self) -> list:\n",
    "        return self.tangent_bundle().todd_classes()"
   ]
  },
  {
   "cell_type": "code",
   "execution_count": 84,
   "metadata": {},
   "outputs": [],
   "source": [
    "import re\n",
    "singular.lib(\"chern.lib\")\n",
    "\n",
    "\n",
    "class IVectorBundle(ABC):\n",
    "    @abstractmethod\n",
    "    def base(self) -> IVariety:\n",
    "        pass\n",
    "\n",
    "    @abstractmethod\n",
    "    def rank(self) -> int:\n",
    "        pass\n",
    "\n",
    "    @abstractmethod\n",
    "    def chern_classes(self) -> list:\n",
    "        pass\n",
    "\n",
    "    # 演算子のオーバーロード\n",
    "    def __add__(self, other) -> IVectorBundle:\n",
    "        return direct_sum(self, other)\n",
    "\n",
    "    def __mul__(self, other) -> IVectorBundle:\n",
    "        return tensor_product(self, other)\n",
    "\n",
    "    def chern_character(self) -> list:\n",
    "        len_cc = len(self.chern_classes()) - 1\n",
    "\n",
    "        ring_for_ch = PolynomialRing(QQ, [ f'c{i}_E' for i in (1..len_cc) ], order=TermOrder('wdeglex', tuple(1..len_cc)))\n",
    "        \n",
    "        # Using Singular, calclate universal formula of chern character\n",
    "        singular.lib('chern.lib')\n",
    "        r = singular.ring(0, f'(c(1..{len_cc}))', 'dp')\n",
    "        l = singular.list(f'c(1..{len_cc})')\n",
    "        ch_str_list = singular.chAll(l, self.base().dimension()).sage_structured_str_list()\n",
    "        chern_character = [ ring_for_ch(self.rank()) ] + [ ring_for_ch(re.sub(r'c\\(([0-9]+)\\)', r'c\\1_E', s)) for s in ch_str_list ]\n",
    "\n",
    "        chern_classes = self.chern_classes()[1:]\n",
    "\n",
    "        return [ chern_character[i](chern_classes) for i in (0..self.base().dimension()) ]\n",
    "\n",
    "    def todd_classes(self) -> list:\n",
    "        len_cc = len(self.chern_classes()) - 1\n",
    "\n",
    "        ring_for_td = PolynomialRing(QQ, [ f'c{i}_M' for i in (1..len_cc) ], order=TermOrder('wdeglex', tuple(1..len_cc)))\n",
    "\n",
    "        # Using Singular, calculate universal formula of Todd classes\n",
    "        r = singular.ring(0, f'(c(1..{len_cc}))', 'dp')\n",
    "        l = singular.list(f'c(1..{len_cc})')\n",
    "        todd_str_list = singular.todd(l).sage_structured_str_list()\n",
    "        todd_classes = [ ring_for_td(1) ] + [ ring_for_td(re.sub(r'c\\(([0-9]+)\\)', r'c\\1_M', s)) for s in todd_str_list ]\n",
    "\n",
    "        chern_classes = self.chern_classes()[1:]\n",
    "\n",
    "        return [ todd_classes[i](chern_classes) for i in (0..self.base().dimension()) ]\n",
    "\n",
    "    def dual(self) -> IVectorBundle:\n",
    "        vector_bundle = self\n",
    "\n",
    "        class VB(IVectorBundle):\n",
    "            def rank(self) -> int:\n",
    "                return vector_bundle.rank()\n",
    "            \n",
    "            def base(self) -> IVariety:\n",
    "                return vector_bundle.base()\n",
    "\n",
    "            def chern_classes(self) -> list:\n",
    "                chern_classes = vector_bundle.chern_classes()\n",
    "                return [ (-1)^i * chern_classes[i] for i in range(len(chern_classes))]\n",
    "\n",
    "            def __repr__(self) -> str:\n",
    "                return f'the dual vector bundle of {vector_bundle}'\n",
    "\n",
    "        return VB()"
   ]
  },
  {
   "cell_type": "code",
   "execution_count": 85,
   "metadata": {},
   "outputs": [],
   "source": [
    "def direct_sum(vector_bundle1: IVectorBundle, vector_bundle2: IVectorBundle):\n",
    "    if vector_bundle1.base() != vector_bundle2.base():\n",
    "        raise TypeError('Not match bases of vector bundles')\n",
    "    \n",
    "    \n",
    "    rank = vector_bundle1.rank() + vector_bundle2.rank()\n",
    "    base = vector_bundle1.base()\n",
    "\n",
    "    cc = sum(c1 for c1 in vector_bundle1.chern_classes()) * sum(c2 for c2 in vector_bundle2.chern_classes())\n",
    "    chern_classes = [\n",
    "        homogeneous_part(cc, i)\n",
    "        for i in (0..vector_bundle1.base().dimension())\n",
    "    ]\n",
    "\n",
    "    class VB(IVectorBundle):\n",
    "        def rank(self) -> int:\n",
    "            return rank\n",
    "        \n",
    "        def base(self) -> IVariety:\n",
    "            return base\n",
    "\n",
    "        def chern_classes(self) -> list:\n",
    "            return chern_classes\n",
    "\n",
    "        def __repr__(self) -> str:\n",
    "            return f'the direct sum of {vector_bundle1} and {vector_bundle2}'\n",
    "\n",
    "    return VB()"
   ]
  },
  {
   "cell_type": "code",
   "execution_count": 86,
   "metadata": {},
   "outputs": [],
   "source": [
    "def tensor_product(vector_bundle1: IVectorBundle, vector_bundle2: IVectorBundle):\n",
    "    if vector_bundle1.base() != vector_bundle2.base():\n",
    "        raise TypeError('Not match bases of vector bundles')\n",
    "    \n",
    "    rank1 = vector_bundle1.rank()\n",
    "    rank2 = vector_bundle2.rank()\n",
    "\n",
    "    len_cc1 = len(vector_bundle1.chern_classes()) - 1\n",
    "    len_cc2 = len(vector_bundle2.chern_classes()) - 1\n",
    "    \n",
    "    ring_for_Es = PolynomialRing(QQ, [ f'c{i}_E1' for i in (1..len_cc1) ] + [ f'c{i}_E2' for i in (1..len_cc2) ])\n",
    "    \n",
    "\n",
    "    r = singular.ring(0, f'(c(1..{len_cc1}), C(1..{len_cc2}))', 'dp')\n",
    "    l1 = singular.list(f'c(1..{len_cc1})')\n",
    "    l2 = singular.list(f'C(1..{len_cc2})')\n",
    "\n",
    "    ch_str_list = singular.chProd(rank1, l1, rank2, l2).sage_structured_str_list()\n",
    "    ch_prod = [ re.sub(r'c\\(([0-9]+)\\)', r'c\\1_E1', s) for s in ch_str_list[:vector_bundle1.base().dimension()] ]\n",
    "    ch_prod = [ ring_for_Es(re.sub(r'C\\(([0-9]+)\\)', r'c\\1_E2', s)) for s in ch_prod ]\n",
    "\n",
    "\n",
    "    cc = [ 1 ] + [ cp(vector_bundle1.chern_classes()[1:] + vector_bundle2.chern_classes()[1:]) for cp in ch_prod ]\n",
    "    \n",
    "\n",
    "    rank = vector_bundle1.rank() * vector_bundle2.rank()\n",
    "    base = vector_bundle1.base()\n",
    "\n",
    "\n",
    "    class VB(IVectorBundle):\n",
    "        def rank(self) -> int:\n",
    "            return rank\n",
    "        \n",
    "        def base(self) -> IVariety:\n",
    "            return base\n",
    "\n",
    "        def chern_classes(self) -> list:\n",
    "            return cc\n",
    "\n",
    "        def __repr__(self) -> str:\n",
    "            return f'the tensor product of {vector_bundle1} and {vector_bundle2}'\n",
    "\n",
    "    return VB()"
   ]
  },
  {
   "cell_type": "code",
   "execution_count": 87,
   "metadata": {},
   "outputs": [],
   "source": [
    "# `degree`次部分を取り出す関数\n",
    "homogeneous_part = lambda F, degree: sum( c*m for c, m in F if m.total_degree() == degree )"
   ]
  },
  {
   "cell_type": "code",
   "execution_count": 88,
   "metadata": {},
   "outputs": [],
   "source": [
    "class FlagVariety(IVariety):\n",
    "    def __init__(self, parabolic_subgroup) -> None:\n",
    "        self.parabolic_subgroup = parabolic_subgroup\n",
    "\n",
    "        # コホモロジー環を含む環\n",
    "        self.ring = PolynomialRing(QQ, 'x', parabolic_subgroup.ambient_space_dimension()) \n",
    "        self.x = self.ring.gens()\n",
    "\n",
    "        self.tangent_weights = [\n",
    "            sum( r[l] * self.x[l] for l in range(parabolic_subgroup.ambient_space_dimension())) \n",
    "            for r in set(parabolic_subgroup.R_G.positive_roots())-set(parabolic_subgroup.positive_roots())\n",
    "        ]\n",
    "        self.dim = len(self.tangent_weights)\n",
    "\n",
    "    def __repr__(self) -> str:\n",
    "        return f'a flag_variety associated to {self.parabolic_subgroup}'\n",
    "\n",
    "    def dimension(self) -> int:\n",
    "        return self.dim\n",
    "    \n",
    "    def tangent_bundle(self):\n",
    "        tangent_weights = { w: 1 for w in set(self.parabolic_subgroup.R_G.positive_roots())-set(self.parabolic_subgroup.positive_roots()) }\n",
    "        return EquivariantVectorBundle(self, tangent_weights)\n",
    "\n",
    "\n",
    "    # 次数ごとのchern類\n",
    "    def chern_classes(self):\n",
    "        return [ \n",
    "            homogeneous_part(prod(1+x for x in self.tangent_weights), i)\n",
    "            for i in (0..self.dim) \n",
    "        ]\n",
    "\n",
    "    def numerical_integration_by_localization(self, f):\n",
    "        random_x = [RealField(1000)(random()) for i in range(self.parabolic_subgroup.ambient_space_dimension())]\n",
    "        orbit_of_random_x = [(w.inverse()*vector(RealField(1000),random_x)).list() for w in WeylGroup(self.parabolic_subgroup.G)]\n",
    "        top_of_f = homogeneous_part(f, self.dim)\n",
    "        denominator_in_localization = prod(self.tangent_weights)\n",
    "        if top_of_f == 0:\n",
    "            return 0\n",
    "        else:\n",
    "            return sum([top_of_f(x)/denominator_in_localization(x) for x in orbit_of_random_x]).round() / len(WeylGroup(self.parabolic_subgroup.L))\n",
    "\n",
    "    def integration(self, f) -> int:\n",
    "        return self.numerical_integration_by_localization(f)\n",
    "     "
   ]
  },
  {
   "cell_type": "code",
   "execution_count": 89,
   "metadata": {},
   "outputs": [],
   "source": [
    "class EquivariantVectorBundle(IVectorBundle):\n",
    "    def __init__(self, flag_variety, weight_muliplicities) -> None:\n",
    "        self.flag_variety = flag_variety\n",
    "        self.weight_muliplicities = weight_muliplicities\n",
    "        self.rk = sum(v for v in self.weight_muliplicities.values())\n",
    "\n",
    "    def __repr__(self) -> str:\n",
    "        return f'an equivariant vector bundle on {self.flag_variety} associated to {self.weight_muliplicities}'\n",
    "\n",
    "    def rank(self) -> int:\n",
    "        return self.rk\n",
    "\n",
    "    def base(self) -> FlagVariety:\n",
    "        return self.flag_variety\n",
    "\n",
    "    def chern_classes(self):\n",
    "        def class_from_weight(weight):\n",
    "            return sum(weight[i] * self.flag_variety.x[i] for i in range(self.flag_variety.parabolic_subgroup.ambient_space_dimension()))\n",
    "        \n",
    "        cc = prod((1 + class_from_weight(vector(w)))^i for w, i in self.weight_muliplicities.items())\n",
    "\n",
    "        return [\n",
    "            homogeneous_part(cc, i)\n",
    "            for i in (0..self.flag_variety.dim)\n",
    "        ]\n",
    "\n",
    "class IrreducibleEquivariantVectorBundle(EquivariantVectorBundle):\n",
    "    def __init__(self, flag_variety, weight) -> None:\n",
    "        self.weight = weight\n",
    "        super().__init__(flag_variety, flag_variety.parabolic_subgroup.weight_muliplicities(weight))\n",
    "\n",
    "    def __repr__(self) -> str:\n",
    "        return f'an equivariant vector bundle on {self.flag_variety} associated to {self.weight}'"
   ]
  },
  {
   "attachments": {},
   "cell_type": "markdown",
   "metadata": {},
   "source": [
    "- Test of FlagVariety"
   ]
  },
  {
   "cell_type": "code",
   "execution_count": 90,
   "metadata": {},
   "outputs": [
    {
     "data": {
      "text/plain": [
       "a flag_variety associated to the parabolic subgroup of ['A', 3] with crossed-out nodes [1]"
      ]
     },
     "execution_count": 90,
     "metadata": {},
     "output_type": "execute_result"
    }
   ],
   "source": [
    "X = FlagVariety(P)\n",
    "X"
   ]
  },
  {
   "cell_type": "code",
   "execution_count": 91,
   "metadata": {},
   "outputs": [
    {
     "data": {
      "text/plain": [
       "3"
      ]
     },
     "execution_count": 91,
     "metadata": {},
     "output_type": "execute_result"
    }
   ],
   "source": [
    "X.dimension()"
   ]
  },
  {
   "cell_type": "code",
   "execution_count": 92,
   "metadata": {},
   "outputs": [
    {
     "data": {
      "text/plain": [
       "[x0 - x2, x0 - x1, x0 - x3]"
      ]
     },
     "execution_count": 92,
     "metadata": {},
     "output_type": "execute_result"
    }
   ],
   "source": [
    "X.tangent_weights"
   ]
  },
  {
   "cell_type": "code",
   "execution_count": 93,
   "metadata": {},
   "outputs": [
    {
     "data": {
      "text/plain": [
       "[1,\n",
       " 3*x0 - x1 - x2 - x3,\n",
       " 3*x0^2 - 2*x0*x1 - 2*x0*x2 + x1*x2 - 2*x0*x3 + x1*x3 + x2*x3,\n",
       " x0^3 - x0^2*x1 - x0^2*x2 + x0*x1*x2 - x0^2*x3 + x0*x1*x3 + x0*x2*x3 - x1*x2*x3]"
      ]
     },
     "execution_count": 93,
     "metadata": {},
     "output_type": "execute_result"
    }
   ],
   "source": [
    "X.chern_classes()"
   ]
  },
  {
   "cell_type": "code",
   "execution_count": 94,
   "metadata": {},
   "outputs": [
    {
     "data": {
      "text/plain": [
       "[1,\n",
       " 3/2*x0 - 1/2*x1 - 1/2*x2 - 1/2*x3,\n",
       " x0^2 - 2/3*x0*x1 + 1/12*x1^2 - 2/3*x0*x2 + 1/4*x1*x2 + 1/12*x2^2 - 2/3*x0*x3 + 1/4*x1*x3 + 1/4*x2*x3 + 1/12*x3^2,\n",
       " 3/8*x0^3 - 3/8*x0^2*x1 + 1/12*x0*x1^2 - 3/8*x0^2*x2 + 7/24*x0*x1*x2 - 1/24*x1^2*x2 + 1/12*x0*x2^2 - 1/24*x1*x2^2 - 3/8*x0^2*x3 + 7/24*x0*x1*x3 - 1/24*x1^2*x3 + 7/24*x0*x2*x3 - 1/8*x1*x2*x3 - 1/24*x2^2*x3 + 1/12*x0*x3^2 - 1/24*x1*x3^2 - 1/24*x2*x3^2]"
      ]
     },
     "execution_count": 94,
     "metadata": {},
     "output_type": "execute_result"
    }
   ],
   "source": [
    "X.todd_classes()"
   ]
  },
  {
   "cell_type": "code",
   "execution_count": 95,
   "metadata": {},
   "outputs": [
    {
     "data": {
      "text/plain": [
       "an equivariant vector bundle on a flag_variety associated to the parabolic subgroup of ['A', 3] with crossed-out nodes [1] associated to {(1, 0, -1, 0): 1, (1, -1, 0, 0): 1, (1, 0, 0, -1): 1}"
      ]
     },
     "execution_count": 95,
     "metadata": {},
     "output_type": "execute_result"
    }
   ],
   "source": [
    "X.tangent_bundle()"
   ]
  },
  {
   "cell_type": "code",
   "execution_count": 96,
   "metadata": {},
   "outputs": [
    {
     "data": {
      "text/plain": [
       "[1,\n",
       " -3*x0 + x1 + x2 + x3,\n",
       " 3*x0^2 - 2*x0*x1 - 2*x0*x2 + x1*x2 - 2*x0*x3 + x1*x3 + x2*x3,\n",
       " -x0^3 + x0^2*x1 + x0^2*x2 - x0*x1*x2 + x0^2*x3 - x0*x1*x3 - x0*x2*x3 + x1*x2*x3]"
      ]
     },
     "execution_count": 96,
     "metadata": {},
     "output_type": "execute_result"
    }
   ],
   "source": [
    "X.cotangent_bundle().chern_classes()"
   ]
  },
  {
   "attachments": {},
   "cell_type": "markdown",
   "metadata": {},
   "source": [
    "- Test for EquivariantVectorBundle"
   ]
  },
  {
   "cell_type": "code",
   "execution_count": 97,
   "metadata": {},
   "outputs": [
    {
     "data": {
      "text/plain": [
       "an equivariant vector bundle on a flag_variety associated to the parabolic subgroup of ['A', 3] with crossed-out nodes [1] associated to (4, 0, 0)"
      ]
     },
     "execution_count": 97,
     "metadata": {},
     "output_type": "execute_result"
    }
   ],
   "source": [
    "w = (4, 0, 0)\n",
    "E = IrreducibleEquivariantVectorBundle(X, w)\n",
    "E"
   ]
  },
  {
   "cell_type": "code",
   "execution_count": 98,
   "metadata": {},
   "outputs": [
    {
     "data": {
      "text/plain": [
       "a flag_variety associated to the parabolic subgroup of ['A', 3] with crossed-out nodes [1]"
      ]
     },
     "execution_count": 98,
     "metadata": {},
     "output_type": "execute_result"
    }
   ],
   "source": [
    "E.base()"
   ]
  },
  {
   "cell_type": "code",
   "execution_count": 99,
   "metadata": {},
   "outputs": [
    {
     "data": {
      "text/plain": [
       "1"
      ]
     },
     "execution_count": 99,
     "metadata": {},
     "output_type": "execute_result"
    }
   ],
   "source": [
    "E.rank()"
   ]
  },
  {
   "cell_type": "code",
   "execution_count": 100,
   "metadata": {},
   "outputs": [
    {
     "data": {
      "text/plain": [
       "[1, 4*x0, 0, 0]"
      ]
     },
     "execution_count": 100,
     "metadata": {},
     "output_type": "execute_result"
    }
   ],
   "source": [
    "E.chern_classes()"
   ]
  },
  {
   "cell_type": "code",
   "execution_count": 101,
   "metadata": {},
   "outputs": [
    {
     "data": {
      "text/plain": [
       "[1, 4*x0, 8*x0^2, 32/3*x0^3]"
      ]
     },
     "execution_count": 101,
     "metadata": {},
     "output_type": "execute_result"
    }
   ],
   "source": [
    "E.chern_character()"
   ]
  },
  {
   "cell_type": "code",
   "execution_count": 102,
   "metadata": {},
   "outputs": [
    {
     "data": {
      "text/plain": [
       "[1, 2*x0, 4/3*x0^2, 0]"
      ]
     },
     "execution_count": 102,
     "metadata": {},
     "output_type": "execute_result"
    }
   ],
   "source": [
    "E.todd_classes()"
   ]
  },
  {
   "cell_type": "code",
   "execution_count": 103,
   "metadata": {},
   "outputs": [],
   "source": [
    "class CompleteIntersection(IVariety):\n",
    "    def __init__(self, flag_variety, vector_bundle) -> None:\n",
    "        self.flag_variety = flag_variety\n",
    "        self.vector_bundle = vector_bundle\n",
    "        self.dim = self.flag_variety.dimension() - self.vector_bundle.rank()\n",
    "\n",
    "    def __repr__(self) -> str:\n",
    "        return f'a complete intersection of {self.flag_variety} and {self.vector_bundle}'\n",
    "\n",
    "    def dimension(self) -> int:\n",
    "        return self.dim\n",
    "    \n",
    "    def tangent_bundle(self):\n",
    "        ci = self\n",
    "        class VB(IVectorBundle):\n",
    "            def base(self) -> IVariety:\n",
    "                return ci\n",
    "            def rank(self) -> int:\n",
    "                return ci.dim\n",
    "            def chern_classes(self) -> list:\n",
    "                return ci.chern_classes()\n",
    "        \n",
    "        return VB()\n",
    "\n",
    "    def chern_classes(self):\n",
    "        def class_from_weight(weight):\n",
    "            return sum(weight[i] * self.flag_variety.x[i] for i in range(self.flag_variety.parabolic_subgroup.ambient_space_dimension()))\n",
    "        \n",
    "        def geometric_sequence(n, x):\n",
    "            return sum( x^i for i in (0..n))\n",
    "        \n",
    "        cc = prod(1+x for x in self.flag_variety.tangent_weights) \\\n",
    "            * \\\n",
    "            prod(geometric_sequence(self.dim, -class_from_weight(vector(w)))^i \n",
    "                for w, i in self.vector_bundle.weight_muliplicities.items()\n",
    "            )\n",
    "        \n",
    "        return [\n",
    "            homogeneous_part(cc, i)\n",
    "            for i in (0..self.dim)\n",
    "        ]\n",
    "\n",
    "    def numerical_integration_by_localization(self, f):\n",
    "        top_of_f = homogeneous_part(f, self.dim)\n",
    "        c_top    = self.vector_bundle.chern_classes()[self.vector_bundle.rank()] if self.dim >= 0 else 0\n",
    "        return self.flag_variety.numerical_integration_by_localization(top_of_f * c_top)\n",
    "\n",
    "    def integration(self, f) -> int:\n",
    "        return self.numerical_integration_by_localization(f)\n"
   ]
  },
  {
   "cell_type": "code",
   "execution_count": 104,
   "metadata": {},
   "outputs": [
    {
     "data": {
      "text/plain": [
       "2"
      ]
     },
     "execution_count": 104,
     "metadata": {},
     "output_type": "execute_result"
    }
   ],
   "source": [
    "# K3\n",
    "Y = CompleteIntersection(X, E) \n",
    "Y.dimension()"
   ]
  },
  {
   "cell_type": "code",
   "execution_count": 105,
   "metadata": {},
   "outputs": [
    {
     "data": {
      "text/plain": [
       "[1,\n",
       " -x0 - x1 - x2 - x3,\n",
       " 7*x0^2 + 2*x0*x1 + 2*x0*x2 + x1*x2 + 2*x0*x3 + x1*x3 + x2*x3]"
      ]
     },
     "execution_count": 105,
     "metadata": {},
     "output_type": "execute_result"
    }
   ],
   "source": [
    "Y.chern_classes()"
   ]
  },
  {
   "cell_type": "code",
   "execution_count": 106,
   "metadata": {},
   "outputs": [
    {
     "data": {
      "text/plain": [
       "[1,\n",
       " -x0 - x1 - x2 - x3,\n",
       " 7*x0^2 + 2*x0*x1 + 2*x0*x2 + x1*x2 + 2*x0*x3 + x1*x3 + x2*x3]"
      ]
     },
     "execution_count": 106,
     "metadata": {},
     "output_type": "execute_result"
    }
   ],
   "source": [
    "Y.tangent_bundle().chern_classes()"
   ]
  },
  {
   "cell_type": "code",
   "execution_count": 107,
   "metadata": {},
   "outputs": [
    {
     "data": {
      "text/plain": [
       "[1,\n",
       " x0 + x1 + x2 + x3,\n",
       " 7*x0^2 + 2*x0*x1 + 2*x0*x2 + x1*x2 + 2*x0*x3 + x1*x3 + x2*x3]"
      ]
     },
     "execution_count": 107,
     "metadata": {},
     "output_type": "execute_result"
    }
   ],
   "source": [
    "Y.cotangent_bundle().chern_classes()"
   ]
  },
  {
   "cell_type": "code",
   "execution_count": 108,
   "metadata": {},
   "outputs": [
    {
     "data": {
      "text/plain": [
       "24"
      ]
     },
     "execution_count": 108,
     "metadata": {},
     "output_type": "execute_result"
    }
   ],
   "source": [
    "Y.integration(Y.chern_classes()[Y.dimension()])"
   ]
  },
  {
   "attachments": {},
   "cell_type": "markdown",
   "metadata": {},
   "source": [
    "Euler Characteristic\n",
    "$$\n",
    "\\chi (X, E) = \\int_X ch(E) td(X)\n",
    "$$"
   ]
  },
  {
   "cell_type": "code",
   "execution_count": 109,
   "metadata": {},
   "outputs": [],
   "source": [
    "def euler_characteristic(variety: IVariety, vector_bundle: IVectorBundle) -> int:\n",
    "    chern_character = vector_bundle.chern_character()\n",
    "    todd_classes    = variety.todd_classes()\n",
    "    \n",
    "    return variety.integration( \n",
    "        sum(\n",
    "            chern_character[i]\n",
    "            * todd_classes[variety.dimension() - i]\n",
    "            for i in (0..variety.dimension())\n",
    "        )\n",
    "    )"
   ]
  },
  {
   "cell_type": "code",
   "execution_count": 110,
   "metadata": {},
   "outputs": [
    {
     "data": {
      "text/plain": [
       "35"
      ]
     },
     "execution_count": 110,
     "metadata": {},
     "output_type": "execute_result"
    }
   ],
   "source": [
    "euler_characteristic(X, E)"
   ]
  },
  {
   "cell_type": "code",
   "execution_count": 111,
   "metadata": {},
   "outputs": [
    {
     "data": {
      "text/plain": [
       "35"
      ]
     },
     "execution_count": 111,
     "metadata": {},
     "output_type": "execute_result"
    }
   ],
   "source": [
    "P.weyl_dimension(w)"
   ]
  },
  {
   "attachments": {},
   "cell_type": "markdown",
   "metadata": {},
   "source": [
    "- Tests for \n",
    "    - dual bundle\n",
    "    - direct sum\n",
    "    - tensor product\n",
    "    - Symmetric products\n",
    "    - Wedge products"
   ]
  },
  {
   "cell_type": "code",
   "execution_count": 112,
   "metadata": {},
   "outputs": [
    {
     "data": {
      "text/plain": [
       "3"
      ]
     },
     "execution_count": 112,
     "metadata": {},
     "output_type": "execute_result"
    }
   ],
   "source": [
    "E = IrreducibleEquivariantVectorBundle(X, (1, 1, 0))\n",
    "E.rank()"
   ]
  },
  {
   "cell_type": "code",
   "execution_count": 113,
   "metadata": {},
   "outputs": [
    {
     "data": {
      "text/plain": [
       "the dual vector bundle of an equivariant vector bundle on a flag_variety associated to the parabolic subgroup of ['A', 3] with crossed-out nodes [1] associated to (1, 1, 0)"
      ]
     },
     "execution_count": 113,
     "metadata": {},
     "output_type": "execute_result"
    }
   ],
   "source": [
    "dual_of_E = E.dual()\n",
    "dual_of_E"
   ]
  },
  {
   "cell_type": "code",
   "execution_count": 114,
   "metadata": {},
   "outputs": [
    {
     "data": {
      "text/plain": [
       "3"
      ]
     },
     "execution_count": 114,
     "metadata": {},
     "output_type": "execute_result"
    }
   ],
   "source": [
    "dual_of_E.rank()"
   ]
  },
  {
   "cell_type": "code",
   "execution_count": 115,
   "metadata": {},
   "outputs": [
    {
     "data": {
      "text/plain": [
       "[1,\n",
       " 6*x0 + x1 + x2 + x3,\n",
       " 12*x0^2 + 4*x0*x1 + 4*x0*x2 + x1*x2 + 4*x0*x3 + x1*x3 + x2*x3,\n",
       " 8*x0^3 + 4*x0^2*x1 + 4*x0^2*x2 + 2*x0*x1*x2 + 4*x0^2*x3 + 2*x0*x1*x3 + 2*x0*x2*x3 + x1*x2*x3]"
      ]
     },
     "execution_count": 115,
     "metadata": {},
     "output_type": "execute_result"
    }
   ],
   "source": [
    "E.chern_classes()"
   ]
  },
  {
   "cell_type": "code",
   "execution_count": 116,
   "metadata": {},
   "outputs": [
    {
     "data": {
      "text/plain": [
       "[1,\n",
       " -6*x0 - x1 - x2 - x3,\n",
       " 12*x0^2 + 4*x0*x1 + 4*x0*x2 + x1*x2 + 4*x0*x3 + x1*x3 + x2*x3,\n",
       " -8*x0^3 - 4*x0^2*x1 - 4*x0^2*x2 - 2*x0*x1*x2 - 4*x0^2*x3 - 2*x0*x1*x3 - 2*x0*x2*x3 - x1*x2*x3]"
      ]
     },
     "execution_count": 116,
     "metadata": {},
     "output_type": "execute_result"
    }
   ],
   "source": [
    "dual_of_E.chern_classes()"
   ]
  },
  {
   "cell_type": "code",
   "execution_count": 117,
   "metadata": {},
   "outputs": [],
   "source": [
    "L1 = IrreducibleEquivariantVectorBundle(X, (2, 0, 0))\n",
    "L2 = IrreducibleEquivariantVectorBundle(X, (5, 0, 0))\n",
    "L3 = IrreducibleEquivariantVectorBundle(X, (7, 0, 0))"
   ]
  },
  {
   "cell_type": "code",
   "execution_count": 118,
   "metadata": {},
   "outputs": [
    {
     "data": {
      "text/plain": [
       "the direct sum of an equivariant vector bundle on a flag_variety associated to the parabolic subgroup of ['A', 3] with crossed-out nodes [1] associated to (2, 0, 0) and an equivariant vector bundle on a flag_variety associated to the parabolic subgroup of ['A', 3] with crossed-out nodes [1] associated to (5, 0, 0)"
      ]
     },
     "execution_count": 118,
     "metadata": {},
     "output_type": "execute_result"
    }
   ],
   "source": [
    "direct_sum(L1, L2)"
   ]
  },
  {
   "cell_type": "code",
   "execution_count": 119,
   "metadata": {},
   "outputs": [
    {
     "data": {
      "text/plain": [
       "2"
      ]
     },
     "execution_count": 119,
     "metadata": {},
     "output_type": "execute_result"
    }
   ],
   "source": [
    "direct_sum(L1, L2).rank()"
   ]
  },
  {
   "cell_type": "code",
   "execution_count": 120,
   "metadata": {},
   "outputs": [
    {
     "data": {
      "text/plain": [
       "[1, 7*x0, 10*x0^2, 0]"
      ]
     },
     "execution_count": 120,
     "metadata": {},
     "output_type": "execute_result"
    }
   ],
   "source": [
    "direct_sum(L1, L2).chern_classes()"
   ]
  },
  {
   "cell_type": "code",
   "execution_count": 121,
   "metadata": {},
   "outputs": [
    {
     "data": {
      "text/plain": [
       "[1, 14*x0, 59*x0^2, 70*x0^3]"
      ]
     },
     "execution_count": 121,
     "metadata": {},
     "output_type": "execute_result"
    }
   ],
   "source": [
    "(L1 + L2 + L3).chern_classes()"
   ]
  },
  {
   "cell_type": "code",
   "execution_count": 122,
   "metadata": {},
   "outputs": [
    {
     "data": {
      "text/plain": [
       "the tensor product of an equivariant vector bundle on a flag_variety associated to the parabolic subgroup of ['A', 3] with crossed-out nodes [1] associated to (1, 1, 0) and an equivariant vector bundle on a flag_variety associated to the parabolic subgroup of ['A', 3] with crossed-out nodes [1] associated to (2, 0, 0)"
      ]
     },
     "execution_count": 122,
     "metadata": {},
     "output_type": "execute_result"
    }
   ],
   "source": [
    "E_otimes_L1 = tensor_product(E, L1)\n",
    "E_otimes_L1"
   ]
  },
  {
   "cell_type": "code",
   "execution_count": 123,
   "metadata": {},
   "outputs": [
    {
     "data": {
      "text/plain": [
       "[1, 14*x0]"
      ]
     },
     "execution_count": 123,
     "metadata": {},
     "output_type": "execute_result"
    }
   ],
   "source": [
    "(L1 * L2 * L3).chern_classes()"
   ]
  },
  {
   "cell_type": "code",
   "execution_count": 124,
   "metadata": {},
   "outputs": [],
   "source": [
    "def symmetric_product(vector_bundle: IVectorBundle, k: int) -> IVectorBundle:\n",
    "    chern_classes = vector_bundle.chern_classes()[1:]\n",
    "    rank          = vector_bundle.rank()\n",
    "    len_cc        = len(chern_classes)\n",
    "\n",
    "    ring_for_E = PolynomialRing(QQ, [ f'c{i}_E' for i in (1..len_cc) ], order=TermOrder('wdeglex', tuple(1..len_cc)))\n",
    "\n",
    "    r = singular.ring(0, f'(c(1..{len_cc}))', 'dp')\n",
    "    l = singular.list(f'c(1..{len_cc})')\n",
    "    ch_symm_str_list = singular.chSymm(k, rank, l).sage_structured_str_list()\n",
    "    ch_symm = [ ring_for_E(re.sub(r'c\\(([0-9]+)\\)', r'c\\1_E', s)) for s in ch_symm_str_list[1][:vector_bundle.base().dimension()] ]\n",
    "\n",
    "    rank = int(ch_symm_str_list[0])\n",
    "    base = vector_bundle.base()\n",
    "    cc = [ 1 ] + [ cs(chern_classes) for cs in ch_symm ]\n",
    "\n",
    "    class VB(IVectorBundle):\n",
    "        def rank(self) -> int:\n",
    "            return rank\n",
    "        \n",
    "        def base(self) -> IVariety:\n",
    "            return base\n",
    "        \n",
    "        def chern_classes(self) -> list:\n",
    "            return cc\n",
    "\n",
    "        def __repr__(self) -> str:\n",
    "            return f'the {k}-th symmetric product of {vector_bundle}'\n",
    "\n",
    "    return VB()"
   ]
  },
  {
   "cell_type": "code",
   "execution_count": 125,
   "metadata": {},
   "outputs": [
    {
     "data": {
      "text/plain": [
       "10"
      ]
     },
     "execution_count": 125,
     "metadata": {},
     "output_type": "execute_result"
    }
   ],
   "source": [
    "S3_of_E = symmetric_product(E, 3)\n",
    "S3_of_E.rank()"
   ]
  },
  {
   "cell_type": "code",
   "execution_count": 126,
   "metadata": {},
   "outputs": [
    {
     "data": {
      "text/plain": [
       "[1,\n",
       " 60*x0 + 10*x1 + 10*x2 + 10*x3,\n",
       " 1620*x0^2 + 540*x0*x1 + 40*x1^2 + 540*x0*x2 + 95*x1*x2 + 40*x2^2 + 540*x0*x3 + 95*x1*x3 + 95*x2*x3 + 40*x3^2,\n",
       " 25920*x0^3 + 12960*x0^2*x1 + 1920*x0*x1^2 + 82*x1^3 + 12960*x0^2*x2 + 4560*x0*x1*x2 + 357*x1^2*x2 + 1920*x0*x2^2 + 357*x1*x2^2 + 82*x2^3 + 12960*x0^2*x3 + 4560*x0*x1*x3 + 357*x1^2*x3 + 4560*x0*x2*x3 + 852*x1*x2*x3 + 357*x2^2*x3 + 1920*x0*x3^2 + 357*x1*x3^2 + 357*x2*x3^2 + 82*x3^3]"
      ]
     },
     "execution_count": 126,
     "metadata": {},
     "output_type": "execute_result"
    }
   ],
   "source": [
    "S3_of_E.chern_classes()"
   ]
  },
  {
   "cell_type": "code",
   "execution_count": 127,
   "metadata": {},
   "outputs": [],
   "source": [
    "def wedge_product(vector_bundle: IVectorBundle, k: int) -> IVectorBundle:\n",
    "    chern_classes = vector_bundle.chern_classes()[1:]\n",
    "    rank          = vector_bundle.rank()\n",
    "    len_cc        = len(chern_classes)\n",
    "\n",
    "    ring_for_E = PolynomialRing(QQ, [ f'c{i}_E' for i in (1..len_cc) ], order=TermOrder('wdeglex', tuple(1..len_cc)))\n",
    "\n",
    "    r = singular.ring(0, f'(c(1..{len_cc}))', 'dp')\n",
    "    l = singular.list(f'c(1..{len_cc})')\n",
    "    ch_wedge_str_list = singular.chWedge(k, rank, l).sage_structured_str_list()\n",
    "    ch_wedge = [ ring_for_E(re.sub(r'c\\(([0-9]+)\\)', r'c\\1_E', s)) for s in ch_wedge_str_list[1][:vector_bundle.base().dimension()] ]\n",
    "\n",
    "    rank = int(ch_wedge_str_list[0])\n",
    "    base = vector_bundle.base()\n",
    "    cc   = [ 1 ] + [ cs(chern_classes) for cs in ch_wedge ]\n",
    "\n",
    "    class VB(IVectorBundle):\n",
    "        def rank(self) -> int:\n",
    "            return rank\n",
    "        \n",
    "        def base(self) -> IVariety:\n",
    "            return base\n",
    "        \n",
    "        def chern_classes(self) -> list:\n",
    "            return cc\n",
    "\n",
    "        def __repr__(self) -> str:\n",
    "            return f'the {k}-th wedge product of {vector_bundle}'\n",
    "\n",
    "    return VB()"
   ]
  },
  {
   "cell_type": "code",
   "execution_count": 128,
   "metadata": {},
   "outputs": [
    {
     "data": {
      "text/plain": [
       "the 2-th wedge product of an equivariant vector bundle on a flag_variety associated to the parabolic subgroup of ['A', 3] with crossed-out nodes [1] associated to (1, 1, 0)"
      ]
     },
     "execution_count": 128,
     "metadata": {},
     "output_type": "execute_result"
    }
   ],
   "source": [
    "L2_of_E = wedge_product(E, 2)\n",
    "L2_of_E"
   ]
  },
  {
   "cell_type": "code",
   "execution_count": 129,
   "metadata": {},
   "outputs": [
    {
     "data": {
      "text/plain": [
       "3"
      ]
     },
     "execution_count": 129,
     "metadata": {},
     "output_type": "execute_result"
    }
   ],
   "source": [
    "L2_of_E.rank()"
   ]
  },
  {
   "cell_type": "code",
   "execution_count": 130,
   "metadata": {},
   "outputs": [
    {
     "data": {
      "text/plain": [
       "[1,\n",
       " 12*x0 + 2*x1 + 2*x2 + 2*x3,\n",
       " 48*x0^2 + 16*x0*x1 + x1^2 + 16*x0*x2 + 3*x1*x2 + x2^2 + 16*x0*x3 + 3*x1*x3 + 3*x2*x3 + x3^2,\n",
       " 64*x0^3 + 32*x0^2*x1 + 4*x0*x1^2 + 32*x0^2*x2 + 12*x0*x1*x2 + x1^2*x2 + 4*x0*x2^2 + x1*x2^2 + 32*x0^2*x3 + 12*x0*x1*x3 + x1^2*x3 + 12*x0*x2*x3 + 2*x1*x2*x3 + x2^2*x3 + 4*x0*x3^2 + x1*x3^2 + x2*x3^2]"
      ]
     },
     "execution_count": 130,
     "metadata": {},
     "output_type": "execute_result"
    }
   ],
   "source": [
    "L2_of_E.chern_classes()"
   ]
  },
  {
   "cell_type": "code",
   "execution_count": 131,
   "metadata": {},
   "outputs": [
    {
     "data": {
      "text/plain": [
       "1"
      ]
     },
     "execution_count": 131,
     "metadata": {},
     "output_type": "execute_result"
    }
   ],
   "source": [
    "wedge_product(E, 3).rank()"
   ]
  },
  {
   "cell_type": "code",
   "execution_count": 132,
   "metadata": {},
   "outputs": [
    {
     "data": {
      "text/plain": [
       "0"
      ]
     },
     "execution_count": 132,
     "metadata": {},
     "output_type": "execute_result"
    }
   ],
   "source": [
    "wedge_product(E, 5).rank()"
   ]
  },
  {
   "attachments": {},
   "cell_type": "markdown",
   "metadata": {},
   "source": [
    "$\\chi_y$-Genus\n",
    "$$\n",
    "\\chi_y(X) = \\int_X ch(\\Lambda_y T^{\\vee}_X) td(X)\n",
    "$$"
   ]
  },
  {
   "cell_type": "code",
   "execution_count": 133,
   "metadata": {},
   "outputs": [],
   "source": [
    "Q_y = QQ['y']\n",
    "y = Q_y.gen()\n",
    "\n",
    "def chi_y(variety: IVariety):\n",
    "    cotangent_bundle = variety.cotangent_bundle()\n",
    "    todd_classes = variety.todd_classes()\n",
    "\n",
    "    coeff = [ 0 ] * (variety.dimension() + 1)\n",
    "\n",
    "    for k in (0..variety.dimension()):\n",
    "        chern_character = wedge_product(cotangent_bundle, k).chern_character()\n",
    "        coeff[k] = variety.integration( \n",
    "            sum(\n",
    "                chern_character[i]\n",
    "                * todd_classes[variety.dimension() - i]\n",
    "                for i in (0..variety.dimension())\n",
    "            )\n",
    "        )\n",
    "\n",
    "    return sum(coeff[i] * y^i for i in (0..variety.dimension()))"
   ]
  },
  {
   "cell_type": "code",
   "execution_count": 134,
   "metadata": {},
   "outputs": [
    {
     "data": {
      "text/plain": [
       "2*y^2 - 20*y + 2"
      ]
     },
     "execution_count": 134,
     "metadata": {},
     "output_type": "execute_result"
    }
   ],
   "source": [
    "chi_y(Y)"
   ]
  },
  {
   "cell_type": "code",
   "execution_count": 135,
   "metadata": {},
   "outputs": [
    {
     "data": {
      "text/plain": [
       "24"
      ]
     },
     "execution_count": 135,
     "metadata": {},
     "output_type": "execute_result"
    }
   ],
   "source": [
    "chi_y(Y)(-1) # オイラー標数と同じ"
   ]
  },
  {
   "attachments": {},
   "cell_type": "markdown",
   "metadata": {},
   "source": [
    "- Elliptic Genus\n",
    "\n",
    "$$\n",
    "E_{q, y} = y^{-d/2} \\bigotimes_{n \\geq 1} \n",
    "\\Lambda_{-yq^{n-1}} T^\\vee_X \n",
    "\\otimes \n",
    "\\Lambda_{-y^{-1}q^n} T_X \n",
    "\\otimes\n",
    "Sym_{q^n} T^\\vee_X\n",
    "\\otimes\n",
    "Sym_{q^n} T_X\n",
    "$$\n",
    "\n",
    "$$\n",
    "Ell_{q, y} = \\int_X ch(E_{q, y})td(X)\n",
    "$$"
   ]
  },
  {
   "attachments": {},
   "cell_type": "markdown",
   "metadata": {},
   "source": [
    "ここではプログラム処理上の理由で、$y^{d/2}Ell_{q,y}$を楕円種数と呼ぶことにする"
   ]
  },
  {
   "cell_type": "code",
   "execution_count": 136,
   "metadata": {},
   "outputs": [],
   "source": [
    "import itertools\n",
    "\n",
    "# 楕円種数のq^n*y^m次部分\n",
    "def elliptic_genus_coefficient(variety: IVariety, n: int, m: int):\n",
    "    cb = variety.cotangent_bundle()\n",
    "    tb = variety.tangent_bundle()\n",
    "    todd_classes = variety.todd_classes()\n",
    "\n",
    "    wcb = [\n",
    "        wedge_product(cb, i)\n",
    "        for i in (0..max(variety.dimension(), n + 1))\n",
    "    ]\n",
    "\n",
    "\n",
    "    wtb = [\n",
    "        wedge_product(tb, j)\n",
    "        for j in (0..max(variety.dimension(), n))\n",
    "    ]\n",
    "\n",
    "    scb = [\n",
    "        symmetric_product(cb, k)\n",
    "        for k in (0..n)\n",
    "    ]\n",
    "\n",
    "    stb = [\n",
    "        wedge_product(tb, l)\n",
    "        for l in (0..n)\n",
    "    ]\n",
    "\n",
    "    indices = itertools.product(\n",
    "        (0..max(variety.dimension(), n + 1)), \n",
    "        (0..max(variety.dimension(), n)), \n",
    "        (0..n), \n",
    "        (0..n)\n",
    "    )\n",
    "    indices = itertools.product(indices, repeat=n + 1)\n",
    "\n",
    "    result = 0\n",
    "\n",
    "    for x in indices:\n",
    "        if sum(x[i][0] - x[i][1] for i in range(n + 1)) == m \\\n",
    "            and sum(x[i - 1][0] * (i - 1) + x[i - 1][1] * i + x[i - 1][2] * i + x[i - 1][3] * i for i in (1..n + 1)) == n:\n",
    "\n",
    "            vb = prod(wcb[x[i][0]] * wtb[x[i][1]] * scb[x[i][2]] * stb[x[i][3]] for i in range(n + 1))\n",
    "            chern_character = vb.chern_character()\n",
    "\n",
    "\n",
    "            result += variety.integration(\n",
    "                sum(\n",
    "                    chern_character[i]\n",
    "                    * todd_classes[variety.dimension() - i]\n",
    "                    for i in (0..variety.dimension())\n",
    "                )\n",
    "            ) * (-1)^m\n",
    "\n",
    "    return result"
   ]
  },
  {
   "cell_type": "code",
   "execution_count": 137,
   "metadata": {},
   "outputs": [],
   "source": [
    "Q_qy.<q, y> = LaurentPolynomialRing(QQ)\n",
    "# q, y = Q_qy.gens()\n",
    "\n",
    "def elliptic_genus(variety: IVariety, cutoff_q: int, cutoff_y: int):\n",
    "    result = 0\n",
    "    for n in (0..cutoff_q):\n",
    "        for m in (-cutoff_y..cutoff_y):\n",
    "            result += elliptic_genus_coefficient(variety, n, m) * q^n * y^m\n",
    "\n",
    "    return result"
   ]
  },
  {
   "cell_type": "code",
   "execution_count": 138,
   "metadata": {},
   "outputs": [
    {
     "data": {
      "text/plain": [
       "2*y^2 + 20*y + 2"
      ]
     },
     "execution_count": 138,
     "metadata": {},
     "output_type": "execute_result"
    }
   ],
   "source": [
    "elliptic_genus(Y, 0, 3)"
   ]
  },
  {
   "cell_type": "code",
   "execution_count": 139,
   "metadata": {},
   "outputs": [
    {
     "data": {
      "text/plain": [
       "20*q*y^3 - 128*q*y^2 + 216*q*y + 2*y^2 - 128*q + 20*y + 20*q*y^-1 + 2"
      ]
     },
     "execution_count": 139,
     "metadata": {},
     "output_type": "execute_result"
    }
   ],
   "source": [
    "elliptic_genus(Y, 1, 3) # 本当はこれにy^(-1)を掛けたものが正しい楕円種数"
   ]
  },
  {
   "attachments": {},
   "cell_type": "markdown",
   "metadata": {},
   "source": [
    "======= Quintic 3-fold ======="
   ]
  },
  {
   "cell_type": "code",
   "execution_count": 140,
   "metadata": {},
   "outputs": [
    {
     "data": {
      "text/plain": [
       "X---O---O---O\n",
       "1   2   3   4   \n",
       "A4 with node 1 marked"
      ]
     },
     "execution_count": 140,
     "metadata": {},
     "output_type": "execute_result"
    }
   ],
   "source": [
    "P = ParabolicSubgroup(CartanType('A4'), CartanType('A3'), [1])\n",
    "P.dynkin_diagram()"
   ]
  },
  {
   "cell_type": "code",
   "execution_count": 141,
   "metadata": {},
   "outputs": [],
   "source": [
    "X = FlagVariety(P)\n",
    "E = IrreducibleEquivariantVectorBundle(X, (5, 0, 0, 0, 0))\n",
    "quintic = CompleteIntersection(X, E)"
   ]
  },
  {
   "cell_type": "code",
   "execution_count": 142,
   "metadata": {},
   "outputs": [
    {
     "data": {
      "text/plain": [
       "[1,\n",
       " -x0 - x1 - x2 - x3 - x4,\n",
       " 11*x0^2 + 2*x0*x1 + 2*x0*x2 + x1*x2 + 2*x0*x3 + x1*x3 + x2*x3 + 2*x0*x4 + x1*x4 + x2*x4 + x3*x4,\n",
       " -51*x0^3 - 13*x0^2*x1 - 13*x0^2*x2 - 3*x0*x1*x2 - 13*x0^2*x3 - 3*x0*x1*x3 - 3*x0*x2*x3 - x1*x2*x3 - 13*x0^2*x4 - 3*x0*x1*x4 - 3*x0*x2*x4 - x1*x2*x4 - 3*x0*x3*x4 - x1*x3*x4 - x2*x3*x4]"
      ]
     },
     "execution_count": 142,
     "metadata": {},
     "output_type": "execute_result"
    }
   ],
   "source": [
    "quintic.chern_classes()"
   ]
  },
  {
   "cell_type": "code",
   "execution_count": 143,
   "metadata": {},
   "outputs": [
    {
     "data": {
      "text/plain": [
       "-100*y^2 + 100*y"
      ]
     },
     "execution_count": 143,
     "metadata": {},
     "output_type": "execute_result"
    }
   ],
   "source": [
    "chi_y(quintic)"
   ]
  },
  {
   "cell_type": "code",
   "execution_count": 144,
   "metadata": {},
   "outputs": [
    {
     "data": {
      "text/plain": [
       "-800*q^2*y^3 + 2500*q^2*y^2 - 2300*q^2*y - 100*q*y^2 + 800*q^2 - 100*q*y - 100*y^2 + 100*q^2*y^-1 - 100*y + 100*q^2*y^-2 + 100*q*y^-1"
      ]
     },
     "execution_count": 144,
     "metadata": {},
     "output_type": "execute_result"
    }
   ],
   "source": [
    "elliptic_genus(quintic, 2, 3)"
   ]
  },
  {
   "attachments": {},
   "cell_type": "markdown",
   "metadata": {},
   "source": [
    "======= G2 cases ======="
   ]
  },
  {
   "cell_type": "code",
   "execution_count": 145,
   "metadata": {},
   "outputs": [
    {
     "data": {
      "text/plain": [
       "  3\n",
       "O=<=O\n",
       "1   2   \n",
       "G2"
      ]
     },
     "execution_count": 145,
     "metadata": {},
     "output_type": "execute_result"
    }
   ],
   "source": [
    "G2 = CartanType('G2')\n",
    "G2.dynkin_diagram()"
   ]
  },
  {
   "cell_type": "code",
   "execution_count": 146,
   "metadata": {},
   "outputs": [],
   "source": [
    "P1 = ParabolicSubgroup(G2, CartanType('A1'), [1])\n",
    "P2 = ParabolicSubgroup(G2, CartanType('A1'), [2])"
   ]
  },
  {
   "cell_type": "code",
   "execution_count": 147,
   "metadata": {},
   "outputs": [
    {
     "data": {
      "text/plain": [
       "  3\n",
       "X=<=O\n",
       "1   2   \n",
       "G2 with node 1 marked"
      ]
     },
     "execution_count": 147,
     "metadata": {},
     "output_type": "execute_result"
    }
   ],
   "source": [
    "P1.dynkin_diagram()"
   ]
  },
  {
   "cell_type": "code",
   "execution_count": 148,
   "metadata": {},
   "outputs": [
    {
     "data": {
      "text/plain": [
       "  3\n",
       "O=<=X\n",
       "1   2   \n",
       "G2 with node 2 marked"
      ]
     },
     "execution_count": 148,
     "metadata": {},
     "output_type": "execute_result"
    }
   ],
   "source": [
    "P2.dynkin_diagram()"
   ]
  },
  {
   "cell_type": "code",
   "execution_count": 149,
   "metadata": {},
   "outputs": [],
   "source": [
    "X1 = FlagVariety(P1)\n",
    "X2 = FlagVariety(P2)"
   ]
  },
  {
   "cell_type": "code",
   "execution_count": 150,
   "metadata": {},
   "outputs": [],
   "source": [
    "w = (1, 1)\n",
    "E1 = IrreducibleEquivariantVectorBundle(X1, w)\n",
    "E2 = IrreducibleEquivariantVectorBundle(X2, w)"
   ]
  },
  {
   "cell_type": "code",
   "execution_count": 151,
   "metadata": {},
   "outputs": [],
   "source": [
    "Y1 = CompleteIntersection(X1, E1)\n",
    "Y2 = CompleteIntersection(X2, E2)"
   ]
  },
  {
   "cell_type": "code",
   "execution_count": 152,
   "metadata": {},
   "outputs": [
    {
     "data": {
      "text/plain": [
       "[1,\n",
       " 0,\n",
       " 3*x0^2 + x0*x1 - x1^2 - 7*x0*x2 + x1*x2 + 3*x2^2,\n",
       " -8*x0^3 + x0^2*x1 - x0*x1^2 + 23*x0^2*x2 + x1^2*x2 - 23*x0*x2^2 - x1*x2^2 + 8*x2^3]"
      ]
     },
     "execution_count": 152,
     "metadata": {},
     "output_type": "execute_result"
    }
   ],
   "source": [
    "Y1.chern_classes()"
   ]
  },
  {
   "cell_type": "code",
   "execution_count": 153,
   "metadata": {},
   "outputs": [
    {
     "data": {
      "text/plain": [
       "[1,\n",
       " 0,\n",
       " 5*x0^2 - 5*x0*x1 - x1^2 - 5*x0*x2 + 7*x1*x2 - x2^2,\n",
       " -14*x0^3 + 21*x0^2*x1 - 7*x0*x1^2 + 21*x0^2*x2 - 28*x0*x1*x2 + 7*x1^2*x2 - 7*x0*x2^2 + 7*x1*x2^2]"
      ]
     },
     "execution_count": 153,
     "metadata": {},
     "output_type": "execute_result"
    }
   ],
   "source": [
    "Y2.chern_classes()"
   ]
  },
  {
   "cell_type": "code",
   "execution_count": 154,
   "metadata": {},
   "outputs": [
    {
     "data": {
      "text/plain": [
       "-98"
      ]
     },
     "execution_count": 154,
     "metadata": {},
     "output_type": "execute_result"
    }
   ],
   "source": [
    "Y1.integration(Y1.chern_classes()[Y1.dimension()])"
   ]
  },
  {
   "cell_type": "code",
   "execution_count": 155,
   "metadata": {},
   "outputs": [
    {
     "data": {
      "text/plain": [
       "-98"
      ]
     },
     "execution_count": 155,
     "metadata": {},
     "output_type": "execute_result"
    }
   ],
   "source": [
    "Y2.integration(Y2.chern_classes()[Y2.dimension()])"
   ]
  },
  {
   "cell_type": "code",
   "execution_count": 156,
   "metadata": {},
   "outputs": [
    {
     "ename": "KeyboardInterrupt",
     "evalue": "",
     "output_type": "error",
     "traceback": [
      "\u001b[0;31m---------------------------------------------------------------------------\u001b[0m",
      "\u001b[0;31mKeyboardInterrupt\u001b[0m                         Traceback (most recent call last)",
      "\u001b[0;32m/tmp/ipykernel_30335/104674215.py\u001b[0m in \u001b[0;36m<module>\u001b[0;34m\u001b[0m\n\u001b[0;32m----> 1\u001b[0;31m \u001b[0melliptic_genus\u001b[0m\u001b[0;34m(\u001b[0m\u001b[0mY1\u001b[0m\u001b[0;34m,\u001b[0m \u001b[0mInteger\u001b[0m\u001b[0;34m(\u001b[0m\u001b[0;36m2\u001b[0m\u001b[0;34m)\u001b[0m\u001b[0;34m,\u001b[0m \u001b[0mInteger\u001b[0m\u001b[0;34m(\u001b[0m\u001b[0;36m3\u001b[0m\u001b[0;34m)\u001b[0m\u001b[0;34m)\u001b[0m\u001b[0;34m\u001b[0m\u001b[0;34m\u001b[0m\u001b[0m\n\u001b[0m",
      "\u001b[0;32m/tmp/ipykernel_30335/3898214307.py\u001b[0m in \u001b[0;36melliptic_genus\u001b[0;34m(variety, cutoff_q, cutoff_y)\u001b[0m\n\u001b[1;32m      6\u001b[0m     \u001b[0;32mfor\u001b[0m \u001b[0mn\u001b[0m \u001b[0;32min\u001b[0m \u001b[0;34m(\u001b[0m\u001b[0mellipsis_iter\u001b[0m\u001b[0;34m(\u001b[0m\u001b[0mInteger\u001b[0m\u001b[0;34m(\u001b[0m\u001b[0;36m0\u001b[0m\u001b[0;34m)\u001b[0m\u001b[0;34m,\u001b[0m\u001b[0mEllipsis\u001b[0m\u001b[0;34m,\u001b[0m\u001b[0mcutoff_q\u001b[0m\u001b[0;34m)\u001b[0m\u001b[0;34m)\u001b[0m\u001b[0;34m:\u001b[0m\u001b[0;34m\u001b[0m\u001b[0;34m\u001b[0m\u001b[0m\n\u001b[1;32m      7\u001b[0m         \u001b[0;32mfor\u001b[0m \u001b[0mm\u001b[0m \u001b[0;32min\u001b[0m \u001b[0;34m(\u001b[0m\u001b[0mellipsis_iter\u001b[0m\u001b[0;34m(\u001b[0m\u001b[0;34m-\u001b[0m\u001b[0mcutoff_y\u001b[0m\u001b[0;34m,\u001b[0m\u001b[0mEllipsis\u001b[0m\u001b[0;34m,\u001b[0m\u001b[0mcutoff_y\u001b[0m\u001b[0;34m)\u001b[0m\u001b[0;34m)\u001b[0m\u001b[0;34m:\u001b[0m\u001b[0;34m\u001b[0m\u001b[0;34m\u001b[0m\u001b[0m\n\u001b[0;32m----> 8\u001b[0;31m             \u001b[0mresult\u001b[0m \u001b[0;34m+=\u001b[0m \u001b[0melliptic_genus_coefficient\u001b[0m\u001b[0;34m(\u001b[0m\u001b[0mvariety\u001b[0m\u001b[0;34m,\u001b[0m \u001b[0mn\u001b[0m\u001b[0;34m,\u001b[0m \u001b[0mm\u001b[0m\u001b[0;34m)\u001b[0m \u001b[0;34m*\u001b[0m \u001b[0mq\u001b[0m\u001b[0;34m**\u001b[0m\u001b[0mn\u001b[0m \u001b[0;34m*\u001b[0m \u001b[0my\u001b[0m\u001b[0;34m**\u001b[0m\u001b[0mm\u001b[0m\u001b[0;34m\u001b[0m\u001b[0;34m\u001b[0m\u001b[0m\n\u001b[0m\u001b[1;32m      9\u001b[0m \u001b[0;34m\u001b[0m\u001b[0m\n\u001b[1;32m     10\u001b[0m     \u001b[0;32mreturn\u001b[0m \u001b[0mresult\u001b[0m\u001b[0;34m\u001b[0m\u001b[0;34m\u001b[0m\u001b[0m\n",
      "\u001b[0;32m/tmp/ipykernel_30335/3469659912.py\u001b[0m in \u001b[0;36melliptic_genus_coefficient\u001b[0;34m(variety, n, m)\u001b[0m\n\u001b[1;32m     39\u001b[0m \u001b[0;34m\u001b[0m\u001b[0m\n\u001b[1;32m     40\u001b[0m     \u001b[0;32mfor\u001b[0m \u001b[0mx\u001b[0m \u001b[0;32min\u001b[0m \u001b[0mindices\u001b[0m\u001b[0;34m:\u001b[0m\u001b[0;34m\u001b[0m\u001b[0;34m\u001b[0m\u001b[0m\n\u001b[0;32m---> 41\u001b[0;31m         \u001b[0;32mif\u001b[0m \u001b[0msum\u001b[0m\u001b[0;34m(\u001b[0m\u001b[0mx\u001b[0m\u001b[0;34m[\u001b[0m\u001b[0mi\u001b[0m\u001b[0;34m]\u001b[0m\u001b[0;34m[\u001b[0m\u001b[0mInteger\u001b[0m\u001b[0;34m(\u001b[0m\u001b[0;36m0\u001b[0m\u001b[0;34m)\u001b[0m\u001b[0;34m]\u001b[0m \u001b[0;34m-\u001b[0m \u001b[0mx\u001b[0m\u001b[0;34m[\u001b[0m\u001b[0mi\u001b[0m\u001b[0;34m]\u001b[0m\u001b[0;34m[\u001b[0m\u001b[0mInteger\u001b[0m\u001b[0;34m(\u001b[0m\u001b[0;36m1\u001b[0m\u001b[0;34m)\u001b[0m\u001b[0;34m]\u001b[0m \u001b[0;32mfor\u001b[0m \u001b[0mi\u001b[0m \u001b[0;32min\u001b[0m \u001b[0mrange\u001b[0m\u001b[0;34m(\u001b[0m\u001b[0mn\u001b[0m \u001b[0;34m+\u001b[0m \u001b[0mInteger\u001b[0m\u001b[0;34m(\u001b[0m\u001b[0;36m1\u001b[0m\u001b[0;34m)\u001b[0m\u001b[0;34m)\u001b[0m\u001b[0;34m)\u001b[0m \u001b[0;34m==\u001b[0m \u001b[0mm\u001b[0m             \u001b[0;32mand\u001b[0m \u001b[0msum\u001b[0m\u001b[0;34m(\u001b[0m\u001b[0mx\u001b[0m\u001b[0;34m[\u001b[0m\u001b[0mi\u001b[0m \u001b[0;34m-\u001b[0m \u001b[0mInteger\u001b[0m\u001b[0;34m(\u001b[0m\u001b[0;36m1\u001b[0m\u001b[0;34m)\u001b[0m\u001b[0;34m]\u001b[0m\u001b[0;34m[\u001b[0m\u001b[0mInteger\u001b[0m\u001b[0;34m(\u001b[0m\u001b[0;36m0\u001b[0m\u001b[0;34m)\u001b[0m\u001b[0;34m]\u001b[0m \u001b[0;34m*\u001b[0m \u001b[0;34m(\u001b[0m\u001b[0mi\u001b[0m \u001b[0;34m-\u001b[0m \u001b[0mInteger\u001b[0m\u001b[0;34m(\u001b[0m\u001b[0;36m1\u001b[0m\u001b[0;34m)\u001b[0m\u001b[0;34m)\u001b[0m \u001b[0;34m+\u001b[0m \u001b[0mx\u001b[0m\u001b[0;34m[\u001b[0m\u001b[0mi\u001b[0m \u001b[0;34m-\u001b[0m \u001b[0mInteger\u001b[0m\u001b[0;34m(\u001b[0m\u001b[0;36m1\u001b[0m\u001b[0;34m)\u001b[0m\u001b[0;34m]\u001b[0m\u001b[0;34m[\u001b[0m\u001b[0mInteger\u001b[0m\u001b[0;34m(\u001b[0m\u001b[0;36m1\u001b[0m\u001b[0;34m)\u001b[0m\u001b[0;34m]\u001b[0m \u001b[0;34m*\u001b[0m \u001b[0mi\u001b[0m \u001b[0;34m+\u001b[0m \u001b[0mx\u001b[0m\u001b[0;34m[\u001b[0m\u001b[0mi\u001b[0m \u001b[0;34m-\u001b[0m \u001b[0mInteger\u001b[0m\u001b[0;34m(\u001b[0m\u001b[0;36m1\u001b[0m\u001b[0;34m)\u001b[0m\u001b[0;34m]\u001b[0m\u001b[0;34m[\u001b[0m\u001b[0mInteger\u001b[0m\u001b[0;34m(\u001b[0m\u001b[0;36m2\u001b[0m\u001b[0;34m)\u001b[0m\u001b[0;34m]\u001b[0m \u001b[0;34m*\u001b[0m \u001b[0mi\u001b[0m \u001b[0;34m+\u001b[0m \u001b[0mx\u001b[0m\u001b[0;34m[\u001b[0m\u001b[0mi\u001b[0m \u001b[0;34m-\u001b[0m \u001b[0mInteger\u001b[0m\u001b[0;34m(\u001b[0m\u001b[0;36m1\u001b[0m\u001b[0;34m)\u001b[0m\u001b[0;34m]\u001b[0m\u001b[0;34m[\u001b[0m\u001b[0mInteger\u001b[0m\u001b[0;34m(\u001b[0m\u001b[0;36m3\u001b[0m\u001b[0;34m)\u001b[0m\u001b[0;34m]\u001b[0m \u001b[0;34m*\u001b[0m \u001b[0mi\u001b[0m \u001b[0;32mfor\u001b[0m \u001b[0mi\u001b[0m \u001b[0;32min\u001b[0m \u001b[0;34m(\u001b[0m\u001b[0mellipsis_iter\u001b[0m\u001b[0;34m(\u001b[0m\u001b[0mInteger\u001b[0m\u001b[0;34m(\u001b[0m\u001b[0;36m1\u001b[0m\u001b[0;34m)\u001b[0m\u001b[0;34m,\u001b[0m\u001b[0mEllipsis\u001b[0m\u001b[0;34m,\u001b[0m\u001b[0mn\u001b[0m \u001b[0;34m+\u001b[0m \u001b[0mInteger\u001b[0m\u001b[0;34m(\u001b[0m\u001b[0;36m1\u001b[0m\u001b[0;34m)\u001b[0m\u001b[0;34m)\u001b[0m\u001b[0;34m)\u001b[0m\u001b[0;34m)\u001b[0m \u001b[0;34m==\u001b[0m \u001b[0mn\u001b[0m\u001b[0;34m:\u001b[0m\u001b[0;34m\u001b[0m\u001b[0;34m\u001b[0m\u001b[0m\n\u001b[0m\u001b[1;32m     42\u001b[0m \u001b[0;34m\u001b[0m\u001b[0m\n\u001b[1;32m     43\u001b[0m             \u001b[0mvb\u001b[0m \u001b[0;34m=\u001b[0m \u001b[0mprod\u001b[0m\u001b[0;34m(\u001b[0m\u001b[0mwcb\u001b[0m\u001b[0;34m[\u001b[0m\u001b[0mx\u001b[0m\u001b[0;34m[\u001b[0m\u001b[0mi\u001b[0m\u001b[0;34m]\u001b[0m\u001b[0;34m[\u001b[0m\u001b[0mInteger\u001b[0m\u001b[0;34m(\u001b[0m\u001b[0;36m0\u001b[0m\u001b[0;34m)\u001b[0m\u001b[0;34m]\u001b[0m\u001b[0;34m]\u001b[0m \u001b[0;34m*\u001b[0m \u001b[0mwtb\u001b[0m\u001b[0;34m[\u001b[0m\u001b[0mx\u001b[0m\u001b[0;34m[\u001b[0m\u001b[0mi\u001b[0m\u001b[0;34m]\u001b[0m\u001b[0;34m[\u001b[0m\u001b[0mInteger\u001b[0m\u001b[0;34m(\u001b[0m\u001b[0;36m1\u001b[0m\u001b[0;34m)\u001b[0m\u001b[0;34m]\u001b[0m\u001b[0;34m]\u001b[0m \u001b[0;34m*\u001b[0m \u001b[0mscb\u001b[0m\u001b[0;34m[\u001b[0m\u001b[0mx\u001b[0m\u001b[0;34m[\u001b[0m\u001b[0mi\u001b[0m\u001b[0;34m]\u001b[0m\u001b[0;34m[\u001b[0m\u001b[0mInteger\u001b[0m\u001b[0;34m(\u001b[0m\u001b[0;36m2\u001b[0m\u001b[0;34m)\u001b[0m\u001b[0;34m]\u001b[0m\u001b[0;34m]\u001b[0m \u001b[0;34m*\u001b[0m \u001b[0mstb\u001b[0m\u001b[0;34m[\u001b[0m\u001b[0mx\u001b[0m\u001b[0;34m[\u001b[0m\u001b[0mi\u001b[0m\u001b[0;34m]\u001b[0m\u001b[0;34m[\u001b[0m\u001b[0mInteger\u001b[0m\u001b[0;34m(\u001b[0m\u001b[0;36m3\u001b[0m\u001b[0;34m)\u001b[0m\u001b[0;34m]\u001b[0m\u001b[0;34m]\u001b[0m \u001b[0;32mfor\u001b[0m \u001b[0mi\u001b[0m \u001b[0;32min\u001b[0m \u001b[0mrange\u001b[0m\u001b[0;34m(\u001b[0m\u001b[0mn\u001b[0m \u001b[0;34m+\u001b[0m \u001b[0mInteger\u001b[0m\u001b[0;34m(\u001b[0m\u001b[0;36m1\u001b[0m\u001b[0;34m)\u001b[0m\u001b[0;34m)\u001b[0m\u001b[0;34m)\u001b[0m\u001b[0;34m\u001b[0m\u001b[0;34m\u001b[0m\u001b[0m\n",
      "\u001b[0;32m/usr/lib/python3/dist-packages/sage/misc/functional.py\u001b[0m in \u001b[0;36msymbolic_sum\u001b[0;34m(expression, *args, **kwds)\u001b[0m\n\u001b[1;32m    574\u001b[0m         \u001b[0;32mreturn\u001b[0m \u001b[0mexpression\u001b[0m\u001b[0;34m.\u001b[0m\u001b[0msum\u001b[0m\u001b[0;34m(\u001b[0m\u001b[0;34m*\u001b[0m\u001b[0margs\u001b[0m\u001b[0;34m,\u001b[0m \u001b[0;34m**\u001b[0m\u001b[0mkwds\u001b[0m\u001b[0;34m)\u001b[0m\u001b[0;34m\u001b[0m\u001b[0;34m\u001b[0m\u001b[0m\n\u001b[1;32m    575\u001b[0m     \u001b[0;32melif\u001b[0m \u001b[0mlen\u001b[0m\u001b[0;34m(\u001b[0m\u001b[0margs\u001b[0m\u001b[0;34m)\u001b[0m \u001b[0;34m<=\u001b[0m \u001b[0;36m1\u001b[0m\u001b[0;34m:\u001b[0m\u001b[0;34m\u001b[0m\u001b[0;34m\u001b[0m\u001b[0m\n\u001b[0;32m--> 576\u001b[0;31m         \u001b[0;32mreturn\u001b[0m \u001b[0msum\u001b[0m\u001b[0;34m(\u001b[0m\u001b[0mexpression\u001b[0m\u001b[0;34m,\u001b[0m \u001b[0;34m*\u001b[0m\u001b[0margs\u001b[0m\u001b[0;34m)\u001b[0m\u001b[0;34m\u001b[0m\u001b[0;34m\u001b[0m\u001b[0m\n\u001b[0m\u001b[1;32m    577\u001b[0m     \u001b[0;32melse\u001b[0m\u001b[0;34m:\u001b[0m\u001b[0;34m\u001b[0m\u001b[0;34m\u001b[0m\u001b[0m\n\u001b[1;32m    578\u001b[0m         \u001b[0;32mfrom\u001b[0m \u001b[0msage\u001b[0m\u001b[0;34m.\u001b[0m\u001b[0msymbolic\u001b[0m\u001b[0;34m.\u001b[0m\u001b[0mring\u001b[0m \u001b[0;32mimport\u001b[0m \u001b[0mSR\u001b[0m\u001b[0;34m\u001b[0m\u001b[0;34m\u001b[0m\u001b[0m\n",
      "\u001b[0;32m/tmp/ipykernel_30335/3469659912.py\u001b[0m in \u001b[0;36m<genexpr>\u001b[0;34m(.0)\u001b[0m\n\u001b[1;32m     39\u001b[0m \u001b[0;34m\u001b[0m\u001b[0m\n\u001b[1;32m     40\u001b[0m     \u001b[0;32mfor\u001b[0m \u001b[0mx\u001b[0m \u001b[0;32min\u001b[0m \u001b[0mindices\u001b[0m\u001b[0;34m:\u001b[0m\u001b[0;34m\u001b[0m\u001b[0;34m\u001b[0m\u001b[0m\n\u001b[0;32m---> 41\u001b[0;31m         \u001b[0;32mif\u001b[0m \u001b[0msum\u001b[0m\u001b[0;34m(\u001b[0m\u001b[0mx\u001b[0m\u001b[0;34m[\u001b[0m\u001b[0mi\u001b[0m\u001b[0;34m]\u001b[0m\u001b[0;34m[\u001b[0m\u001b[0mInteger\u001b[0m\u001b[0;34m(\u001b[0m\u001b[0;36m0\u001b[0m\u001b[0;34m)\u001b[0m\u001b[0;34m]\u001b[0m \u001b[0;34m-\u001b[0m \u001b[0mx\u001b[0m\u001b[0;34m[\u001b[0m\u001b[0mi\u001b[0m\u001b[0;34m]\u001b[0m\u001b[0;34m[\u001b[0m\u001b[0mInteger\u001b[0m\u001b[0;34m(\u001b[0m\u001b[0;36m1\u001b[0m\u001b[0;34m)\u001b[0m\u001b[0;34m]\u001b[0m \u001b[0;32mfor\u001b[0m \u001b[0mi\u001b[0m \u001b[0;32min\u001b[0m \u001b[0mrange\u001b[0m\u001b[0;34m(\u001b[0m\u001b[0mn\u001b[0m \u001b[0;34m+\u001b[0m \u001b[0mInteger\u001b[0m\u001b[0;34m(\u001b[0m\u001b[0;36m1\u001b[0m\u001b[0;34m)\u001b[0m\u001b[0;34m)\u001b[0m\u001b[0;34m)\u001b[0m \u001b[0;34m==\u001b[0m \u001b[0mm\u001b[0m             \u001b[0;32mand\u001b[0m \u001b[0msum\u001b[0m\u001b[0;34m(\u001b[0m\u001b[0mx\u001b[0m\u001b[0;34m[\u001b[0m\u001b[0mi\u001b[0m \u001b[0;34m-\u001b[0m \u001b[0mInteger\u001b[0m\u001b[0;34m(\u001b[0m\u001b[0;36m1\u001b[0m\u001b[0;34m)\u001b[0m\u001b[0;34m]\u001b[0m\u001b[0;34m[\u001b[0m\u001b[0mInteger\u001b[0m\u001b[0;34m(\u001b[0m\u001b[0;36m0\u001b[0m\u001b[0;34m)\u001b[0m\u001b[0;34m]\u001b[0m \u001b[0;34m*\u001b[0m \u001b[0;34m(\u001b[0m\u001b[0mi\u001b[0m \u001b[0;34m-\u001b[0m \u001b[0mInteger\u001b[0m\u001b[0;34m(\u001b[0m\u001b[0;36m1\u001b[0m\u001b[0;34m)\u001b[0m\u001b[0;34m)\u001b[0m \u001b[0;34m+\u001b[0m \u001b[0mx\u001b[0m\u001b[0;34m[\u001b[0m\u001b[0mi\u001b[0m \u001b[0;34m-\u001b[0m \u001b[0mInteger\u001b[0m\u001b[0;34m(\u001b[0m\u001b[0;36m1\u001b[0m\u001b[0;34m)\u001b[0m\u001b[0;34m]\u001b[0m\u001b[0;34m[\u001b[0m\u001b[0mInteger\u001b[0m\u001b[0;34m(\u001b[0m\u001b[0;36m1\u001b[0m\u001b[0;34m)\u001b[0m\u001b[0;34m]\u001b[0m \u001b[0;34m*\u001b[0m \u001b[0mi\u001b[0m \u001b[0;34m+\u001b[0m \u001b[0mx\u001b[0m\u001b[0;34m[\u001b[0m\u001b[0mi\u001b[0m \u001b[0;34m-\u001b[0m \u001b[0mInteger\u001b[0m\u001b[0;34m(\u001b[0m\u001b[0;36m1\u001b[0m\u001b[0;34m)\u001b[0m\u001b[0;34m]\u001b[0m\u001b[0;34m[\u001b[0m\u001b[0mInteger\u001b[0m\u001b[0;34m(\u001b[0m\u001b[0;36m2\u001b[0m\u001b[0;34m)\u001b[0m\u001b[0;34m]\u001b[0m \u001b[0;34m*\u001b[0m \u001b[0mi\u001b[0m \u001b[0;34m+\u001b[0m \u001b[0mx\u001b[0m\u001b[0;34m[\u001b[0m\u001b[0mi\u001b[0m \u001b[0;34m-\u001b[0m \u001b[0mInteger\u001b[0m\u001b[0;34m(\u001b[0m\u001b[0;36m1\u001b[0m\u001b[0;34m)\u001b[0m\u001b[0;34m]\u001b[0m\u001b[0;34m[\u001b[0m\u001b[0mInteger\u001b[0m\u001b[0;34m(\u001b[0m\u001b[0;36m3\u001b[0m\u001b[0;34m)\u001b[0m\u001b[0;34m]\u001b[0m \u001b[0;34m*\u001b[0m \u001b[0mi\u001b[0m \u001b[0;32mfor\u001b[0m \u001b[0mi\u001b[0m \u001b[0;32min\u001b[0m \u001b[0;34m(\u001b[0m\u001b[0mellipsis_iter\u001b[0m\u001b[0;34m(\u001b[0m\u001b[0mInteger\u001b[0m\u001b[0;34m(\u001b[0m\u001b[0;36m1\u001b[0m\u001b[0;34m)\u001b[0m\u001b[0;34m,\u001b[0m\u001b[0mEllipsis\u001b[0m\u001b[0;34m,\u001b[0m\u001b[0mn\u001b[0m \u001b[0;34m+\u001b[0m \u001b[0mInteger\u001b[0m\u001b[0;34m(\u001b[0m\u001b[0;36m1\u001b[0m\u001b[0;34m)\u001b[0m\u001b[0;34m)\u001b[0m\u001b[0;34m)\u001b[0m\u001b[0;34m)\u001b[0m \u001b[0;34m==\u001b[0m \u001b[0mn\u001b[0m\u001b[0;34m:\u001b[0m\u001b[0;34m\u001b[0m\u001b[0;34m\u001b[0m\u001b[0m\n\u001b[0m\u001b[1;32m     42\u001b[0m \u001b[0;34m\u001b[0m\u001b[0m\n\u001b[1;32m     43\u001b[0m             \u001b[0mvb\u001b[0m \u001b[0;34m=\u001b[0m \u001b[0mprod\u001b[0m\u001b[0;34m(\u001b[0m\u001b[0mwcb\u001b[0m\u001b[0;34m[\u001b[0m\u001b[0mx\u001b[0m\u001b[0;34m[\u001b[0m\u001b[0mi\u001b[0m\u001b[0;34m]\u001b[0m\u001b[0;34m[\u001b[0m\u001b[0mInteger\u001b[0m\u001b[0;34m(\u001b[0m\u001b[0;36m0\u001b[0m\u001b[0;34m)\u001b[0m\u001b[0;34m]\u001b[0m\u001b[0;34m]\u001b[0m \u001b[0;34m*\u001b[0m \u001b[0mwtb\u001b[0m\u001b[0;34m[\u001b[0m\u001b[0mx\u001b[0m\u001b[0;34m[\u001b[0m\u001b[0mi\u001b[0m\u001b[0;34m]\u001b[0m\u001b[0;34m[\u001b[0m\u001b[0mInteger\u001b[0m\u001b[0;34m(\u001b[0m\u001b[0;36m1\u001b[0m\u001b[0;34m)\u001b[0m\u001b[0;34m]\u001b[0m\u001b[0;34m]\u001b[0m \u001b[0;34m*\u001b[0m \u001b[0mscb\u001b[0m\u001b[0;34m[\u001b[0m\u001b[0mx\u001b[0m\u001b[0;34m[\u001b[0m\u001b[0mi\u001b[0m\u001b[0;34m]\u001b[0m\u001b[0;34m[\u001b[0m\u001b[0mInteger\u001b[0m\u001b[0;34m(\u001b[0m\u001b[0;36m2\u001b[0m\u001b[0;34m)\u001b[0m\u001b[0;34m]\u001b[0m\u001b[0;34m]\u001b[0m \u001b[0;34m*\u001b[0m \u001b[0mstb\u001b[0m\u001b[0;34m[\u001b[0m\u001b[0mx\u001b[0m\u001b[0;34m[\u001b[0m\u001b[0mi\u001b[0m\u001b[0;34m]\u001b[0m\u001b[0;34m[\u001b[0m\u001b[0mInteger\u001b[0m\u001b[0;34m(\u001b[0m\u001b[0;36m3\u001b[0m\u001b[0;34m)\u001b[0m\u001b[0;34m]\u001b[0m\u001b[0;34m]\u001b[0m \u001b[0;32mfor\u001b[0m \u001b[0mi\u001b[0m \u001b[0;32min\u001b[0m \u001b[0mrange\u001b[0m\u001b[0;34m(\u001b[0m\u001b[0mn\u001b[0m \u001b[0;34m+\u001b[0m \u001b[0mInteger\u001b[0m\u001b[0;34m(\u001b[0m\u001b[0;36m1\u001b[0m\u001b[0;34m)\u001b[0m\u001b[0;34m)\u001b[0m\u001b[0;34m)\u001b[0m\u001b[0;34m\u001b[0m\u001b[0;34m\u001b[0m\u001b[0m\n",
      "\u001b[0;32m/usr/lib/python3/dist-packages/sage/arith/srange.pyx\u001b[0m in \u001b[0;36mellipsis_iter (build/cythonized/sage/arith/srange.c:4830)\u001b[0;34m()\u001b[0m\n\u001b[1;32m    381\u001b[0m                 \u001b[0mstep_magic\u001b[0m \u001b[0;34m=\u001b[0m \u001b[0mi\u001b[0m\u001b[0;34m\u001b[0m\u001b[0;34m\u001b[0m\u001b[0m\n\u001b[1;32m    382\u001b[0m \u001b[0;34m\u001b[0m\u001b[0m\n\u001b[0;32m--> 383\u001b[0;31m     \u001b[0mS\u001b[0m \u001b[0;34m=\u001b[0m \u001b[0mSequence\u001b[0m\u001b[0;34m(\u001b[0m\u001b[0;34m[\u001b[0m\u001b[0ma\u001b[0m \u001b[0;32mfor\u001b[0m \u001b[0ma\u001b[0m \u001b[0;32min\u001b[0m \u001b[0margs\u001b[0m \u001b[0;32mif\u001b[0m \u001b[0ma\u001b[0m \u001b[0;32mis\u001b[0m \u001b[0;32mnot\u001b[0m \u001b[0mEllipsis\u001b[0m\u001b[0;34m]\u001b[0m \u001b[0;34m+\u001b[0m \u001b[0;34m[\u001b[0m\u001b[0mstep\u001b[0m\u001b[0;34m]\u001b[0m\u001b[0;34m)\u001b[0m\u001b[0;34m\u001b[0m\u001b[0;34m\u001b[0m\u001b[0m\n\u001b[0m\u001b[1;32m    384\u001b[0m     \u001b[0muniverse\u001b[0m \u001b[0;34m=\u001b[0m \u001b[0mS\u001b[0m\u001b[0;34m.\u001b[0m\u001b[0muniverse\u001b[0m\u001b[0;34m(\u001b[0m\u001b[0;34m)\u001b[0m\u001b[0;34m\u001b[0m\u001b[0;34m\u001b[0m\u001b[0m\n\u001b[1;32m    385\u001b[0m     \u001b[0margs\u001b[0m \u001b[0;34m=\u001b[0m \u001b[0;34m[\u001b[0m\u001b[0mEllipsis\u001b[0m \u001b[0;32mif\u001b[0m \u001b[0ma\u001b[0m \u001b[0;32mis\u001b[0m \u001b[0mEllipsis\u001b[0m \u001b[0;32melse\u001b[0m \u001b[0muniverse\u001b[0m\u001b[0;34m(\u001b[0m\u001b[0ma\u001b[0m\u001b[0;34m)\u001b[0m \u001b[0;32mfor\u001b[0m \u001b[0ma\u001b[0m \u001b[0;32min\u001b[0m \u001b[0margs\u001b[0m\u001b[0;34m]\u001b[0m\u001b[0;34m\u001b[0m\u001b[0;34m\u001b[0m\u001b[0m\n",
      "\u001b[0;32m/usr/lib/python3/dist-packages/sage/structure/sequence.py\u001b[0m in \u001b[0;36mSequence\u001b[0;34m(x, universe, check, immutable, cr, cr_str, use_sage_types)\u001b[0m\n\u001b[1;32m    261\u001b[0m         \u001b[0;32mpass\u001b[0m\u001b[0;34m\u001b[0m\u001b[0;34m\u001b[0m\u001b[0m\n\u001b[1;32m    262\u001b[0m     \u001b[0;32melse\u001b[0m\u001b[0;34m:\u001b[0m\u001b[0;34m\u001b[0m\u001b[0;34m\u001b[0m\u001b[0m\n\u001b[0;32m--> 263\u001b[0;31m         \u001b[0;32mif\u001b[0m \u001b[0mis_MPolynomialRing\u001b[0m\u001b[0;34m(\u001b[0m\u001b[0muniverse\u001b[0m\u001b[0;34m)\u001b[0m \u001b[0;32mor\u001b[0m \u001b[0misinstance\u001b[0m\u001b[0;34m(\u001b[0m\u001b[0muniverse\u001b[0m\u001b[0;34m,\u001b[0m \u001b[0mBooleanMonomialMonoid\u001b[0m\u001b[0;34m)\u001b[0m \u001b[0;32mor\u001b[0m \u001b[0;34m(\u001b[0m\u001b[0mis_QuotientRing\u001b[0m\u001b[0;34m(\u001b[0m\u001b[0muniverse\u001b[0m\u001b[0;34m)\u001b[0m \u001b[0;32mand\u001b[0m \u001b[0mis_MPolynomialRing\u001b[0m\u001b[0;34m(\u001b[0m\u001b[0muniverse\u001b[0m\u001b[0;34m.\u001b[0m\u001b[0mcover_ring\u001b[0m\u001b[0;34m(\u001b[0m\u001b[0;34m)\u001b[0m\u001b[0;34m)\u001b[0m\u001b[0;34m)\u001b[0m\u001b[0;34m:\u001b[0m\u001b[0;34m\u001b[0m\u001b[0;34m\u001b[0m\u001b[0m\n\u001b[0m\u001b[1;32m    264\u001b[0m             \u001b[0;32mreturn\u001b[0m \u001b[0mPolynomialSequence\u001b[0m\u001b[0;34m(\u001b[0m\u001b[0mx\u001b[0m\u001b[0;34m,\u001b[0m \u001b[0muniverse\u001b[0m\u001b[0;34m,\u001b[0m \u001b[0mimmutable\u001b[0m\u001b[0;34m=\u001b[0m\u001b[0mimmutable\u001b[0m\u001b[0;34m,\u001b[0m \u001b[0mcr\u001b[0m\u001b[0;34m=\u001b[0m\u001b[0mcr\u001b[0m\u001b[0;34m,\u001b[0m \u001b[0mcr_str\u001b[0m\u001b[0;34m=\u001b[0m\u001b[0mcr_str\u001b[0m\u001b[0;34m)\u001b[0m\u001b[0;34m\u001b[0m\u001b[0;34m\u001b[0m\u001b[0m\n\u001b[1;32m    265\u001b[0m \u001b[0;34m\u001b[0m\u001b[0m\n",
      "\u001b[0;32msrc/cysignals/signals.pyx\u001b[0m in \u001b[0;36mcysignals.signals.python_check_interrupt\u001b[0;34m()\u001b[0m\n",
      "\u001b[0;31mKeyboardInterrupt\u001b[0m: "
     ]
    }
   ],
   "source": [
    "elliptic_genus(Y1, 2, 3)"
   ]
  },
  {
   "cell_type": "code",
   "execution_count": null,
   "metadata": {},
   "outputs": [
    {
     "data": {
      "text/plain": [
       "-392*q^2*y^3 + 1225*q^2*y^2 - 1127*q^2*y - 49*q*y^2 + 392*q^2 - 49*q*y - 49*y^2 - 49*y"
      ]
     },
     "execution_count": 120,
     "metadata": {},
     "output_type": "execute_result"
    }
   ],
   "source": [
    "elliptic_genus(Y2, 2, 3)"
   ]
  },
  {
   "attachments": {},
   "cell_type": "markdown",
   "metadata": {},
   "source": [
    "======= F4 cases ======="
   ]
  },
  {
   "cell_type": "code",
   "execution_count": null,
   "metadata": {},
   "outputs": [
    {
     "data": {
      "text/plain": [
       "O---O=>=O---O\n",
       "1   2   3   4   \n",
       "F4"
      ]
     },
     "execution_count": 122,
     "metadata": {},
     "output_type": "execute_result"
    }
   ],
   "source": [
    "G = CartanType('F4')\n",
    "G.dynkin_diagram()"
   ]
  },
  {
   "cell_type": "code",
   "execution_count": null,
   "metadata": {},
   "outputs": [
    {
     "data": {
      "text/plain": [
       "the parabolic subgroup of ['F', 4] with crossed-out nodes [2]"
      ]
     },
     "execution_count": 123,
     "metadata": {},
     "output_type": "execute_result"
    }
   ],
   "source": [
    "P1 = ParabolicSubgroup(G, CartanType('A1', 'A2'), [2])\n",
    "P1"
   ]
  },
  {
   "cell_type": "code",
   "execution_count": null,
   "metadata": {},
   "outputs": [
    {
     "data": {
      "text/plain": [
       "O---X=>=O---O\n",
       "1   2   3   4   \n",
       "F4 with node 2 marked"
      ]
     },
     "execution_count": 124,
     "metadata": {},
     "output_type": "execute_result"
    }
   ],
   "source": [
    "P1.dynkin_diagram()"
   ]
  },
  {
   "cell_type": "code",
   "execution_count": null,
   "metadata": {},
   "outputs": [
    {
     "data": {
      "text/plain": [
       "a flag_variety associated to the parabolic subgroup of ['F', 4] with crossed-out nodes [2]"
      ]
     },
     "execution_count": 125,
     "metadata": {},
     "output_type": "execute_result"
    }
   ],
   "source": [
    "X1 = FlagVariety(P1)\n",
    "X1"
   ]
  },
  {
   "cell_type": "code",
   "execution_count": null,
   "metadata": {},
   "outputs": [
    {
     "data": {
      "text/plain": [
       "an equivariant vector bundle on a flag_variety associated to the parabolic subgroup of ['F', 4] with crossed-out nodes [2] associated to (0, 1, 1, 0)"
      ]
     },
     "execution_count": 126,
     "metadata": {},
     "output_type": "execute_result"
    }
   ],
   "source": [
    "w1 = (0, 1, 1, 0)\n",
    "E1 = IrreducibleEquivariantVectorBundle(X1, w1)\n",
    "E1"
   ]
  },
  {
   "cell_type": "code",
   "execution_count": null,
   "metadata": {},
   "outputs": [
    {
     "data": {
      "text/plain": [
       "3"
      ]
     },
     "execution_count": 127,
     "metadata": {},
     "output_type": "execute_result"
    }
   ],
   "source": [
    "E1.rank()"
   ]
  },
  {
   "cell_type": "code",
   "execution_count": null,
   "metadata": {},
   "outputs": [],
   "source": [
    "# euler_characteristic(X1, E1)"
   ]
  },
  {
   "cell_type": "code",
   "execution_count": null,
   "metadata": {},
   "outputs": [
    {
     "data": {
      "text/plain": [
       "107406"
      ]
     },
     "execution_count": 129,
     "metadata": {},
     "output_type": "execute_result"
    }
   ],
   "source": [
    "P1.weyl_dimension(w1)"
   ]
  },
  {
   "cell_type": "code",
   "execution_count": null,
   "metadata": {},
   "outputs": [
    {
     "data": {
      "text/plain": [
       "6"
      ]
     },
     "execution_count": 130,
     "metadata": {},
     "output_type": "execute_result"
    }
   ],
   "source": [
    "w2 = (5, 0, 0, 0)\n",
    "E2 = IrreducibleEquivariantVectorBundle(X1, w2)\n",
    "E2.rank()"
   ]
  },
  {
   "cell_type": "code",
   "execution_count": null,
   "metadata": {},
   "outputs": [],
   "source": [
    "# euler_characteristic(X1, E2)"
   ]
  },
  {
   "cell_type": "code",
   "execution_count": null,
   "metadata": {},
   "outputs": [
    {
     "data": {
      "text/plain": [
       "627912"
      ]
     },
     "execution_count": 132,
     "metadata": {},
     "output_type": "execute_result"
    }
   ],
   "source": [
    "P1.weyl_dimension(w2)"
   ]
  },
  {
   "cell_type": "code",
   "execution_count": null,
   "metadata": {},
   "outputs": [
    {
     "data": {
      "text/plain": [
       "the parabolic subgroup of ['F', 4] with crossed-out nodes [3]"
      ]
     },
     "execution_count": 133,
     "metadata": {},
     "output_type": "execute_result"
    }
   ],
   "source": [
    "P2 = ParabolicSubgroup(G, CartanType('A2', 'A1'), [3])\n",
    "P2"
   ]
  },
  {
   "cell_type": "code",
   "execution_count": null,
   "metadata": {},
   "outputs": [
    {
     "data": {
      "text/plain": [
       "O---O=>=X---O\n",
       "1   2   3   4   \n",
       "F4 with node 3 marked"
      ]
     },
     "execution_count": 134,
     "metadata": {},
     "output_type": "execute_result"
    }
   ],
   "source": [
    "P2.dynkin_diagram()"
   ]
  },
  {
   "cell_type": "code",
   "execution_count": null,
   "metadata": {},
   "outputs": [
    {
     "data": {
      "text/plain": [
       "a flag_variety associated to the parabolic subgroup of ['F', 4] with crossed-out nodes [3]"
      ]
     },
     "execution_count": 135,
     "metadata": {},
     "output_type": "execute_result"
    }
   ],
   "source": [
    "X2 = FlagVariety(P2)\n",
    "X2"
   ]
  },
  {
   "cell_type": "code",
   "execution_count": null,
   "metadata": {},
   "outputs": [
    {
     "data": {
      "text/plain": [
       "an equivariant vector bundle on a flag_variety associated to the parabolic subgroup of ['F', 4] with crossed-out nodes [3] associated to (0, 1, 1, 0)"
      ]
     },
     "execution_count": 136,
     "metadata": {},
     "output_type": "execute_result"
    }
   ],
   "source": [
    "w3 = (0, 1, 1, 0)\n",
    "E3 = IrreducibleEquivariantVectorBundle(X2, w3)\n",
    "E3"
   ]
  },
  {
   "cell_type": "code",
   "execution_count": null,
   "metadata": {},
   "outputs": [],
   "source": [
    "# euler_characteristic(X2, E3)"
   ]
  },
  {
   "cell_type": "code",
   "execution_count": null,
   "metadata": {},
   "outputs": [
    {
     "data": {
      "text/plain": [
       "107406"
      ]
     },
     "execution_count": 138,
     "metadata": {},
     "output_type": "execute_result"
    }
   ],
   "source": [
    "P2.weyl_dimension(w3)"
   ]
  },
  {
   "cell_type": "code",
   "execution_count": null,
   "metadata": {},
   "outputs": [
    {
     "data": {
      "text/plain": [
       "15"
      ]
     },
     "execution_count": 139,
     "metadata": {},
     "output_type": "execute_result"
    }
   ],
   "source": [
    "w4 = (2, 1, 0, 0)\n",
    "E4 = IrreducibleEquivariantVectorBundle(X2, w4)\n",
    "E4.rank()"
   ]
  },
  {
   "cell_type": "code",
   "execution_count": null,
   "metadata": {},
   "outputs": [],
   "source": [
    "# euler_characteristic(X2, E4)"
   ]
  },
  {
   "cell_type": "code",
   "execution_count": null,
   "metadata": {},
   "outputs": [
    {
     "data": {
      "text/plain": [
       "340119"
      ]
     },
     "execution_count": 141,
     "metadata": {},
     "output_type": "execute_result"
    }
   ],
   "source": [
    "P2.weyl_dimension(w4)"
   ]
  },
  {
   "cell_type": "code",
   "execution_count": null,
   "metadata": {},
   "outputs": [],
   "source": [
    "Y1 = CompleteIntersection(X1, E1)\n",
    "Y2 = CompleteIntersection(X2, E3)"
   ]
  },
  {
   "cell_type": "code",
   "execution_count": null,
   "metadata": {},
   "outputs": [
    {
     "data": {
      "text/plain": [
       "[1,\n",
       " 0,\n",
       " 25/2*x0^2 + 16*x0*x1 + 1/2*x1^2 + 16*x0*x2 + 8*x1*x2 + 1/2*x2^2 - 7/2*x3^2,\n",
       " -35*x0^3 - 109/2*x0^2*x1 - 25*x0*x1^2 - 7/2*x1^3 - 109/2*x0^2*x2 - 56*x0*x1*x2 - 27/2*x1^2*x2 - 25*x0*x2^2 - 27/2*x1*x2^2 - 7/2*x2^3 + x0*x3^2 + 3/2*x1*x3^2 + 3/2*x2*x3^2,\n",
       " 2745/16*x0^4 + 765/2*x0^3*x1 + 2139/8*x0^2*x1^2 + 111/2*x0*x1^3 + 81/16*x1^4 + 765/2*x0^3*x2 + 2519/4*x0^2*x1*x2 + 557/2*x0*x1^2*x2 + 117/4*x1^3*x2 + 2139/8*x0^2*x2^2 + 557/2*x0*x1*x2^2 + 555/8*x1^2*x2^2 + 111/2*x0*x2^3 + 117/4*x1*x2^3 + 81/16*x2^4 - 305/8*x0^2*x3^2 - 97/2*x0*x1*x3^2 - 29/8*x1^2*x3^2 - 97/2*x0*x2*x3^2 - 97/4*x1*x2*x3^2 - 29/8*x2^2*x3^2 + 73/16*x3^4,\n",
       " -2779/4*x0^5 - 14827/8*x0^4*x1 - 3599/2*x0^3*x1^2 - 3121/4*x0^2*x1^3 - 599/4*x0*x1^4 - 83/8*x1^5 - 14827/8*x0^4*x2 - 3928*x0^3*x1*x2 - 11423/4*x0^2*x1^2*x2 - 834*x0*x1^3*x2 - 647/8*x1^4*x2 - 3599/2*x0^3*x2^2 - 11423/4*x0^2*x1*x2^2 - 2809/2*x0*x1^2*x2^2 - 835/4*x1^3*x2^2 - 3121/4*x0^2*x2^3 - 834*x0*x1*x2^3 - 835/4*x1^2*x2^3 - 599/4*x0*x2^4 - 647/8*x1*x2^4 - 83/8*x2^5 + 193/2*x0^3*x3^2 + 683/4*x0^2*x1*x3^2 + 179/2*x0*x1^2*x3^2 + 55/4*x1^3*x3^2 + 683/4*x0^2*x2*x3^2 + 204*x0*x1*x2*x3^2 + 201/4*x1^2*x2*x3^2 + 179/2*x0*x2^2*x3^2 + 201/4*x1*x2^2*x3^2 + 55/4*x2^3*x3^2 - 7/4*x0*x3^4 - 27/8*x1*x3^4 - 27/8*x2*x3^4,\n",
       " 45425/16*x0^6 + 71963/8*x0^5*x1 + 177967/16*x0^4*x1^2 + 27069/4*x0^3*x1^3 + 33951/16*x0^2*x1^4 + 2731/8*x0*x1^5 + 353/16*x1^6 + 71963/8*x0^5*x2 + 380179/16*x0^4*x1*x2 + 94125/4*x0^3*x1^2*x2 + 86133/8*x0^2*x1^3*x2 + 18235/8*x0*x1^4*x2 + 2979/16*x1^5*x2 + 177967/16*x0^4*x2^2 + 94125/4*x0^3*x1*x2^2 + 140879/8*x0^2*x1^2*x2^2 + 21941/4*x0*x1^3*x2^2 + 9467/16*x1^4*x2^2 + 27069/4*x0^3*x2^3 + 86133/8*x0^2*x1*x2^3 + 21941/4*x0*x1^2*x2^3 + 7121/8*x1^3*x2^3 + 33951/16*x0^2*x2^4 + 18235/8*x0*x1*x2^4 + 9467/16*x1^2*x2^4 + 2731/8*x0*x2^5 + 2979/16*x1*x2^5 + 353/16*x2^6 - 6125/16*x0^4*x3^2 - 3763/4*x0^3*x1*x3^2 - 5903/8*x0^2*x1^2*x3^2 - 811/4*x0*x1^3*x3^2 - 365/16*x1^4*x3^2 - 3763/4*x0^3*x2*x3^2 - 13419/8*x0^2*x1*x2*x3^2 - 3359/4*x0*x1^2*x2*x3^2 - 923/8*x1^3*x2*x3^2 - 5903/8*x0^2*x2^2*x3^2 - 3359/4*x0*x1*x2^2*x3^2 - 1749/8*x1^2*x2^2*x3^2 - 811/4*x0*x2^3*x3^2 - 923/8*x1*x2^3*x3^2 - 365/16*x2^4*x3^2 + 583/16*x0^2*x3^4 + 411/8*x0*x1*x3^4 + 87/16*x1^2*x3^4 + 411/8*x0*x2*x3^4 + 435/16*x1*x2*x3^4 + 87/16*x2^2*x3^4 - 43/16*x3^6,\n",
       " -11370*x0^7 - 41478*x0^6*x1 - 495081/8*x0^5*x1^2 - 389709/8*x0^4*x1^3 - 87231/4*x0^3*x1^4 - 22335/4*x0^2*x1^5 - 6153/8*x0*x1^6 - 357/8*x1^7 - 41478*x0^6*x2 - 520201/4*x0^5*x1*x2 - 2599631/16*x0^4*x1^2*x2 - 206235/2*x0^3*x1^3*x2 - 280185/8*x0^2*x1^4*x2 - 24249/4*x0*x1^5*x2 - 6783/16*x1^6*x2 - 495081/8*x0^5*x2^2 - 2599631/16*x0^4*x1*x2^2 - 163890*x0^3*x1^2*x2^2 - 632949/8*x0^2*x1^3*x2^2 - 145875/8*x0*x1^4*x2^2 - 25743/16*x1^5*x2^2 - 389709/8*x0^4*x2^3 - 206235/2*x0^3*x1*x2^3 - 632949/8*x0^2*x1^2*x2^3 - 51945/2*x0*x1^3*x2^3 - 6129/2*x1^4*x2^3 - 87231/4*x0^3*x2^4 - 280185/8*x0^2*x1*x2^4 - 145875/8*x0*x1^2*x2^4 - 6129/2*x1^3*x2^4 - 22335/4*x0^2*x2^5 - 24249/4*x0*x1*x2^5 - 25743/16*x1^2*x2^5 - 6153/8*x0*x2^6 - 6783/16*x1*x2^6 - 357/8*x2^7 + 9147/8*x0^5*x3^2 + 14277/4*x0^4*x1*x3^2 + 8067/2*x0^3*x1^2*x3^2 + 8339/4*x0^2*x1^3*x3^2 + 4013/8*x0*x1^4*x3^2 + 91/2*x1^5*x3^2 + 14277/4*x0^4*x2*x3^2 + 17413/2*x0^3*x1*x2*x3^2 + 58075/8*x0^2*x1^2*x2*x3^2 + 4905/2*x0*x1^3*x2*x3^2 + 2329/8*x1^4*x2*x3^2 + 8067/2*x0^3*x2^2*x3^2 + 58075/8*x0^2*x1*x2^2*x3^2 + 15961/4*x0*x1^2*x2^2*x3^2 + 5311/8*x1^3*x2^2*x3^2 + 8339/4*x0^2*x2^3*x3^2 + 4905/2*x0*x1*x2^3*x3^2 + 5311/8*x1^2*x2^3*x3^2 + 4013/8*x0*x2^4*x3^2 + 2329/8*x1*x2^4*x3^2 + 91/2*x2^5*x3^2 - 231/4*x0^3*x3^4 - 291/2*x0^2*x1*x3^4 - 759/8*x0*x1^2*x3^4 - 121/8*x1^3*x3^4 - 291/2*x0^2*x2*x3^4 - 853/4*x0*x1*x2*x3^4 - 951/16*x1^2*x2*x3^4 - 759/8*x0*x2^2*x3^4 - 951/16*x1*x2^2*x3^4 - 121/8*x2^3*x3^4 + 3/8*x0*x3^6 + 9/4*x1*x3^6 + 9/4*x2*x3^6,\n",
       " 719275/16*x0^8 + 370939/2*x0^7*x1 + 1293591/4*x0^6*x1^2 + 2485963/8*x0^5*x1^3 + 1439175/8*x0^4*x1^4 + 257735/4*x0^3*x1^5 + 56181/4*x0^2*x1^6 + 13723/8*x0*x1^7 + 1447/16*x1^8 + 370939/2*x0^7*x2 + 10761379/16*x0^6*x1*x2 + 2023875/2*x0^5*x1^2*x2 + 6541089/8*x0^4*x1^3*x2 + 766213/2*x0^3*x1^4*x2 + 1670059/16*x0^2*x1^5*x2 + 30805/2*x0*x1^6*x2 + 955*x1^7*x2 + 1293591/4*x0^6*x2^2 + 2023875/2*x0^5*x1*x2^2 + 10249485/8*x0^4*x1^2*x2^2 + 3355821/4*x0^3*x1^3*x2^2 + 1198145/4*x0^2*x1^4*x2^2 + 221411/4*x0*x1^5*x2^2 + 33243/8*x1^6*x2^2 + 2485963/8*x0^5*x2^3 + 6541089/8*x0^4*x1*x2^3 + 3355821/4*x0^3*x1^2*x2^3 + 3352165/8*x0^2*x1^3*x2^3 + 813627/8*x0*x1^4*x2^3 + 19167/2*x1^5*x2^3 + 1439175/8*x0^4*x2^4 + 766213/2*x0^3*x1*x2^4 + 1198145/4*x0^2*x1^2*x2^4 + 813627/8*x0*x1^3*x2^4 + 100963/8*x1^4*x2^4 + 257735/4*x0^3*x2^5 + 1670059/16*x0^2*x1*x2^5 + 221411/4*x0*x1^2*x2^5 + 19167/2*x1^3*x2^5 + 56181/4*x0^2*x2^6 + 30805/2*x0*x1*x2^6 + 33243/8*x1^2*x2^6 + 13723/8*x0*x2^7 + 955*x1*x2^7 + 1447/16*x2^8 - 11319/4*x0^6*x3^2 - 93771/8*x0^5*x1*x3^2 - 36131/2*x0^4*x1^2*x3^2 - 13617*x0^3*x1^3*x3^2 - 21629/4*x0^2*x1^4*x3^2 - 8881/8*x0*x1^5*x3^2 - 183/2*x1^6*x3^2 - 93771/8*x0^5*x2*x3^2 - 612479/16*x0^4*x1*x2*x3^2 - 182461/4*x0^3*x1^2*x2*x3^2 - 100621/4*x0^2*x1^3*x2*x3^2 - 52299/8*x0*x1^4*x2*x3^2 - 10545/16*x1^5*x2*x3^2 - 36131/2*x0^4*x2^2*x3^2 - 182461/4*x0^3*x1*x2^2*x3^2 - 159793/4*x0^2*x1^2*x2^2*x3^2 - 14494*x0*x1^3*x2^2*x3^2 - 1858*x1^4*x2^2*x3^2 - 13617*x0^3*x2^3*x3^2 - 100621/4*x0^2*x1*x2^3*x3^2 - 14494*x0*x1^2*x2^3*x3^2 - 20927/8*x1^3*x2^3*x3^2 - 21629/4*x0^2*x2^4*x3^2 - 52299/8*x0*x1*x2^4*x3^2 - 1858*x1^2*x2^4*x3^2 - 8881/8*x0*x2^5*x3^2 - 10545/16*x1*x2^5*x3^2 - 183/2*x2^6*x3^2 + 577/8*x0^4*x3^4 + 1781/4*x0^3*x1*x3^4 + 2019/4*x0^2*x1^2*x3^4 + 1457/8*x0*x1^3*x3^4 + 187/8*x1^4*x3^4 + 1781/4*x0^3*x2*x3^4 + 18293/16*x0^2*x1*x2*x3^4 + 2885/4*x0*x1^2*x2*x3^4 + 989/8*x1^3*x2*x3^4 + 2019/4*x0^2*x2^2*x3^4 + 2885/4*x0*x1*x2^2*x3^4 + 1773/8*x1^2*x2^2*x3^4 + 1457/8*x0*x2^3*x3^4 + 989/8*x1*x2^3*x3^4 + 187/8*x2^4*x3^4 - 35/4*x0^2*x3^6 - 155/8*x0*x1*x3^6 - 2*x1^2*x3^6 - 155/8*x0*x2*x3^6 - 185/16*x1*x2*x3^6 - 2*x2^2*x3^6 + 11/16*x3^8,\n",
       " -1406255/8*x0^9 - 6467627/8*x0^8*x1 - 12878481/8*x0^7*x1^2 - 14570699/8*x0^6*x1^3 - 1291146*x0^5*x1^4 - 595874*x0^4*x1^5 - 1437265/8*x0^3*x1^6 - 274243/8*x0^2*x1^7 - 30175/8*x0*x1^8 - 1463/8*x1^9 - 6467627/8*x0^8*x2 - 3323542*x0^7*x1*x2 - 93359479/16*x0^6*x1^2*x2 - 11428831/2*x0^5*x1^3*x2 - 27333561/8*x0^4*x1^4*x2 - 1279255*x0^3*x1^5*x2 - 4699567/16*x0^2*x1^6*x2 - 75899/2*x0*x1^7*x2 - 16953/8*x1^8*x2 - 12878481/8*x0^7*x2^2 - 93359479/16*x0^6*x1*x2^2 - 70964511/8*x0^5*x1^2*x2^2 - 14663933/2*x0^4*x1^3*x2^2 - 28478189/8*x0^3*x1^4*x2^2 - 16258579/16*x0^2*x1^5*x2^2 - 1265535/8*x0*x1^6*x2^2 - 83099/8*x1^7*x2^2 - 14570699/8*x0^6*x2^3 - 11428831/2*x0^5*x1*x2^3 - 14663933/2*x0^4*x1^2*x2^3 - 4923008*x0^3*x1^3*x2^3 - 1823893*x0^2*x1^4*x2^3 - 706951/2*x0*x1^5*x2^3 - 224087/8*x1^6*x2^3 - 1291146*x0^5*x2^4 - 27333561/8*x0^4*x1*x2^4 - 28478189/8*x0^3*x1^2*x2^4 - 1823893*x0^2*x1^3*x2^4 - 918085/2*x0*x1^4*x2^4 - 181375/4*x1^5*x2^4 - 595874*x0^4*x2^5 - 1279255*x0^3*x1*x2^5 - 16258579/16*x0^2*x1^2*x2^5 - 706951/2*x0*x1^3*x2^5 - 181375/4*x1^4*x2^5 - 1437265/8*x0^3*x2^6 - 4699567/16*x0^2*x1*x2^6 - 1265535/8*x0*x1^2*x2^6 - 224087/8*x1^3*x2^6 - 274243/8*x0^2*x2^7 - 75899/2*x0*x1*x2^7 - 83099/8*x1^2*x2^7 - 30175/8*x0*x2^8 - 16953/8*x1*x2^8 - 1463/8*x2^9 + 3108*x0^7*x3^2 + 101121/4*x0^6*x1*x3^2 + 472357/8*x0^5*x1^2*x3^2 + 521593/8*x0^4*x1^3*x3^2 + 78675/2*x0^3*x1^4*x3^2 + 53513/4*x0^2*x1^5*x3^2 + 19315/8*x0*x1^6*x3^2 + 1439/8*x1^7*x3^2 + 101121/4*x0^6*x2*x3^2 + 247209/2*x0^5*x1*x2*x3^2 + 3387795/16*x0^4*x1^2*x2*x3^2 + 174794*x0^3*x1^3*x2*x3^2 + 151413/2*x0^2*x1^4*x2*x3^2 + 33283/2*x0*x1^5*x2*x3^2 + 23469/16*x1^6*x2*x3^2 + 472357/8*x0^5*x2^2*x3^2 + 3387795/16*x0^4*x1*x2^2*x3^2 + 1089667/4*x0^3*x1^2*x2^2*x3^2 + 324513/2*x0^2*x1^3*x2^2*x3^2 + 364551/8*x0*x1^4*x2^2*x3^2 + 78465/16*x1^5*x2^2*x3^2 + 521593/8*x0^4*x2^3*x3^2 + 174794*x0^3*x1*x2^3*x3^2 + 324513/2*x0^2*x1^2*x2^3*x3^2 + 62814*x0*x1^3*x2^3*x3^2 + 34607/4*x1^4*x2^3*x3^2 + 78675/2*x0^3*x2^4*x3^2 + 151413/2*x0^2*x1*x2^4*x3^2 + 364551/8*x0*x1^2*x2^4*x3^2 + 34607/4*x1^3*x2^4*x3^2 + 53513/4*x0^2*x2^5*x3^2 + 33283/2*x0*x1*x2^5*x3^2 + 78465/16*x1^2*x2^5*x3^2 + 19315/8*x0*x2^6*x3^2 + 23469/16*x1*x2^6*x3^2 + 1439/8*x2^7*x3^2 + 4873/8*x0^5*x3^4 + 1037/4*x0^4*x1*x3^4 - 8237/8*x0^3*x1^2*x3^4 - 8517/8*x0^2*x1^3*x3^4 - 2877/8*x0*x1^4*x3^4 - 81/2*x1^5*x3^4 + 1037/4*x0^4*x2*x3^4 - 2281*x0^3*x1*x2*x3^4 - 60001/16*x0^2*x1^2*x2*x3^4 - 3585/2*x0*x1^3*x2*x3^4 - 2125/8*x1^4*x2*x3^4 - 8237/8*x0^3*x2^2*x3^4 - 60001/16*x0^2*x1*x2^2*x3^4 - 23301/8*x0*x1^2*x2^2*x3^4 - 1223/2*x1^3*x2^2*x3^4 - 8517/8*x0^2*x2^3*x3^4 - 3585/2*x0*x1*x2^3*x3^4 - 1223/2*x1^2*x2^3*x3^4 - 2877/8*x0*x2^4*x3^4 - 2125/8*x1*x2^4*x3^4 - 81/2*x2^5*x3^4 - 95/4*x0^3*x3^6 + 17/4*x0^2*x1*x3^6 + 181/8*x0*x1^2*x3^6 + 31/8*x1^3*x3^6 + 17/4*x0^2*x2*x3^6 + 107/2*x0*x1*x2*x3^6 + 325/16*x1^2*x2*x3^6 + 181/8*x0*x2^2*x3^6 + 325/16*x1*x2^2*x3^6 + 31/8*x2^3*x3^6 + 1/2*x0*x3^8 - 3/8*x1*x3^8 - 3/8*x2*x3^8,\n",
       " 10894983/16*x0^10 + 55229565/16*x0^9*x1 + 123468779/16*x0^8*x1^2 + 80204951/8*x0^7*x1^3 + 67138019/8*x0^6*x1^4 + 37901729/8*x0^5*x1^5 + 7324519/4*x0^4*x1^6 + 3838463/8*x0^3*x1^7 + 1308719/16*x0^2*x1^8 + 131349/16*x0*x1^9 + 5901/16*x1^10 + 55229565/16*x0^9*x2 + 253543963/16*x0^8*x1*x2 + 507955725/16*x0^7*x1^2*x2 + 145837311/4*x0^6*x1^3*x2 + 423678367/16*x0^5*x1^4*x2 + 202114223/16*x0^4*x1^5*x2 + 63450519/16*x0^3*x1^6*x2 + 6333393/8*x0^2*x1^7*x2 + 91370*x0*x1^8*x2 + 9303/2*x1^9*x2 + 123468779/16*x0^8*x2^2 + 507955725/16*x0^7*x1*x2^2 + 224933701/4*x0^6*x1^2*x2^2 + 896835953/16*x0^5*x1^3*x2^2 + 68835869/2*x0^4*x1^4*x2^2 + 213515243/16*x0^3*x1^5*x2^2 + 6388577/2*x0^2*x1^6*x2^2 + 6914031/16*x0*x1^7*x2^2 + 405185/16*x1^8*x2^2 + 80204951/8*x0^7*x2^3 + 145837311/4*x0^6*x1*x2^3 + 896835953/16*x0^5*x1^2*x2^3 + 188982813/4*x0^4*x1^3*x2^3 + 23588538*x0^3*x1^4*x2^3 + 55825493/8*x0^2*x1^5*x2^3 + 18126657/16*x0*x1^6*x2^3 + 623221/8*x1^7*x2^3 + 67138019/8*x0^6*x2^4 + 423678367/16*x0^5*x1*x2^4 + 68835869/2*x0^4*x1^2*x2^4 + 23588538*x0^3*x1^3*x2^4 + 71906177/8*x0^2*x1^4*x2^4 + 28872955/16*x0*x1^5*x2^4 + 1192361/8*x1^6*x2^4 + 37901729/8*x0^5*x2^5 + 202114223/16*x0^4*x1*x2^5 + 213515243/16*x0^3*x1^2*x2^5 + 55825493/8*x0^2*x1^3*x2^5 + 28872955/16*x0*x1^4*x2^5 + 737555/4*x1^5*x2^5 + 7324519/4*x0^4*x2^6 + 63450519/16*x0^3*x1*x2^6 + 6388577/2*x0^2*x1^2*x2^6 + 18126657/16*x0*x1^3*x2^6 + 1192361/8*x1^4*x2^6 + 3838463/8*x0^3*x2^7 + 6333393/8*x0^2*x1*x2^7 + 6914031/16*x0*x1^2*x2^7 + 623221/8*x1^3*x2^7 + 1308719/16*x0^2*x2^8 + 91370*x0*x1*x2^8 + 405185/16*x1^2*x2^8 + 131349/16*x0*x2^9 + 9303/2*x1*x2^9 + 5901/16*x2^10 + 374885/16*x0^8*x3^2 + 457993/16*x0^7*x1*x3^2 - 564859/8*x0^6*x1^2*x3^2 - 3074803/16*x0^5*x1^3*x3^2 - 771621/4*x0^4*x1^4*x3^2 - 1659265/16*x0^3*x1^5*x3^2 - 253291/8*x0^2*x1^6*x3^2 - 82877/16*x0*x1^7*x3^2 - 5653/16*x1^8*x3^2 + 457993/16*x0^7*x2*x3^2 - 591581/4*x0^6*x1*x2*x3^2 - 4875947/8*x0^5*x1^2*x2*x3^2 - 6619301/8*x0^4*x1^3*x2*x3^2 - 9020603/16*x0^3*x1^4*x2*x3^2 - 1674925/8*x0^2*x1^5*x2*x3^2 - 81143/2*x0*x1^6*x2*x3^2 - 12859/4*x1^7*x2*x3^2 - 564859/8*x0^6*x2^2*x3^2 - 4875947/8*x0^5*x1*x2^2*x3^2 - 10184635/8*x0^4*x1^2*x2^2*x3^2 - 2361063/2*x0^3*x1^3*x2^2*x3^2 - 4458967/8*x0^2*x1^4*x2^2*x3^2 - 1052147/8*x0*x1^5*x2^2*x3^2 - 98719/8*x1^6*x2^2*x3^2 - 3074803/16*x0^5*x2^3*x3^2 - 6619301/8*x0^4*x1*x2^3*x3^2 - 2361063/2*x0^3*x1^2*x2^3*x3^2 - 1519725/2*x0^2*x1^3*x2^3*x3^2 - 3653285/16*x0*x1^4*x2^3*x3^2 - 26099*x1^5*x2^3*x3^2 - 771621/4*x0^4*x2^4*x3^2 - 9020603/16*x0^3*x1*x2^4*x3^2 - 4458967/8*x0^2*x1^2*x2^4*x3^2 - 3653285/16*x0*x1^3*x2^4*x3^2 - 266109/8*x1^4*x2^4*x3^2 - 1659265/16*x0^3*x2^5*x3^2 - 1674925/8*x0^2*x1*x2^5*x3^2 - 1052147/8*x0*x1^2*x2^5*x3^2 - 26099*x1^3*x2^5*x3^2 - 253291/8*x0^2*x2^6*x3^2 - 81143/2*x0*x1*x2^6*x3^2 - 98719/8*x1^2*x2^6*x3^2 - 82877/16*x0*x2^7*x3^2 - 12859/4*x1*x2^7*x3^2 - 5653/16*x2^8*x3^2 - 44755/8*x0^6*x3^4 - 184731/16*x0^5*x1*x3^4 - 56255/8*x0^4*x1^2*x3^4 + 1083/4*x0^3*x1^3*x3^4 + 14251/8*x0^2*x1^4*x3^4 + 10137/16*x0*x1^5*x3^4 + 277/4*x1^6*x3^4 - 184731/16*x0^5*x2*x3^4 - 57037/4*x0^4*x1*x2*x3^4 + 27941/16*x0^3*x1^2*x2*x3^4 + 34957/4*x0^2*x1^3*x2*x3^4 + 31343/8*x0*x1^4*x2*x3^4 + 8445/16*x1^5*x2*x3^4 - 56255/8*x0^4*x2^2*x3^4 + 27941/16*x0^3*x1*x2^2*x3^4 + 28125/2*x0^2*x1^2*x2^2*x3^4 + 140459/16*x0*x1^3*x2^2*x3^4 + 6119/4*x1^4*x2^2*x3^4 + 1083/4*x0^3*x2^3*x3^4 + 34957/4*x0^2*x1*x2^3*x3^4 + 140459/16*x0*x1^2*x2^3*x3^4 + 2151*x1^3*x2^3*x3^4 + 14251/8*x0^2*x2^4*x3^4 + 31343/8*x0*x1*x2^4*x3^4 + 6119/4*x1^2*x2^4*x3^4 + 10137/16*x0*x2^5*x3^4 + 8445/16*x1*x2^5*x3^4 + 277/4*x2^6*x3^4 + 405/2*x0^4*x3^6 + 4071/16*x0^3*x1*x3^6 + 495/8*x0^2*x1^2*x3^6 - 159/16*x0*x1^3*x3^6 - 27/8*x1^4*x3^6 + 4071/16*x0^3*x2*x3^6 + 97*x0^2*x1*x2*x3^6 - 337/4*x0*x1^2*x2*x3^6 - 219/8*x1^3*x2*x3^6 + 495/8*x0^2*x2^2*x3^6 - 337/4*x0*x1*x2^2*x3^6 - 453/8*x1^2*x2^2*x3^6 - 159/16*x0*x2^3*x3^6 - 219/8*x1*x2^3*x3^6 - 27/8*x2^4*x3^6 - 29/16*x0^2*x3^8 + 7/8*x0*x1*x3^8 - 5/16*x1^2*x3^8 + 7/8*x0*x2*x3^8 + 13/16*x1*x2*x3^8 - 5/16*x2^2*x3^8 - 1/16*x3^10,\n",
       " -83734375/32*x0^11 - 115894409/8*x0^10*x1 - 1148350155/32*x0^9*x1^2 - 840972969/16*x0^8*x1^3 - 810332407/16*x0^7*x1^4 - 67534721/2*x0^6*x1^5 - 254846829/16*x0^5*x1^6 - 21306095/4*x0^4*x1^7 - 39680371/32*x0^3*x1^8 - 1533405/8*x0^2*x1^9 - 567059/32*x0*x1^10 - 11879/16*x1^11 - 115894409/8*x0^10*x2 - 1174290185/16*x0^9*x1*x2 - 5280217223/32*x0^8*x1^2*x2 - 1736397369/8*x0^7*x1^3*x2 - 2963752981/16*x0^6*x1^4*x2 - 429316661/4*x0^5*x1^5*x2 - 685253329/16*x0^4*x1^6*x2 - 93115135/8*x0^3*x1^7*x2 - 33030111/16*x0^2*x1^8*x2 - 3455187/16*x0*x1^9*x2 - 323851/32*x1^10*x2 - 1148350155/32*x0^9*x2^2 - 5280217223/32*x0^8*x1*x2^2 - 10662725597/32*x0^7*x1^2*x2^2 - 12424955899/32*x0^6*x1^3*x2^2 - 9217626227/32*x0^5*x1^4*x2^2 - 4519827499/32*x0^4*x1^5*x2^2 - 1466399343/32*x0^3*x1^6*x2^2 - 303798861/32*x0^2*x1^7*x2^2 - 18245107/16*x0*x1^8*x2^2 - 968259/16*x1^9*x2^2 - 840972969/16*x0^8*x2^3 - 1736397369/8*x0^7*x1*x2^3 - 12424955899/32*x0^6*x1^2*x2^3 - 6293594371/16*x0^5*x1^3*x2^3 - 7904152255/32*x0^4*x1^4*x2^3 - 394038497/4*x0^3*x1^5*x2^3 - 780032485/32*x0^2*x1^6*x2^3 - 54755511/16*x0*x1^7*x2^3 - 6678215/32*x1^8*x2^3 - 810332407/16*x0^7*x2^4 - 2963752981/16*x0^6*x1*x2^4 - 9217626227/32*x0^5*x1^2*x2^4 - 7904152255/32*x0^4*x1^3*x2^4 - 1009370545/8*x0^3*x1^4*x2^4 - 307120199/8*x0^2*x1^5*x2^4 - 206097319/32*x0*x1^6*x2^4 - 14699527/32*x1^7*x2^4 - 67534721/2*x0^6*x2^5 - 429316661/4*x0^5*x1*x2^5 - 4519827499/32*x0^4*x1^2*x2^5 - 394038497/4*x0^3*x1^3*x2^5 - 307120199/8*x0^2*x1^4*x2^5 - 31683659/4*x0*x1^5*x2^5 - 21611251/32*x1^6*x2^5 - 254846829/16*x0^5*x2^6 - 685253329/16*x0^4*x1*x2^6 - 1466399343/32*x0^3*x1^2*x2^6 - 780032485/32*x0^2*x1^3*x2^6 - 206097319/32*x0*x1^4*x2^6 - 21611251/32*x1^5*x2^6 - 21306095/4*x0^4*x2^7 - 93115135/8*x0^3*x1*x2^7 - 303798861/32*x0^2*x1^2*x2^7 - 54755511/16*x0*x1^3*x2^7 - 14699527/32*x1^4*x2^7 - 39680371/32*x0^3*x2^8 - 33030111/16*x0^2*x1*x2^8 - 18245107/16*x0*x1^2*x2^8 - 6678215/32*x1^3*x2^8 - 1533405/8*x0^2*x2^9 - 3455187/16*x0*x1*x2^9 - 968259/16*x1^2*x2^9 - 567059/32*x0*x2^10 - 323851/32*x1*x2^10 - 11879/16*x2^11 - 1951865/8*x0^9*x3^2 - 6402851/8*x0^8*x1*x3^2 - 7551747/8*x0^7*x1^2*x3^2 - 292998*x0^6*x1^3*x3^2 + 3147619/8*x0^5*x1^4*x3^2 + 1977845/4*x0^4*x1^5*x3^2 + 2058541/8*x0^3*x1^6*x3^2 + 291299/4*x0^2*x1^7*x3^2 + 10980*x0*x1^8*x3^2 + 5547/8*x1^9*x3^2 - 6402851/8*x0^8*x2*x3^2 - 61849721/32*x0^7*x1*x2*x3^2 - 7730305/8*x0^6*x1^2*x2*x3^2 + 49707157/32*x0^5*x1^3*x2*x3^2 + 2548449*x0^4*x1^4*x2*x3^2 + 52080017/32*x0^3*x1^5*x2*x3^2 + 2191165/4*x0^2*x1^6*x2*x3^2 + 3076499/32*x0*x1^7*x2*x3^2 + 6953*x1^8*x2*x3^2 - 7551747/8*x0^7*x2^2*x3^2 - 7730305/8*x0^6*x1*x2^2*x3^2 + 74384513/32*x0^5*x1^2*x2^2*x3^2 + 165924465/32*x0^4*x1^3*x2^2*x3^2 + 67287435/16*x0^3*x1^4*x2^2*x3^2 + 27591269/16*x0^2*x1^5*x2^2*x3^2 + 11470765/32*x0*x1^6*x2^2*x3^2 + 962705/32*x1^7*x2^2*x3^2 - 292998*x0^6*x2^3*x3^2 + 49707157/32*x0^5*x1*x2^3*x3^2 + 165924465/32*x0^4*x1^2*x2^3*x3^2 + 90753565/16*x0^3*x1^3*x2^3*x3^2 + 47130831/16*x0^2*x1^4*x2^3*x3^2 + 23823553/32*x0*x1^5*x2^3*x3^2 + 2363597/32*x1^6*x2^3*x3^2 + 3147619/8*x0^5*x2^4*x3^2 + 2548449*x0^4*x1*x2^4*x3^2 + 67287435/16*x0^3*x1^2*x2^4*x3^2 + 47130831/16*x0^2*x1^3*x2^4*x3^2 + 15079559/16*x0*x1^4*x2^4*x3^2 + 1817611/16*x1^5*x2^4*x3^2 + 1977845/4*x0^4*x2^5*x3^2 + 52080017/32*x0^3*x1*x2^5*x3^2 + 27591269/16*x0^2*x1^2*x2^5*x3^2 + 23823553/32*x0*x1^3*x2^5*x3^2 + 1817611/16*x1^4*x2^5*x3^2 + 2058541/8*x0^3*x2^6*x3^2 + 2191165/4*x0^2*x1*x2^6*x3^2 + 11470765/32*x0*x1^2*x2^6*x3^2 + 2363597/32*x1^3*x2^6*x3^2 + 291299/4*x0^2*x2^7*x3^2 + 3076499/32*x0*x1*x2^7*x3^2 + 962705/32*x1^2*x2^7*x3^2 + 10980*x0*x2^8*x3^2 + 6953*x1*x2^8*x3^2 + 5547/8*x2^9*x3^2 + 513279/16*x0^7*x3^4 + 736193/8*x0^6*x1*x3^4 + 1620479/16*x0^5*x1^2*x3^4 + 101731/2*x0^4*x1^3*x3^4 + 135861/16*x0^3*x1^4*x3^4 - 17911/8*x0^2*x1^5*x3^4 - 17177/16*x0*x1^6*x3^4 - 941/8*x1^7*x3^4 + 736193/8*x0^6*x2*x3^4 + 6653379/32*x0^5*x1*x2*x3^4 + 1273131/8*x0^4*x1^2*x2*x3^4 + 533703/16*x0^3*x1^3*x2*x3^4 - 237097/16*x0^2*x1^4*x2*x3^4 - 257273/32*x0*x1^5*x2*x3^4 - 2065/2*x1^6*x2*x3^4 + 1620479/16*x0^5*x2^2*x3^4 + 1273131/8*x0^4*x1*x2^2*x3^4 + 1591389/32*x0^3*x1^2*x2^2*x3^4 - 1078069/32*x0^2*x1^3*x2^2*x3^4 - 732315/32*x0*x1^4*x2^2*x3^4 - 115329/32*x1^5*x2^2*x3^4 + 101731/2*x0^4*x2^3*x3^4 + 533703/16*x0^3*x1*x2^3*x3^4 - 1078069/32*x0^2*x1^2*x2^3*x3^4 - 254797/8*x0*x1^3*x2^3*x3^4 - 207039/32*x1^4*x2^3*x3^4 + 135861/16*x0^3*x2^4*x3^4 - 237097/16*x0^2*x1*x2^4*x3^4 - 732315/32*x0*x1^2*x2^4*x3^4 - 207039/32*x1^3*x2^4*x3^4 - 17911/8*x0^2*x2^5*x3^4 - 257273/32*x0*x1*x2^5*x3^4 - 115329/32*x1^2*x2^5*x3^4 - 17177/16*x0*x2^6*x3^4 - 2065/2*x1*x2^6*x3^4 - 941/8*x2^7*x3^4 - 3919/4*x0^5*x3^6 - 16705/8*x0^4*x1*x3^6 - 11829/8*x0^3*x1^2*x3^6 - 1543/4*x0^2*x1^3*x3^6 - 149/8*x0*x1^4*x3^6 + 35/8*x1^5*x3^6 - 16705/8*x0^4*x2*x3^6 - 96211/32*x0^3*x1*x2*x3^6 - 2197/2*x0^2*x1^2*x2*x3^6 + 817/32*x0*x1^3*x2*x3^6 + 335/8*x1^4*x2*x3^6 - 11829/8*x0^3*x2^2*x3^6 - 2197/2*x0^2*x1*x2^2*x3^6 + 3447/32*x0*x1^2*x2^2*x3^6 + 3767/32*x1^3*x2^2*x3^6 - 1543/4*x0^2*x2^3*x3^6 + 817/32*x0*x1*x2^3*x3^6 + 3767/32*x1^2*x2^3*x3^6 - 149/8*x0*x2^4*x3^6 + 335/8*x1*x2^4*x3^6 + 35/8*x2^5*x3^6 + 393/32*x0^3*x3^8 + 29/2*x0^2*x1*x3^8 + 93/32*x0*x1^2*x3^8 + 5/16*x1^3*x3^8 + 29/2*x0^2*x2*x3^8 + 187/32*x0*x1*x2*x3^8 - 1/32*x1^2*x2*x3^8 + 93/32*x0*x2^2*x3^8 - 1/32*x1*x2^2*x3^8 + 5/16*x2^3*x3^8 - 1/8*x0*x3^10,\n",
       " 319546875/32*x0^12 + 3834921875/64*x0^11*x1 + 5208550421/32*x0^10*x1^2 + 16960313235/64*x0^9*x1^3 + 9230483333/32*x0^8*x1^4 + 7088326339/32*x0^7*x1^5 + 1972444991/16*x0^6*x1^6 + 1606033763/32*x0^5*x1^7 + 475456471/32*x0^4*x1^8 + 199872983/64*x0^3*x1^9 + 14165449/32*x0^2*x1^10 + 2431543/64*x0*x1^11 + 47757/32*x1^12 + 3834921875/64*x0^11*x2 + 10618788865/32*x0^10*x1*x2 + 13223121995/16*x0^9*x1^2*x2 + 78303775805/64*x0^8*x1^3*x2 + 38338250707/32*x0^7*x1^4*x2 + 6528196733/8*x0^6*x1^5*x2 + 3160647897/8*x0^5*x1^6*x2 + 4356663797/32*x0^4*x1^7*x2 + 2096513615/64*x0^3*x1^8*x2 + 167814867/32*x0^2*x1^9*x2 + 8044177/16*x0*x1^10*x2 + 1398921/64*x1^11*x2 + 5208550421/32*x0^10*x2^2 + 13223121995/16*x0^9*x1*x2^2 + 59894215519/32*x0^8*x1^2*x2^2 + 79778036279/32*x0^7*x1^3*x2^2 + 69299871861/32*x0^6*x1^4*x2^2 + 41070835575/32*x0^5*x1^5*x2^2 + 16835768249/32*x0^4*x1^6*x2^2 + 4717013869/32*x0^3*x1^7*x2^2 + 432419491/16*x0^2*x1^8*x2^2 + 93696207/32*x0*x1^9*x2^2 + 142287*x1^10*x2^2 + 16960313235/64*x0^9*x2^3 + 78303775805/64*x0^8*x1*x2^3 + 79778036279/32*x0^7*x1^2*x2^3 + 47135334931/16*x0^6*x1^3*x2^3 + 35630958431/16*x0^5*x1^4*x2^3 + 35765103631/32*x0^4*x1^5*x2^3 + 11923418497/32*x0^3*x1^6*x2^3 + 1273303937/16*x0^2*x1^7*x2^3 + 632269857/64*x0*x1^8*x2^3 + 34742069/64*x1^9*x2^3 + 9230483333/32*x0^8*x2^4 + 38338250707/32*x0^7*x1*x2^4 + 69299871861/32*x0^6*x1^2*x2^4 + 35630958431/16*x0^5*x1^3*x2^4 + 22810777025/16*x0^4*x1^4*x2^4 + 18624497503/32*x0^3*x1^5*x2^4 + 4734470077/32*x0^2*x1^6*x2^4 + 171231177/8*x0*x1^7*x2^4 + 43144917/32*x1^8*x2^4 + 7088326339/32*x0^7*x2^5 + 6528196733/8*x0^6*x1*x2^5 + 41070835575/32*x0^5*x1^2*x2^5 + 35765103631/32*x0^4*x1^3*x2^5 + 18624497503/32*x0^3*x1^4*x2^5 + 2899059847/16*x0^2*x1^5*x2^5 + 998567743/32*x0*x1^6*x2^5 + 73327657/32*x1^7*x2^5 + 1972444991/16*x0^6*x2^6 + 3160647897/8*x0^5*x1*x2^6 + 16835768249/32*x0^4*x1^2*x2^6 + 11923418497/32*x0^3*x1^3*x2^6 + 4734470077/32*x0^2*x1^4*x2^6 + 998567743/32*x0*x1^5*x2^6 + 21826203/8*x1^6*x2^6 + 1606033763/32*x0^5*x2^7 + 4356663797/32*x0^4*x1*x2^7 + 4717013869/32*x0^3*x1^2*x2^7 + 1273303937/16*x0^2*x1^3*x2^7 + 171231177/8*x0*x1^4*x2^7 + 73327657/32*x1^5*x2^7 + 475456471/32*x0^4*x2^8 + 2096513615/64*x0^3*x1*x2^8 + 432419491/16*x0^2*x1^2*x2^8 + 632269857/64*x0*x1^3*x2^8 + 43144917/32*x1^4*x2^8 + 199872983/64*x0^3*x2^9 + 167814867/32*x0^2*x1*x2^9 + 93696207/32*x0*x1^2*x2^9 + 34742069/64*x1^3*x2^9 + 14165449/32*x0^2*x2^10 + 8044177/16*x0*x1*x2^10 + 142287*x1^2*x2^10 + 2431543/64*x0*x2^11 + 1398921/64*x1*x2^11 + 47757/32*x2^12 + 1584924*x0^10*x3^2 + 104833225/16*x0^9*x1*x3^2 + 180501669/16*x0^8*x1^2*x3^2 + 161349383/16*x0^7*x1^3*x3^2 + 69352675/16*x0^6*x1^4*x3^2 - 1478587/16*x0^5*x1^5*x3^2 - 17990249/16*x0^4*x1^6*x3^2 - 9793751/16*x0^3*x1^7*x3^2 - 2628865/16*x0^2*x1^8*x3^2 - 184759/8*x0*x1^9*x3^2 - 10881/8*x1^10*x3^2 + 104833225/16*x0^9*x2*x3^2 + 184447029/8*x0^8*x1*x2*x3^2 + 1019312883/32*x0^7*x1^2*x2*x3^2 + 19414411*x0^6*x1^3*x2*x3^2 + 26893931/32*x0^5*x1^4*x2*x3^2 - 102871315/16*x0^4*x1^5*x2*x3^2 - 139365327/32*x0^3*x1^6*x2*x3^2 - 5516475/4*x0^2*x1^7*x2*x3^2 - 7144209/32*x0*x1^8*x2*x3^2 - 238403/16*x1^9*x2*x3^2 + 180501669/16*x0^8*x2^2*x3^2 + 1019312883/32*x0^7*x1*x2^2*x3^2 + 483183337/16*x0^6*x1^2*x2^2*x3^2 + 3085771*x0^5*x1^3*x2^2*x3^2 - 495737283/32*x0^4*x1^4*x2^2*x3^2 - 420849637/32*x0^3*x1^5*x2^2*x3^2 - 39801257/8*x0^2*x1^6*x2^2*x3^2 - 15010907/16*x0*x1^7*x2^2*x3^2 - 2292985/32*x1^8*x2^2*x3^2 + 161349383/16*x0^7*x2^3*x3^2 + 19414411*x0^6*x1*x2^3*x3^2 + 3085771*x0^5*x1^2*x2^3*x3^2 - 326003181/16*x0^4*x1^3*x2^3*x3^2 - 351428787/16*x0^3*x1^4*x2^3*x3^2 - 10115694*x0^2*x1^5*x2^3*x3^2 - 9027665/4*x0*x1^6*x2^3*x3^2 - 3195857/16*x1^7*x2^3*x3^2 + 69352675/16*x0^6*x2^4*x3^2 + 26893931/32*x0^5*x1*x2^4*x3^2 - 495737283/32*x0^4*x1^2*x2^4*x3^2 - 351428787/16*x0^3*x1^3*x2^4*x3^2 - 50844207/4*x0^2*x1^4*x2^4*x3^2 - 109917493/32*x0*x1^5*x2^4*x3^2 - 11470087/32*x1^6*x2^4*x3^2 - 1478587/16*x0^5*x2^5*x3^2 - 102871315/16*x0^4*x1*x2^5*x3^2 - 420849637/32*x0^3*x1^2*x2^5*x3^2 - 10115694*x0^2*x1^3*x2^5*x3^2 - 109917493/32*x0*x1^4*x2^5*x3^2 - 1734563/4*x1^5*x2^5*x3^2 - 17990249/16*x0^4*x2^6*x3^2 - 139365327/32*x0^3*x1*x2^6*x3^2 - 39801257/8*x0^2*x1^2*x2^6*x3^2 - 9027665/4*x0*x1^3*x2^6*x3^2 - 11470087/32*x1^4*x2^6*x3^2 - 9793751/16*x0^3*x2^7*x3^2 - 5516475/4*x0^2*x1*x2^7*x3^2 - 15010907/16*x0*x1^2*x2^7*x3^2 - 3195857/16*x1^3*x2^7*x3^2 - 2628865/16*x0^2*x2^8*x3^2 - 7144209/32*x0*x1*x2^8*x3^2 - 2292985/32*x1^2*x2^8*x3^2 - 184759/8*x0*x2^9*x3^2 - 238403/16*x1*x2^9*x3^2 - 10881/8*x2^10*x3^2 - 1190435/8*x0^8*x3^4 - 16773847/32*x0^7*x1*x3^4 - 3033409/4*x0^6*x1^2*x3^4 - 18389579/32*x0^5*x1^3*x3^4 - 3770171/16*x0^4*x1^4*x3^4 - 1406829/32*x0^3*x1^5*x3^4 + 9653/8*x0^2*x1^6*x3^4 + 57219/32*x0*x1^7*x3^4 + 1611/8*x1^8*x3^4 - 16773847/32*x0^7*x2*x3^4 - 1552321*x0^6*x1*x2*x3^4 - 57542185/32*x0^5*x1^2*x2*x3^4 - 31720551/32*x0^4*x1^3*x2*x3^4 - 7142307/32*x0^3*x1^4*x2*x3^4 + 256441/16*x0^2*x1^5*x2*x3^4 + 511947/32*x0*x1^6*x2*x3^4 + 64439/32*x1^7*x2*x3^4 - 3033409/4*x0^6*x2^2*x3^4 - 57542185/32*x0^5*x1*x2^2*x3^4 - 12109271/8*x0^4*x1^2*x2^2*x3^4 - 14442321/32*x0^3*x1^3*x2^2*x3^4 + 1740717/32*x0^2*x1^4*x2^2*x3^4 + 895823/16*x0*x1^5*x2^2*x3^4 + 263799/32*x1^6*x2^2*x3^4 - 18389579/32*x0^5*x2^3*x3^4 - 31720551/32*x0^4*x1*x2^3*x3^4 - 14442321/32*x0^3*x1^2*x2^3*x3^4 + 1265007/16*x0^2*x1^3*x2^3*x3^4 + 100451*x0*x1^4*x2^3*x3^4 + 578413/32*x1^5*x2^3*x3^4 - 3770171/16*x0^4*x2^4*x3^4 - 7142307/32*x0^3*x1*x2^4*x3^4 + 1740717/32*x0^2*x1^2*x2^4*x3^4 + 100451*x0*x1^3*x2^4*x3^4 + 186255/8*x1^4*x2^4*x3^4 - 1406829/32*x0^3*x2^5*x3^4 + 256441/16*x0^2*x1*x2^5*x3^4 + 895823/16*x0*x1^2*x2^5*x3^4 + 578413/32*x1^3*x2^5*x3^4 + 9653/8*x0^2*x2^6*x3^4 + 511947/32*x0*x1*x2^6*x3^4 + 263799/32*x1^2*x2^6*x3^4 + 57219/32*x0*x2^7*x3^4 + 64439/32*x1*x2^7*x3^4 + 1611/8*x2^8*x3^4 + 22489/8*x0^6*x3^6 + 137227/16*x0^5*x1*x3^6 + 149781/16*x0^4*x1^2*x3^6 + 73063/16*x0^3*x1^3*x3^6 + 14895/16*x0^2*x1^4*x3^6 + 193/8*x0*x1^5*x3^6 - 21/2*x1^6*x3^6 + 137227/16*x0^5*x2*x3^6 + 306585/16*x0^4*x1*x2*x3^6 + 452361/32*x0^3*x1^2*x2*x3^6 + 29077/8*x0^2*x1^3*x2*x3^6 - 967/32*x0*x1^4*x2*x3^6 - 739/8*x1^5*x2*x3^6 + 149781/16*x0^4*x2^2*x3^6 + 452361/32*x0^3*x1*x2^2*x3^6 + 85435/16*x0^2*x1^2*x2^2*x3^6 - 5055/16*x0*x1^3*x2^2*x3^6 - 9599/32*x1^4*x2^2*x3^6 + 73063/16*x0^3*x2^3*x3^6 + 29077/8*x0^2*x1*x2^3*x3^6 - 5055/16*x0*x1^2*x2^3*x3^6 - 7097/16*x1^3*x2^3*x3^6 + 14895/16*x0^2*x2^4*x3^6 - 967/32*x0*x1*x2^4*x3^6 - 9599/32*x1^2*x2^4*x3^6 + 193/8*x0*x2^5*x3^6 - 739/8*x1*x2^5*x3^6 - 21/2*x2^6*x3^6 + 181/32*x0^4*x3^8 - 541/64*x0^3*x1*x3^8 - 89/32*x0^2*x1^2*x3^8 + 203/64*x0*x1^3*x3^8 + 27/32*x1^4*x3^8 - 541/64*x0^3*x2*x3^8 - 337/32*x0^2*x1*x2*x3^8 + 215/32*x0*x1^2*x2*x3^8 + 249/64*x1^3*x2*x3^8 - 89/32*x0^2*x2^2*x3^8 + 215/32*x0*x1*x2^2*x3^8 + 201/32*x1^2*x2^2*x3^8 + 203/64*x0*x2^3*x3^8 + 249/64*x1*x2^3*x3^8 + 27/32*x2^4*x3^8 - 1/4*x0^2*x3^10 - 3/8*x0*x1*x3^10 - 3/8*x0*x2*x3^10 - 3/16*x1*x2*x3^10,\n",
       " -4848328125/128*x0^13 - 7832896875/32*x0^12*x1 - 23134844375/32*x0^11*x1^2 - 82814588897/64*x0^10*x1^3 - 200736846745/128*x0^9*x1^4 - 87126647661/64*x0^8*x1^5 - 6978383033/8*x0^7*x1^6 - 13389261425/32*x0^6*x1^7 - 19258537119/128*x0^5*x1^8 - 320797957/8*x0^4*x1^9 - 246514045/32*x0^3*x1^10 - 64650925/64*x0^2*x1^11 - 10367787/128*x0*x1^12 - 191781/64*x1^13 - 7832896875/32*x0^12*x2 - 11761781875/8*x0^11*x1*x2 - 513844970481/128*x0^10*x1^2*x2 - 422304147645/64*x0^9*x1^3*x2 - 932193315453/128*x0^8*x1^4*x2 - 91115477573/16*x0^7*x1^5*x2 - 207336037029/64*x0^6*x1^6*x2 - 43285111651/32*x0^5*x1^7*x2 - 26354559527/64*x0^4*x1^8*x2 - 1426923027/16*x0^3*x1^9*x2 - 1669483541/128*x0^2*x1^10*x2 - 73985157/64*x0*x1^11*x2 - 6005817/128*x1^12*x2 - 23134844375/32*x0^11*x2^2 - 513844970481/128*x0^10*x1*x2^2 - 1288553570305/128*x0^9*x1^2*x2^2 - 964463524615/64*x0^8*x1^3*x2^2 - 479476270355/32*x0^7*x1^4*x2^2 - 665812370879/64*x0^6*x1^5*x2^2 - 329757542623/64*x0^5*x1^6*x2^2 - 1821736381*x0^4*x1^7*x2^2 - 3606384723/8*x0^3*x1^8*x2^2 - 9517230841/128*x0^2*x1^9*x2^2 - 941237929/128*x0*x1^10*x2^2 - 21125701/64*x1^11*x2^2 - 82814588897/64*x0^10*x2^3 - 422304147645/64*x0^9*x1*x2^3 - 964463524615/64*x0^8*x1^2*x2^3 - 650345088375/32*x0^7*x1^3*x2^3 - 287099218179/16*x0^6*x1^4*x2^3 - 10847606350*x0^5*x1^5*x2^3 - 4550160744*x0^4*x1^6*x2^3 - 41856512593/32*x0^3*x1^7*x2^3 - 15781446659/64*x0^2*x1^8*x2^3 - 1760926707/64*x0*x1^9*x2^3 - 88243993/64*x1^10*x2^3 - 200736846745/128*x0^9*x2^4 - 932193315453/128*x0^8*x1*x2^4 - 479476270355/32*x0^7*x1^2*x2^4 - 287099218179/16*x0^6*x1^3*x2^4 - 882864468815/64*x0^5*x1^4*x2^4 - 452069744481/64*x0^4*x1^5*x2^4 - 77099823683/32*x0^3*x1^6*x2^4 - 1055556895/2*x0^2*x1^7*x2^4 - 8618492737/128*x0*x1^8*x2^4 - 487472713/128*x1^9*x2^4 - 87126647661/64*x0^8*x2^5 - 91115477573/16*x0^7*x1*x2^5 - 665812370879/64*x0^6*x1^2*x2^5 - 10847606350*x0^5*x1^3*x2^5 - 452069744481/64*x0^4*x1^4*x2^5 - 47061556085/16*x0^3*x1^5*x2^5 - 48935251593/64*x0^2*x1^6*x2^5 - 906956441/8*x0*x1^7*x2^5 - 234672955/32*x1^8*x2^5 - 6978383033/8*x0^7*x2^6 - 207336037029/64*x0^6*x1*x2^6 - 329757542623/64*x0^5*x1^2*x2^6 - 4550160744*x0^4*x1^3*x2^6 - 77099823683/32*x0^3*x1^4*x2^6 - 48935251593/64*x0^2*x1^5*x2^6 - 8611030635/64*x0*x1^6*x2^6 - 323736291/32*x1^7*x2^6 - 13389261425/32*x0^6*x2^7 - 43285111651/32*x0^5*x1*x2^7 - 1821736381*x0^4*x1^2*x2^7 - 41856512593/32*x0^3*x1^3*x2^7 - 1055556895/2*x0^2*x1^4*x2^7 - 906956441/8*x0*x1^5*x2^7 - 323736291/32*x1^6*x2^7 - 19258537119/128*x0^5*x2^8 - 26354559527/64*x0^4*x1*x2^8 - 3606384723/8*x0^3*x1^2*x2^8 - 15781446659/64*x0^2*x1^3*x2^8 - 8618492737/128*x0*x1^4*x2^8 - 234672955/32*x1^5*x2^8 - 320797957/8*x0^4*x2^9 - 1426923027/16*x0^3*x1*x2^9 - 9517230841/128*x0^2*x1^2*x2^9 - 1760926707/64*x0*x1^3*x2^9 - 487472713/128*x1^4*x2^9 - 246514045/32*x0^3*x2^10 - 1669483541/128*x0^2*x1*x2^10 - 941237929/128*x0*x1^2*x2^10 - 88243993/64*x1^3*x2^10 - 64650925/64*x0^2*x2^11 - 73985157/64*x0*x1*x2^11 - 21125701/64*x1^2*x2^11 - 10367787/128*x0*x2^12 - 6005817/128*x1*x2^12 - 191781/64*x2^13 - 1118891875/128*x0^11*x3^2 - 1334930921/32*x0^10*x1*x3^2 - 11069308755/128*x0^9*x1^2*x3^2 - 6459450833/64*x0^8*x1^3*x3^2 - 4538845283/64*x0^7*x1^4*x3^2 - 227041881/8*x0^6*x1^5*x3^2 - 237478967/64*x0^5*x1^6*x3^2 + 72806733/32*x0^4*x1^7*x3^2 + 181181641/128*x0^3*x1^8*x3^2 + 11708993/32*x0^2*x1^9*x3^2 + 6186209/128*x0*x1^10*x3^2 + 170831/64*x1^11*x3^2 - 1334930921/32*x0^10*x2*x3^2 - 22559744485/128*x0^9*x1*x2*x3^2 - 40401811183/128*x0^8*x1^2*x2*x3^2 - 9760093017/32*x0^7*x1^3*x2*x3^2 - 5160501309/32*x0^6*x1^4*x2*x3^2 - 2078316619/64*x0^5*x1^5*x2*x3^2 + 831953187/64*x0^4*x1^6*x2*x3^2 + 353877675/32*x0^3*x1^7*x2*x3^2 + 27046625/8*x0^2*x1^8*x2*x3^2 + 65391411/128*x0*x1^9*x2*x3^2 + 4059601/128*x1^10*x2*x3^2 - 11069308755/128*x0^9*x2^2*x3^2 - 40401811183/128*x0^8*x1*x2^2*x3^2 - 14994970717/32*x0^7*x1^2*x2^2*x3^2 - 1372982107/4*x0^6*x1^3*x2^2*x3^2 - 6289552549/64*x0^5*x1^4*x2^2*x3^2 + 2041618173/64*x0^4*x1^5*x2^2*x3^2 + 1201602887/32*x0^3*x1^6*x2^2*x3^2 + 218873011/16*x0^2*x1^7*x2^2*x3^2 + 305219861/128*x0*x1^8*x2^2*x3^2 + 21464381/128*x1^9*x2^2*x3^2 - 6459450833/64*x0^8*x2^3*x3^2 - 9760093017/32*x0^7*x1*x2^3*x3^2 - 1372982107/4*x0^6*x1^2*x2^3*x3^2 - 2224638685/16*x0^5*x1^3*x2^3*x3^2 + 372640673/8*x0^4*x1^4*x2^3*x3^2 + 2344424099/32*x0^3*x1^5*x2^3*x3^2 + 512211759/16*x0^2*x1^6*x2^3*x3^2 + 12997387/2*x0*x1^7*x2^3*x3^2 + 33429109/64*x1^8*x2^3*x3^2 - 4538845283/64*x0^7*x2^4*x3^2 - 5160501309/32*x0^6*x1*x2^4*x3^2 - 6289552549/64*x0^5*x1^2*x2^4*x3^2 + 372640673/8*x0^4*x1^3*x2^4*x3^2 + 5805651283/64*x0^3*x1^4*x2^4*x3^2 + 1536461159/32*x0^2*x1^5*x2^4*x3^2 + 735944829/64*x0*x1^6*x2^4*x3^2 + 17095989/16*x1^7*x2^4*x3^2 - 227041881/8*x0^6*x2^5*x3^2 - 2078316619/64*x0^5*x1*x2^5*x3^2 + 2041618173/64*x0^4*x1^2*x2^5*x3^2 + 2344424099/32*x0^3*x1^3*x2^5*x3^2 + 1536461159/32*x0^2*x1^4*x2^5*x3^2 + 886075005/64*x0*x1^5*x2^5*x3^2 + 96742977/64*x1^6*x2^5*x3^2 - 237478967/64*x0^5*x2^6*x3^2 + 831953187/64*x0^4*x1*x2^6*x3^2 + 1201602887/32*x0^3*x1^2*x2^6*x3^2 + 512211759/16*x0^2*x1^3*x2^6*x3^2 + 735944829/64*x0*x1^4*x2^6*x3^2 + 96742977/64*x1^5*x2^6*x3^2 + 72806733/32*x0^4*x2^7*x3^2 + 353877675/32*x0^3*x1*x2^7*x3^2 + 218873011/16*x0^2*x1^2*x2^7*x3^2 + 12997387/2*x0*x1^3*x2^7*x3^2 + 17095989/16*x1^4*x2^7*x3^2 + 181181641/128*x0^3*x2^8*x3^2 + 27046625/8*x0^2*x1*x2^8*x3^2 + 305219861/128*x0*x1^2*x2^8*x3^2 + 33429109/64*x1^3*x2^8*x3^2 + 11708993/32*x0^2*x2^9*x3^2 + 65391411/128*x0*x1*x2^9*x3^2 + 21464381/128*x1^2*x2^9*x3^2 + 6186209/128*x0*x2^10*x3^2 + 4059601/128*x1*x2^10*x3^2 + 170831/64*x2^11*x3^2 + 37351535/64*x0^9*x3^4 + 38760681/16*x0^8*x1*x3^4 + 136837495/32*x0^7*x1^2*x3^4 + 133531463/32*x0^6*x1^3*x3^4 + 38909973/16*x0^5*x1^4*x3^4 + 26821679/32*x0^4*x1^5*x3^4 + 4744773/32*x0^3*x1^6*x3^4 + 110313/32*x0^2*x1^7*x3^4 - 194275/64*x0*x1^8*x3^4 - 11257/32*x1^9*x3^4 + 38760681/16*x0^8*x2*x3^4 + 279096777/32*x0^7*x1*x2*x3^4 + 830079391/64*x0^6*x1^2*x2*x3^4 + 20351467/2*x0^5*x1^3*x2*x3^4 + 279745409/64*x0^4*x1^4*x2*x3^4 + 28374121/32*x0^3*x1^5*x2*x3^4 - 150059/64*x0^2*x1^6*x2*x3^4 - 518917/16*x0*x1^7*x2*x3^4 - 254149/64*x1^8*x2*x3^4 + 136837495/32*x0^7*x2^2*x3^4 + 830079391/64*x0^6*x1*x2^2*x3^4 + 992311073/64*x0^5*x1^2*x2^2*x3^4 + 286258525/32*x0^4*x1^3*x2^2*x3^4 + 8867481/4*x0^3*x1^4*x2^2*x3^4 - 4233209/64*x0^2*x1^5*x2^2*x3^4 - 8778023/64*x0*x1^6*x2^2*x3^4 - 300041/16*x1^7*x2^2*x3^4 + 133531463/32*x0^6*x2^3*x3^4 + 20351467/2*x0^5*x1*x2^3*x3^4 + 286258525/32*x0^4*x1^2*x2^3*x3^4 + 94655201/32*x0^3*x1^3*x2^3*x3^4 - 2586719/16*x0^2*x1^4*x2^3*x3^4 - 9765409/32*x0*x1^5*x2^3*x3^4 - 779943/16*x1^6*x2^3*x3^4 + 38909973/16*x0^5*x2^4*x3^4 + 279745409/64*x0^4*x1*x2^4*x3^4 + 8867481/4*x0^3*x1^2*x2^4*x3^4 - 2586719/16*x0^2*x1^3*x2^4*x3^4 - 3158127/8*x0*x1^4*x2^4*x3^4 - 4933241/64*x1^5*x2^4*x3^4 + 26821679/32*x0^4*x2^5*x3^4 + 28374121/32*x0^3*x1*x2^5*x3^4 - 4233209/64*x0^2*x1^2*x2^5*x3^4 - 9765409/32*x0*x1^3*x2^5*x3^4 - 4933241/64*x1^4*x2^5*x3^4 + 4744773/32*x0^3*x2^6*x3^4 - 150059/64*x0^2*x1*x2^6*x3^4 - 8778023/64*x0*x1^2*x2^6*x3^4 - 779943/16*x1^3*x2^6*x3^4 + 110313/32*x0^2*x2^7*x3^4 - 518917/16*x0*x1*x2^7*x3^4 - 300041/16*x1^2*x2^7*x3^4 - 194275/64*x0*x2^8*x3^4 - 254149/64*x1*x2^8*x3^4 - 11257/32*x2^9*x3^4 + 48549/64*x0^7*x3^6 - 115071/16*x0^6*x1*x3^6 - 1142981/64*x0^5*x1^2*x3^6 - 473801/32*x0^4*x1^3*x3^6 - 312709/64*x0^3*x1^4*x3^6 - 1315/8*x0^2*x1^5*x3^6 + 15741/64*x0*x1^6*x3^6 + 1239/32*x1^7*x3^6 - 115071/16*x0^6*x2*x3^6 - 2345255/64*x0^5*x1*x2*x3^6 - 2972747/64*x0^4*x1^2*x2*x3^6 - 657051/32*x0^3*x1^3*x2*x3^6 - 18977/32*x0^2*x1^4*x2*x3^6 + 110261/64*x0*x1^5*x2*x3^6 + 20061/64*x1^6*x2*x3^6 - 1142981/64*x0^5*x2^2*x3^6 - 2972747/64*x0^4*x1*x2^2*x3^6 - 993617/32*x0^3*x1^2*x2^2*x3^6 - 3607/8*x0^2*x1^3*x2^2*x3^6 + 318131/64*x0*x1^4*x2^2*x3^6 + 68619/64*x1^5*x2^2*x3^6 - 473801/32*x0^4*x2^3*x3^6 - 657051/32*x0^3*x1*x2^3*x3^6 - 3607/8*x0^2*x1^2*x2^3*x3^6 + 28101/4*x0*x1^3*x2^3*x3^6 + 15513/8*x1^4*x2^3*x3^6 - 312709/64*x0^3*x2^4*x3^6 - 18977/32*x0^2*x1*x2^4*x3^6 + 318131/64*x0*x1^2*x2^4*x3^6 + 15513/8*x1^3*x2^4*x3^6 - 1315/8*x0^2*x2^5*x3^6 + 110261/64*x0*x1*x2^5*x3^6 + 68619/64*x1^2*x2^5*x3^6 + 15741/64*x0*x2^6*x3^6 + 20061/64*x1*x2^6*x3^6 + 1239/32*x2^7*x3^6 - 57841/128*x0^5*x3^8 - 27647/32*x0^4*x1*x3^8 - 11113/16*x0^3*x1^2*x3^8 - 19981/64*x0^2*x1^3*x3^8 - 9935/128*x0*x1^4*x3^8 - 521/64*x1^5*x3^8 - 27647/32*x0^4*x2*x3^8 - 43603/32*x0^3*x1*x2*x3^8 - 113661/128*x0^2*x1^2*x2*x3^8 - 18811/64*x0*x1^3*x2*x3^8 - 5053/128*x1^4*x2*x3^8 - 11113/16*x0^3*x2^2*x3^8 - 113661/128*x0^2*x1*x2^2*x3^8 - 54633/128*x0*x1^2*x2^2*x3^8 - 4859/64*x1^3*x2^2*x3^8 - 19981/64*x0^2*x2^3*x3^8 - 18811/64*x0*x1*x2^3*x3^8 - 4859/64*x1^2*x2^3*x3^8 - 9935/128*x0*x2^4*x3^8 - 5053/128*x1*x2^4*x3^8 - 521/64*x2^5*x3^8 + 745/128*x0^3*x3^10 + 255/32*x0^2*x1*x3^10 + 485/128*x0*x1^2*x3^10 + 35/64*x1^3*x3^10 + 255/32*x0^2*x2*x3^10 + 1035/128*x0*x1*x2*x3^10 + 245/128*x1^2*x2*x3^10 + 485/128*x0*x2^2*x3^10 + 245/128*x1*x2^2*x3^10 + 35/64*x2^3*x3^10,\n",
       " 571640625/4*x0^14 + 253236684375/256*x0^13*x1 + 403773073125/128*x0^12*x1^2 + 787346693625/128*x0^11*x1^3 + 525220904157/64*x0^10*x1^4 + 2031953464965/256*x0^9*x1^5 + 735833937983/128*x0^8*x1^6 + 203024778995/64*x0^7*x1^7 + 42946132613/32*x0^6*x1^8 + 111005738353/256*x0^5*x1^9 + 13488727483/128*x0^4*x1^10 + 2391119345/128*x0^3*x1^11 + 146066361/64*x0^2*x1^12 + 43997715/256*x0*x1^13 + 769473/128*x1^14 + 253236684375/256*x0^13*x2 + 819445558125/128*x0^12*x1*x2 + 4864887962625/256*x0^11*x1^2*x2 + 8782921087089/256*x0^10*x1^3*x2 + 5387983234285/128*x0^9*x1^4*x2 + 9502768465389/256*x0^8*x1^5*x2 + 3102769535961/128*x0^7*x1^6*x2 + 1521069263949/128*x0^6*x1^7*x2 + 1120602890379/256*x0^5*x1^8*x2 + 76624366029/64*x0^4*x1^9*x2 + 60505138525/256*x0^3*x1^10*x2 + 8160281541/256*x0^2*x1^11*x2 + 168347277/64*x0*x1^12*x2 + 25649973/256*x1^13*x2 + 403773073125/128*x0^12*x2^2 + 4864887962625/256*x0^11*x1*x2^2 + 835649996541/16*x0^10*x1^2*x2^2 + 22199287990475/256*x0^9*x1^3*x2^2 + 12417368162853/128*x0^8*x1^4*x2^2 + 9873783153445/128*x0^7*x1^5*x2^2 + 179019881575/4*x0^6*x1^6*x2^2 + 2445545431435/128*x0^5*x1^7*x2^2 + 762740462367/128*x0^4*x1^8*x2^2 + 339007139141/256*x0^3*x1^9*x2^2 + 3183368633/16*x0^2*x1^10*x2^2 + 4641729679/256*x0*x1^11*x2^2 + 96918855/128*x1^12*x2^2 + 787346693625/128*x0^11*x2^3 + 8782921087089/256*x0^10*x1*x2^3 + 22199287990475/256*x0^9*x1^2*x2^3 + 16804075248603/128*x0^8*x1^3*x2^3 + 4237895870413/32*x0^7*x1^4*x2^3 + 11976452235659/128*x0^6*x1^5*x2^3 + 6051498161169/128*x0^5*x1^6*x2^3 + 273458244931/16*x0^4*x1^7*x2^3 + 554501784143/128*x0^3*x1^8*x2^3 + 187625598929/256*x0^2*x1^9*x2^3 + 19054694811/256*x0*x1^10*x2^3 + 439555937/128*x1^11*x2^3 + 525220904157/64*x0^10*x2^4 + 5387983234285/128*x0^9*x1*x2^4 + 12417368162853/128*x0^8*x1^2*x2^4 + 4237895870413/32*x0^7*x1^3*x2^4 + 949639705291/8*x0^6*x1^4*x2^4 + 4674726057547/64*x0^5*x1^5*x2^4 + 2000442375079/64*x0^4*x1^6*x2^4 + 293901172765/32*x0^3*x1^7*x2^4 + 113449956035/64*x0^2*x1^8*x2^4 + 25955293525/128*x0*x1^9*x2^4 + 1334894333/128*x1^10*x2^4 + 2031953464965/256*x0^9*x2^5 + 9502768465389/256*x0^8*x1*x2^5 + 9873783153445/128*x0^7*x1^2*x2^5 + 11976452235659/128*x0^6*x1^3*x2^5 + 4674726057547/64*x0^5*x1^4*x2^5 + 1218099968669/32*x0^4*x1^5*x2^5 + 1694862092091/128*x0^3*x1^6*x2^5 + 379270933765/128*x0^2*x1^7*x2^5 + 99007790511/256*x0*x1^8*x2^5 + 5736917451/256*x1^9*x2^5 + 735833937983/128*x0^8*x2^6 + 3102769535961/128*x0^7*x1*x2^6 + 179019881575/4*x0^6*x1^2*x2^6 + 6051498161169/128*x0^5*x1^3*x2^6 + 2000442375079/64*x0^4*x1^4*x2^6 + 1694862092091/128*x0^3*x1^5*x2^6 + 14031555799/4*x0^2*x1^6*x2^6 + 67956547227/128*x0*x1^7*x2^6 + 4493710811/128*x1^8*x2^6 + 203024778995/64*x0^7*x2^7 + 1521069263949/128*x0^6*x1*x2^7 + 2445545431435/128*x0^5*x1^2*x2^7 + 273458244931/16*x0^4*x1^3*x2^7 + 293901172765/32*x0^3*x1^4*x2^7 + 379270933765/128*x0^2*x1^5*x2^7 + 67956547227/128*x0*x1^6*x2^7 + 2605453887/64*x1^7*x2^7 + 42946132613/32*x0^6*x2^8 + 1120602890379/256*x0^5*x1*x2^8 + 762740462367/128*x0^4*x1^2*x2^8 + 554501784143/128*x0^3*x1^3*x2^8 + 113449956035/64*x0^2*x1^4*x2^8 + 99007790511/256*x0*x1^5*x2^8 + 4493710811/128*x1^6*x2^8 + 111005738353/256*x0^5*x2^9 + 76624366029/64*x0^4*x1*x2^9 + 339007139141/256*x0^3*x1^2*x2^9 + 187625598929/256*x0^2*x1^3*x2^9 + 25955293525/128*x0*x1^4*x2^9 + 5736917451/256*x1^5*x2^9 + 13488727483/128*x0^4*x2^10 + 60505138525/256*x0^3*x1*x2^10 + 3183368633/16*x0^2*x1^2*x2^10 + 19054694811/256*x0*x1^3*x2^10 + 1334894333/128*x1^4*x2^10 + 2391119345/128*x0^3*x2^11 + 8160281541/256*x0^2*x1*x2^11 + 4641729679/256*x0*x1^2*x2^11 + 439555937/128*x1^3*x2^11 + 146066361/64*x0^2*x2^12 + 168347277/64*x0*x1*x2^12 + 96918855/128*x1^2*x2^12 + 43997715/256*x0*x2^13 + 25649973/256*x1*x2^13 + 769473/128*x2^14 + 1414880625/32*x0^12*x3^2 + 60365817625/256*x0^11*x1*x3^2 + 35744808251/64*x0^10*x1^2*x3^2 + 197177576145/256*x0^9*x1^3*x3^2 + 86836812787/128*x0^8*x1^4*x3^2 + 49916484857/128*x0^7*x1^5*x3^2 + 2223570963/16*x0^6*x1^6*x3^2 + 2891959493/128*x0^5*x1^7*x3^2 - 256772197/64*x0^4*x1^8*x3^2 - 823470123/256*x0^3*x1^9*x3^2 - 51718947/64*x0^2*x1^10*x3^2 - 25808187/256*x0*x1^11*x3^2 - 671157/128*x1^12*x3^2 + 60365817625/256*x0^11*x2*x3^2 + 36337168151/32*x0^10*x1*x2*x3^2 + 153163817055/64*x0^9*x1^2*x2*x3^2 + 735804376875/256*x0^8*x1^3*x2*x3^2 + 272401229959/128*x0^7*x1^4*x2*x3^2 + 61257979471/64*x0^6*x1^5*x2*x3^2 + 13584640553/64*x0^5*x1^6*x2*x3^2 - 2271983683/128*x0^4*x1^7*x2*x3^2 - 6941347935/256*x0^3*x1^8*x2*x3^2 - 520836827/64*x0^2*x1^9*x2*x3^2 - 37008877/32*x0*x1^10*x2*x3^2 - 17195821/256*x1^11*x2*x3^2 + 35744808251/64*x0^10*x2^2*x3^2 + 153163817055/64*x0^9*x1*x2^2*x3^2 + 562499601425/128*x0^8*x1^2*x2^2*x3^2 + 142242544763/32*x0^7*x1^3*x2^2*x3^2 + 83018391945/32*x0^6*x1^4*x2^2*x3^2 + 12148161783/16*x0^5*x1^5*x2^2*x3^2 - 1203488575/64*x0^4*x1^6*x2^2*x3^2 - 3218454091/32*x0^3*x1^7*x2^2*x3^2 - 2328228969/64*x0^2*x1^8*x2^2*x3^2 - 379567195/64*x0*x1^9*x2^2*x3^2 - 49555163/128*x1^10*x2^2*x3^2 + 197177576145/256*x0^9*x2^3*x3^2 + 735804376875/256*x0^8*x1*x2^3*x3^2 + 142242544763/32*x0^7*x1^2*x2^3*x3^2 + 113679251753/32*x0^6*x1^3*x2^3*x3^2 + 176026791481/128*x0^5*x1^4*x2^3*x3^2 + 2693080891/128*x0^4*x1^5*x2^3*x3^2 - 3509306675/16*x0^3*x1^6*x2^3*x3^2 - 1532145065/16*x0^2*x1^7*x2^3*x3^2 - 4613944107/256*x0*x1^8*x2^3*x3^2 - 340836825/256*x1^9*x2^3*x3^2 + 86836812787/128*x0^8*x2^4*x3^2 + 272401229959/128*x0^7*x1*x2^4*x3^2 + 83018391945/32*x0^6*x1^2*x2^4*x3^2 + 176026791481/128*x0^5*x1^3*x2^4*x3^2 + 835457915/16*x0^4*x1^4*x2^4*x3^2 - 40442056791/128*x0^3*x1^5*x2^4*x3^2 - 2650007067/16*x0^2*x1^6*x2^4*x3^2 - 4637814169/128*x0*x1^7*x2^4*x3^2 - 390764191/128*x1^8*x2^4*x3^2 + 49916484857/128*x0^7*x2^5*x3^2 + 61257979471/64*x0^6*x1*x2^5*x3^2 + 12148161783/16*x0^5*x1^2*x2^5*x3^2 + 2693080891/128*x0^4*x1^3*x2^5*x3^2 - 40442056791/128*x0^3*x1^4*x2^5*x3^2 - 6330564509/32*x0^2*x1^5*x2^5*x3^2 - 3251077125/64*x0*x1^6*x2^5*x3^2 - 631385709/128*x1^7*x2^5*x3^2 + 2223570963/16*x0^6*x2^6*x3^2 + 13584640553/64*x0^5*x1*x2^6*x3^2 - 1203488575/64*x0^4*x1^2*x2^6*x3^2 - 3509306675/16*x0^3*x1^3*x2^6*x3^2 - 2650007067/16*x0^2*x1^4*x2^6*x3^2 - 3251077125/64*x0*x1^5*x2^6*x3^2 - 369411809/64*x1^6*x2^6*x3^2 + 2891959493/128*x0^5*x2^7*x3^2 - 2271983683/128*x0^4*x1*x2^7*x3^2 - 3218454091/32*x0^3*x1^2*x2^7*x3^2 - 1532145065/16*x0^2*x1^3*x2^7*x3^2 - 4637814169/128*x0*x1^4*x2^7*x3^2 - 631385709/128*x1^5*x2^7*x3^2 - 256772197/64*x0^4*x2^8*x3^2 - 6941347935/256*x0^3*x1*x2^8*x3^2 - 2328228969/64*x0^2*x1^2*x2^8*x3^2 - 4613944107/256*x0*x1^3*x2^8*x3^2 - 390764191/128*x1^4*x2^8*x3^2 - 823470123/256*x0^3*x2^9*x3^2 - 520836827/64*x0^2*x1*x2^9*x3^2 - 379567195/64*x0*x1^2*x2^9*x3^2 - 340836825/256*x1^3*x2^9*x3^2 - 51718947/64*x0^2*x2^10*x3^2 - 37008877/32*x0*x1*x2^10*x3^2 - 49555163/128*x1^2*x2^10*x3^2 - 25808187/256*x0*x2^11*x3^2 - 17195821/256*x1*x2^11*x3^2 - 671157/128*x2^12*x3^2 - 29665767/16*x0^10*x3^4 - 1150967885/128*x0^9*x1*x3^4 - 1211162337/64*x0^8*x1^2*x3^4 - 362901719/16*x0^7*x1^3*x3^4 - 543775817/32*x0^6*x1^4*x3^4 - 522291717/64*x0^5*x1^5*x3^4 - 39003447/16*x0^4*x1^6*x3^4 - 394416*x0^3*x1^7*x3^4 - 428775/32*x0^2*x1^8*x3^4 + 707599/128*x0*x1^9*x3^4 + 40521/64*x1^10*x3^4 - 1150967885/128*x0^9*x2*x3^4 - 2461821113/64*x0^8*x1*x2*x3^4 - 8956600097/128*x0^7*x1^2*x2*x3^4 - 9004015511/128*x0^6*x1^3*x2*x3^4 - 5395814371/128*x0^5*x1^4*x2*x3^4 - 1900205283/128*x0^4*x1^5*x2*x3^4 - 334186307/128*x0^3*x1^6*x2*x3^4 - 1857925/128*x0^2*x1^7*x2*x3^4 + 2245577/32*x0*x1^8*x2*x3^4 + 1025361/128*x1^9*x2*x3^4 - 1211162337/64*x0^8*x2^2*x3^4 - 8956600097/128*x0^7*x1*x2^2*x3^4 - 3416957913/32*x0^6*x1^2*x2^2*x3^4 - 10981682021/128*x0^5*x1^3*x2^2*x3^4 - 1199678081/32*x0^4*x1^4*x2^2*x3^4 - 959039723/128*x0^3*x1^5*x2^2*x3^4 + 6996437/32*x0^2*x1^6*x2^2*x3^4 + 45197073/128*x0*x1^7*x2^2*x3^4 + 2756407/64*x1^8*x2^2*x3^4 - 362901719/16*x0^7*x2^3*x3^4 - 9004015511/128*x0^6*x1*x2^3*x3^4 - 10981682021/128*x0^5*x1^2*x2^3*x3^4 - 3210950093/64*x0^4*x1^3*x2^3*x3^4 - 780265045/64*x0^3*x1^4*x2^3*x3^4 + 100997517/128*x0^2*x1^5*x2^3*x3^4 + 121521191/128*x0*x1^6*x2^3*x3^4 + 4160415/32*x1^7*x2^3*x3^4 - 543775817/32*x0^6*x2^4*x3^4 - 5395814371/128*x0^5*x1*x2^4*x3^4 - 1199678081/32*x0^4*x1^2*x2^4*x3^4 - 780265045/64*x0^3*x1^3*x2^4*x3^4 + 18211015/16*x0^2*x1^4*x2^4*x3^4 + 195046341/128*x0*x1^5*x2^4*x3^4 + 3915537/16*x1^6*x2^4*x3^4 - 522291717/64*x0^5*x2^5*x3^4 - 1900205283/128*x0^4*x1*x2^5*x3^4 - 959039723/128*x0^3*x1^2*x2^5*x3^4 + 100997517/128*x0^2*x1^3*x2^5*x3^4 + 195046341/128*x0*x1^4*x2^5*x3^4 + 19250623/64*x1^5*x2^5*x3^4 - 39003447/16*x0^4*x2^6*x3^4 - 334186307/128*x0^3*x1*x2^6*x3^4 + 6996437/32*x0^2*x1^2*x2^6*x3^4 + 121521191/128*x0*x1^3*x2^6*x3^4 + 3915537/16*x1^4*x2^6*x3^4 - 394416*x0^3*x2^7*x3^4 - 1857925/128*x0^2*x1*x2^7*x3^4 + 45197073/128*x0*x1^2*x2^7*x3^4 + 4160415/32*x1^3*x2^7*x3^4 - 428775/32*x0^2*x2^8*x3^4 + 2245577/32*x0*x1*x2^8*x3^4 + 2756407/64*x1^2*x2^8*x3^4 + 707599/128*x0*x2^9*x3^4 + 1025361/128*x1*x2^9*x3^4 + 40521/64*x2^10*x3^4 - 625771/8*x0^8*x3^6 - 28905527/128*x0^7*x1*x3^6 - 4428727/16*x0^6*x1^2*x3^6 - 24909933/128*x0^5*x1^3*x3^6 - 5926853/64*x0^4*x1^4*x3^6 - 4312321/128*x0^3*x1^5*x3^6 - 299729/32*x0^2*x1^6*x3^6 - 214155/128*x0*x1^7*x3^6 - 8577/64*x1^8*x3^6 - 28905527/128*x0^7*x2*x3^6 - 17990679/32*x0^6*x1*x2*x3^6 - 38345663/64*x0^5*x1^2*x2*x3^6 - 48798673/128*x0^4*x1^3*x2*x3^6 - 22159235/128*x0^3*x1^4*x2*x3^6 - 3711531/64*x0^2*x1^5*x2*x3^6 - 195999/16*x0*x1^6*x2*x3^6 - 146229/128*x1^7*x2*x3^6 - 4428727/16*x0^6*x2^2*x3^6 - 38345663/64*x0^5*x1*x2^2*x3^6 - 37052157/64*x0^4*x1^2*x2^2*x3^6 - 2833487/8*x0^3*x1^3*x2^2*x3^6 - 2400249/16*x0^2*x1^4*x2^2*x3^6 - 2466273/64*x0*x1^5*x2^2*x3^6 - 272195/64*x1^6*x2^2*x3^6 - 24909933/128*x0^5*x2^3*x3^6 - 48798673/128*x0^4*x1*x2^3*x3^6 - 2833487/8*x0^3*x1^2*x2^3*x3^6 - 6496373/32*x0^2*x1^3*x2^3*x3^6 - 8486659/128*x0*x1^4*x2^3*x3^6 - 1141987/128*x1^5*x2^3*x3^6 - 5926853/64*x0^4*x2^4*x3^6 - 22159235/128*x0^3*x1*x2^4*x3^6 - 2400249/16*x0^2*x1^2*x2^4*x3^6 - 8486659/128*x0*x1^3*x2^4*x3^6 - 181759/16*x1^4*x2^4*x3^6 - 4312321/128*x0^3*x2^5*x3^6 - 3711531/64*x0^2*x1*x2^5*x3^6 - 2466273/64*x0*x1^2*x2^5*x3^6 - 1141987/128*x1^3*x2^5*x3^6 - 299729/32*x0^2*x2^6*x3^6 - 195999/16*x0*x1*x2^6*x3^6 - 272195/64*x1^2*x2^6*x3^6 - 214155/128*x0*x2^7*x3^6 - 146229/128*x1*x2^7*x3^6 - 8577/64*x2^8*x3^6 + 61867/16*x0^6*x3^8 + 2547859/256*x0^5*x1*x3^8 + 1360389/128*x0^4*x1^2*x3^8 + 787427/128*x0^3*x1^3*x3^8 + 132557/64*x0^2*x1^4*x3^8 + 98655/256*x0*x1^5*x3^8 + 3933/128*x1^6*x3^8 + 2547859/256*x0^5*x2*x3^8 + 2724925/128*x0^4*x1*x2*x3^8 + 4702089/256*x0^3*x1^2*x2*x3^8 + 2093773/256*x0^2*x1^3*x2*x3^8 + 121961/64*x0*x1^4*x2*x3^8 + 47257/256*x1^5*x2*x3^8 + 1360389/128*x0^4*x2^2*x3^8 + 4702089/256*x0^3*x1*x2^2*x3^8 + 389273/32*x0^2*x1^2*x2^2*x3^8 + 958087/256*x0*x1^3*x2^2*x3^8 + 58027/128*x1^4*x2^2*x3^8 + 787427/128*x0^3*x2^3*x3^8 + 2093773/256*x0^2*x1*x2^3*x3^8 + 958087/256*x0*x1^2*x2^3*x3^8 + 76511/128*x1^3*x2^3*x3^8 + 132557/64*x0^2*x2^4*x3^8 + 121961/64*x0*x1*x2^4*x3^8 + 58027/128*x1^2*x2^4*x3^8 + 98655/256*x0*x2^5*x3^8 + 47257/256*x1*x2^5*x3^8 + 3933/128*x2^6*x3^8 - 1237/32*x0^4*x3^10 - 19707/256*x0^3*x1*x3^10 - 3571/64*x0^2*x1^2*x3^10 - 4415/256*x0*x1^3*x3^10 - 249/128*x1^4*x3^10 - 19707/256*x0^3*x2*x3^10 - 1863/16*x0^2*x1*x2*x3^10 - 1817/32*x0*x1^2*x2*x3^10 - 2265/256*x1^3*x2*x3^10 - 3571/64*x0^2*x2^2*x3^10 - 1817/32*x0*x1*x2^2*x3^10 - 1791/128*x1^2*x2^2*x3^10 - 4415/256*x0*x2^3*x3^10 - 2265/256*x1*x2^3*x3^10 - 249/128*x2^4*x3^10,\n",
       " -274765921875/512*x0^15 - 506896903125/128*x0^14*x1 - 6939676468125/512*x0^13*x1^2 - 7316991443625/256*x0^12*x1^3 - 21294894407275/512*x0^11*x1^4 - 2835796372265/64*x0^10*x1^5 - 18308277148957/512*x0^9*x1^6 - 5707171503719/256*x0^8*x1^7 - 5550221878593/512*x0^7*x1^8 - 526750890853/128*x0^6*x1^9 - 619747950687/512*x0^5*x1^10 - 69360556279/256*x0^4*x1^11 - 22864777473/512*x0^3*x1^12 - 163615977/32*x0^2*x1^13 - 185961447/512*x0*x1^14 - 3085209/256*x1^15 - 506896903125/128*x0^14*x2 - 7030162276875/256*x0^13*x1*x2 - 45056154272625/512*x0^12*x1^2*x2 - 2767547035625/16*x0^11*x1^3*x2 - 59733306876581/256*x0^10*x1^4*x2 - 58587815804931/256*x0^9*x1^5*x2 - 86298076798963/512*x0^8*x1^6*x2 - 3033885708531/32*x0^7*x1^7*x2 - 655501682997/16*x0^6*x1^8*x2 - 3466734391329/256*x0^5*x1^9*x2 - 1725916400519/512*x0^4*x1^10*x2 - 19602499707/32*x0^3*x1^11*x2 - 19652521329/256*x0^2*x1^12*x2 - 1518666705/256*x0*x1^13*x2 - 109058805/512*x1^14*x2 - 6939676468125/512*x0^13*x2^2 - 45056154272625/512*x0^12*x1*x2^2 - 134582128949775/512*x0^11*x1^2*x2^2 - 245231668894815/512*x0^10*x1^3*x2^2 - 152286013773481/256*x0^9*x1^4*x2^2 - 136315450675859/256*x0^8*x1^5*x2^2 - 90582223787799/256*x0^7*x1^6*x2^2 - 45283356569959/256*x0^6*x1^7*x2^2 - 34079838187585/512*x0^5*x1^8*x2^2 - 9535029454749/512*x0^4*x1^9*x2^2 - 1927446580659/512*x0^3*x1^10*x2^2 - 266391459651/512*x0^2*x1^11*x2^2 - 704381319/16*x0*x1^12*x2^2 - 220191831/128*x1^13*x2^2 - 7316991443625/256*x0^12*x2^3 - 2767547035625/16*x0^11*x1*x2^3 - 245231668894815/512*x0^10*x1^2*x2^3 - 205708152276367/256*x0^9*x1^3*x2^3 - 466333462508633/512*x0^8*x1^4*x2^3 - 47080248207261/64*x0^7*x1^5*x2^3 - 111223749221719/256*x0^6*x1^6*x2^3 - 24211799777357/128*x0^5*x1^7*x2^3 - 7712852003623/128*x0^4*x1^8*x2^3 - 876368734905/64*x0^3*x1^9*x2^3 - 1078138428691/512*x0^2*x1^10*x2^3 - 50319380207/256*x0*x1^11*x2^3 - 4307331993/512*x1^12*x2^3 - 21294894407275/512*x0^11*x2^4 - 59733306876581/256*x0^10*x1*x2^4 - 152286013773481/256*x0^9*x1^2*x2^4 - 466333462508633/512*x0^8*x1^3*x2^4 - 238469764361401/256*x0^7*x1^4*x2^4 - 21398761653009/32*x0^6*x1^5*x2^4 - 1375897446089/4*x0^5*x1^6*x2^4 - 32458379055427/256*x0^4*x1^7*x2^4 - 16799087039755/512*x0^3*x1^8*x2^4 - 1452382408023/256*x0^2*x1^9*x2^4 - 150882160547/256*x0*x1^10*x2^4 - 14252328729/512*x1^11*x2^4 - 2835796372265/64*x0^10*x2^5 - 58587815804931/256*x0^9*x1*x2^5 - 136315450675859/256*x0^8*x1^2*x2^5 - 47080248207261/64*x0^7*x1^3*x2^5 - 21398761653009/32*x0^6*x1^4*x2^5 - 53516901652021/128*x0^5*x1^5*x2^5 - 23307796165947/128*x0^4*x1^6*x2^5 - 3489891934505/64*x0^3*x1^7*x2^5 - 687263264787/64*x0^2*x1^8*x2^5 - 321178095867/256*x0*x1^9*x2^5 - 16885897407/256*x1^10*x2^5 - 18308277148957/512*x0^9*x2^6 - 86298076798963/512*x0^8*x1*x2^6 - 90582223787799/256*x0^7*x1^2*x2^6 - 111223749221719/256*x0^6*x1^3*x2^6 - 1375897446089/4*x0^5*x1^4*x2^6 - 23307796165947/128*x0^4*x1^5*x2^6 - 16494327197057/256*x0^3*x1^6*x2^6 - 3759132113785/256*x0^2*x1^7*x2^6 - 1000493244659/512*x0*x1^8*x2^6 - 59164678401/512*x1^9*x2^6 - 5707171503719/256*x0^8*x2^7 - 3033885708531/32*x0^7*x1*x2^7 - 45283356569959/256*x0^6*x1^2*x2^7 - 24211799777357/128*x0^5*x1^3*x2^7 - 32458379055427/256*x0^4*x1^4*x2^7 - 3489891934505/64*x0^3*x1^5*x2^7 - 3759132113785/256*x0^2*x1^6*x2^7 - 289475722693/128*x0*x1^7*x2^7 - 19499652051/128*x1^8*x2^7 - 5550221878593/512*x0^7*x2^8 - 655501682997/16*x0^6*x1*x2^8 - 34079838187585/512*x0^5*x1^2*x2^8 - 7712852003623/128*x0^4*x1^3*x2^8 - 16799087039755/512*x0^3*x1^4*x2^8 - 687263264787/64*x0^2*x1^5*x2^8 - 1000493244659/512*x0*x1^6*x2^8 - 19499652051/128*x1^7*x2^8 - 526750890853/128*x0^6*x2^9 - 3466734391329/256*x0^5*x1*x2^9 - 9535029454749/512*x0^4*x1^2*x2^9 - 876368734905/64*x0^3*x1^3*x2^9 - 1452382408023/256*x0^2*x1^4*x2^9 - 321178095867/256*x0*x1^5*x2^9 - 59164678401/512*x1^6*x2^9 - 619747950687/512*x0^5*x2^10 - 1725916400519/512*x0^4*x1*x2^10 - 1927446580659/512*x0^3*x1^2*x2^10 - 1078138428691/512*x0^2*x1^3*x2^10 - 150882160547/256*x0*x1^4*x2^10 - 16885897407/256*x1^5*x2^10 - 69360556279/256*x0^4*x2^11 - 19602499707/32*x0^3*x1*x2^11 - 266391459651/512*x0^2*x1^2*x2^11 - 50319380207/256*x0*x1^3*x2^11 - 14252328729/512*x1^4*x2^11 - 22864777473/512*x0^3*x2^12 - 19652521329/256*x0^2*x1*x2^12 - 704381319/16*x0*x1^2*x2^12 - 4307331993/512*x1^3*x2^12 - 163615977/32*x0^2*x2^13 - 1518666705/256*x0*x1*x2^13 - 220191831/128*x1^2*x2^13 - 185961447/512*x0*x2^14 - 109058805/512*x1*x2^14 - 3085209/256*x2^15 - 54201988125/256*x0^13*x3^2 - 79360567125/64*x0^12*x1*x3^2 - 418981291125/128*x0^11*x1^2*x3^2 - 656945012161/128*x0^10*x1^3*x3^2 - 1354851784151/256*x0^9*x1^4*x3^2 - 478669347319/128*x0^8*x1^5*x3^2 - 116122937735/64*x0^7*x1^6*x3^2 - 36787970681/64*x0^6*x1^7*x3^2 - 24309990891/256*x0^5*x1^8*x3^2 + 22854027/4*x0^4*x1^9*x3^2 + 927590115/128*x0^3*x1^10*x3^2 + 227309875/128*x0^2*x1^11*x3^2 + 53733663/256*x0*x1^12*x3^2 + 1320129/128*x1^13*x3^2 - 79360567125/64*x0^12*x2*x3^2 - 3400587011025/512*x0^11*x1*x2*x3^2 - 4062739887091/256*x0^10*x1^2*x2*x3^2 - 11373676628689/512*x0^9*x1^3*x2*x3^2 - 2565940739975/128*x0^8*x1^4*x2*x3^2 - 3074313039841/256*x0^7*x1^5*x2*x3^2 - 595140073613/128*x0^6*x1^6*x2*x3^2 - 254288759589/256*x0^5*x1^7*x2*x3^2 - 283315109/64*x0^4*x1^8*x2*x3^2 + 33340500531/512*x0^3*x1^9*x2*x3^2 + 4953810085/256*x0^2*x1^10*x2*x3^2 + 1329955963/512*x0*x1^11*x2*x3^2 + 18141999/128*x1^12*x2*x3^2 - 418981291125/128*x0^11*x2^2*x3^2 - 4062739887091/256*x0^10*x1*x2^2*x3^2 - 17336380723741/512*x0^9*x1^2*x2^2*x3^2 - 21252747152637/512*x0^8*x1^3*x2^2*x3^2 - 4074115444295/128*x0^7*x1^4*x2^2*x3^2 - 980899290449/64*x0^6*x1^5*x2^2*x3^2 - 1060385512851/256*x0^5*x1^6*x2^2*x3^2 - 56120909015/256*x0^4*x1^7*x2^2*x3^2 + 16526541903/64*x0^3*x1^8*x2^2*x3^2 + 24202442387/256*x0^2*x1^9*x2^2*x3^2 + 7429998779/512*x0*x1^10*x2^2*x3^2 + 452784371/512*x1^11*x2^2*x3^2 - 656945012161/128*x0^10*x2^3*x3^2 - 11373676628689/512*x0^9*x1*x2^3*x3^2 - 21252747152637/512*x0^8*x1^2*x2^3*x3^2 - 5538580292565/128*x0^7*x1^3*x2^3*x3^2 - 3425299574031/128*x0^6*x1^4*x2^3*x3^2 - 2343525087223/256*x0^5*x1^5*x2^3*x3^2 - 222114797299/256*x0^4*x1^6*x2^3*x3^2 + 77708998775/128*x0^3*x1^7*x2^3*x3^2 + 17628989393/64*x0^2*x1^8*x2^3*x3^2 + 24882773559/512*x0*x1^9*x2^3*x3^2 + 1703051419/512*x1^10*x2^3*x3^2 - 1354851784151/256*x0^9*x2^4*x3^2 - 2565940739975/128*x0^8*x1*x2^4*x3^2 - 4074115444295/128*x0^7*x1^2*x2^4*x3^2 - 3425299574031/128*x0^6*x1^3*x2^4*x3^2 - 756562017099/64*x0^5*x1^4*x2^4*x3^2 - 203433756785/128*x0^4*x1^5*x2^4*x3^2 + 123514219455/128*x0^3*x1^6*x2^4*x3^2 + 68669596843/128*x0^2*x1^7*x2^4*x3^2 + 27951079155/256*x0*x1^8*x2^4*x3^2 + 270129487/32*x1^9*x2^4*x3^2 - 478669347319/128*x0^8*x2^5*x3^2 - 3074313039841/256*x0^7*x1*x2^5*x3^2 - 980899290449/64*x0^6*x1^2*x2^5*x3^2 - 2343525087223/256*x0^5*x1^3*x2^5*x3^2 - 203433756785/128*x0^4*x1^4*x2^5*x3^2 + 285803094769/256*x0^3*x1^5*x2^5*x3^2 + 23658911453/32*x0^2*x1^6*x2^5*x3^2 + 44581665415/256*x0*x1^7*x2^5*x3^2 + 980050463/64*x1^8*x2^5*x3^2 - 116122937735/64*x0^7*x2^6*x3^2 - 595140073613/128*x0^6*x1*x2^6*x3^2 - 1060385512851/256*x0^5*x1^2*x2^6*x3^2 - 222114797299/256*x0^4*x1^3*x2^6*x3^2 + 123514219455/128*x0^3*x1^4*x2^6*x3^2 + 23658911453/32*x0^2*x1^5*x2^6*x3^2 + 51936442209/256*x0*x1^6*x2^6*x3^2 + 5243378789/256*x1^7*x2^6*x3^2 - 36787970681/64*x0^6*x2^7*x3^2 - 254288759589/256*x0^5*x1*x2^7*x3^2 - 56120909015/256*x0^4*x1^2*x2^7*x3^2 + 77708998775/128*x0^3*x1^3*x2^7*x3^2 + 68669596843/128*x0^2*x1^4*x2^7*x3^2 + 44581665415/256*x0*x1^5*x2^7*x3^2 + 5243378789/256*x1^6*x2^7*x3^2 - 24309990891/256*x0^5*x2^8*x3^2 - 283315109/64*x0^4*x1*x2^8*x3^2 + 16526541903/64*x0^3*x1^2*x2^8*x3^2 + 17628989393/64*x0^2*x1^3*x2^8*x3^2 + 27951079155/256*x0*x1^4*x2^8*x3^2 + 980050463/64*x1^5*x2^8*x3^2 + 22854027/4*x0^4*x2^9*x3^2 + 33340500531/512*x0^3*x1*x2^9*x3^2 + 24202442387/256*x0^2*x1^2*x2^9*x3^2 + 24882773559/512*x0*x1^3*x2^9*x3^2 + 270129487/32*x1^4*x2^9*x3^2 + 927590115/128*x0^3*x2^10*x3^2 + 4953810085/256*x0^2*x1*x2^10*x3^2 + 7429998779/512*x0*x1^2*x2^10*x3^2 + 1703051419/512*x1^3*x2^10*x3^2 + 227309875/128*x0^2*x2^11*x3^2 + 1329955963/512*x0*x1*x2^11*x3^2 + 452784371/512*x1^2*x2^11*x3^2 + 53733663/256*x0*x2^12*x3^2 + 18141999/128*x1*x2^12*x3^2 + 1320129/128*x2^13*x3^2 + 1847160575/512*x0^11*x3^4 + 2811309133/128*x0^10*x1*x3^4 + 29451014823/512*x0^9*x1^2*x3^4 + 22073587869/256*x0^8*x1^3*x3^4 + 21047172615/256*x0^7*x1^4*x3^4 + 831738709/16*x0^6*x1^5*x3^4 + 5589624491/256*x0^5*x1^6*x3^4 + 746309959/128*x0^4*x1^7*x3^4 + 435032595/512*x0^3*x1^8*x3^4 + 2859327/128*x0^2*x1^9*x3^4 - 5767709/512*x0*x1^10*x3^4 - 302739/256*x1^11*x3^4 + 2811309133/128*x0^10*x2*x3^4 + 59615797995/512*x0^9*x1*x2*x3^4 + 134821476575/512*x0^8*x1^2*x2*x3^4 + 42849667947/128*x0^7*x1^3*x2*x3^4 + 33638586571/128*x0^6*x1^4*x2*x3^4 + 33332619037/256*x0^5*x1^5*x2*x3^4 + 9975810237/256*x0^4*x1^6*x2*x3^4 + 731375287/128*x0^3*x1^7*x2*x3^4 - 8261227/64*x0^2*x1^8*x2*x3^4 - 84977325/512*x0*x1^9*x2*x3^4 - 8517089/512*x1^10*x2*x3^4 + 29451014823/512*x0^9*x2^2*x3^4 + 134821476575/512*x0^8*x1*x2^2*x3^4 + 129361405325/256*x0^7*x1^2*x2^2*x3^4 + 135376796385/256*x0^6*x1^3*x2^2*x3^4 + 10373885085/32*x0^5*x1^4*x2^2*x3^4 + 7209502571/64*x0^4*x1^5*x2^2*x3^4 + 4304780795/256*x0^3*x1^6*x2^2*x3^4 - 433910665/256*x0^2*x1^7*x2^2*x3^4 - 496957639/512*x0*x1^8*x2^2*x3^4 - 51517031/512*x1^9*x2^2*x3^4 + 22073587869/256*x0^8*x2^3*x3^4 + 42849667947/128*x0^7*x1*x2^3*x3^4 + 135376796385/256*x0^6*x1^2*x2^3*x3^4 + 13812885087/32*x0^5*x1^3*x2^3*x3^4 + 47091764073/256*x0^4*x1^4*x2^3*x3^4 + 3767677303/128*x0^3*x1^5*x2^3*x3^4 - 1538183161/256*x0^2*x1^6*x2^3*x3^4 - 196649015/64*x0*x1^7*x2^3*x3^4 - 44404607/128*x1^8*x2^3*x3^4 + 21047172615/256*x0^7*x2^4*x3^4 + 33638586571/128*x0^6*x1*x2^4*x3^4 + 10373885085/32*x0^5*x1^2*x2^4*x3^4 + 47091764073/256*x0^4*x1^3*x2^4*x3^4 + 8952171711/256*x0^3*x1^4*x2^4*x3^4 - 170448067/16*x0^2*x1^5*x2^4*x3^4 - 758797119/128*x0*x1^6*x2^4*x3^4 - 194513711/256*x1^7*x2^4*x3^4 + 831738709/16*x0^6*x2^5*x3^4 + 33332619037/256*x0^5*x1*x2^5*x3^4 + 7209502571/64*x0^4*x1^2*x2^5*x3^4 + 3767677303/128*x0^3*x1^3*x2^5*x3^4 - 170448067/16*x0^2*x1^4*x2^5*x3^4 - 1879728315/256*x0*x1^5*x2^5*x3^4 - 71200363/64*x1^6*x2^5*x3^4 + 5589624491/256*x0^5*x2^6*x3^4 + 9975810237/256*x0^4*x1*x2^6*x3^4 + 4304780795/256*x0^3*x1^2*x2^6*x3^4 - 1538183161/256*x0^2*x1^3*x2^6*x3^4 - 758797119/128*x0*x1^4*x2^6*x3^4 - 71200363/64*x1^5*x2^6*x3^4 + 746309959/128*x0^4*x2^7*x3^4 + 731375287/128*x0^3*x1*x2^7*x3^4 - 433910665/256*x0^2*x1^2*x2^7*x3^4 - 196649015/64*x0*x1^3*x2^7*x3^4 - 194513711/256*x1^4*x2^7*x3^4 + 435032595/512*x0^3*x2^8*x3^4 - 8261227/64*x0^2*x1*x2^8*x3^4 - 496957639/512*x0*x1^2*x2^8*x3^4 - 44404607/128*x1^3*x2^8*x3^4 + 2859327/128*x0^2*x2^9*x3^4 - 84977325/512*x0*x1*x2^9*x3^4 - 51517031/512*x1^2*x2^9*x3^4 - 5767709/512*x0*x2^10*x3^4 - 8517089/512*x1*x2^10*x3^4 - 302739/256*x2^11*x3^4 + 88060977/128*x0^9*x3^6 + 80911357/32*x0^8*x1*x3^6 + 129959741/32*x0^7*x1^2*x3^6 + 241291973/64*x0^6*x1^3*x3^6 + 144674253/64*x0^5*x1^4*x3^6 + 59403299/64*x0^4*x1^5*x3^6 + 8589439/32*x0^3*x1^6*x3^6 + 3451979/64*x0^2*x1^7*x3^6 + 877077/128*x0*x1^8*x3^6 + 26307/64*x1^9*x3^6 + 80911357/32*x0^8*x2*x3^6 + 2109154403/256*x0^7*x1*x2*x3^6 + 1485292813/128*x0^6*x1^2*x2*x3^6 + 2391060953/256*x0^5*x1^3*x2*x3^6 + 307096187/64*x0^4*x1^4*x2*x3^6 + 424530693/256*x0^3*x1^5*x2*x3^6 + 49528381/128*x0^2*x1^6*x2*x3^6 + 14394783/256*x0*x1^7*x2*x3^6 + 122577/32*x1^8*x2*x3^6 + 129959741/32*x0^7*x2^2*x3^6 + 1485292813/128*x0^6*x1*x2^2*x3^6 + 3628194523/256*x0^5*x1^2*x2^2*x3^6 + 2503993463/256*x0^4*x1^3*x2^2*x3^6 + 542496591/128*x0^3*x1^4*x2^2*x3^6 + 2374501/2*x0^2*x1^5*x2^2*x3^6 + 51640239/256*x0*x1^6*x2^2*x3^6 + 4049455/256*x1^7*x2^2*x3^6 + 241291973/64*x0^6*x2^3*x3^6 + 2391060953/256*x0^5*x1*x2^3*x3^6 + 2503993463/256*x0^4*x1^2*x2^3*x3^6 + 729367349/128*x0^3*x1^3*x2^3*x3^6 + 256850269/128*x0^2*x1^4*x2^3*x3^6 + 105294381/256*x0*x1^5*x2^3*x3^6 + 9703995/256*x1^6*x2^3*x3^6 + 144674253/64*x0^5*x2^4*x3^6 + 307096187/64*x0^4*x1*x2^4*x3^6 + 542496591/128*x0^3*x1^2*x2^4*x3^6 + 256850269/128*x0^2*x1^3*x2^4*x3^6 + 66301419/128*x0*x1^4*x2^4*x3^6 + 7393633/128*x1^5*x2^4*x3^6 + 59403299/64*x0^4*x2^5*x3^6 + 424530693/256*x0^3*x1*x2^5*x3^6 + 2374501/2*x0^2*x1^2*x2^5*x3^6 + 105294381/256*x0*x1^3*x2^5*x3^6 + 7393633/128*x1^4*x2^5*x3^6 + 8589439/32*x0^3*x2^6*x3^6 + 49528381/128*x0^2*x1*x2^6*x3^6 + 51640239/256*x0*x1^2*x2^6*x3^6 + 9703995/256*x1^3*x2^6*x3^6 + 3451979/64*x0^2*x2^7*x3^6 + 14394783/256*x0*x1*x2^7*x3^6 + 4049455/256*x1^2*x2^7*x3^6 + 877077/128*x0*x2^8*x3^6 + 122577/32*x1*x2^8*x3^6 + 26307/64*x2^9*x3^6 - 11031333/512*x0^7*x3^8 - 8821259/128*x0^6*x1*x3^8 - 47587487/512*x0^5*x1^2*x3^8 - 17716623/256*x0^4*x1^3*x3^8 - 15895915/512*x0^3*x1^4*x3^8 - 541095/64*x0^2*x1^5*x3^8 - 664113/512*x0*x1^6*x3^8 - 22095/256*x1^7*x3^8 - 8821259/128*x0^6*x2*x3^8 - 2988377/16*x0^5*x1*x2*x3^8 - 106952571/512*x0^4*x1^2*x2*x3^8 - 15981585/128*x0^3*x1^3*x2*x3^8 - 10890345/256*x0^2*x1^4*x2*x3^8 - 1008943/128*x0*x1^5*x2*x3^8 - 317415/512*x1^6*x2*x3^8 - 47587487/512*x0^5*x2^2*x3^8 - 106952571/512*x0^4*x1*x2^2*x3^8 - 95891963/512*x0^3*x1^2*x2^2*x3^8 - 43444691/512*x0^2*x1^3*x2^2*x3^8 - 5028527/256*x0*x1^4*x2^2*x3^8 - 477285/256*x1^5*x2^2*x3^8 - 17716623/256*x0^4*x2^3*x3^8 - 15981585/128*x0^3*x1*x2^3*x3^8 - 43444691/512*x0^2*x1^2*x2^3*x3^8 - 6680809/256*x0*x1^3*x2^3*x3^8 - 1582641/512*x1^4*x2^3*x3^8 - 15895915/512*x0^3*x2^4*x3^8 - 10890345/256*x0^2*x1*x2^4*x3^8 - 5028527/256*x0*x1^2*x2^4*x3^8 - 1582641/512*x1^3*x2^4*x3^8 - 541095/64*x0^2*x2^5*x3^8 - 1008943/128*x0*x1*x2^5*x3^8 - 477285/256*x1^2*x2^5*x3^8 - 664113/512*x0*x2^6*x3^8 - 317415/512*x1*x2^6*x3^8 - 22095/256*x2^7*x3^8 + 23435/256*x0^5*x3^10 + 19371/64*x0^4*x1*x3^10 + 43905/128*x0^3*x1^2*x3^10 + 22519/128*x0^2*x1^3*x3^10 + 10759/256*x0*x1^4*x3^10 + 489/128*x1^5*x3^10 + 19371/64*x0^4*x2*x3^10 + 369627/512*x0^3*x1*x2*x3^10 + 150145/256*x0^2*x1^2*x2*x3^10 + 100311/512*x0*x1^3*x2*x3^10 + 2957/128*x1^4*x2*x3^10 + 43905/128*x0^3*x2^2*x3^10 + 150145/256*x0^2*x1*x2^2*x3^10 + 159063/512*x0*x1^2*x2^2*x3^10 + 26239/512*x1^3*x2^2*x3^10 + 22519/128*x0^2*x2^3*x3^10 + 100311/512*x0*x1*x2^3*x3^10 + 26239/512*x1^2*x2^3*x3^10 + 10759/256*x0*x2^4*x3^10 + 2957/128*x1*x2^4*x3^10 + 489/128*x2^5*x3^10 + 729/512*x0^3*x3^12 + 243/128*x0^2*x1*x3^12 + 405/512*x0*x1^2*x3^12 + 27/256*x1^3*x3^12 + 243/128*x0^2*x2*x3^12 + 891/512*x0*x1*x2*x3^12 + 189/512*x1^2*x2*x3^12 + 405/512*x0*x2^2*x3^12 + 189/512*x1*x2^2*x3^12 + 27/256*x2^3*x3^12,\n",
       " 1027460953125/512*x0^16 + 16100080171875/1024*x0^15*x1 + 29422102179375/512*x0^14*x1^2 + 133356979369125/1024*x0^13*x1^3 + 52513110709725/256*x0^12*x1^4 + 244204937614515/1024*x0^11*x1^5 + 108552261035697/512*x0^10*x1^6 + 150780068549037/1024*x0^9*x1^7 + 20695690662405/256*x0^8*x1^8 + 36087072857313/1024*x0^7*x1^9 + 6228637173345/512*x0^6*x1^10 + 3370245272967/1024*x0^5*x1^11 + 175095706485/256*x0^4*x1^12 + 108008313993/1024*x0^3*x1^13 + 5822501535/512*x0^2*x1^14 + 783270567/1024*x0*x1^15 + 12363597/512*x1^16 + 16100080171875/1024*x0^15*x2 + 59528432739375/512*x0^14*x1*x2 + 204713471674125/512*x0^13*x1^2*x2 + 869813955121125/1024*x0^12*x1^3*x2 + 1278553269500405/1024*x0^11*x1^4*x2 + 344856636120211/256*x0^10*x1^5*x2 + 141258375411123/128*x0^9*x1^6*x2 + 716722017649199/1024*x0^8*x1^7*x2 + 355166334797629/1024*x0^7*x1^8*x2 + 68801857362663/512*x0^6*x1^9*x2 + 20675711655489/512*x0^5*x1^10*x2 + 9463671221859/1024*x0^4*x1^11*x2 + 1595705654475/1024*x0^3*x1^12*x2 + 23370589557/128*x0^2*x1^13*x2 + 3398841243/256*x0*x1^14*x2 + 461906793/1024*x1^15*x2 + 29422102179375/512*x0^14*x2^2 + 204713471674125/512*x0^13*x1*x2^2 + 659949143340225/512*x0^12*x1^2*x2^2 + 1308416066650645/512*x0^11*x1^3*x2^2 + 223103149962401/64*x0^10*x1^4*x2^2 + 221809999838759/64*x0^9*x1^5*x2^2 + 165945728747901/64*x0^8*x1^6*x2^2 + 379991695779325/256*x0^7*x1^7*x2^2 + 334736352154431/512*x0^6*x1^8*x2^2 + 112912383920429/512*x0^5*x1^9*x2^2 + 28708323956185/512*x0^4*x1^10*x2^2 + 5332068766241/512*x0^3*x1^11*x2^2 + 341637102333/256*x0^2*x1^12*x2^2 + 27005823279/256*x0*x1^13*x2^2 + 992259207/256*x1^14*x2^2 + 133356979369125/1024*x0^13*x2^3 + 869813955121125/1024*x0^12*x1*x2^3 + 1308416066650645/512*x0^11*x1^2*x2^3 + 1203677806579361/256*x0^10*x1^3*x2^3 + 6052271599994371/1024*x0^9*x1^4*x2^3 + 5495137354572753/1024*x0^8*x1^5*x2^3 + 927719629221523/256*x0^7*x1^6*x2^3 + 118017271389691/64*x0^6*x1^7*x2^3 + 724175882583995/1024*x0^5*x1^8*x2^3 + 206703687198839/1024*x0^4*x1^9*x2^3 + 21329674167285/512*x0^3*x1^10*x2^3 + 1505737483123/256*x0^2*x1^11*x2^3 + 520847793981/1024*x0*x1^12*x2^3 + 20809718739/1024*x1^13*x2^3 + 52513110709725/256*x0^12*x2^4 + 1278553269500405/1024*x0^11*x1*x2^4 + 223103149962401/64*x0^10*x1^2*x2^4 + 6052271599994371/1024*x0^9*x1^3*x2^4 + 868486795095719/128*x0^8*x1^4*x2^4 + 2847099922081745/512*x0^7*x1^5*x2^4 + 53407948188237/16*x0^6*x1^6*x2^4 + 757270682065179/512*x0^5*x1^7*x2^4 + 122887650950081/256*x0^4*x1^8*x2^4 + 113902639010393/1024*x0^3*x1^9*x2^4 + 1117035141661/64*x0^2*x1^10*x2^4 + 1703254363095/1024*x0*x1^11*x2^4 + 4654039635/64*x1^12*x2^4 + 244204937614515/1024*x0^11*x2^5 + 344856636120211/256*x0^10*x1*x2^5 + 221809999838759/64*x0^9*x1^2*x2^5 + 5495137354572753/1024*x0^8*x1^3*x2^5 + 2847099922081745/512*x0^7*x1^4*x2^5 + 1037079353281393/256*x0^6*x1^5*x2^5 + 542107135509451/256*x0^5*x1^6*x2^5 + 406579169079315/512*x0^4*x1^7*x2^5 + 214271875277507/1024*x0^3*x1^8*x2^5 + 4719387392541/128*x0^2*x1^9*x2^5 + 999859575955/256*x0*x1^10*x2^5 + 192727927313/1024*x1^11*x2^5 + 108552261035697/512*x0^10*x2^6 + 141258375411123/128*x0^9*x1*x2^6 + 165945728747901/64*x0^8*x1^2*x2^6 + 927719629221523/256*x0^7*x1^3*x2^6 + 53407948188237/16*x0^6*x1^4*x2^6 + 542107135509451/256*x0^5*x1^5*x2^6 + 239829032135867/256*x0^4*x1^6*x2^6 + 73022323608409/256*x0^3*x1^7*x2^6 + 29265478088191/512*x0^2*x1^8*x2^6 + 1740826409571/256*x0*x1^9*x2^6 + 93259400873/256*x1^10*x2^6 + 150780068549037/1024*x0^9*x2^7 + 716722017649199/1024*x0^8*x1*x2^7 + 379991695779325/256*x0^7*x1^2*x2^7 + 118017271389691/64*x0^6*x1^3*x2^7 + 757270682065179/512*x0^5*x1^4*x2^7 + 406579169079315/512*x0^4*x1^5*x2^7 + 73022323608409/256*x0^3*x1^6*x2^7 + 8454174520745/128*x0^2*x1^7*x2^7 + 9151141364549/1024*x0*x1^8*x2^7 + 550624687795/1024*x1^9*x2^7 + 20695690662405/256*x0^8*x2^8 + 355166334797629/1024*x0^7*x1*x2^8 + 334736352154431/512*x0^6*x1^2*x2^8 + 724175882583995/1024*x0^5*x1^3*x2^8 + 122887650950081/256*x0^4*x1^4*x2^8 + 214271875277507/1024*x0^3*x1^5*x2^8 + 29265478088191/512*x0^2*x1^6*x2^8 + 9151141364549/1024*x0*x1^7*x2^8 + 156564119483/256*x1^8*x2^8 + 36087072857313/1024*x0^7*x2^9 + 68801857362663/512*x0^6*x1*x2^9 + 112912383920429/512*x0^5*x1^2*x2^9 + 206703687198839/1024*x0^4*x1^3*x2^9 + 113902639010393/1024*x0^3*x1^4*x2^9 + 4719387392541/128*x0^2*x1^5*x2^9 + 1740826409571/256*x0*x1^6*x2^9 + 550624687795/1024*x1^7*x2^9 + 6228637173345/512*x0^6*x2^10 + 20675711655489/512*x0^5*x1*x2^10 + 28708323956185/512*x0^4*x1^2*x2^10 + 21329674167285/512*x0^3*x1^3*x2^10 + 1117035141661/64*x0^2*x1^4*x2^10 + 999859575955/256*x0*x1^5*x2^10 + 93259400873/256*x1^6*x2^10 + 3370245272967/1024*x0^5*x2^11 + 9463671221859/1024*x0^4*x1*x2^11 + 5332068766241/512*x0^3*x1^2*x2^11 + 1505737483123/256*x0^2*x1^3*x2^11 + 1703254363095/1024*x0*x1^4*x2^11 + 192727927313/1024*x1^5*x2^11 + 175095706485/256*x0^4*x2^12 + 1595705654475/1024*x0^3*x1*x2^12 + 341637102333/256*x0^2*x1^2*x2^12 + 520847793981/1024*x0*x1^3*x2^12 + 4654039635/64*x1^4*x2^12 + 108008313993/1024*x0^3*x2^13 + 23370589557/128*x0^2*x1*x2^13 + 27005823279/256*x0*x1^2*x2^13 + 20809718739/1024*x1^3*x2^13 + 5822501535/512*x0^2*x2^14 + 3398841243/256*x0*x1*x2^14 + 992259207/256*x1^2*x2^14 + 783270567/1024*x0*x2^15 + 461906793/1024*x1*x2^15 + 12363597/512*x2^16 + 249773945625/256*x0^14*x3^2 + 3176660449125/512*x0^13*x1*x3^2 + 4602628283325/256*x0^12*x1^2*x3^2 + 4016576594985/128*x0^11*x1^3*x3^2 + 9393310281177/256*x0^10*x1^4*x3^2 + 15459230316621/512*x0^9*x1^5*x3^2 + 4559492227103/256*x0^8*x1^6*x3^2 + 119521490071/16*x0^7*x1^7*x3^2 + 542304709355/256*x0^6*x1^8*x3^2 + 172328767231/512*x0^5*x1^9*x3^2 - 1171165493/256*x0^4*x1^10*x3^2 - 2086228313/128*x0^3*x1^11*x3^2 - 996415533/256*x0^2*x1^12*x3^2 - 223535313/512*x0*x1^13*x3^2 - 5200983/256*x1^14*x3^2 + 3176660449125/512*x0^13*x2*x3^2 + 9323610149475/256*x0^12*x1*x2*x3^2 + 24745660080155/256*x0^11*x1^2*x2*x3^2 + 78325892824175/512*x0^10*x1^3*x2*x3^2 + 81944417894283/512*x0^9*x1^4*x2*x3^2 + 59195118196935/512*x0^8*x1^5*x2*x3^2 + 7439179590641/128*x0^7*x1^6*x2*x3^2 + 5035348994459/256*x0^6*x1^7*x2*x3^2 + 2003281991595/512*x0^5*x1^8*x2*x3^2 + 18553782209/128*x0^4*x1^9*x2*x3^2 - 39687191901/256*x0^3*x1^10*x2*x3^2 - 23369875733/512*x0^2*x1^11*x2*x3^2 - 2969463771/512*x0*x1^12*x2*x3^2 - 152691489/512*x1^13*x2*x3^2 + 4602628283325/256*x0^12*x2^2*x3^2 + 24745660080155/256*x0^11*x1*x2^2*x3^2 + 59561289200717/256*x0^10*x1^2*x2^2*x3^2 + 168739620306295/512*x0^9*x1^3*x2^2*x3^2 + 155122758630403/512*x0^8*x1^4*x2^2*x3^2 + 186971521162*x0^7*x1^5*x2^2*x3^2 + 1222144788605/16*x0^6*x1^6*x2^2*x3^2 + 4781898453989/256*x0^5*x1^7*x2^2*x3^2 + 185775946157/128*x0^4*x1^8*x2^2*x3^2 - 165815338719/256*x0^3*x1^9*x2^2*x3^2 - 61914779705/256*x0^2*x1^10*x2^2*x3^2 - 17952648889/512*x0*x1^11*x2^2*x3^2 - 1025453817/512*x1^12*x2^2*x3^2 + 4016576594985/128*x0^11*x2^3*x3^2 + 78325892824175/512*x0^10*x1*x2^3*x3^2 + 168739620306295/512*x0^9*x1^2*x2^3*x3^2 + 52524310022769/128*x0^8*x1^3*x2^3*x3^2 + 41298135088291/128*x0^7*x1^4*x2^3*x3^2 + 41588290104109/256*x0^6*x1^5*x2^3*x3^2 + 12482764845965/256*x0^5*x1^6*x2^3*x3^2 + 717513280013/128*x0^4*x1^7*x2^3*x3^2 - 102032466741/64*x0^3*x1^8*x2^3*x3^2 - 394871005425/512*x0^2*x1^9*x2^3*x3^2 - 65662418969/512*x0*x1^10*x2^3*x3^2 - 261675965/32*x1^11*x2^3*x3^2 + 9393310281177/256*x0^10*x2^4*x3^2 + 81944417894283/512*x0^9*x1*x2^4*x3^2 + 155122758630403/512*x0^8*x1^2*x2^4*x3^2 + 41298135088291/128*x0^7*x1^3*x2^4*x3^2 + 26527060186669/128*x0^6*x1^4*x2^4*x3^2 + 19775064202265/256*x0^5*x1^5*x2^4*x3^2 + 3019452262699/256*x0^4*x1^6*x2^4*x3^2 - 340081571421/128*x0^3*x1^7*x2^4*x3^2 - 425868345559/256*x0^2*x1^8*x2^4*x3^2 - 162853474901/512*x0*x1^9*x2^4*x3^2 - 11644805009/512*x1^10*x2^4*x3^2 + 15459230316621/512*x0^9*x2^5*x3^2 + 59195118196935/512*x0^8*x1*x2^5*x3^2 + 186971521162*x0^7*x1^2*x2^5*x3^2 + 41588290104109/256*x0^6*x1^3*x2^5*x3^2 + 19775064202265/256*x0^5*x1^4*x2^5*x3^2 + 479424840943/32*x0^4*x1^5*x2^5*x3^2 - 212314304017/64*x0^3*x1^6*x2^5*x3^2 - 660935645309/256*x0^2*x1^7*x2^5*x3^2 - 290592603831/512*x0*x1^8*x2^5*x3^2 - 23411190295/512*x1^9*x2^5*x3^2 + 4559492227103/256*x0^8*x2^6*x3^2 + 7439179590641/128*x0^7*x1*x2^6*x3^2 + 1222144788605/16*x0^6*x1^2*x2^6*x3^2 + 12482764845965/256*x0^5*x1^3*x2^6*x3^2 + 3019452262699/256*x0^4*x1^4*x2^6*x3^2 - 212314304017/64*x0^3*x1^5*x2^6*x3^2 - 381276556739/128*x0^2*x1^6*x2^6*x3^2 - 192665850299/256*x0*x1^7*x2^6*x3^2 - 4397677321/64*x1^8*x2^6*x3^2 + 119521490071/16*x0^7*x2^7*x3^2 + 5035348994459/256*x0^6*x1*x2^7*x3^2 + 4781898453989/256*x0^5*x1^2*x2^7*x3^2 + 717513280013/128*x0^4*x1^3*x2^7*x3^2 - 340081571421/128*x0^3*x1^4*x2^7*x3^2 - 660935645309/256*x0^2*x1^5*x2^7*x3^2 - 192665850299/256*x0*x1^6*x2^7*x3^2 - 2513922799/32*x1^7*x2^7*x3^2 + 542304709355/256*x0^6*x2^8*x3^2 + 2003281991595/512*x0^5*x1*x2^8*x3^2 + 185775946157/128*x0^4*x1^2*x2^8*x3^2 - 102032466741/64*x0^3*x1^3*x2^8*x3^2 - 425868345559/256*x0^2*x1^4*x2^8*x3^2 - 290592603831/512*x0*x1^5*x2^8*x3^2 - 4397677321/64*x1^6*x2^8*x3^2 + 172328767231/512*x0^5*x2^9*x3^2 + 18553782209/128*x0^4*x1*x2^9*x3^2 - 165815338719/256*x0^3*x1^2*x2^9*x3^2 - 394871005425/512*x0^2*x1^3*x2^9*x3^2 - 162853474901/512*x0*x1^4*x2^9*x3^2 - 23411190295/512*x1^5*x2^9*x3^2 - 1171165493/256*x0^4*x2^10*x3^2 - 39687191901/256*x0^3*x1*x2^10*x3^2 - 61914779705/256*x0^2*x1^2*x2^10*x3^2 - 65662418969/512*x0*x1^3*x2^10*x3^2 - 11644805009/512*x1^4*x2^10*x3^2 - 2086228313/128*x0^3*x2^11*x3^2 - 23369875733/512*x0^2*x1*x2^11*x3^2 - 17952648889/512*x0*x1^2*x2^11*x3^2 - 261675965/32*x1^3*x2^11*x3^2 - 996415533/256*x0^2*x2^12*x3^2 - 2969463771/512*x0*x1*x2^12*x3^2 - 1025453817/512*x1^2*x2^12*x3^2 - 223535313/512*x0*x2^13*x3^2 - 152691489/512*x1*x2^13*x3^2 - 5200983/256*x2^14*x3^2 + 4414266075/512*x0^12*x3^4 + 25604342625/1024*x0^11*x1*x3^4 + 2884939149/512*x0^10*x1^2*x3^4 - 78439004643/1024*x0^9*x1^3*x3^4 - 81396994095/512*x0^8*x1^4*x3^4 - 84203631495/512*x0^7*x1^5*x3^4 - 26754281321/256*x0^6*x1^6*x3^4 - 21763476919/512*x0^5*x1^7*x3^4 - 5453590103/512*x0^4*x1^8*x3^4 - 1387244627/1024*x0^3*x1^9*x3^4 + 5556605/512*x0^2*x1^10*x3^4 + 26336081/1024*x0*x1^11*x3^4 + 1175667/512*x1^12*x3^4 + 25604342625/1024*x0^11*x2*x3^4 + 7056303669/512*x0^10*x1*x2*x3^4 - 110164280089/512*x0^9*x1^2*x2*x3^4 - 612661209509/1024*x0^8*x1^3*x2*x3^4 - 392180156897/512*x0^7*x1^4*x2*x3^4 - 36628061981/64*x0^6*x1^5*x2*x3^4 - 33439022445/128*x0^5*x1^6*x2*x3^4 - 35057978243/512*x0^4*x1^7*x2*x3^4 - 7034600391/1024*x0^3*x1^8*x2*x3^4 + 628964511/512*x0^2*x1^9*x2*x3^4 + 216941409/512*x0*x1^10*x2*x3^4 + 36425171/1024*x1^11*x2*x3^4 + 2884939149/512*x0^10*x2^2*x3^4 - 110164280089/512*x0^9*x1*x2^2*x3^4 - 449795050567/512*x0^8*x1^2*x2^2*x3^4 - 377183956959/256*x0^7*x1^3*x2^2*x3^4 - 171795996647/128*x0^6*x1^4*x2^2*x3^4 - 2809831359/4*x0^5*x1^5*x2^2*x3^4 - 24490397717/128*x0^4*x1^6*x2^2*x3^4 - 2202244049/256*x0^3*x1^7*x2^2*x3^4 + 5237996983/512*x0^2*x1^8*x2^2*x3^4 + 1432964345/512*x0*x1^9*x2^2*x3^4 + 122478067/512*x1^10*x2^2*x3^4 - 78439004643/1024*x0^9*x2^3*x3^4 - 612661209509/1024*x0^8*x1*x2^3*x3^4 - 377183956959/256*x0^7*x1^2*x2^3*x3^4 - 223841491057/128*x0^6*x1^3*x2^3*x3^4 - 562538105165/512*x0^5*x1^4*x2^3*x3^4 - 163485405421/512*x0^4*x1^5*x2^3*x3^4 + 3263070453/256*x0^3*x1^6*x2^3*x3^4 + 299744463/8*x0^2*x1^7*x2^3*x3^4 + 10401002405/1024*x0*x1^8*x2^3*x3^4 + 950469511/1024*x1^9*x2^3*x3^4 - 81396994095/512*x0^8*x2^4*x3^4 - 392180156897/512*x0^7*x1*x2^4*x3^4 - 171795996647/128*x0^6*x1^2*x2^4*x3^4 - 562538105165/512*x0^5*x1^3*x2^4*x3^4 - 95130634405/256*x0^4*x1^4*x2^4*x3^4 + 23215938885/512*x0^3*x1^5*x2^4*x3^4 + 9878601779/128*x0^2*x1^6*x2^4*x3^4 + 11724662857/512*x0*x1^7*x2^4*x3^4 + 1189042217/512*x1^8*x2^4*x3^4 - 84203631495/512*x0^7*x2^5*x3^4 - 36628061981/64*x0^6*x1*x2^5*x3^4 - 2809831359/4*x0^5*x1^2*x2^5*x3^4 - 163485405421/512*x0^4*x1^3*x2^5*x3^4 + 23215938885/512*x0^3*x1^4*x2^5*x3^4 + 24945247921/256*x0^2*x1^5*x2^5*x3^4 + 8697222993/256*x0*x1^6*x2^5*x3^4 + 2025683667/512*x1^7*x2^5*x3^4 - 26754281321/256*x0^6*x2^6*x3^4 - 33439022445/128*x0^5*x1*x2^6*x3^4 - 24490397717/128*x0^4*x1^2*x2^6*x3^4 + 3263070453/256*x0^3*x1^3*x2^6*x3^4 + 9878601779/128*x0^2*x1^4*x2^6*x3^4 + 8697222993/256*x0*x1^5*x2^6*x3^4 + 1206434417/256*x1^6*x2^6*x3^4 - 21763476919/512*x0^5*x2^7*x3^4 - 35057978243/512*x0^4*x1*x2^7*x3^4 - 2202244049/256*x0^3*x1^2*x2^7*x3^4 + 299744463/8*x0^2*x1^3*x2^7*x3^4 + 11724662857/512*x0*x1^4*x2^7*x3^4 + 2025683667/512*x1^5*x2^7*x3^4 - 5453590103/512*x0^4*x2^8*x3^4 - 7034600391/1024*x0^3*x1*x2^8*x3^4 + 5237996983/512*x0^2*x1^2*x2^8*x3^4 + 10401002405/1024*x0*x1^3*x2^8*x3^4 + 1189042217/512*x1^4*x2^8*x3^4 - 1387244627/1024*x0^3*x2^9*x3^4 + 628964511/512*x0^2*x1*x2^9*x3^4 + 1432964345/512*x0*x1^2*x2^9*x3^4 + 950469511/1024*x1^3*x2^9*x3^4 + 5556605/512*x0^2*x2^10*x3^4 + 216941409/512*x0*x1*x2^10*x3^4 + 122478067/512*x1^2*x2^10*x3^4 + 26336081/1024*x0*x2^11*x3^4 + 36425171/1024*x1*x2^11*x3^4 + 1175667/512*x2^12*x3^4 - 554572305/128*x0^10*x3^6 - 4739344137/256*x0^9*x1*x3^6 - 4494804577/128*x0^8*x1^2*x3^6 - 5000178401/128*x0^7*x1^3*x3^6 - 908012597/32*x0^6*x1^4*x3^6 - 226897623/16*x0^5*x1^5*x3^6 - 319856813/64*x0^4*x1^6*x3^6 - 159314395/128*x0^3*x1^7*x3^6 - 27210383/128*x0^2*x1^8*x3^6 - 5800527/256*x0*x1^9*x3^6 - 146097/128*x1^10*x3^6 - 4739344137/256*x0^9*x2*x3^6 - 9101053191/128*x0^8*x1*x2*x3^6 - 15339654839/128*x0^7*x1^2*x2*x3^6 - 29915906055/256*x0^6*x1^3*x2*x3^6 - 1171157835/16*x0^5*x1^4*x2*x3^6 - 7910154667/256*x0^4*x1^5*x2*x3^6 - 1143031293/128*x0^3*x1^6*x2*x3^6 - 443641573/256*x0^2*x1^7*x2*x3^6 - 53087103/256*x0*x1^8*x2*x3^6 - 2985819/256*x1^9*x2*x3^6 - 4494804577/128*x0^8*x2^2*x3^6 - 15339654839/128*x0^7*x1*x2^2*x3^6 - 22664014535/128*x0^6*x1^2*x2^2*x3^6 - 38118060545/256*x0^5*x1^3*x2^2*x3^6 - 20172777719/256*x0^4*x1^4*x2^2*x3^6 - 218412557/8*x0^3*x1^5*x2^2*x3^6 - 394354755/64*x0^2*x1^6*x2^2*x3^6 - 215319457/256*x0*x1^7*x2^2*x3^6 - 13664093/256*x1^8*x2^2*x3^6 - 5000178401/128*x0^7*x2^3*x3^6 - 29915906055/256*x0^6*x1*x2^3*x3^6 - 38118060545/256*x0^5*x1^2*x2^3*x3^6 - 3385810137/32*x0^4*x1^3*x2^3*x3^6 - 1471464927/32*x0^3*x1^4*x2^3*x3^6 - 3190069699/256*x0^2*x1^5*x2^3*x3^6 - 508014309/256*x0*x1^6*x2^3*x3^6 - 18466807/128*x1^7*x2^3*x3^6 - 908012597/32*x0^6*x2^4*x3^6 - 1171157835/16*x0^5*x1*x2^4*x3^6 - 20172777719/256*x0^4*x1^2*x2^4*x3^6 - 1471464927/32*x0^3*x1^3*x2^4*x3^6 - 1000961791/64*x0^2*x1^4*x2^4*x3^6 - 191734387/64*x0*x1^5*x2^4*x3^6 - 65243185/256*x1^6*x2^4*x3^6 - 226897623/16*x0^5*x2^5*x3^6 - 7910154667/256*x0^4*x1*x2^5*x3^6 - 218412557/8*x0^3*x1^2*x2^5*x3^6 - 3190069699/256*x0^2*x1^3*x2^5*x3^6 - 191734387/64*x0*x1^4*x2^5*x3^6 - 39280303/128*x1^5*x2^5*x3^6 - 319856813/64*x0^4*x2^6*x3^6 - 1143031293/128*x0^3*x1*x2^6*x3^6 - 394354755/64*x0^2*x1^2*x2^6*x3^6 - 508014309/256*x0*x1^3*x2^6*x3^6 - 65243185/256*x1^4*x2^6*x3^6 - 159314395/128*x0^3*x2^7*x3^6 - 443641573/256*x0^2*x1*x2^7*x3^6 - 215319457/256*x0*x1^2*x2^7*x3^6 - 18466807/128*x1^3*x2^7*x3^6 - 27210383/128*x0^2*x2^8*x3^6 - 53087103/256*x0*x1*x2^8*x3^6 - 13664093/256*x1^2*x2^8*x3^6 - 5800527/256*x0*x2^9*x3^6 - 2985819/256*x1*x2^9*x3^6 - 146097/128*x2^10*x3^6 + 43269003/512*x0^8*x3^8 + 339999093/1024*x0^7*x1*x3^8 + 284476601/512*x0^6*x1^2*x3^8 + 534312687/1024*x0^5*x1^3*x3^8 + 2425091/8*x0^4*x1^4*x3^8 + 114961795/1024*x0^3*x1^5*x3^8 + 13309561/512*x0^2*x1^6*x3^8 + 3530073/1024*x0*x1^7*x3^8 + 102627/512*x1^8*x3^8 + 339999093/1024*x0^7*x2*x3^8 + 570984345/512*x0^6*x1*x2*x3^8 + 806576779/512*x0^5*x1^2*x2*x3^8 + 1252678043/1024*x0^4*x1^3*x2*x3^8 + 582056421/1024*x0^3*x1^4*x2*x3^8 + 40704245/256*x0^2*x1^5*x2*x3^8 + 1591899/64*x0*x1^6*x2*x3^8 + 1719231/1024*x1^7*x2*x3^8 + 284476601/512*x0^6*x2^2*x3^8 + 806576779/512*x0^5*x1*x2^2*x3^8 + 941209675/512*x0^4*x1^2*x2^2*x3^8 + 583619065/512*x0^3*x1^3*x2^2*x3^8 + 51117847/128*x0^2*x1^4*x2^2*x3^8 + 4824057/64*x0*x1^5*x2^2*x3^8 + 767657/128*x1^6*x2^2*x3^8 + 534312687/1024*x0^5*x2^3*x3^8 + 1252678043/1024*x0^4*x1*x2^3*x3^8 + 583619065/512*x0^3*x1^2*x2^3*x3^8 + 136329641/256*x0^2*x1^3*x2^3*x3^8 + 128769247/1024*x0*x1^4*x2^3*x3^8 + 12347041/1024*x1^5*x2^3*x3^8 + 2425091/8*x0^4*x2^4*x3^8 + 582056421/1024*x0^3*x1*x2^4*x3^8 + 51117847/128*x0^2*x1^2*x2^4*x3^8 + 128769247/1024*x0*x1^3*x2^4*x3^8 + 3859721/256*x1^4*x2^4*x3^8 + 114961795/1024*x0^3*x2^5*x3^8 + 40704245/256*x0^2*x1*x2^5*x3^8 + 4824057/64*x0*x1^2*x2^5*x3^8 + 12347041/1024*x1^3*x2^5*x3^8 + 13309561/512*x0^2*x2^6*x3^8 + 1591899/64*x0*x1*x2^6*x3^8 + 767657/128*x1^2*x2^6*x3^8 + 3530073/1024*x0*x2^7*x3^8 + 1719231/1024*x1*x2^7*x3^8 + 102627/512*x2^8*x3^8 + 200505/256*x0^6*x3^10 + 697053/512*x0^5*x1*x3^10 + 194869/256*x0^4*x1^2*x3^10 + 641/8*x0^3*x1^3*x3^10 - 16277/256*x0^2*x1^4*x3^10 - 10753/512*x0*x1^5*x3^10 - 471/256*x1^6*x3^10 + 697053/512*x0^5*x2*x3^10 + 340395/256*x0^4*x1*x2*x3^10 - 54973/256*x0^3*x1^2*x2*x3^10 - 309633/512*x0^2*x1^3*x2*x3^10 - 109623/512*x0*x1^4*x2*x3^10 - 11737/512*x1^5*x2*x3^10 + 194869/256*x0^4*x2^2*x3^10 - 54973/256*x0^3*x1*x2^2*x3^10 - 285143/256*x0^2*x1^2*x2^2*x3^10 - 288965/512*x0*x1^3*x2^2*x3^10 - 41309/512*x1^4*x2^2*x3^10 + 641/8*x0^3*x2^3*x3^10 - 309633/512*x0^2*x1*x2^3*x3^10 - 288965/512*x0*x1^2*x2^3*x3^10 - 15265/128*x1^3*x2^3*x3^10 - 16277/256*x0^2*x2^4*x3^10 - 109623/512*x0*x1*x2^4*x3^10 - 41309/512*x1^2*x2^4*x3^10 - 10753/512*x0*x2^5*x3^10 - 11737/512*x1*x2^5*x3^10 - 471/256*x2^6*x3^10 - 9963/512*x0^4*x3^12 - 37017/1024*x0^3*x1*x3^12 - 12501/512*x0^2*x1^2*x3^12 - 7281/1024*x0*x1^3*x3^12 - 387/512*x1^4*x3^12 - 37017/1024*x0^3*x2*x3^12 - 26109/512*x0^2*x1*x2*x3^12 - 11871/512*x0*x1^2*x2*x3^12 - 3483/1024*x1^3*x2*x3^12 - 12501/512*x0^2*x2^2*x3^12 - 11871/512*x0*x1*x2^2*x3^12 - 2709/512*x1^2*x2^2*x3^12 - 7281/1024*x0*x2^3*x3^12 - 3483/1024*x1*x2^3*x3^12 - 387/512*x2^4*x3^12,\n",
       " -15310560515625/2048*x0^17 - 31726175428125/512*x0^16*x1 - 246567187366875/1024*x0^15*x1^2 - 597355501163625/1024*x0^14*x1^3 - 1011974424921825/1024*x0^13*x1^4 - 1274071163459365/1024*x0^12*x1^5 - 1236252181462199/1024*x0^11*x1^6 - 945684709709573/1024*x0^10*x1^7 - 289067905196409/512*x0^9*x1^8 - 284377616187333/1024*x0^8*x1^9 - 112631890406417/1024*x0^7*x1^10 - 35727018038987/1024*x0^6*x1^11 - 8964100472983/1024*x0^5*x1^12 - 1740837229743/1024*x0^4*x1^13 - 252475482717/1024*x0^3*x1^14 - 25738601607/1024*x0^2*x1^15 - 3289249539/2048*x0*x1^16 - 49525101/1024*x1^17 - 31726175428125/512*x0^16*x2 - 249141378436875/512*x0^15*x1*x2 - 3659237502917625/2048*x0^14*x1^2*x2 - 4175456026511625/1024*x0^13*x1^3*x2 - 13276678944191655/2048*x0^12*x1^4*x2 - 1951853377600251/256*x0^11*x1^5*x2 - 14072972457223609/2048*x0^10*x1^6*x2 - 4963453716658091/1024*x0^9*x1^7*x2 - 5544491198799415/2048*x0^8*x1^8*x2 - 615499369536883/512*x0^7*x1^9*x2 - 866556530521459/2048*x0^6*x1^10*x2 - 119602674088127/1024*x0^5*x1^11*x2 - 50743070717757/2048*x0^4*x1^12*x2 - 499387415895/128*x0^3*x1^13*x2 - 879812089947/2048*x0^2*x1^14*x2 - 30224832237/1024*x0*x1^15*x2 - 1949756913/2048*x1^16*x2 - 246567187366875/1024*x0^15*x2^2 - 3659237502917625/2048*x0^14*x1*x2^2 - 12656786504361675/2048*x0^13*x1^2*x2^2 - 6776847034208665/512*x0^12*x1^3*x2^2 - 10064847627618729/512*x0^11*x1^4*x2^2 - 43979418018670911/2048*x0^10*x1^5*x2^2 - 36550016818826517/2048*x0^9*x1^6*x2^2 - 11777579023624519/1024*x0^8*x1^7*x2^2 - 5938556214354883/1024*x0^7*x1^8*x2^2 - 4687191062579831/2048*x0^6*x1^9*x2^2 - 1435862151482549/2048*x0^5*x1^10*x2^2 - 41895376810033/256*x0^4*x1^11*x2^2 - 900958748655/32*x0^3*x1^12*x2^2 - 6895203207921/2048*x0^2*x1^13*x2^2 - 511845461451/2048*x0*x1^14*x2^2 - 8878585203/1024*x1^15*x2^2 - 597355501163625/1024*x0^14*x2^3 - 4175456026511625/1024*x0^13*x1*x2^3 - 6776847034208665/512*x0^12*x1^2*x2^3 - 6779319765075039/256*x0^11*x1^3*x2^3 - 37407619074889213/1024*x0^10*x1^4*x2^3 - 37681874018102029/1024*x0^9*x1^5*x2^3 - 14305904294006763/512*x0^8*x1^6*x2^3 - 520215303029449/32*x0^7*x1^7*x2^3 - 7460335780611939/1024*x0^6*x1^8*x2^3 - 2562663654348403/1024*x0^5*x1^9*x2^3 - 331963193136371/512*x0^4*x1^10*x2^3 - 31427018162425/256*x0^3*x1^11*x2^3 - 16427291401399/1024*x0^2*x1^12*x2^3 - 1324621164279/1024*x0*x1^13*x2^3 - 24831028809/512*x1^14*x2^3 - 1011974424921825/1024*x0^13*x2^4 - 13276678944191655/2048*x0^12*x1*x2^4 - 10064847627618729/512*x0^11*x1^2*x2^4 - 37407619074889213/1024*x0^10*x1^3*x2^4 - 47584384755774887/1024*x0^9*x1^4*x2^4 - 87587858507937157/2048*x0^8*x1^5*x2^4 - 7505221992842231/256*x0^7*x1^6*x2^4 - 7762438940232807/512*x0^6*x1^7*x2^4 - 6056392140591199/1024*x0^5*x1^8*x2^4 - 3519246455891201/2048*x0^4*x1^9*x2^4 - 184917505831193/512*x0^3*x1^10*x2^4 - 53198569476773/1024*x0^2*x1^11*x2^4 - 4688699987385/1024*x0*x1^12*x2^4 - 381981793779/2048*x1^13*x2^4 - 1274071163459365/1024*x0^12*x2^5 - 1951853377600251/256*x0^11*x1*x2^5 - 43979418018670911/2048*x0^10*x1^2*x2^5 - 37681874018102029/1024*x0^9*x1^3*x2^5 - 87587858507937157/2048*x0^8*x1^4*x2^5 - 9097094027790245/256*x0^7*x1^5*x2^5 - 22171619135839311/1024*x0^6*x1^6*x2^5 - 4990568944949431/512*x0^5*x1^7*x2^5 - 1646788588295591/512*x0^4*x1^8*x2^5 - 97048012393587/128*x0^3*x1^9*x2^5 - 247970484796899/2048*x0^2*x1^10*x2^5 - 12030375946349/1024*x0*x1^11*x2^5 - 1071449178069/2048*x1^12*x2^5 - 1236252181462199/1024*x0^11*x2^6 - 14072972457223609/2048*x0^10*x1*x2^6 - 36550016818826517/2048*x0^9*x1^2*x2^6 - 14305904294006763/512*x0^8*x1^3*x2^6 - 7505221992842231/256*x0^7*x1^4*x2^6 - 22171619135839311/1024*x0^6*x1^5*x2^6 - 11760233822589471/1024*x0^5*x1^6*x2^6 - 2239161291306397/512*x0^4*x1^7*x2^6 - 1199035780815633/1024*x0^3*x1^8*x2^6 - 429549926004529/2048*x0^2*x1^9*x2^6 - 46277812980325/2048*x0*x1^10*x2^6 - 283634385195/256*x1^11*x2^6 - 945684709709573/1024*x0^10*x2^7 - 4963453716658091/1024*x0^9*x1*x2^7 - 11777579023624519/1024*x0^8*x1^2*x2^7 - 520215303029449/32*x0^7*x1^3*x2^7 - 7762438940232807/512*x0^6*x1^4*x2^7 - 4990568944949431/512*x0^5*x1^5*x2^7 - 2239161291306397/512*x0^4*x1^6*x2^7 - 172966669218835/128*x0^3*x1^7*x2^7 - 281533959077869/1024*x0^2*x1^8*x2^7 - 34023370772911/1024*x0*x1^9*x2^7 - 1852428605247/1024*x1^10*x2^7 - 289067905196409/512*x0^9*x2^8 - 5544491198799415/2048*x0^8*x1*x2^8 - 5938556214354883/1024*x0^7*x1^2*x2^8 - 7460335780611939/1024*x0^6*x1^3*x2^8 - 6056392140591199/1024*x0^5*x1^4*x2^8 - 1646788588295591/512*x0^4*x1^5*x2^8 - 1199035780815633/1024*x0^3*x1^6*x2^8 - 281533959077869/1024*x0^2*x1^7*x2^8 - 38646837765467/1024*x0*x1^8*x2^8 - 4720788878733/2048*x1^9*x2^8 - 284377616187333/1024*x0^8*x2^9 - 615499369536883/512*x0^7*x1*x2^9 - 4687191062579831/2048*x0^6*x1^2*x2^9 - 2562663654348403/1024*x0^5*x1^3*x2^9 - 3519246455891201/2048*x0^4*x1^4*x2^9 - 97048012393587/128*x0^3*x1^5*x2^9 - 429549926004529/2048*x0^2*x1^6*x2^9 - 34023370772911/1024*x0*x1^7*x2^9 - 4720788878733/2048*x1^8*x2^9 - 112631890406417/1024*x0^7*x2^10 - 866556530521459/2048*x0^6*x1*x2^10 - 1435862151482549/2048*x0^5*x1^2*x2^10 - 331963193136371/512*x0^4*x1^3*x2^10 - 184917505831193/512*x0^3*x1^4*x2^10 - 247970484796899/2048*x0^2*x1^5*x2^10 - 46277812980325/2048*x0*x1^6*x2^10 - 1852428605247/1024*x1^7*x2^10 - 35727018038987/1024*x0^6*x2^11 - 119602674088127/1024*x0^5*x1*x2^11 - 41895376810033/256*x0^4*x1^2*x2^11 - 31427018162425/256*x0^3*x1^3*x2^11 - 53198569476773/1024*x0^2*x1^4*x2^11 - 12030375946349/1024*x0*x1^5*x2^11 - 283634385195/256*x1^6*x2^11 - 8964100472983/1024*x0^5*x2^12 - 50743070717757/2048*x0^4*x1*x2^12 - 900958748655/32*x0^3*x1^2*x2^12 - 16427291401399/1024*x0^2*x1^3*x2^12 - 4688699987385/1024*x0*x1^4*x2^12 - 1071449178069/2048*x1^5*x2^12 - 1740837229743/1024*x0^4*x2^13 - 499387415895/128*x0^3*x1*x2^13 - 6895203207921/2048*x0^2*x1^2*x2^13 - 1324621164279/1024*x0*x1^3*x2^13 - 381981793779/2048*x1^4*x2^13 - 252475482717/1024*x0^3*x2^14 - 879812089947/2048*x0^2*x1*x2^14 - 511845461451/2048*x0*x1^2*x2^14 - 24831028809/512*x1^3*x2^14 - 25738601607/1024*x0^2*x2^15 - 30224832237/1024*x0*x1*x2^15 - 8878585203/1024*x1^2*x2^15 - 3289249539/2048*x0*x2^16 - 1949756913/2048*x1*x2^16 - 49525101/1024*x2^17 - 8947241960625/2048*x0^15*x3^2 - 15317977399875/512*x0^14*x1*x3^2 - 192867627238275/2048*x0^13*x1^2*x3^2 - 184763358591875/1024*x0^12*x1^3*x3^2 - 480673296922921/2048*x0^11*x1^4*x3^2 - 3498445146491/16*x0^10*x1^5*x3^2 - 306591432709459/2048*x0^9*x1^6*x3^2 - 77632963953665/1024*x0^8*x1^7*x3^2 - 57340266315435/2048*x0^7*x1^8*x3^2 - 3669141999287/512*x0^6*x1^9*x3^2 - 2198224461633/2048*x0^5*x1^10*x3^2 - 8036875141/1024*x0^4*x1^11*x3^2 + 75336192901/2048*x0^3*x1^12*x3^2 + 2181461877/256*x0^2*x1^13*x3^2 + 1859125527/2048*x0*x1^14*x3^2 + 41045481/1024*x1^15*x3^2 - 15317977399875/512*x0^14*x2*x3^2 - 390152971553025/2048*x0^13*x1*x2*x3^2 - 1134822257824265/2048*x0^12*x1^2*x2*x3^2 - 996834762922731/1024*x0^11*x1^3*x2*x3^2 - 1177278043574317/1024*x0^10*x1^4*x2*x3^2 - 1965601479167811/2048*x0^9*x1^5*x2*x3^2 - 1183836882886515/2048*x0^8*x1^6*x2*x3^2 - 128142947579681/512*x0^7*x1^7*x2*x3^2 - 19219586804651/256*x0^6*x1^8*x2*x3^2 - 28204378678135/2048*x0^5*x1^9*x2*x3^2 - 1398097767743/2048*x0^4*x1^10*x2*x3^2 + 378312618077/1024*x0^3*x1^11*x2*x3^2 + 109676701903/1024*x0^2*x1^12*x2*x3^2 + 26399964507/2048*x0*x1^13*x2*x3^2 + 1282327515/2048*x1^14*x2*x3^2 - 192867627238275/2048*x0^13*x2^2*x3^2 - 1134822257824265/2048*x0^12*x1*x2^2*x3^2 - 378357481510851/256*x0^11*x1^2*x2^2*x3^2 - 301815951272629/128*x0^10*x1^3*x2^2*x3^2 - 5113076579018035/2048*x0^9*x1^4*x2^2*x3^2 - 3758936526683665/2048*x0^8*x1^5*x2^2*x3^2 - 242571452492533/256*x0^7*x1^6*x2^2*x3^2 - 85915910708361/256*x0^6*x1^7*x2^2*x3^2 - 151823686150713/2048*x0^5*x1^8*x2^2*x3^2 - 12811502303259/2048*x0^4*x1^9*x2^2*x3^2 + 51677808911/32*x0^3*x1^10*x2^2*x3^2 + 156695230659/256*x0^2*x1^11*x2^2*x3^2 + 171789073647/2048*x0*x1^12*x2^2*x3^2 + 9224550837/2048*x1^13*x2^2*x3^2 - 184763358591875/1024*x0^12*x2^3*x3^2 - 996834762922731/1024*x0^11*x1*x2^3*x3^2 - 301815951272629/128*x0^10*x1^2*x2^3*x3^2 - 3454109024913969/1024*x0^9*x1^3*x2^3*x3^2 - 3222422297878251/1024*x0^8*x1^4*x2^3*x3^2 - 1016812096644727/512*x0^7*x1^5*x2^3*x3^2 - 107815671286579/128*x0^6*x1^6*x2^3*x3^2 - 114312595429489/512*x0^5*x1^7*x2^3*x3^2 - 26693728510137/1024*x0^4*x1^8*x2^3*x3^2 + 4175093164649/1024*x0^3*x1^9*x2^3*x3^2 + 33912358715/16*x0^2*x1^10*x2^3*x3^2 + 340690802819/1024*x0*x1^11*x2^3*x3^2 + 20315077543/1024*x1^12*x2^3*x3^2 - 480673296922921/2048*x0^11*x2^4*x3^2 - 1177278043574317/1024*x0^10*x1*x2^4*x3^2 - 5113076579018035/2048*x0^9*x1^2*x2^4*x3^2 - 3222422297878251/1024*x0^8*x1^3*x2^4*x3^2 - 2581910369374861/1024*x0^7*x1^4*x2^4*x3^2 - 670684402038037/512*x0^6*x1^5*x2^4*x3^2 - 429461490104403/1024*x0^5*x1^6*x2^4*x3^2 - 32162763695743/512*x0^4*x1^7*x2^4*x3^2 + 13867016119475/2048*x0^3*x1^8*x2^4*x3^2 + 5125612323655/1024*x0^2*x1^9*x2^4*x3^2 + 1848328377193/2048*x0*x1^10*x2^4*x3^2 + 61436199161/1024*x1^11*x2^4*x3^2 - 3498445146491/16*x0^10*x2^5*x3^2 - 1965601479167811/2048*x0^9*x1*x2^5*x3^2 - 3758936526683665/2048*x0^8*x1^2*x2^5*x3^2 - 1016812096644727/512*x0^7*x1^3*x2^5*x3^2 - 670684402038037/512*x0^6*x1^4*x2^5*x3^2 - 527490169882149/1024*x0^5*x1^5*x2^5*x3^2 - 98145267020119/1024*x0^4*x1^6*x2^5*x3^2 + 4257681114941/512*x0^3*x1^7*x2^5*x3^2 + 4403898439767/512*x0^2*x1^8*x2^5*x3^2 + 3644158650229/2048*x0*x1^9*x2^5*x3^2 + 271027364407/2048*x1^10*x2^5*x3^2 - 306591432709459/2048*x0^9*x2^6*x3^2 - 1183836882886515/2048*x0^8*x1*x2^6*x3^2 - 242571452492533/256*x0^7*x1^2*x2^6*x3^2 - 107815671286579/128*x0^6*x1^3*x2^6*x3^2 - 429461490104403/1024*x0^5*x1^4*x2^6*x3^2 - 98145267020119/1024*x0^4*x1^5*x2^6*x3^2 + 1110975513265/128*x0^3*x1^6*x2^6*x3^2 + 2860011298535/256*x0^2*x1^7*x2^6*x3^2 + 5408359571857/2048*x0*x1^8*x2^6*x3^2 + 451676649241/2048*x1^9*x2^6*x3^2 - 77632963953665/1024*x0^8*x2^7*x3^2 - 128142947579681/512*x0^7*x1*x2^7*x3^2 - 85915910708361/256*x0^6*x1^2*x2^7*x3^2 - 114312595429489/512*x0^5*x1^3*x2^7*x3^2 - 32162763695743/512*x0^4*x1^4*x2^7*x3^2 + 4257681114941/512*x0^3*x1^5*x2^7*x3^2 + 2860011298535/256*x0^2*x1^6*x2^7*x3^2 + 1539197967253/512*x0*x1^7*x2^7*x3^2 + 290179844615/1024*x1^8*x2^7*x3^2 - 57340266315435/2048*x0^7*x2^8*x3^2 - 19219586804651/256*x0^6*x1*x2^8*x3^2 - 151823686150713/2048*x0^5*x1^2*x2^8*x3^2 - 26693728510137/1024*x0^4*x1^3*x2^8*x3^2 + 13867016119475/2048*x0^3*x1^4*x2^8*x3^2 + 4403898439767/512*x0^2*x1^5*x2^8*x3^2 + 5408359571857/2048*x0*x1^6*x2^8*x3^2 + 290179844615/1024*x1^7*x2^8*x3^2 - 3669141999287/512*x0^6*x2^9*x3^2 - 28204378678135/2048*x0^5*x1*x2^9*x3^2 - 12811502303259/2048*x0^4*x1^2*x2^9*x3^2 + 4175093164649/1024*x0^3*x1^3*x2^9*x3^2 + 5125612323655/1024*x0^2*x1^4*x2^9*x3^2 + 3644158650229/2048*x0*x1^5*x2^9*x3^2 + 451676649241/2048*x1^6*x2^9*x3^2 - 2198224461633/2048*x0^5*x2^10*x3^2 - 1398097767743/2048*x0^4*x1*x2^10*x3^2 + 51677808911/32*x0^3*x1^2*x2^10*x3^2 + 33912358715/16*x0^2*x1^3*x2^10*x3^2 + 1848328377193/2048*x0*x1^4*x2^10*x3^2 + 271027364407/2048*x1^5*x2^10*x3^2 - 8036875141/1024*x0^4*x2^11*x3^2 + 378312618077/1024*x0^3*x1*x2^11*x3^2 + 156695230659/256*x0^2*x1^2*x2^11*x3^2 + 340690802819/1024*x0*x1^3*x2^11*x3^2 + 61436199161/1024*x1^4*x2^11*x3^2 + 75336192901/2048*x0^3*x2^12*x3^2 + 109676701903/1024*x0^2*x1*x2^12*x3^2 + 171789073647/2048*x0*x1^2*x2^12*x3^2 + 20315077543/1024*x1^3*x2^12*x3^2 + 2181461877/256*x0^2*x2^13*x3^2 + 26399964507/2048*x0*x1*x2^13*x3^2 + 9224550837/2048*x1^2*x2^13*x3^2 + 1859125527/2048*x0*x2^14*x3^2 + 1282327515/2048*x1*x2^14*x3^2 + 41045481/1024*x2^15*x3^2 - 323184937725/2048*x0^13*x3^4 - 420377066385/512*x0^12*x1*x3^4 - 967965876991/512*x0^11*x1^2*x3^4 - 2572604841317/1024*x0^10*x1^3*x3^4 - 4286212556105/2048*x0^9*x1^4*x3^4 - 1117868534765/1024*x0^8*x1^5*x3^4 - 20000830251/64*x0^7*x1^6*x3^4 - 5072301873/512*x0^6*x1^7*x3^4 + 54963130113/2048*x0^5*x1^8*x3^4 + 2295810905/256*x0^4*x1^9*x3^4 + 354654151/512*x0^3*x1^10*x3^4 - 249148713/1024*x0^2*x1^11*x3^4 - 129668219/2048*x0*x1^12*x3^4 - 4728165/1024*x1^13*x3^4 - 420377066385/512*x0^12*x2*x3^4 - 3931985405073/1024*x0^11*x1*x2*x3^4 - 16053764263041/2048*x0^10*x1^2*x2*x3^4 - 4644543884037/512*x0^9*x1^3*x2*x3^4 - 13160154625865/2048*x0^8*x1^4*x2*x3^4 - 1414928458183/512*x0^7*x1^5*x2*x3^4 - 656367573817/1024*x0^6*x1^6*x2*x3^4 - 799974395/16*x0^5*x1^7*x2*x3^4 - 8442066823/1024*x0^4*x1^8*x2*x3^4 - 14879082329/1024*x0^3*x1^9*x2*x3^4 - 12782668109/2048*x0^2*x1^10*x2*x3^4 - 577719391/512*x0*x1^11*x2*x3^4 - 159655205/2048*x1^12*x2*x3^4 - 967965876991/512*x0^11*x2^2*x3^4 - 16053764263041/2048*x0^10*x1*x2^2*x3^4 - 28600119921963/2048*x0^9*x1^2*x2^2*x3^4 - 1773986975015/128*x0^8*x1^3*x2^2*x3^4 - 4264038256749/512*x0^7*x1^4*x2^2*x3^4 - 3248559129247/1024*x0^6*x1^5*x2^2*x3^4 - 940419870717/1024*x0^5*x1^6*x2^2*x3^4 - 174536364187/512*x0^4*x1^7*x2^2*x3^4 - 39435136691/256*x0^3*x1^8*x2^2*x3^4 - 98953299561/2048*x0^2*x1^9*x2^2*x3^4 - 16817648275/2048*x0*x1^10*x2^2*x3^4 - 294996991/512*x1^11*x2^2*x3^4 - 2572604841317/1024*x0^10*x2^3*x3^4 - 4644543884037/512*x0^9*x1*x2^3*x3^4 - 1773986975015/128*x0^8*x1^2*x2^3*x3^4 - 3009184148675/256*x0^7*x1^3*x2^3*x3^4 - 3268288642337/512*x0^6*x1^4*x2^3*x3^4 - 89521923143/32*x0^5*x1^5*x2^3*x3^4 - 169396870233/128*x0^4*x1^6*x2^3*x3^4 - 153833694509/256*x0^3*x1^7*x2^3*x3^4 - 193566970513/1024*x0^2*x1^8*x2^3*x3^4 - 17097402475/512*x0*x1^9*x2^3*x3^4 - 317792329/128*x1^10*x2^3*x3^4 - 4286212556105/2048*x0^9*x2^4*x3^4 - 13160154625865/2048*x0^8*x1*x2^4*x3^4 - 4264038256749/512*x0^7*x1^2*x2^4*x3^4 - 3268288642337/512*x0^6*x1^3*x2^4*x3^4 - 4005894037287/1024*x0^5*x1^4*x2^4*x3^4 - 2461870683615/1024*x0^4*x1^5*x2^4*x3^4 - 648734606729/512*x0^3*x1^6*x2^4*x3^4 - 226604531285/512*x0^2*x1^7*x2^4*x3^4 - 175922905745/2048*x0*x1^8*x2^4*x3^4 - 14306687265/2048*x1^9*x2^4*x3^4 - 1117868534765/1024*x0^8*x2^5*x3^4 - 1414928458183/512*x0^7*x1*x2^5*x3^4 - 3248559129247/1024*x0^6*x1^2*x2^5*x3^4 - 89521923143/32*x0^5*x1^3*x2^5*x3^4 - 2461870683615/1024*x0^4*x1^4*x2^5*x3^4 - 824285528867/512*x0^3*x1^5*x2^5*x3^4 - 683345061761/1024*x0^2*x1^6*x2^5*x3^4 - 38020222403/256*x0*x1^7*x2^5*x3^4 - 3478357141/256*x1^8*x2^5*x3^4 - 20000830251/64*x0^7*x2^6*x3^4 - 656367573817/1024*x0^6*x1*x2^6*x3^4 - 940419870717/1024*x0^5*x1^2*x2^6*x3^4 - 169396870233/128*x0^4*x1^3*x2^6*x3^4 - 648734606729/512*x0^3*x1^4*x2^6*x3^4 - 683345061761/1024*x0^2*x1^5*x2^6*x3^4 - 181992019745/1024*x0*x1^6*x2^6*x3^4 - 9638310255/512*x1^7*x2^6*x3^4 - 5072301873/512*x0^6*x2^7*x3^4 - 799974395/16*x0^5*x1*x2^7*x3^4 - 174536364187/512*x0^4*x1^2*x2^7*x3^4 - 153833694509/256*x0^3*x1^3*x2^7*x3^4 - 226604531285/512*x0^2*x1^4*x2^7*x3^4 - 38020222403/256*x0*x1^5*x2^7*x3^4 - 9638310255/512*x1^6*x2^7*x3^4 + 54963130113/2048*x0^5*x2^8*x3^4 - 8442066823/1024*x0^4*x1*x2^8*x3^4 - 39435136691/256*x0^3*x1^2*x2^8*x3^4 - 193566970513/1024*x0^2*x1^3*x2^8*x3^4 - 175922905745/2048*x0*x1^4*x2^8*x3^4 - 3478357141/256*x1^5*x2^8*x3^4 + 2295810905/256*x0^4*x2^9*x3^4 - 14879082329/1024*x0^3*x1*x2^9*x3^4 - 98953299561/2048*x0^2*x1^2*x2^9*x3^4 - 17097402475/512*x0*x1^3*x2^9*x3^4 - 14306687265/2048*x1^4*x2^9*x3^4 + 354654151/512*x0^3*x2^10*x3^4 - 12782668109/2048*x0^2*x1*x2^10*x3^4 - 16817648275/2048*x0*x1^2*x2^10*x3^4 - 317792329/128*x1^3*x2^10*x3^4 - 249148713/1024*x0^2*x2^11*x3^4 - 577719391/512*x0*x1*x2^11*x3^4 - 294996991/512*x1^2*x2^11*x3^4 - 129668219/2048*x0*x2^12*x3^4 - 159655205/2048*x1*x2^12*x3^4 - 4728165/1024*x2^13*x3^4 + 46769629419/2048*x0^11*x3^6 + 56408943897/512*x0^10*x1*x3^6 + 489443087067/2048*x0^9*x1^2*x3^6 + 315700228801/1024*x0^8*x1^3*x3^6 + 269896948091/1024*x0^7*x1^4*x3^6 + 20152708701/128*x0^6*x1^5*x3^6 + 69059806167/1024*x0^5*x1^6*x3^6 + 10686936991/512*x0^4*x1^7*x3^6 + 9451812543/2048*x0^3*x1^8*x3^6 + 358608487/512*x0^2*x1^9*x3^6 + 135322839/2048*x0*x1^10*x3^6 + 3010329/1024*x1^11*x3^6 + 56408943897/512*x0^10*x2*x3^6 + 989205259389/2048*x0^9*x1*x2*x3^6 + 1930344382095/2048*x0^8*x1^2*x2*x3^6 + 553287852925/512*x0^7*x1^3*x2*x3^6 + 414231732277/512*x0^6*x1^4*x2*x3^6 + 425537595107/1024*x0^5*x1^5*x2*x3^6 + 153061823609/1024*x0^4*x1^6*x2*x3^6 + 19227199321/512*x0^3*x1^7*x2*x3^6 + 816225595/128*x0^2*x1^8*x2*x3^6 + 1365920613/2048*x0*x1^9*x2*x3^6 + 67077783/2048*x1^10*x2*x3^6 + 489443087067/2048*x0^9*x2^2*x3^6 + 1930344382095/2048*x0^8*x1*x2^2*x3^6 + 418483311915/256*x0^7*x1^2*x2^2*x3^6 + 210090006495/128*x0^6*x1^3*x2^2*x3^6 + 1082017758323/1024*x0^5*x1^4*x2^2*x3^6 + 466725764547/1024*x0^4*x1^5*x2^2*x3^6 + 4260293821/32*x0^3*x1^6*x2^2*x3^6 + 6583950445/256*x0^2*x1^7*x2^2*x3^6 + 6179080871/2048*x0*x1^8*x2^2*x3^6 + 337620371/2048*x1^9*x2^2*x3^6 + 315700228801/1024*x0^8*x2^3*x3^6 + 553287852925/512*x0^7*x1*x2^3*x3^6 + 210090006495/128*x0^6*x1^2*x2^3*x3^6 + 725567726361/512*x0^5*x1^3*x2^3*x3^6 + 392297721629/512*x0^4*x1^4*x2^3*x3^6 + 137463122943/512*x0^3*x1^5*x2^3*x3^6 + 3863024963/64*x0^2*x1^6*x2^3*x3^6 + 4133081771/512*x0*x1^7*x2^3*x3^6 + 508221533/1024*x1^8*x2^3*x3^6 + 269896948091/1024*x0^7*x2^4*x3^6 + 414231732277/512*x0^6*x1*x2^4*x3^6 + 1082017758323/1024*x0^5*x1^2*x2^4*x3^6 + 392297721629/512*x0^4*x1^3*x2^4*x3^6 + 344653527393/1024*x0^3*x1^4*x2^4*x3^6 + 46501702203/512*x0^2*x1^5*x2^4*x3^6 + 14496039761/1024*x0*x1^6*x2^4*x3^6 + 509274915/512*x1^7*x2^4*x3^6 + 20152708701/128*x0^6*x2^5*x3^6 + 425537595107/1024*x0^5*x1*x2^5*x3^6 + 466725764547/1024*x0^4*x1^2*x2^5*x3^6 + 137463122943/512*x0^3*x1^3*x2^5*x3^6 + 46501702203/512*x0^2*x1^4*x2^5*x3^6 + 17408266831/1024*x0*x1^5*x2^5*x3^6 + 1427487855/1024*x1^6*x2^5*x3^6 + 69059806167/1024*x0^5*x2^6*x3^6 + 153061823609/1024*x0^4*x1*x2^6*x3^6 + 4260293821/32*x0^3*x1^2*x2^6*x3^6 + 3863024963/64*x0^2*x1^3*x2^6*x3^6 + 14496039761/1024*x0*x1^4*x2^6*x3^6 + 1427487855/1024*x1^5*x2^6*x3^6 + 10686936991/512*x0^4*x2^7*x3^6 + 19227199321/512*x0^3*x1*x2^7*x3^6 + 6583950445/256*x0^2*x1^2*x2^7*x3^6 + 4133081771/512*x0*x1^3*x2^7*x3^6 + 509274915/512*x1^4*x2^7*x3^6 + 9451812543/2048*x0^3*x2^8*x3^6 + 816225595/128*x0^2*x1*x2^8*x3^6 + 6179080871/2048*x0*x1^2*x2^8*x3^6 + 508221533/1024*x1^3*x2^8*x3^6 + 358608487/512*x0^2*x2^9*x3^6 + 1365920613/2048*x0*x1*x2^9*x3^6 + 337620371/2048*x1^2*x2^9*x3^6 + 135322839/2048*x0*x2^10*x3^6 + 67077783/2048*x1*x2^10*x3^6 + 3010329/1024*x2^11*x3^6 - 322519131/2048*x0^9*x3^8 - 454791303/512*x0^8*x1*x3^8 - 2047910331/1024*x0^7*x1^2*x3^8 - 2528609979/1024*x0^6*x1^3*x3^8 - 965012045/512*x0^5*x1^4*x3^8 - 956872767/1024*x0^4*x1^5*x3^8 - 310715013/1024*x0^3*x1^6*x3^8 - 64068793/1024*x0^2*x1^7*x3^8 - 15277809/2048*x0*x1^8*x3^8 - 402111/1024*x1^9*x3^8 - 454791303/512*x0^8*x2*x3^8 - 1021086513/256*x0^7*x1*x2*x3^8 - 15148309363/2048*x0^6*x1^2*x2*x3^8 - 7739241341/1024*x0^5*x1^3*x2*x3^8 - 9657481017/2048*x0^4*x1^4*x2*x3^8 - 950113293/512*x0^3*x1^5*x2*x3^8 - 926436837/2048*x0^2*x1^6*x2*x3^8 - 64174149/1024*x0*x1^7*x2*x3^8 - 7750419/2048*x1^8*x2*x3^8 - 2047910331/1024*x0^7*x2^2*x3^8 - 15148309363/2048*x0^6*x1*x2^2*x3^8 - 23208903729/2048*x0^5*x1^2*x2^2*x3^8 - 4835015197/512*x0^4*x1^3*x2^2*x3^8 - 597130631/128*x0^3*x1^4*x2^2*x3^8 - 2816044691/2048*x0^2*x1^5*x2^2*x3^8 - 460352649/2048*x0*x1^6*x2^2*x3^8 - 16126355/1024*x1^7*x2^2*x3^8 - 2528609979/1024*x0^6*x2^3*x3^8 - 7739241341/1024*x0^5*x1*x2^3*x3^8 - 4835015197/512*x0^4*x1^2*x2^3*x3^8 - 398357389/64*x0^3*x1^3*x2^3*x3^8 - 2354705361/1024*x0^2*x1^4*x2^3*x3^8 - 464634083/1024*x0*x1^5*x2^3*x3^8 - 19172349/512*x1^6*x2^3*x3^8 - 965012045/512*x0^5*x2^4*x3^8 - 9657481017/2048*x0^4*x1*x2^4*x3^8 - 597130631/128*x0^3*x1^2*x2^4*x3^8 - 2354705361/1024*x0^2*x1^3*x2^4*x3^8 - 290984227/512*x0*x1^4*x2^4*x3^8 - 115807445/2048*x1^5*x2^4*x3^8 - 956872767/1024*x0^4*x2^5*x3^8 - 950113293/512*x0^3*x1*x2^5*x3^8 - 2816044691/2048*x0^2*x1^2*x2^5*x3^8 - 464634083/1024*x0*x1^3*x2^5*x3^8 - 115807445/2048*x1^4*x2^5*x3^8 - 310715013/1024*x0^3*x2^6*x3^8 - 926436837/2048*x0^2*x1*x2^6*x3^8 - 460352649/2048*x0*x1^2*x2^6*x3^8 - 19172349/512*x1^3*x2^6*x3^8 - 64068793/1024*x0^2*x2^7*x3^8 - 64174149/1024*x0*x1*x2^7*x3^8 - 16126355/1024*x1^2*x2^7*x3^8 - 15277809/2048*x0*x2^8*x3^8 - 7750419/2048*x1*x2^8*x3^8 - 402111/1024*x2^9*x3^8 - 24456915/2048*x0^7*x3^10 - 17151753/512*x0^6*x1*x3^10 - 81051725/2048*x0^5*x1^2*x3^10 - 26368281/1024*x0^4*x1^3*x3^10 - 20654333/2048*x0^3*x1^4*x3^10 - 308237/128*x0^2*x1^5*x3^10 - 671875/2048*x0*x1^6*x3^10 - 20253/1024*x1^7*x3^10 - 17151753/512*x0^6*x2*x3^10 - 160644183/2048*x0^5*x1*x2*x3^10 - 153206787/2048*x0^4*x1^2*x2*x3^10 - 38487807/1024*x0^3*x1^3*x2*x3^10 - 10917917/1024*x0^2*x1^4*x2*x3^10 - 3381083/2048*x0*x1^5*x2*x3^10 - 227311/2048*x1^6*x2*x3^10 - 81051725/2048*x0^5*x2^2*x3^10 - 153206787/2048*x0^4*x1*x2^2*x3^10 - 1751391/32*x0^3*x1^2*x2^2*x3^10 - 626433/32*x0^2*x1^3*x2^2*x3^10 - 7151851/2048*x0*x1^4*x2^2*x3^10 - 524517/2048*x1^5*x2^2*x3^10 - 26368281/1024*x0^4*x2^3*x3^10 - 38487807/1024*x0^3*x1*x2^3*x3^10 - 626433/32*x0^2*x1^2*x2^3*x3^10 - 4437673/1024*x0*x1^3*x2^3*x3^10 - 358591/1024*x1^4*x2^3*x3^10 - 20654333/2048*x0^3*x2^4*x3^10 - 10917917/1024*x0^2*x1*x2^4*x3^10 - 7151851/2048*x0*x1^2*x2^4*x3^10 - 358591/1024*x1^3*x2^4*x3^10 - 308237/128*x0^2*x2^5*x3^10 - 3381083/2048*x0*x1*x2^5*x3^10 - 524517/2048*x1^2*x2^5*x3^10 - 671875/2048*x0*x2^6*x3^10 - 227311/2048*x1*x2^6*x3^10 - 20253/1024*x2^7*x3^10 + 289089/2048*x0^5*x3^12 + 177525/512*x0^4*x1*x3^12 + 84177/256*x0^3*x1^2*x3^12 + 154185/1024*x0^2*x1^3*x3^12 + 68463/2048*x0*x1^4*x3^12 + 2961/1024*x1^5*x3^12 + 177525/512*x0^4*x2*x3^12 + 695835/1024*x0^3*x1*x2*x3^12 + 988845/2048*x0^2*x1^2*x2*x3^12 + 1179/8*x0*x1^3*x2*x3^12 + 33513/2048*x1^4*x2*x3^12 + 84177/256*x0^3*x2^2*x3^12 + 988845/2048*x0^2*x1*x2^2*x3^12 + 468135/2048*x0*x1^2*x2^2*x3^12 + 8925/256*x1^3*x2^2*x3^12 + 154185/1024*x0^2*x2^3*x3^12 + 1179/8*x0*x1*x2^3*x3^12 + 8925/256*x1^2*x2^3*x3^12 + 68463/2048*x0*x2^4*x3^12 + 33513/2048*x1*x2^4*x3^12 + 2961/1024*x2^5*x3^12 + 729/2048*x0^3*x3^14 + 243/512*x0^2*x1*x3^14 + 405/2048*x0*x1^2*x3^14 + 27/1024*x1^3*x3^14 + 243/512*x0^2*x2*x3^14 + 891/2048*x0*x1*x2*x3^14 + 189/2048*x1^2*x2*x3^14 + 405/2048*x0*x2^2*x3^14 + 189/2048*x1*x2^2*x3^14 + 27/1024*x2^3*x3^14]"
      ]
     },
     "execution_count": 143,
     "metadata": {},
     "output_type": "execute_result"
    }
   ],
   "source": [
    "Y1.chern_classes()"
   ]
  },
  {
   "cell_type": "code",
   "execution_count": null,
   "metadata": {},
   "outputs": [
    {
     "ename": "",
     "evalue": "",
     "output_type": "error",
     "traceback": [
      "\u001b[1;31mCanceled future for execute_request message before replies were done"
     ]
    },
    {
     "ename": "",
     "evalue": "",
     "output_type": "error",
     "traceback": [
      "\u001b[1;31mThe Kernel crashed while executing code in the the current cell or a previous cell. Please review the code in the cell(s) to identify a possible cause of the failure. Click <a href='https://aka.ms/vscodeJupyterKernelCrash'>here</a> for more info. View Jupyter <a href='command:jupyter.viewOutput'>log</a> for further details."
     ]
    }
   ],
   "source": [
    "Y2.chern_classes()"
   ]
  },
  {
   "cell_type": "code",
   "execution_count": null,
   "metadata": {},
   "outputs": [],
   "source": [
    "# e1 = elliptic_genus(Y1, 1, 2)"
   ]
  },
  {
   "cell_type": "code",
   "execution_count": null,
   "metadata": {},
   "outputs": [],
   "source": [
    "# e2 = elliptic_genus(Y2, 1, 2)"
   ]
  },
  {
   "cell_type": "code",
   "execution_count": null,
   "metadata": {},
   "outputs": [],
   "source": [
    "# e1 == e2"
   ]
  }
 ],
 "metadata": {
  "kernelspec": {
   "display_name": "SageMath 9.0",
   "language": "sage",
   "name": "sagemath"
  },
  "language_info": {
   "codemirror_mode": {
    "name": "ipython",
    "version": 3
   },
   "file_extension": ".py",
   "mimetype": "text/x-python",
   "name": "python",
   "nbconvert_exporter": "python",
   "pygments_lexer": "ipython3",
   "version": "3.10.6"
  },
  "orig_nbformat": 4
 },
 "nbformat": 4,
 "nbformat_minor": 2
}
