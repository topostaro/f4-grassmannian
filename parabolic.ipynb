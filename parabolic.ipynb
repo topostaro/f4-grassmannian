{
 "cells": [
  {
   "cell_type": "code",
   "execution_count": 1,
   "metadata": {},
   "outputs": [
    {
     "data": {
      "text/plain": [
       "O---O\n",
       "1   2   \n",
       "A2"
      ]
     },
     "execution_count": 1,
     "metadata": {},
     "output_type": "execute_result"
    }
   ],
   "source": [
    "G = CartanType('A2')\n",
    "G.dynkin_diagram()"
   ]
  },
  {
   "cell_type": "code",
   "execution_count": 2,
   "metadata": {},
   "outputs": [
    {
     "data": {
      "text/plain": [
       "O\n",
       "1   \n",
       "A1"
      ]
     },
     "execution_count": 2,
     "metadata": {},
     "output_type": "execute_result"
    }
   ],
   "source": [
    "L = CartanType('A1')\n",
    "L.dynkin_diagram()"
   ]
  },
  {
   "cell_type": "code",
   "execution_count": 3,
   "metadata": {},
   "outputs": [
    {
     "data": {
      "text/plain": [
       "[1]"
      ]
     },
     "execution_count": 3,
     "metadata": {},
     "output_type": "execute_result"
    }
   ],
   "source": [
    "crossed_out_nodes = [1]\n",
    "crossed_out_nodes.sort()\n",
    "crossed_out_nodes"
   ]
  },
  {
   "cell_type": "code",
   "execution_count": 4,
   "metadata": {},
   "outputs": [
    {
     "data": {
      "text/plain": [
       "X---O\n",
       "1   2   \n",
       "A2 with node 1 marked"
      ]
     },
     "execution_count": 4,
     "metadata": {},
     "output_type": "execute_result"
    }
   ],
   "source": [
    "G.marked_nodes(crossed_out_nodes).dynkin_diagram()"
   ]
  },
  {
   "cell_type": "markdown",
   "metadata": {},
   "source": [
    "Correction function which converts index of L to that of G."
   ]
  },
  {
   "cell_type": "code",
   "execution_count": 5,
   "metadata": {},
   "outputs": [],
   "source": [
    "def correct_index(index: int) -> int:\n",
    "    for i in range(len(crossed_out_nodes)):\n",
    "        if index + i < crossed_out_nodes[i]:\n",
    "            return index + i\n",
    "    return index + len(crossed_out_nodes)"
   ]
  },
  {
   "cell_type": "code",
   "execution_count": 6,
   "metadata": {},
   "outputs": [
    {
     "data": {
      "text/plain": [
       "[2]"
      ]
     },
     "execution_count": 6,
     "metadata": {},
     "output_type": "execute_result"
    }
   ],
   "source": [
    "[ correct_index(k) for k in L.index_set() ]"
   ]
  },
  {
   "cell_type": "code",
   "execution_count": 7,
   "metadata": {},
   "outputs": [],
   "source": [
    "R_G = WeylCharacterRing(G)\n",
    "R_L = WeylCharacterRing(L)"
   ]
  },
  {
   "cell_type": "code",
   "execution_count": 8,
   "metadata": {},
   "outputs": [],
   "source": [
    "def root_difference_multiplicities(character_ring, highest_weight) -> dict:\n",
    "    weight_muliplicities = character_ring(highest_weight).weight_multiplicities()\n",
    "    A = matrix([ vector(sr) for sr in character_ring.simple_roots() ]).transpose()\n",
    "\n",
    "    result ={}\n",
    "\n",
    "    for k, v in weight_muliplicities.items():\n",
    "        Y = vector(k) - vector(highest_weight)\n",
    "        result[tuple(A.solve_right(Y))] = v\n",
    "    \n",
    "    return result"
   ]
  },
  {
   "cell_type": "code",
   "execution_count": 9,
   "metadata": {},
   "outputs": [
    {
     "data": {
      "text/plain": [
       "Multivariate Polynomial Ring in x0, x1, x2 over Integer Ring"
      ]
     },
     "execution_count": 9,
     "metadata": {},
     "output_type": "execute_result"
    }
   ],
   "source": [
    "R = PolynomialRing(ZZ, 'x', G.root_system().ambient_space().dimension())\n",
    "R"
   ]
  },
  {
   "cell_type": "code",
   "execution_count": 10,
   "metadata": {},
   "outputs": [
    {
     "data": {
      "text/plain": [
       "(x0, x1, x2)"
      ]
     },
     "execution_count": 10,
     "metadata": {},
     "output_type": "execute_result"
    }
   ],
   "source": [
    "x = R.gens()\n",
    "x"
   ]
  },
  {
   "cell_type": "markdown",
   "metadata": {},
   "source": [
    "The below variable `weight` means a list or tuple of coefficients, so `weight` stands for an actual weight\n",
    "`sum( weight[i] * fundamental_weight[i] for i)`"
   ]
  },
  {
   "cell_type": "code",
   "execution_count": 11,
   "metadata": {},
   "outputs": [],
   "source": [
    "def parabolic_weight_muliplicities(weight) -> dict:\n",
    "    fws_L = [fw for fw in R_L.fundamental_weights()] # conversin from 1-index to 0-index\n",
    "    weight_for_L = [ weight[i - 1] for i in set(1..len(weight))-set(crossed_out_nodes)] \n",
    "    weight_for_L = sum( weight_for_L[i] * fws_L[i] for i in range(L.rank()))\n",
    "\n",
    "    fws_G = [fw for fw in R_G.fundamental_weights()]; fws_G\n",
    "    weight_for_G = sum( weight[i] * fws_G[i] for i in range(G.rank()))\n",
    "\n",
    "    mul_set = root_difference_multiplicities(R_L, weight_for_L)\n",
    "\n",
    "    result = {}\n",
    "    for k, v in mul_set.items():\n",
    "        w = weight_for_G + sum(k[i - 1] * R_G.simple_roots()[correct_index(i)] for i in (1..L.rank()))\n",
    "        result[w] = v\n",
    "\n",
    "    return result"
   ]
  },
  {
   "cell_type": "code",
   "execution_count": 12,
   "metadata": {},
   "outputs": [
    {
     "data": {
      "text/plain": [
       "{(2, 1, 0): 1, (2, 0, 1): 1}"
      ]
     },
     "execution_count": 12,
     "metadata": {},
     "output_type": "execute_result"
    }
   ],
   "source": [
    "parabolic_weight_muliplicities((1, 1))"
   ]
  },
  {
   "cell_type": "markdown",
   "metadata": {},
   "source": [
    "!!A-type only!!"
   ]
  },
  {
   "cell_type": "code",
   "execution_count": 13,
   "metadata": {},
   "outputs": [],
   "source": [
    "def class_from_weight(character_ring, weight):\n",
    "    A = matrix([ vector(sr) for sr in character_ring.fundamental_weights() ]).transpose()\n",
    "    v = A.solve_right(vector(weight) - vector([weight[-1]]*len(weight)))\n",
    "\n",
    "    return sum(v[i] * x[i] for i in range(character_ring.rank()))"
   ]
  },
  {
   "cell_type": "code",
   "execution_count": 14,
   "metadata": {},
   "outputs": [
    {
     "data": {
      "text/plain": [
       "2*x0 - x1"
      ]
     },
     "execution_count": 14,
     "metadata": {},
     "output_type": "execute_result"
    }
   ],
   "source": [
    "class_from_weight(R_G, (2, 0, 1))"
   ]
  },
  {
   "cell_type": "code",
   "execution_count": 15,
   "metadata": {},
   "outputs": [
    {
     "data": {
      "text/plain": [
       "x0 + x1"
      ]
     },
     "execution_count": 15,
     "metadata": {},
     "output_type": "execute_result"
    }
   ],
   "source": [
    "class_from_weight(R_G, (2, 1, 0))"
   ]
  },
  {
   "cell_type": "code",
   "execution_count": 16,
   "metadata": {},
   "outputs": [
    {
     "data": {
      "text/plain": [
       "{(2, 1, 0): 1, (2, 0, 1): 1}"
      ]
     },
     "execution_count": 16,
     "metadata": {},
     "output_type": "execute_result"
    }
   ],
   "source": [
    "parabolic_weight_muliplicities((1, 1))"
   ]
  },
  {
   "cell_type": "code",
   "execution_count": 17,
   "metadata": {},
   "outputs": [
    {
     "data": {
      "text/plain": [
       "[(2, 1, 0), (2, 0, 1)]"
      ]
     },
     "execution_count": 17,
     "metadata": {},
     "output_type": "execute_result"
    }
   ],
   "source": [
    "[ w for w, i in parabolic_weight_muliplicities((1, 1)).items() ]"
   ]
  },
  {
   "cell_type": "code",
   "execution_count": 18,
   "metadata": {},
   "outputs": [
    {
     "data": {
      "text/plain": [
       "[(2, 1, 0), (2, 0, 1)]"
      ]
     },
     "execution_count": 18,
     "metadata": {},
     "output_type": "execute_result"
    }
   ],
   "source": [
    "[ vector(w) for w, i in parabolic_weight_muliplicities((1, 1)).items() ]"
   ]
  },
  {
   "cell_type": "code",
   "execution_count": 19,
   "metadata": {},
   "outputs": [
    {
     "data": {
      "text/plain": [
       "[x0 + x1, 2*x0 - x1]"
      ]
     },
     "execution_count": 19,
     "metadata": {},
     "output_type": "execute_result"
    }
   ],
   "source": [
    "[ class_from_weight(R_G, vector(w)) for w, i in parabolic_weight_muliplicities((1, 1)).items() ]"
   ]
  },
  {
   "cell_type": "code",
   "execution_count": 20,
   "metadata": {},
   "outputs": [],
   "source": [
    "def chern_classes_of_GP(weight_muliplicities):\n",
    "    return prod((1 + class_from_weight(R_G, vector(w)))^i for w, i in weight_muliplicities.items())"
   ]
  },
  {
   "cell_type": "code",
   "execution_count": 21,
   "metadata": {},
   "outputs": [
    {
     "data": {
      "text/plain": [
       "2*x0^2 + x0*x1 - x1^2 + 3*x0 + 1"
      ]
     },
     "execution_count": 21,
     "metadata": {},
     "output_type": "execute_result"
    }
   ],
   "source": [
    "chern_classes_of_GP(parabolic_weight_muliplicities((1, 1)))"
   ]
  },
  {
   "cell_type": "code",
   "execution_count": 22,
   "metadata": {},
   "outputs": [
    {
     "data": {
      "text/plain": [
       "2*x0^2 + x0*x1 - x1^2 + 3*x0 + 1"
      ]
     },
     "execution_count": 22,
     "metadata": {},
     "output_type": "execute_result"
    }
   ],
   "source": [
    "chern_classes_of_GP(parabolic_weight_muliplicities((1, 1)))"
   ]
  },
  {
   "cell_type": "code",
   "execution_count": 23,
   "metadata": {},
   "outputs": [
    {
     "data": {
      "text/plain": [
       "2*x0^2 + x0*x1 - x1^2 + 3*x0 + 1"
      ]
     },
     "execution_count": 23,
     "metadata": {},
     "output_type": "execute_result"
    }
   ],
   "source": [
    "chern_classes_of_GP(parabolic_weight_muliplicities((1, 1)))"
   ]
  },
  {
   "cell_type": "code",
   "execution_count": 24,
   "metadata": {},
   "outputs": [
    {
     "data": {
      "text/plain": [
       "[(1, -1, 0), (0, 1, -1), (1, 0, -1)]"
      ]
     },
     "execution_count": 24,
     "metadata": {},
     "output_type": "execute_result"
    }
   ],
   "source": [
    "Delta_G = G.root_system()\n",
    "\n",
    "#ambient spaceを生成\n",
    "L=Delta_G.ambient_space()\n",
    "\n",
    "#positive rootをambient spaceの元に変換\n",
    "P_G=[ L(pr) for pr in Delta_G.root_lattice().positive_roots() ];P_G"
   ]
  },
  {
   "cell_type": "code",
   "execution_count": 25,
   "metadata": {},
   "outputs": [
    {
     "ename": "IndexError",
     "evalue": "list index out of range",
     "output_type": "error",
     "traceback": [
      "\u001b[0;31m---------------------------------------------------------------------------\u001b[0m",
      "\u001b[0;31mIndexError\u001b[0m                                Traceback (most recent call last)",
      "Input \u001b[0;32mIn [25]\u001b[0m, in \u001b[0;36m<cell line: 1>\u001b[0;34m()\u001b[0m\n\u001b[0;32m----> 1\u001b[0m \u001b[43mparabolic_weight_muliplicities\u001b[49m\u001b[43m(\u001b[49m\u001b[43m(\u001b[49m\u001b[43mInteger\u001b[49m\u001b[43m(\u001b[49m\u001b[38;5;241;43m1\u001b[39;49m\u001b[43m)\u001b[49m\u001b[43m,\u001b[49m\u001b[43m \u001b[49m\u001b[43mInteger\u001b[49m\u001b[43m(\u001b[49m\u001b[38;5;241;43m1\u001b[39;49m\u001b[43m)\u001b[49m\u001b[43m)\u001b[49m\u001b[43m)\u001b[49m\n",
      "Input \u001b[0;32mIn [11]\u001b[0m, in \u001b[0;36mparabolic_weight_muliplicities\u001b[0;34m(weight)\u001b[0m\n\u001b[1;32m      2\u001b[0m fws_L \u001b[38;5;241m=\u001b[39m [fw \u001b[38;5;28;01mfor\u001b[39;00m fw \u001b[38;5;129;01min\u001b[39;00m R_L\u001b[38;5;241m.\u001b[39mfundamental_weights()] \u001b[38;5;66;03m# conversin from 1-index to 0-index\u001b[39;00m\n\u001b[1;32m      3\u001b[0m weight_for_L \u001b[38;5;241m=\u001b[39m [ weight[i \u001b[38;5;241m-\u001b[39m Integer(\u001b[38;5;241m1\u001b[39m)] \u001b[38;5;28;01mfor\u001b[39;00m i \u001b[38;5;129;01min\u001b[39;00m \u001b[38;5;28mset\u001b[39m(ellipsis_iter(Integer(\u001b[38;5;241m1\u001b[39m),\u001b[38;5;28mEllipsis\u001b[39m,\u001b[38;5;28mlen\u001b[39m(weight)))\u001b[38;5;241m-\u001b[39m\u001b[38;5;28mset\u001b[39m(crossed_out_nodes)] \n\u001b[0;32m----> 4\u001b[0m weight_for_L \u001b[38;5;241m=\u001b[39m \u001b[38;5;28;43msum\u001b[39;49m\u001b[43m(\u001b[49m\u001b[43m \u001b[49m\u001b[43mweight_for_L\u001b[49m\u001b[43m[\u001b[49m\u001b[43mi\u001b[49m\u001b[43m]\u001b[49m\u001b[43m \u001b[49m\u001b[38;5;241;43m*\u001b[39;49m\u001b[43m \u001b[49m\u001b[43mfws_L\u001b[49m\u001b[43m[\u001b[49m\u001b[43mi\u001b[49m\u001b[43m]\u001b[49m\u001b[43m \u001b[49m\u001b[38;5;28;43;01mfor\u001b[39;49;00m\u001b[43m \u001b[49m\u001b[43mi\u001b[49m\u001b[43m \u001b[49m\u001b[38;5;129;43;01min\u001b[39;49;00m\u001b[43m \u001b[49m\u001b[38;5;28;43mrange\u001b[39;49m\u001b[43m(\u001b[49m\u001b[43mL\u001b[49m\u001b[38;5;241;43m.\u001b[39;49m\u001b[43mrank\u001b[49m\u001b[43m(\u001b[49m\u001b[43m)\u001b[49m\u001b[43m)\u001b[49m\u001b[43m)\u001b[49m\n\u001b[1;32m      6\u001b[0m fws_G \u001b[38;5;241m=\u001b[39m [fw \u001b[38;5;28;01mfor\u001b[39;00m fw \u001b[38;5;129;01min\u001b[39;00m R_G\u001b[38;5;241m.\u001b[39mfundamental_weights()]; fws_G\n\u001b[1;32m      7\u001b[0m weight_for_G \u001b[38;5;241m=\u001b[39m \u001b[38;5;28msum\u001b[39m( weight[i] \u001b[38;5;241m*\u001b[39m fws_G[i] \u001b[38;5;28;01mfor\u001b[39;00m i \u001b[38;5;129;01min\u001b[39;00m \u001b[38;5;28mrange\u001b[39m(G\u001b[38;5;241m.\u001b[39mrank()))\n",
      "File \u001b[0;32m/private/var/tmp/sage-9.7-current/local/var/lib/sage/venv-python3.10.5/lib/python3.10/site-packages/sage/misc/functional.py:585\u001b[0m, in \u001b[0;36msymbolic_sum\u001b[0;34m(expression, *args, **kwds)\u001b[0m\n\u001b[1;32m    583\u001b[0m     \u001b[38;5;28;01mreturn\u001b[39;00m expression\u001b[38;5;241m.\u001b[39msum(\u001b[38;5;241m*\u001b[39margs, \u001b[38;5;241m*\u001b[39m\u001b[38;5;241m*\u001b[39mkwds)\n\u001b[1;32m    584\u001b[0m \u001b[38;5;28;01melif\u001b[39;00m \u001b[38;5;28mmax\u001b[39m(\u001b[38;5;28mlen\u001b[39m(args),\u001b[38;5;28mlen\u001b[39m(kwds)) \u001b[38;5;241m<\u001b[39m\u001b[38;5;241m=\u001b[39m \u001b[38;5;241m1\u001b[39m:\n\u001b[0;32m--> 585\u001b[0m     \u001b[38;5;28;01mreturn\u001b[39;00m \u001b[38;5;28;43msum\u001b[39;49m\u001b[43m(\u001b[49m\u001b[43mexpression\u001b[49m\u001b[43m,\u001b[49m\u001b[43m \u001b[49m\u001b[38;5;241;43m*\u001b[39;49m\u001b[43margs\u001b[49m\u001b[43m,\u001b[49m\u001b[43m \u001b[49m\u001b[38;5;241;43m*\u001b[39;49m\u001b[38;5;241;43m*\u001b[39;49m\u001b[43mkwds\u001b[49m\u001b[43m)\u001b[49m\n\u001b[1;32m    586\u001b[0m \u001b[38;5;28;01melse\u001b[39;00m:\n\u001b[1;32m    587\u001b[0m     \u001b[38;5;28;01mfrom\u001b[39;00m \u001b[38;5;21;01msage\u001b[39;00m\u001b[38;5;21;01m.\u001b[39;00m\u001b[38;5;21;01msymbolic\u001b[39;00m\u001b[38;5;21;01m.\u001b[39;00m\u001b[38;5;21;01mring\u001b[39;00m \u001b[38;5;28;01mimport\u001b[39;00m SR\n",
      "Input \u001b[0;32mIn [11]\u001b[0m, in \u001b[0;36m<genexpr>\u001b[0;34m(.0)\u001b[0m\n\u001b[1;32m      2\u001b[0m fws_L \u001b[38;5;241m=\u001b[39m [fw \u001b[38;5;28;01mfor\u001b[39;00m fw \u001b[38;5;129;01min\u001b[39;00m R_L\u001b[38;5;241m.\u001b[39mfundamental_weights()] \u001b[38;5;66;03m# conversin from 1-index to 0-index\u001b[39;00m\n\u001b[1;32m      3\u001b[0m weight_for_L \u001b[38;5;241m=\u001b[39m [ weight[i \u001b[38;5;241m-\u001b[39m Integer(\u001b[38;5;241m1\u001b[39m)] \u001b[38;5;28;01mfor\u001b[39;00m i \u001b[38;5;129;01min\u001b[39;00m \u001b[38;5;28mset\u001b[39m(ellipsis_iter(Integer(\u001b[38;5;241m1\u001b[39m),\u001b[38;5;28mEllipsis\u001b[39m,\u001b[38;5;28mlen\u001b[39m(weight)))\u001b[38;5;241m-\u001b[39m\u001b[38;5;28mset\u001b[39m(crossed_out_nodes)] \n\u001b[0;32m----> 4\u001b[0m weight_for_L \u001b[38;5;241m=\u001b[39m \u001b[38;5;28msum\u001b[39m( \u001b[43mweight_for_L\u001b[49m\u001b[43m[\u001b[49m\u001b[43mi\u001b[49m\u001b[43m]\u001b[49m \u001b[38;5;241m*\u001b[39m fws_L[i] \u001b[38;5;28;01mfor\u001b[39;00m i \u001b[38;5;129;01min\u001b[39;00m \u001b[38;5;28mrange\u001b[39m(L\u001b[38;5;241m.\u001b[39mrank()))\n\u001b[1;32m      6\u001b[0m fws_G \u001b[38;5;241m=\u001b[39m [fw \u001b[38;5;28;01mfor\u001b[39;00m fw \u001b[38;5;129;01min\u001b[39;00m R_G\u001b[38;5;241m.\u001b[39mfundamental_weights()]; fws_G\n\u001b[1;32m      7\u001b[0m weight_for_G \u001b[38;5;241m=\u001b[39m \u001b[38;5;28msum\u001b[39m( weight[i] \u001b[38;5;241m*\u001b[39m fws_G[i] \u001b[38;5;28;01mfor\u001b[39;00m i \u001b[38;5;129;01min\u001b[39;00m \u001b[38;5;28mrange\u001b[39m(G\u001b[38;5;241m.\u001b[39mrank()))\n",
      "\u001b[0;31mIndexError\u001b[0m: list index out of range"
     ]
    }
   ],
   "source": [
    "parabolic_weight_muliplicities((1, 1))"
   ]
  },
  {
   "cell_type": "code",
   "execution_count": 26,
   "metadata": {},
   "outputs": [
    {
     "data": {
      "text/plain": [
       "3"
      ]
     },
     "execution_count": 26,
     "metadata": {},
     "output_type": "execute_result"
    }
   ],
   "source": [
    "L.rank()"
   ]
  },
  {
   "cell_type": "code",
   "execution_count": 488,
   "metadata": {},
   "outputs": [
    {
     "ename": "IndexError",
     "evalue": "list index out of range",
     "output_type": "error",
     "traceback": [
      "\u001b[0;31m---------------------------------------------------------------------------\u001b[0m",
      "\u001b[0;31mIndexError\u001b[0m                                Traceback (most recent call last)",
      "\u001b[1;32mセル28 を /Users/kobayashikenta/progs/f4-grassmannian/parabolic.ipynb\u001b[0m in \u001b[0;36m<cell line: 1>\u001b[0;34m()\u001b[0m\n\u001b[0;32m----> <a href='vscode-notebook-cell:/Users/kobayashikenta/progs/f4-grassmannian/parabolic.ipynb#Y110sZmlsZQ%3D%3D?line=0'>1</a>\u001b[0m chern_classes_of_GP(parabolic_weight_muliplicities((Integer(\u001b[39m1\u001b[39;49m), Integer(\u001b[39m1\u001b[39;49m))))\n",
      "\u001b[1;32mセル28 を /Users/kobayashikenta/progs/f4-grassmannian/parabolic.ipynb\u001b[0m in \u001b[0;36mparabolic_weight_muliplicities\u001b[0;34m(weight)\u001b[0m\n\u001b[1;32m      <a href='vscode-notebook-cell:/Users/kobayashikenta/progs/f4-grassmannian/parabolic.ipynb#Y110sZmlsZQ%3D%3D?line=1'>2</a>\u001b[0m fws_L \u001b[39m=\u001b[39m [fw \u001b[39mfor\u001b[39;00m fw \u001b[39min\u001b[39;00m R_L\u001b[39m.\u001b[39mfundamental_weights()] \u001b[39m# conversin from 1-index to 0-index\u001b[39;00m\n\u001b[1;32m      <a href='vscode-notebook-cell:/Users/kobayashikenta/progs/f4-grassmannian/parabolic.ipynb#Y110sZmlsZQ%3D%3D?line=2'>3</a>\u001b[0m weight_for_L \u001b[39m=\u001b[39m [ weight[i \u001b[39m-\u001b[39m Integer(\u001b[39m1\u001b[39m)] \u001b[39mfor\u001b[39;00m i \u001b[39min\u001b[39;00m \u001b[39mset\u001b[39m(ellipsis_iter(Integer(\u001b[39m1\u001b[39m),\u001b[39mEllipsis\u001b[39m,\u001b[39mlen\u001b[39m(weight)))\u001b[39m-\u001b[39m\u001b[39mset\u001b[39m(crossed_out_nodes)] \n\u001b[0;32m----> <a href='vscode-notebook-cell:/Users/kobayashikenta/progs/f4-grassmannian/parabolic.ipynb#Y110sZmlsZQ%3D%3D?line=3'>4</a>\u001b[0m weight_for_L \u001b[39m=\u001b[39m \u001b[39msum\u001b[39;49m( weight_for_L[i] \u001b[39m*\u001b[39;49m fws_L[i] \u001b[39mfor\u001b[39;49;00m i \u001b[39min\u001b[39;49;00m \u001b[39mrange\u001b[39;49m(L\u001b[39m.\u001b[39;49mrank()))\n\u001b[1;32m      <a href='vscode-notebook-cell:/Users/kobayashikenta/progs/f4-grassmannian/parabolic.ipynb#Y110sZmlsZQ%3D%3D?line=5'>6</a>\u001b[0m fws_G \u001b[39m=\u001b[39m [fw \u001b[39mfor\u001b[39;00m fw \u001b[39min\u001b[39;00m R_G\u001b[39m.\u001b[39mfundamental_weights()]; fws_G\n\u001b[1;32m      <a href='vscode-notebook-cell:/Users/kobayashikenta/progs/f4-grassmannian/parabolic.ipynb#Y110sZmlsZQ%3D%3D?line=6'>7</a>\u001b[0m weight_for_G \u001b[39m=\u001b[39m \u001b[39msum\u001b[39m( weight[i] \u001b[39m*\u001b[39m fws_G[i] \u001b[39mfor\u001b[39;00m i \u001b[39min\u001b[39;00m \u001b[39mrange\u001b[39m(G\u001b[39m.\u001b[39mrank()))\n",
      "File \u001b[0;32m/private/var/tmp/sage-9.7-current/local/var/lib/sage/venv-python3.10.5/lib/python3.10/site-packages/sage/misc/functional.py:585\u001b[0m, in \u001b[0;36msymbolic_sum\u001b[0;34m(expression, *args, **kwds)\u001b[0m\n\u001b[1;32m    583\u001b[0m     \u001b[39mreturn\u001b[39;00m expression\u001b[39m.\u001b[39msum(\u001b[39m*\u001b[39margs, \u001b[39m*\u001b[39m\u001b[39m*\u001b[39mkwds)\n\u001b[1;32m    584\u001b[0m \u001b[39melif\u001b[39;00m \u001b[39mmax\u001b[39m(\u001b[39mlen\u001b[39m(args),\u001b[39mlen\u001b[39m(kwds)) \u001b[39m<\u001b[39m\u001b[39m=\u001b[39m \u001b[39m1\u001b[39m:\n\u001b[0;32m--> 585\u001b[0m     \u001b[39mreturn\u001b[39;00m \u001b[39msum\u001b[39;49m(expression, \u001b[39m*\u001b[39;49margs, \u001b[39m*\u001b[39;49m\u001b[39m*\u001b[39;49mkwds)\n\u001b[1;32m    586\u001b[0m \u001b[39melse\u001b[39;00m:\n\u001b[1;32m    587\u001b[0m     \u001b[39mfrom\u001b[39;00m \u001b[39msage\u001b[39;00m\u001b[39m.\u001b[39;00m\u001b[39msymbolic\u001b[39;00m\u001b[39m.\u001b[39;00m\u001b[39mring\u001b[39;00m \u001b[39mimport\u001b[39;00m SR\n",
      "\u001b[1;32mセル28 を /Users/kobayashikenta/progs/f4-grassmannian/parabolic.ipynb\u001b[0m in \u001b[0;36m<genexpr>\u001b[0;34m(.0)\u001b[0m\n\u001b[1;32m      <a href='vscode-notebook-cell:/Users/kobayashikenta/progs/f4-grassmannian/parabolic.ipynb#Y110sZmlsZQ%3D%3D?line=1'>2</a>\u001b[0m fws_L \u001b[39m=\u001b[39m [fw \u001b[39mfor\u001b[39;00m fw \u001b[39min\u001b[39;00m R_L\u001b[39m.\u001b[39mfundamental_weights()] \u001b[39m# conversin from 1-index to 0-index\u001b[39;00m\n\u001b[1;32m      <a href='vscode-notebook-cell:/Users/kobayashikenta/progs/f4-grassmannian/parabolic.ipynb#Y110sZmlsZQ%3D%3D?line=2'>3</a>\u001b[0m weight_for_L \u001b[39m=\u001b[39m [ weight[i \u001b[39m-\u001b[39m Integer(\u001b[39m1\u001b[39m)] \u001b[39mfor\u001b[39;00m i \u001b[39min\u001b[39;00m \u001b[39mset\u001b[39m(ellipsis_iter(Integer(\u001b[39m1\u001b[39m),\u001b[39mEllipsis\u001b[39m,\u001b[39mlen\u001b[39m(weight)))\u001b[39m-\u001b[39m\u001b[39mset\u001b[39m(crossed_out_nodes)] \n\u001b[0;32m----> <a href='vscode-notebook-cell:/Users/kobayashikenta/progs/f4-grassmannian/parabolic.ipynb#Y110sZmlsZQ%3D%3D?line=3'>4</a>\u001b[0m weight_for_L \u001b[39m=\u001b[39m \u001b[39msum\u001b[39m( weight_for_L[i] \u001b[39m*\u001b[39m fws_L[i] \u001b[39mfor\u001b[39;00m i \u001b[39min\u001b[39;00m \u001b[39mrange\u001b[39m(L\u001b[39m.\u001b[39mrank()))\n\u001b[1;32m      <a href='vscode-notebook-cell:/Users/kobayashikenta/progs/f4-grassmannian/parabolic.ipynb#Y110sZmlsZQ%3D%3D?line=5'>6</a>\u001b[0m fws_G \u001b[39m=\u001b[39m [fw \u001b[39mfor\u001b[39;00m fw \u001b[39min\u001b[39;00m R_G\u001b[39m.\u001b[39mfundamental_weights()]; fws_G\n\u001b[1;32m      <a href='vscode-notebook-cell:/Users/kobayashikenta/progs/f4-grassmannian/parabolic.ipynb#Y110sZmlsZQ%3D%3D?line=6'>7</a>\u001b[0m weight_for_G \u001b[39m=\u001b[39m \u001b[39msum\u001b[39m( weight[i] \u001b[39m*\u001b[39m fws_G[i] \u001b[39mfor\u001b[39;00m i \u001b[39min\u001b[39;00m \u001b[39mrange\u001b[39m(G\u001b[39m.\u001b[39mrank()))\n",
      "\u001b[0;31mIndexError\u001b[0m: list index out of range"
     ]
    }
   ],
   "source": [
    "chern_classes_of_GP(parabolic_weight_muliplicities((1, 1)))"
   ]
  },
  {
   "cell_type": "code",
   "execution_count": null,
   "metadata": {},
   "outputs": [
    {
     "data": {
      "text/plain": [
       "[(0, 1, -1)]"
      ]
     },
     "execution_count": 437,
     "metadata": {},
     "output_type": "execute_result"
    }
   ],
   "source": [
    "# positive rootからcutoutされるsimple rootを引き, positiveでなければuncrossed nodeから生成されると判定\n",
    "Pi_H=[ pr for pr in Delta_G.root_lattice().positive_roots() ]\n",
    "for i in crossed_out_nodes:\n",
    "    Pi_H=[ pr for pr in Pi_H if not (pr - (Delta_G.root_lattice().simple_roots())[i]).is_positive_root() ]\n",
    "    # ambient spaceの元に変換\n",
    "P_H=[ L(pr) for pr in Pi_H ]; P_H"
   ]
  },
  {
   "cell_type": "code",
   "execution_count": null,
   "metadata": {},
   "outputs": [
    {
     "data": {
      "text/plain": [
       "[x0 - x2, x0 - x1]"
      ]
     },
     "execution_count": 438,
     "metadata": {},
     "output_type": "execute_result"
    }
   ],
   "source": [
    "# the weights of the tangenst spaces at torus-fixed points\n",
    "flag_tangent_weights = set(P_G)-set(P_H)\n",
    "flag_tangent_weights = [sum( r[l]*x[l] for l in range(len(x))) for r in flag_tangent_weights]\n",
    "flag_tangent_weights"
   ]
  },
  {
   "cell_type": "code",
   "execution_count": null,
   "metadata": {},
   "outputs": [
    {
     "ename": "IndexError",
     "evalue": "list index out of range",
     "output_type": "error",
     "traceback": [
      "\u001b[0;31m---------------------------------------------------------------------------\u001b[0m",
      "\u001b[0;31mIndexError\u001b[0m                                Traceback (most recent call last)",
      "\u001b[1;32mセル29 を /Users/kobayashikenta/progs/f4-grassmannian/parabolic.ipynb\u001b[0m in \u001b[0;36m<cell line: 1>\u001b[0;34m()\u001b[0m\n\u001b[0;32m----> <a href='vscode-notebook-cell:/Users/kobayashikenta/progs/f4-grassmannian/parabolic.ipynb#Y105sZmlsZQ%3D%3D?line=0'>1</a>\u001b[0m chern_classes_of_GP(parabolic_weight_muliplicities((Integer(\u001b[39m1\u001b[39;49m), Integer(\u001b[39m1\u001b[39;49m))))\n",
      "\u001b[1;32mセル29 を /Users/kobayashikenta/progs/f4-grassmannian/parabolic.ipynb\u001b[0m in \u001b[0;36mparabolic_weight_muliplicities\u001b[0;34m(weight)\u001b[0m\n\u001b[1;32m      <a href='vscode-notebook-cell:/Users/kobayashikenta/progs/f4-grassmannian/parabolic.ipynb#Y105sZmlsZQ%3D%3D?line=1'>2</a>\u001b[0m fws_L \u001b[39m=\u001b[39m [fw \u001b[39mfor\u001b[39;00m fw \u001b[39min\u001b[39;00m R_L\u001b[39m.\u001b[39mfundamental_weights()] \u001b[39m# conversin from 1-index to 0-index\u001b[39;00m\n\u001b[1;32m      <a href='vscode-notebook-cell:/Users/kobayashikenta/progs/f4-grassmannian/parabolic.ipynb#Y105sZmlsZQ%3D%3D?line=2'>3</a>\u001b[0m weight_for_L \u001b[39m=\u001b[39m [ weight[i \u001b[39m-\u001b[39m Integer(\u001b[39m1\u001b[39m)] \u001b[39mfor\u001b[39;00m i \u001b[39min\u001b[39;00m \u001b[39mset\u001b[39m(ellipsis_iter(Integer(\u001b[39m1\u001b[39m),\u001b[39mEllipsis\u001b[39m,\u001b[39mlen\u001b[39m(weight)))\u001b[39m-\u001b[39m\u001b[39mset\u001b[39m(crossed_out_nodes)] \n\u001b[0;32m----> <a href='vscode-notebook-cell:/Users/kobayashikenta/progs/f4-grassmannian/parabolic.ipynb#Y105sZmlsZQ%3D%3D?line=3'>4</a>\u001b[0m weight_for_L \u001b[39m=\u001b[39m \u001b[39msum\u001b[39;49m( weight_for_L[i] \u001b[39m*\u001b[39;49m fws_L[i] \u001b[39mfor\u001b[39;49;00m i \u001b[39min\u001b[39;49;00m \u001b[39mrange\u001b[39;49m(L\u001b[39m.\u001b[39;49mrank()))\n\u001b[1;32m      <a href='vscode-notebook-cell:/Users/kobayashikenta/progs/f4-grassmannian/parabolic.ipynb#Y105sZmlsZQ%3D%3D?line=5'>6</a>\u001b[0m fws_G \u001b[39m=\u001b[39m [fw \u001b[39mfor\u001b[39;00m fw \u001b[39min\u001b[39;00m R_G\u001b[39m.\u001b[39mfundamental_weights()]; fws_G\n\u001b[1;32m      <a href='vscode-notebook-cell:/Users/kobayashikenta/progs/f4-grassmannian/parabolic.ipynb#Y105sZmlsZQ%3D%3D?line=6'>7</a>\u001b[0m weight_for_G \u001b[39m=\u001b[39m \u001b[39msum\u001b[39m( weight[i] \u001b[39m*\u001b[39m fws_G[i] \u001b[39mfor\u001b[39;00m i \u001b[39min\u001b[39;00m \u001b[39mrange\u001b[39m(G\u001b[39m.\u001b[39mrank()))\n",
      "File \u001b[0;32m/private/var/tmp/sage-9.7-current/local/var/lib/sage/venv-python3.10.5/lib/python3.10/site-packages/sage/misc/functional.py:585\u001b[0m, in \u001b[0;36msymbolic_sum\u001b[0;34m(expression, *args, **kwds)\u001b[0m\n\u001b[1;32m    583\u001b[0m     \u001b[39mreturn\u001b[39;00m expression\u001b[39m.\u001b[39msum(\u001b[39m*\u001b[39margs, \u001b[39m*\u001b[39m\u001b[39m*\u001b[39mkwds)\n\u001b[1;32m    584\u001b[0m \u001b[39melif\u001b[39;00m \u001b[39mmax\u001b[39m(\u001b[39mlen\u001b[39m(args),\u001b[39mlen\u001b[39m(kwds)) \u001b[39m<\u001b[39m\u001b[39m=\u001b[39m \u001b[39m1\u001b[39m:\n\u001b[0;32m--> 585\u001b[0m     \u001b[39mreturn\u001b[39;00m \u001b[39msum\u001b[39;49m(expression, \u001b[39m*\u001b[39;49margs, \u001b[39m*\u001b[39;49m\u001b[39m*\u001b[39;49mkwds)\n\u001b[1;32m    586\u001b[0m \u001b[39melse\u001b[39;00m:\n\u001b[1;32m    587\u001b[0m     \u001b[39mfrom\u001b[39;00m \u001b[39msage\u001b[39;00m\u001b[39m.\u001b[39;00m\u001b[39msymbolic\u001b[39;00m\u001b[39m.\u001b[39;00m\u001b[39mring\u001b[39;00m \u001b[39mimport\u001b[39;00m SR\n",
      "\u001b[1;32mセル29 を /Users/kobayashikenta/progs/f4-grassmannian/parabolic.ipynb\u001b[0m in \u001b[0;36m<genexpr>\u001b[0;34m(.0)\u001b[0m\n\u001b[1;32m      <a href='vscode-notebook-cell:/Users/kobayashikenta/progs/f4-grassmannian/parabolic.ipynb#Y105sZmlsZQ%3D%3D?line=1'>2</a>\u001b[0m fws_L \u001b[39m=\u001b[39m [fw \u001b[39mfor\u001b[39;00m fw \u001b[39min\u001b[39;00m R_L\u001b[39m.\u001b[39mfundamental_weights()] \u001b[39m# conversin from 1-index to 0-index\u001b[39;00m\n\u001b[1;32m      <a href='vscode-notebook-cell:/Users/kobayashikenta/progs/f4-grassmannian/parabolic.ipynb#Y105sZmlsZQ%3D%3D?line=2'>3</a>\u001b[0m weight_for_L \u001b[39m=\u001b[39m [ weight[i \u001b[39m-\u001b[39m Integer(\u001b[39m1\u001b[39m)] \u001b[39mfor\u001b[39;00m i \u001b[39min\u001b[39;00m \u001b[39mset\u001b[39m(ellipsis_iter(Integer(\u001b[39m1\u001b[39m),\u001b[39mEllipsis\u001b[39m,\u001b[39mlen\u001b[39m(weight)))\u001b[39m-\u001b[39m\u001b[39mset\u001b[39m(crossed_out_nodes)] \n\u001b[0;32m----> <a href='vscode-notebook-cell:/Users/kobayashikenta/progs/f4-grassmannian/parabolic.ipynb#Y105sZmlsZQ%3D%3D?line=3'>4</a>\u001b[0m weight_for_L \u001b[39m=\u001b[39m \u001b[39msum\u001b[39m( weight_for_L[i] \u001b[39m*\u001b[39m fws_L[i] \u001b[39mfor\u001b[39;00m i \u001b[39min\u001b[39;00m \u001b[39mrange\u001b[39m(L\u001b[39m.\u001b[39mrank()))\n\u001b[1;32m      <a href='vscode-notebook-cell:/Users/kobayashikenta/progs/f4-grassmannian/parabolic.ipynb#Y105sZmlsZQ%3D%3D?line=5'>6</a>\u001b[0m fws_G \u001b[39m=\u001b[39m [fw \u001b[39mfor\u001b[39;00m fw \u001b[39min\u001b[39;00m R_G\u001b[39m.\u001b[39mfundamental_weights()]; fws_G\n\u001b[1;32m      <a href='vscode-notebook-cell:/Users/kobayashikenta/progs/f4-grassmannian/parabolic.ipynb#Y105sZmlsZQ%3D%3D?line=6'>7</a>\u001b[0m weight_for_G \u001b[39m=\u001b[39m \u001b[39msum\u001b[39m( weight[i] \u001b[39m*\u001b[39m fws_G[i] \u001b[39mfor\u001b[39;00m i \u001b[39min\u001b[39;00m \u001b[39mrange\u001b[39m(G\u001b[39m.\u001b[39mrank()))\n",
      "\u001b[0;31mIndexError\u001b[0m: list index out of range"
     ]
    }
   ],
   "source": [
    "chern_classes_of_GP(parabolic_weight_muliplicities((1, 1)))"
   ]
  },
  {
   "cell_type": "code",
   "execution_count": null,
   "metadata": {},
   "outputs": [],
   "source": [
    "def numerical_integration_by_localization(f):\n",
    "    random_x = [RealField(1000)(random()) for i in range(G.rank())]\n",
    "    orbit_of_random_x = [(w.inverse()*vector(RealField(1000),random_x)).list() for w in WeylGroup(G)]\n",
    "    dim_flag = len(R_G.positive_roots()) - len(R_L.positive_roots())\n",
    "    top_of_f = homogeneous_part(f, dim_flag)\n",
    "    denominator_in_localization = prod(flag_tangent_weights)\n",
    "    return sum([top_of_f(x)/denominator_in_localization(x) for x in orbit_of_random_x]).round()"
   ]
  },
  {
   "cell_type": "code",
   "execution_count": null,
   "metadata": {},
   "outputs": [
    {
     "ename": "IndexError",
     "evalue": "list index out of range",
     "output_type": "error",
     "traceback": [
      "\u001b[0;31m---------------------------------------------------------------------------\u001b[0m",
      "\u001b[0;31mIndexError\u001b[0m                                Traceback (most recent call last)",
      "\u001b[1;32mセル29 を /Users/kobayashikenta/progs/f4-grassmannian/parabolic.ipynb\u001b[0m in \u001b[0;36m<cell line: 1>\u001b[0;34m()\u001b[0m\n\u001b[0;32m----> <a href='vscode-notebook-cell:/Users/kobayashikenta/progs/f4-grassmannian/parabolic.ipynb#X63sZmlsZQ%3D%3D?line=0'>1</a>\u001b[0m chern_classes_of_GP(parabolic_weight_muliplicities((Integer(\u001b[39m1\u001b[39;49m), Integer(\u001b[39m1\u001b[39;49m))))\n",
      "\u001b[1;32mセル29 を /Users/kobayashikenta/progs/f4-grassmannian/parabolic.ipynb\u001b[0m in \u001b[0;36mparabolic_weight_muliplicities\u001b[0;34m(weight)\u001b[0m\n\u001b[1;32m      <a href='vscode-notebook-cell:/Users/kobayashikenta/progs/f4-grassmannian/parabolic.ipynb#X63sZmlsZQ%3D%3D?line=1'>2</a>\u001b[0m fws_L \u001b[39m=\u001b[39m [fw \u001b[39mfor\u001b[39;00m fw \u001b[39min\u001b[39;00m R_L\u001b[39m.\u001b[39mfundamental_weights()] \u001b[39m# conversin from 1-index to 0-index\u001b[39;00m\n\u001b[1;32m      <a href='vscode-notebook-cell:/Users/kobayashikenta/progs/f4-grassmannian/parabolic.ipynb#X63sZmlsZQ%3D%3D?line=2'>3</a>\u001b[0m weight_for_L \u001b[39m=\u001b[39m [ weight[i \u001b[39m-\u001b[39m Integer(\u001b[39m1\u001b[39m)] \u001b[39mfor\u001b[39;00m i \u001b[39min\u001b[39;00m \u001b[39mset\u001b[39m(ellipsis_iter(Integer(\u001b[39m1\u001b[39m),\u001b[39mEllipsis\u001b[39m,\u001b[39mlen\u001b[39m(weight)))\u001b[39m-\u001b[39m\u001b[39mset\u001b[39m(crossed_out_nodes)] \n\u001b[0;32m----> <a href='vscode-notebook-cell:/Users/kobayashikenta/progs/f4-grassmannian/parabolic.ipynb#X63sZmlsZQ%3D%3D?line=3'>4</a>\u001b[0m weight_for_L \u001b[39m=\u001b[39m \u001b[39msum\u001b[39;49m( weight_for_L[i] \u001b[39m*\u001b[39;49m fws_L[i] \u001b[39mfor\u001b[39;49;00m i \u001b[39min\u001b[39;49;00m \u001b[39mrange\u001b[39;49m(L\u001b[39m.\u001b[39;49mrank()))\n\u001b[1;32m      <a href='vscode-notebook-cell:/Users/kobayashikenta/progs/f4-grassmannian/parabolic.ipynb#X63sZmlsZQ%3D%3D?line=5'>6</a>\u001b[0m fws_G \u001b[39m=\u001b[39m [fw \u001b[39mfor\u001b[39;00m fw \u001b[39min\u001b[39;00m R_G\u001b[39m.\u001b[39mfundamental_weights()]; fws_G\n\u001b[1;32m      <a href='vscode-notebook-cell:/Users/kobayashikenta/progs/f4-grassmannian/parabolic.ipynb#X63sZmlsZQ%3D%3D?line=6'>7</a>\u001b[0m weight_for_G \u001b[39m=\u001b[39m \u001b[39msum\u001b[39m( weight[i] \u001b[39m*\u001b[39m fws_G[i] \u001b[39mfor\u001b[39;00m i \u001b[39min\u001b[39;00m \u001b[39mrange\u001b[39m(G\u001b[39m.\u001b[39mrank()))\n",
      "File \u001b[0;32m/private/var/tmp/sage-9.7-current/local/var/lib/sage/venv-python3.10.5/lib/python3.10/site-packages/sage/misc/functional.py:585\u001b[0m, in \u001b[0;36msymbolic_sum\u001b[0;34m(expression, *args, **kwds)\u001b[0m\n\u001b[1;32m    583\u001b[0m     \u001b[39mreturn\u001b[39;00m expression\u001b[39m.\u001b[39msum(\u001b[39m*\u001b[39margs, \u001b[39m*\u001b[39m\u001b[39m*\u001b[39mkwds)\n\u001b[1;32m    584\u001b[0m \u001b[39melif\u001b[39;00m \u001b[39mmax\u001b[39m(\u001b[39mlen\u001b[39m(args),\u001b[39mlen\u001b[39m(kwds)) \u001b[39m<\u001b[39m\u001b[39m=\u001b[39m \u001b[39m1\u001b[39m:\n\u001b[0;32m--> 585\u001b[0m     \u001b[39mreturn\u001b[39;00m \u001b[39msum\u001b[39;49m(expression, \u001b[39m*\u001b[39;49margs, \u001b[39m*\u001b[39;49m\u001b[39m*\u001b[39;49mkwds)\n\u001b[1;32m    586\u001b[0m \u001b[39melse\u001b[39;00m:\n\u001b[1;32m    587\u001b[0m     \u001b[39mfrom\u001b[39;00m \u001b[39msage\u001b[39;00m\u001b[39m.\u001b[39;00m\u001b[39msymbolic\u001b[39;00m\u001b[39m.\u001b[39;00m\u001b[39mring\u001b[39;00m \u001b[39mimport\u001b[39;00m SR\n",
      "\u001b[1;32mセル29 を /Users/kobayashikenta/progs/f4-grassmannian/parabolic.ipynb\u001b[0m in \u001b[0;36m<genexpr>\u001b[0;34m(.0)\u001b[0m\n\u001b[1;32m      <a href='vscode-notebook-cell:/Users/kobayashikenta/progs/f4-grassmannian/parabolic.ipynb#X63sZmlsZQ%3D%3D?line=1'>2</a>\u001b[0m fws_L \u001b[39m=\u001b[39m [fw \u001b[39mfor\u001b[39;00m fw \u001b[39min\u001b[39;00m R_L\u001b[39m.\u001b[39mfundamental_weights()] \u001b[39m# conversin from 1-index to 0-index\u001b[39;00m\n\u001b[1;32m      <a href='vscode-notebook-cell:/Users/kobayashikenta/progs/f4-grassmannian/parabolic.ipynb#X63sZmlsZQ%3D%3D?line=2'>3</a>\u001b[0m weight_for_L \u001b[39m=\u001b[39m [ weight[i \u001b[39m-\u001b[39m Integer(\u001b[39m1\u001b[39m)] \u001b[39mfor\u001b[39;00m i \u001b[39min\u001b[39;00m \u001b[39mset\u001b[39m(ellipsis_iter(Integer(\u001b[39m1\u001b[39m),\u001b[39mEllipsis\u001b[39m,\u001b[39mlen\u001b[39m(weight)))\u001b[39m-\u001b[39m\u001b[39mset\u001b[39m(crossed_out_nodes)] \n\u001b[0;32m----> <a href='vscode-notebook-cell:/Users/kobayashikenta/progs/f4-grassmannian/parabolic.ipynb#X63sZmlsZQ%3D%3D?line=3'>4</a>\u001b[0m weight_for_L \u001b[39m=\u001b[39m \u001b[39msum\u001b[39m( weight_for_L[i] \u001b[39m*\u001b[39m fws_L[i] \u001b[39mfor\u001b[39;00m i \u001b[39min\u001b[39;00m \u001b[39mrange\u001b[39m(L\u001b[39m.\u001b[39mrank()))\n\u001b[1;32m      <a href='vscode-notebook-cell:/Users/kobayashikenta/progs/f4-grassmannian/parabolic.ipynb#X63sZmlsZQ%3D%3D?line=5'>6</a>\u001b[0m fws_G \u001b[39m=\u001b[39m [fw \u001b[39mfor\u001b[39;00m fw \u001b[39min\u001b[39;00m R_G\u001b[39m.\u001b[39mfundamental_weights()]; fws_G\n\u001b[1;32m      <a href='vscode-notebook-cell:/Users/kobayashikenta/progs/f4-grassmannian/parabolic.ipynb#X63sZmlsZQ%3D%3D?line=6'>7</a>\u001b[0m weight_for_G \u001b[39m=\u001b[39m \u001b[39msum\u001b[39m( weight[i] \u001b[39m*\u001b[39m fws_G[i] \u001b[39mfor\u001b[39;00m i \u001b[39min\u001b[39;00m \u001b[39mrange\u001b[39m(G\u001b[39m.\u001b[39mrank()))\n",
      "\u001b[0;31mIndexError\u001b[0m: list index out of range"
     ]
    }
   ],
   "source": [
    "chern_classes_of_GP(parabolic_weight_muliplicities((1, 1)))"
   ]
  }
 ],
 "metadata": {
  "kernelspec": {
   "display_name": "SageMath 9.7",
   "language": "sage",
   "name": "sagemath-9.7"
  },
  "language_info": {
   "codemirror_mode": {
    "name": "ipython",
    "version": 3
   },
   "file_extension": ".py",
   "mimetype": "text/x-python",
   "name": "python",
   "nbconvert_exporter": "python",
   "pygments_lexer": "ipython3",
   "version": "3.10.5"
  },
  "vscode": {
   "interpreter": {
    "hash": "31f2aee4e71d21fbe5cf8b01ff0e069b9275f58929596ceb00d14d90e3e16cd6"
   }
  }
 },
 "nbformat": 4,
 "nbformat_minor": 2
}
