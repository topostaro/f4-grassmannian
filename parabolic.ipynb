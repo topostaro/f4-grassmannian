{
 "cells": [
  {
   "cell_type": "code",
   "execution_count": 135,
   "metadata": {},
   "outputs": [
    {
     "data": {
      "text/plain": [
       "O---O---O---O---O---O\n",
       "1   2   3   4   5   6   \n",
       "A6"
      ]
     },
     "execution_count": 135,
     "metadata": {},
     "output_type": "execute_result"
    }
   ],
   "source": [
    "G = CartanType('A6')\n",
    "G.dynkin_diagram()"
   ]
  },
  {
   "cell_type": "code",
   "execution_count": 136,
   "metadata": {},
   "outputs": [
    {
     "data": {
      "text/plain": [
       "O\n",
       "1   \n",
       "O\n",
       "2   \n",
       "O---O\n",
       "3   4   \n",
       "A1xA1xA2"
      ]
     },
     "execution_count": 136,
     "metadata": {},
     "output_type": "execute_result"
    }
   ],
   "source": [
    "L = CartanType('A1', 'A1', 'A2') # Levi part\n",
    "L.dynkin_diagram()"
   ]
  },
  {
   "cell_type": "code",
   "execution_count": 137,
   "metadata": {},
   "outputs": [
    {
     "data": {
      "text/plain": [
       "[2, 4]"
      ]
     },
     "execution_count": 137,
     "metadata": {},
     "output_type": "execute_result"
    }
   ],
   "source": [
    "crossed_out_nodes = [2, 4]\n",
    "crossed_out_nodes.sort()\n",
    "crossed_out_nodes"
   ]
  },
  {
   "attachments": {},
   "cell_type": "markdown",
   "metadata": {},
   "source": [
    "Correction function which converts index of L to that of G."
   ]
  },
  {
   "cell_type": "code",
   "execution_count": 138,
   "metadata": {},
   "outputs": [],
   "source": [
    "def correct_index(index: int) -> int:\n",
    "    for i in range(len(crossed_out_nodes)):\n",
    "        if index + i < crossed_out_nodes[i]:\n",
    "            return index + i\n",
    "    return index + len(crossed_out_nodes)"
   ]
  },
  {
   "cell_type": "code",
   "execution_count": 139,
   "metadata": {},
   "outputs": [
    {
     "data": {
      "text/plain": [
       "[1, 3, 5, 6]"
      ]
     },
     "execution_count": 139,
     "metadata": {},
     "output_type": "execute_result"
    }
   ],
   "source": [
    "[ correct_index(k) for k in L.index_set() ]"
   ]
  },
  {
   "cell_type": "code",
   "execution_count": 140,
   "metadata": {},
   "outputs": [],
   "source": [
    "R_G = WeylCharacterRing(G, style='coroots')\n",
    "R_L = WeylCharacterRing(L, style='coroots')"
   ]
  },
  {
   "cell_type": "code",
   "execution_count": 141,
   "metadata": {},
   "outputs": [],
   "source": [
    "r_G = WeightRing(R_G)\n",
    "r_L = WeightRing(R_L)"
   ]
  },
  {
   "cell_type": "code",
   "execution_count": 142,
   "metadata": {},
   "outputs": [
    {
     "data": {
      "text/plain": [
       "Multivariate Power Series Ring in w1, w2, w3, w4, w5, w6 over Integer Ring"
      ]
     },
     "execution_count": 142,
     "metadata": {},
     "output_type": "execute_result"
    }
   ],
   "source": [
    "R = ZZ[[f'w{i}' for i in (1..G.rank())]]; R"
   ]
  },
  {
   "cell_type": "code",
   "execution_count": 143,
   "metadata": {},
   "outputs": [],
   "source": [
    "import re\n",
    "import ast\n",
    "\n",
    "def monomial_replace_G(match):\n",
    "    match = match.group()\n",
    "    tuple_part = re.search(r'\\(.*\\)', match).group()\n",
    "    ls = list(ast.literal_eval(str(tuple_part)))\n",
    "    result = ''\n",
    "    for i in range(len(ls)):\n",
    "        result += 'w' + str(i+1) + '^' + str(ls[i]) + '*'\n",
    "    return result + '1'\n",
    "\n",
    "def hom_from_r_G(w):\n",
    "    return R(re.sub(r'\\w+\\([0-9,]+\\)', monomial_replace_G, str(w)))"
   ]
  },
  {
   "cell_type": "code",
   "execution_count": 144,
   "metadata": {},
   "outputs": [],
   "source": [
    "def monomial_replace_L(match):\n",
    "    match = match.group()\n",
    "    tuple_part = re.search(r'\\(.*\\)', match).group()\n",
    "    ls = list(ast.literal_eval(str(tuple_part)))\n",
    "    result = ''\n",
    "    for i in range(len(ls)):\n",
    "        result += 'w' + str(correct_index(i+1)) + '^' + str(ls[i]) + '*'\n",
    "    return result + '1'\n",
    "\n",
    "def hom_from_r_L(w):\n",
    "    return R(re.sub(r'\\w+\\([0-9,]+\\)', monomial_replace_L, str(w)))"
   ]
  },
  {
   "cell_type": "code",
   "execution_count": 145,
   "metadata": {},
   "outputs": [
    {
     "data": {
      "text/plain": [
       "[w1, w2, w3, w4, w5, w6]"
      ]
     },
     "execution_count": 145,
     "metadata": {},
     "output_type": "execute_result"
    }
   ],
   "source": [
    "[ hom_from_r_G(r_G(fw)) for fw in r_G.fundamental_weights() ]"
   ]
  },
  {
   "cell_type": "code",
   "execution_count": 146,
   "metadata": {},
   "outputs": [
    {
     "data": {
      "text/plain": [
       "[w1, w3, w5, w6]"
      ]
     },
     "execution_count": 146,
     "metadata": {},
     "output_type": "execute_result"
    }
   ],
   "source": [
    "[ hom_from_r_L(r_L(fw)) for fw in r_L.fundamental_weights() ]"
   ]
  }
 ],
 "metadata": {
  "kernelspec": {
   "display_name": "SageMath 9.7",
   "language": "sage",
   "name": "SageMath-9.7"
  },
  "language_info": {
   "codemirror_mode": {
    "name": "ipython",
    "version": 3
   },
   "file_extension": ".py",
   "mimetype": "text/x-python",
   "name": "python",
   "nbconvert_exporter": "python",
   "pygments_lexer": "ipython3",
   "version": "3.10.5"
  },
  "orig_nbformat": 4,
  "vscode": {
   "interpreter": {
    "hash": "31f2aee4e71d21fbe5cf8b01ff0e069b9275f58929596ceb00d14d90e3e16cd6"
   }
  }
 },
 "nbformat": 4,
 "nbformat_minor": 2
}
