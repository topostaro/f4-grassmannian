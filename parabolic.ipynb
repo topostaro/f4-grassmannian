{
 "cells": [
  {
   "cell_type": "code",
   "execution_count": 765,
   "metadata": {},
   "outputs": [
    {
     "data": {
      "text/plain": [
       "O---O\n",
       "1   2   \n",
       "A2"
      ]
     },
     "execution_count": 765,
     "metadata": {},
     "output_type": "execute_result"
    }
   ],
   "source": [
    "G = CartanType('A2')\n",
    "G.dynkin_diagram()"
   ]
  },
  {
   "cell_type": "code",
   "execution_count": 766,
   "metadata": {},
   "outputs": [
    {
     "data": {
      "text/plain": [
       "O\n",
       "1   \n",
       "A1"
      ]
     },
     "execution_count": 766,
     "metadata": {},
     "output_type": "execute_result"
    }
   ],
   "source": [
    "L = CartanType('A1')\n",
    "L.dynkin_diagram()"
   ]
  },
  {
   "cell_type": "code",
   "execution_count": 767,
   "metadata": {},
   "outputs": [
    {
     "data": {
      "text/plain": [
       "[1]"
      ]
     },
     "execution_count": 767,
     "metadata": {},
     "output_type": "execute_result"
    }
   ],
   "source": [
    "crossed_out_nodes = [1]\n",
    "crossed_out_nodes.sort()\n",
    "crossed_out_nodes"
   ]
  },
  {
   "cell_type": "code",
   "execution_count": 768,
   "metadata": {},
   "outputs": [
    {
     "data": {
      "text/plain": [
       "X---O\n",
       "1   2   \n",
       "A2 with node 1 marked"
      ]
     },
     "execution_count": 768,
     "metadata": {},
     "output_type": "execute_result"
    }
   ],
   "source": [
    "G.marked_nodes(crossed_out_nodes).dynkin_diagram()"
   ]
  },
  {
   "cell_type": "markdown",
   "metadata": {},
   "source": [
    "Correction function which converts index of L to that of G."
   ]
  },
  {
   "cell_type": "code",
   "execution_count": 769,
   "metadata": {},
   "outputs": [],
   "source": [
    "def correct_index(index: int) -> int:\n",
    "    for i in range(len(crossed_out_nodes)):\n",
    "        if index + i < crossed_out_nodes[i]:\n",
    "            return index + i\n",
    "    return index + len(crossed_out_nodes)"
   ]
  },
  {
   "cell_type": "code",
   "execution_count": 770,
   "metadata": {},
   "outputs": [
    {
     "data": {
      "text/plain": [
       "[2]"
      ]
     },
     "execution_count": 770,
     "metadata": {},
     "output_type": "execute_result"
    }
   ],
   "source": [
    "[ correct_index(k) for k in L.index_set() ]"
   ]
  },
  {
   "cell_type": "code",
   "execution_count": 771,
   "metadata": {},
   "outputs": [],
   "source": [
    "R_G = WeylCharacterRing(G)\n",
    "R_L = WeylCharacterRing(L)"
   ]
  },
  {
   "cell_type": "code",
   "execution_count": 772,
   "metadata": {},
   "outputs": [],
   "source": [
    "def root_difference_multiplicities(character_ring, highest_weight) -> dict:\n",
    "    weight_muliplicities = character_ring(highest_weight).weight_multiplicities()\n",
    "    A = matrix([ vector(sr) for sr in character_ring.simple_roots() ]).transpose()\n",
    "\n",
    "    result ={}\n",
    "\n",
    "    for k, v in weight_muliplicities.items():\n",
    "        Y = vector(k) - vector(highest_weight)\n",
    "        result[tuple(A.solve_right(Y))] = v\n",
    "    \n",
    "    return result"
   ]
  },
  {
   "cell_type": "code",
   "execution_count": 773,
   "metadata": {},
   "outputs": [
    {
     "data": {
      "text/plain": [
       "Multivariate Polynomial Ring in x0, x1, x2 over Integer Ring"
      ]
     },
     "execution_count": 773,
     "metadata": {},
     "output_type": "execute_result"
    }
   ],
   "source": [
    "R = PolynomialRing(ZZ, 'x', G.root_system().ambient_space().dimension())\n",
    "R"
   ]
  },
  {
   "cell_type": "code",
   "execution_count": 774,
   "metadata": {},
   "outputs": [
    {
     "data": {
      "text/plain": [
       "(x0, x1, x2)"
      ]
     },
     "execution_count": 774,
     "metadata": {},
     "output_type": "execute_result"
    }
   ],
   "source": [
    "x = R.gens()\n",
    "x"
   ]
  },
  {
   "cell_type": "markdown",
   "metadata": {},
   "source": [
    "The below variable `weight` means a list or tuple of coefficients, so `weight` stands for an actual weight\n",
    "`sum( weight[i] * fundamental_weight[i] for i)`"
   ]
  },
  {
   "cell_type": "code",
   "execution_count": 775,
   "metadata": {},
   "outputs": [],
   "source": [
    "def parabolic_weight_muliplicities(weight) -> dict:\n",
    "    fws_L = [fw for fw in R_L.fundamental_weights()] # conversin from 1-index to 0-index\n",
    "    weight_for_L = [ weight[i - 1] for i in set(1..len(weight))-set(crossed_out_nodes)] \n",
    "    weight_for_L = sum( weight_for_L[i] * fws_L[i] for i in range(L.rank()))\n",
    "\n",
    "    fws_G = [fw for fw in R_G.fundamental_weights()]; fws_G\n",
    "    weight_for_G = sum( weight[i] * fws_G[i] for i in range(G.rank()))\n",
    "\n",
    "    mul_set = root_difference_multiplicities(R_L, weight_for_L)\n",
    "\n",
    "    result = {}\n",
    "    for k, v in mul_set.items():\n",
    "        w = weight_for_G + sum(k[i - 1] * R_G.simple_roots()[correct_index(i)] for i in (1..L.rank()))\n",
    "        result[w] = v\n",
    "\n",
    "    return result"
   ]
  },
  {
   "cell_type": "markdown",
   "metadata": {},
   "source": [
    "!!A-type only!!"
   ]
  },
  {
   "cell_type": "code",
   "execution_count": 776,
   "metadata": {},
   "outputs": [],
   "source": [
    "def class_from_weight(character_ring, weight):\n",
    "    A = matrix([ vector(sr) for sr in character_ring.fundamental_weights() ]).transpose()\n",
    "    v = A.solve_right(vector(weight) - vector([weight[-1]]*len(weight)))\n",
    "\n",
    "    return sum(v[i] * x[i] for i in range(character_ring.rank()))"
   ]
  },
  {
   "cell_type": "code",
   "execution_count": 777,
   "metadata": {},
   "outputs": [],
   "source": [
    "def chern_classes_on_GP(weight_muliplicities):\n",
    "    return prod((1 + class_from_weight(R_G, vector(w)))^i for w, i in weight_muliplicities.items())"
   ]
  },
  {
   "cell_type": "code",
   "execution_count": 778,
   "metadata": {},
   "outputs": [
    {
     "data": {
      "text/plain": [
       "[(1, -1, 0), (1, 0, -1), (0, 1, -1)]"
      ]
     },
     "execution_count": 778,
     "metadata": {},
     "output_type": "execute_result"
    }
   ],
   "source": [
    "#ambient spaceを生成\n",
    "ambient_space_of_G = R_G.space()\n",
    "\n",
    "#positive rootをambient spaceの元に変換\n",
    "positive_roots_of_G = [ ambient_space_of_G(pr) for pr in R_G.positive_roots() ]\n",
    "positive_roots_of_G"
   ]
  },
  {
   "cell_type": "code",
   "execution_count": 779,
   "metadata": {},
   "outputs": [
    {
     "data": {
      "text/plain": [
       "[(0, 1, -1)]"
      ]
     },
     "execution_count": 779,
     "metadata": {},
     "output_type": "execute_result"
    }
   ],
   "source": [
    "# positive rootからcutoutされるsimple rootを引き, positiveでなければuncrossed nodeから生成されると判定\n",
    "roots = [ pr for pr in R_G.positive_roots() ]\n",
    "for i in crossed_out_nodes:\n",
    "    roots = [ pr for pr in roots if not (pr - R_G.simple_roots()[i]).is_positive_root() and pr != R_G.simple_roots()[i] ]\n",
    "\n",
    "# ambient spaceの元に変換\n",
    "positive_roots_of_P = [ ambient_space_of_G(pr) for pr in roots ]\n",
    "positive_roots_of_P"
   ]
  },
  {
   "cell_type": "code",
   "execution_count": 780,
   "metadata": {},
   "outputs": [
    {
     "data": {
      "text/plain": [
       "[x0 - x2, x0 - x1]"
      ]
     },
     "execution_count": 780,
     "metadata": {},
     "output_type": "execute_result"
    }
   ],
   "source": [
    "# the weights of the tangenst spaces at torus-fixed points\n",
    "flag_tangent_weights = set(positive_roots_of_G)-set(positive_roots_of_P)\n",
    "flag_tangent_weights = [sum( r[l]*x[l] for l in range(len(x))) for r in flag_tangent_weights]\n",
    "flag_tangent_weights"
   ]
  },
  {
   "cell_type": "code",
   "execution_count": 781,
   "metadata": {},
   "outputs": [
    {
     "data": {
      "text/plain": [
       "2"
      ]
     },
     "execution_count": 781,
     "metadata": {},
     "output_type": "execute_result"
    }
   ],
   "source": [
    "dim_flag = len(R_G.positive_roots()) - len(R_L.positive_roots())\n",
    "dim_flag"
   ]
  },
  {
   "cell_type": "code",
   "execution_count": 782,
   "metadata": {},
   "outputs": [],
   "source": [
    "# homogeneous part\n",
    "homogeneous_part = lambda F, degree: sum( c*m for c, m in F if m.total_degree() == degree )"
   ]
  },
  {
   "cell_type": "code",
   "execution_count": 783,
   "metadata": {},
   "outputs": [],
   "source": [
    "def numerical_integration_by_localization(f):\n",
    "    random_x = [RealField(1000)(random()) for i in range(G.root_system().ambient_space().dimension())]\n",
    "    orbit_of_random_x = [(w.inverse()*vector(RealField(1000),random_x)).list() for w in WeylGroup(G)]\n",
    "    top_of_f = homogeneous_part(f, dim_flag)\n",
    "    denominator_in_localization = prod(flag_tangent_weights)\n",
    "    return sum([top_of_f(x)/denominator_in_localization(x) for x in orbit_of_random_x]).round() / len(WeylGroup(L))"
   ]
  },
  {
   "cell_type": "code",
   "execution_count": 784,
   "metadata": {},
   "outputs": [],
   "source": [
    "import re\n",
    "def hrr(chern_classes_of_E: list, chern_classes_of_M: list) -> int:\n",
    "    # The arguments must be the lists {c_1, .. , c_top}\n",
    "    rank_E = len(chern_classes_of_E)\n",
    "    dim_M  = len(chern_classes_of_M)\n",
    "    \n",
    "    # Define rings where classes lie\n",
    "    ring_for_ch = PolynomialRing(QQ, [ f'c{i}_E' for i in (1..rank_E) ], order=TermOrder('wdeglex', tuple(1..rank_E)))\n",
    "    ring_for_td = PolynomialRing(QQ, [ f'c{i}_M' for i in (1..dim_M) ], order=TermOrder('wdeglex', tuple(1..dim_M)))\n",
    "\n",
    "    # Using Singular, calclate universal formula of chern character\n",
    "    singular.lib('chern.lib')\n",
    "    r = singular.ring(0, f'(c(1..{rank_E}))', 'dp')\n",
    "    l = singular.list(f'c(1..{rank_E})')\n",
    "    ch_str_list = singular.chAll(l, dim_M).sage_structured_str_list()\n",
    "    chern_character = [ ring_for_ch(rank_E) ] + [ ring_for_ch(re.sub('c\\(([0-9]+)\\)', 'c\\\\1_E', s)) for s in ch_str_list ]\n",
    "\n",
    "    # Using Singular, calculate universal formula of Todd classes\n",
    "    r = singular.ring(0, f'(c(1..{dim_M}))', 'dp')\n",
    "    l = singular.list(f'c(1..{dim_M})')\n",
    "    todd_str_list = singular.todd(l).sage_structured_str_list()\n",
    "    todd_classes = [ ring_for_td(1) ] + [ ring_for_td(re.sub('c\\(([0-9]+)\\)', 'c\\\\1_M', s)) for s in todd_str_list ]\n",
    "    \n",
    "    # Return the value of integration\n",
    "    return numerical_integration_by_localization( \n",
    "        sum(\n",
    "            chern_character[i](chern_classes_of_E)\n",
    "            * todd_classes[dim_M - i](chern_classes_of_M)\n",
    "        for i in (0..dim_M))\n",
    "    )"
   ]
  },
  {
   "cell_type": "code",
   "execution_count": 785,
   "metadata": {},
   "outputs": [
    {
     "data": {
      "text/plain": [
       "(6, 5, 0)"
      ]
     },
     "execution_count": 785,
     "metadata": {},
     "output_type": "execute_result"
    }
   ],
   "source": [
    "w = (1,5)\n",
    "sum(w[i - 1] * R_G.fundamental_weights()[i] for i in (1..G.rank()))"
   ]
  },
  {
   "cell_type": "code",
   "execution_count": 786,
   "metadata": {},
   "outputs": [],
   "source": [
    "cc = chern_classes_on_GP(parabolic_weight_muliplicities(w))\n",
    "\n",
    "chern_classes_of_E = [\n",
    "    homogeneous_part(cc, i)\n",
    "    for i in (1..dim_flag)\n",
    "    if homogeneous_part(cc, i) != 0\n",
    "]\n",
    "\n",
    "chern_classes_of_M = [ \n",
    "    homogeneous_part(prod(1+x for x in flag_tangent_weights), i)\n",
    "    for i in (1..dim_flag) \n",
    "]"
   ]
  },
  {
   "cell_type": "code",
   "execution_count": 787,
   "metadata": {},
   "outputs": [
    {
     "data": {
      "text/plain": [
       "[21*x0, 175*x0^2 + 35*x0*x1 - 35*x1^2]"
      ]
     },
     "execution_count": 787,
     "metadata": {},
     "output_type": "execute_result"
    }
   ],
   "source": [
    "chern_classes_of_E"
   ]
  },
  {
   "cell_type": "code",
   "execution_count": 788,
   "metadata": {},
   "outputs": [
    {
     "data": {
      "text/plain": [
       "[2*x0 - x1 - x2, x0^2 - x0*x1 - x0*x2 + x1*x2]"
      ]
     },
     "execution_count": 788,
     "metadata": {},
     "output_type": "execute_result"
    }
   ],
   "source": [
    "chern_classes_of_M"
   ]
  },
  {
   "cell_type": "code",
   "execution_count": 789,
   "metadata": {},
   "outputs": [
    {
     "data": {
      "text/plain": [
       "79"
      ]
     },
     "execution_count": 789,
     "metadata": {},
     "output_type": "execute_result"
    }
   ],
   "source": [
    "hrr(chern_classes_of_E, chern_classes_of_M)"
   ]
  },
  {
   "cell_type": "code",
   "execution_count": 790,
   "metadata": {},
   "outputs": [
    {
     "data": {
      "text/plain": [
       "48"
      ]
     },
     "execution_count": 790,
     "metadata": {},
     "output_type": "execute_result"
    }
   ],
   "source": [
    "ambient_space_of_G.weyl_dimension(sum(w[i - 1] * R_G.fundamental_weights()[i] for i in (1..G.rank())))"
   ]
  }
 ],
 "metadata": {
  "kernelspec": {
   "display_name": "SageMath 9.7",
   "language": "sage",
   "name": "SageMath-9.7"
  },
  "language_info": {
   "codemirror_mode": {
    "name": "ipython",
    "version": 3
   },
   "file_extension": ".py",
   "mimetype": "text/x-python",
   "name": "python",
   "nbconvert_exporter": "python",
   "pygments_lexer": "ipython3",
   "version": "3.10.5"
  },
  "vscode": {
   "interpreter": {
    "hash": "31f2aee4e71d21fbe5cf8b01ff0e069b9275f58929596ceb00d14d90e3e16cd6"
   }
  }
 },
 "nbformat": 4,
 "nbformat_minor": 2
}
